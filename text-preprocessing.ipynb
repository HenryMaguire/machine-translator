{
 "cells": [
  {
   "cell_type": "markdown",
   "metadata": {
    "deletable": true,
    "editable": true
   },
   "source": [
    "# Text preprocessing and exploratory data analysis\n",
    "\n",
    "In this notebook I will perform some analysis on the part of the WMT'14 dataset that I am going to use for my translation system in order to gain some intuition about how to preprocess it. I will then write the code to preprocess the data and save them to file."
   ]
  },
  {
   "cell_type": "markdown",
   "metadata": {
    "deletable": true,
    "editable": true
   },
   "source": [
    "## The dataset\n",
    "\n",
    "Here I will introduce the dataset, experiment with it, tokenize it, preprocess it and save it to a new set of files. I will also write a few helper functions."
   ]
  },
  {
   "cell_type": "code",
   "execution_count": 12,
   "metadata": {
    "collapsed": false,
    "deletable": true,
    "editable": true
   },
   "outputs": [
    {
     "name": "stdout",
     "output_type": "stream",
     "text": [
      "FRENCH: \n",
      ", son épouse enseignante de jardin d&apos; enfants , Roseanna , et Geneviève se préparaient à partir en voyage en famille .\n",
      "Ce changement d&apos; époque est en même temps le problème de toute la démocratie chrétienne , et \n",
      "***************\n",
      "ENGLISH: \n",
      "and Genevieve were getting ready to go on a family trip .\n",
      "The beginning of a new era means a problem for all Christian democracy , including Angela Merkel as well .\n",
      "Obama ? The first anti-American Pre\n",
      "\n",
      "Character length of both corpora: 155125826, 128673246.0. French is 20.56% 'bulkier' than English.\n",
      "Phrase length of both corpora: 1013625, 1013625\n"
     ]
    }
   ],
   "source": [
    "import codecs\n",
    "import numpy as np\n",
    "\n",
    "lang_t = 'en'\n",
    "lang_s = 'fr'\n",
    "prep_path = \"old_files/DATA\"\n",
    "\n",
    "f1_fr = codecs.open(prep_path+\"/en-fr_paropt/dev.tok.fr\", encoding='utf-8')\n",
    "f2_fr = codecs.open(prep_path+\"/en-fr_paropt/train.fr\", encoding='utf-8')\n",
    "#test_fr = codecs.open(\"DATA/en-fr_paropt/test.fr\", encoding='utf-8')\n",
    "source = eval(\"f1_\"+lang_s).read()+\"\\n\"+eval(\"f2_\"+lang_s).read()\n",
    "\n",
    "\n",
    "f1_en = codecs.open(prep_path+\"/en-fr_paropt/dev.tok.en\", encoding='utf-8')\n",
    "f2_en = codecs.open(prep_path+\"/en-fr_paropt/train.en\", encoding='utf-8')\n",
    "#test_en = codecs.open(\"DATA/en-fr_paropt/test.en\", encoding='utf-8')\n",
    "target = eval(\"f1_\"+lang_t).read()+\"\\n\"+eval(\"f2_\"+lang_t).read()\n",
    "\n",
    "\n",
    "#i = source.index(u'pr\\xe9sident m. rohan')\n",
    "#print i, source[i:i+60]\n",
    "char_length_s = len(source)\n",
    "char_length_t = float(len(target))\n",
    "s_length = len(source.split('\\n'))\n",
    "t_length = len(target.split('\\n'))\n",
    "print \"FRENCH: \\n\", source[99:320], \"\\n***************\\nENGLISH: \\n\", target[100:300]\n",
    "print \"\\nCharacter length of both corpora: {}, {}. French is {:0.2f}% 'bulkier' than English.\".format(\n",
    "                                char_length_s, char_length_t, 100*((char_length_s/char_length_t)-1))\n",
    "print \"Phrase length of both corpora: {}, {}\".format(s_length, t_length)"
   ]
  },
  {
   "cell_type": "markdown",
   "metadata": {
    "deletable": true,
    "editable": true
   },
   "source": [
    "A few observations so far: \n",
    "- French takes 20% more characters to convey similar information. We haven't looked at tokens/words yet but I predict the French corpus will have more words than the English, rather than having a higher average number of characters per word.\n",
    "- The data is in unicode `utf-8` format, so we need to be careful with string manipulations and encoders/decoders.\n",
    "- There are plenty of commas, full stops (periods) and other bits of punctuation, which may affect the understanding of a sentence to a native speaker, as made famous in [Eats, Shoots & Leaves](https://en.wikipedia.org/wiki/Eats,_Shoots_%26_Leaves), however for our intents and purposes all punctuation apart from apostrophes will be removed from the texts. This is because these tokens will occur very often in the text and so the machine learning algorithms will weight their importance far higher than it actually is in conveying meaning. Some exceptions will be full stops indicating abbreviations, for example in F.B.I.\n",
    "\n",
    "\n"
   ]
  },
  {
   "cell_type": "code",
   "execution_count": 13,
   "metadata": {
    "collapsed": false,
    "deletable": true,
    "editable": true
   },
   "outputs": [
    {
     "name": "stdout",
     "output_type": "stream",
     "text": [
      "Source text is now 3.99968474624 less bulky than before stripping punctuation.\n",
      "Target text is now 3.78273662265 less bulky than before stripping punctuation..\n"
     ]
    }
   ],
   "source": [
    "def remove_punc(text):\n",
    "    # Needs to keep stops like L.A.P.D.\n",
    "    # almost all other punctuation needs to be carefully removed\n",
    "    text = unicode.strip(text)\n",
    "    text = unicode.replace(text, \" .\", u\"\")\n",
    "    text = unicode.replace(text,\",\", u\"\")\n",
    "    text = unicode.replace(text,u\" .\", u\"\")\n",
    "    text = unicode.replace(text,u\" ,\", u\"\")\n",
    "    text = unicode.strip(text, \",:)(][}{!\")\n",
    "    text = unicode.strip(text, u\",:)(][}{;!\")\n",
    "    text = unicode.replace(text,u':', u'')\n",
    "    text = text.replace(u';', u'')\n",
    "    text = text.replace(')', u'')\n",
    "    text = text.replace(\"(\", u'')\n",
    "    text = text.replace(\"!\", u':')\n",
    "    #text = text.replace(u\"     \", \" \")\n",
    "    text = text.replace(u\"    \", \" \")\n",
    "    text = text.replace(u\"   \", \" \")\n",
    "    text = text.replace(u\"  \", \" \")\n",
    "    return text\n",
    "\n",
    "source = remove_punc(source)\n",
    "target = remove_punc(target)\n",
    "print \"Source text is now {} less bulky than before stripping punctuation.\".format(\n",
    "                                        100*((float(char_length_s)-len(source))/float(char_length_s)))\n",
    "print \"Target text is now {} less bulky than before stripping punctuation..\".format(\n",
    "                                        100*((float(char_length_t)-len(target))/float(char_length_t)))\n",
    "source = source.split(\"\\n\") # split text up by lines\n",
    "target = target.split(\"\\n\")"
   ]
  },
  {
   "cell_type": "markdown",
   "metadata": {
    "deletable": true,
    "editable": true
   },
   "source": [
    "Stripping punctuation decreases the corpora length by around 4%, this is certainly non-negligible and will help a lot."
   ]
  },
  {
   "cell_type": "markdown",
   "metadata": {
    "deletable": true,
    "editable": true
   },
   "source": [
    "# Tokenising the data\n",
    "\n",
    "Thankfully, the dataset I have used is already split up by whitespace into appropriate tokens. For example in French \"j'\" and \"ai\" are treated as separate tokens which make up \"j'ai\" to mean \"I have\" in English. Similarly, \"didn\" and \"'t\" are separated by whitespace. This makes tokenising the data as trivial as calling the `split()` method on each sequence string. "
   ]
  },
  {
   "cell_type": "code",
   "execution_count": 14,
   "metadata": {
    "collapsed": false,
    "deletable": true,
    "editable": true
   },
   "outputs": [
    {
     "name": "stdout",
     "output_type": "stream",
     "text": [
      "Corpora still same length: True\n",
      "[u'&quot', u'nous', u'voulons', u'\\xe9merger', u'du', u'lot', u'gr\\xe2ce', u'\\xe0', u'la', u'course', u'croisi\\xe8re', u'&quot'] \n",
      "[u'&quot', u'with', u'this', u'race', u'we', u'want', u'to', u'stand', u'out', u'from', u'the', u'crowd', u'&quot']\n"
     ]
    }
   ],
   "source": [
    "import nltk\n",
    "def tokenize_sentences(text_source, text_target):\n",
    "    new_text_s = []\n",
    "    new_text_t = []\n",
    "    for sent_s, sent_t in zip(text_source, text_target):\n",
    "        # This splits up tokens within a sentence and removes whitespace from the ends\n",
    "        tok_s = (unicode.strip(sent_s.lower())).split(' ')\n",
    "        tok_t = (unicode.strip(sent_t.lower())).split(' ')\n",
    "        \n",
    "        \n",
    "        # I'm keeping the final punctuation and appending the\n",
    "        # <EOS> tag after it\n",
    "        new_text_s.append(tok_s)\n",
    "        new_text_t.append(tok_t)\n",
    "    #print \"There are now {} sequence pairs remaining.\".format(len(new_text_t))\n",
    "    print \"Corpora still same length: {}\".format(len(new_text_t)==len(new_text_s))\n",
    "    return new_text_s, new_text_t\n",
    "\n",
    "source_long, target_long = tokenize_sentences(source, target)\n",
    "del source, target\n",
    "print source_long[10], \"\\n\", target_long[10]"
   ]
  },
  {
   "cell_type": "markdown",
   "metadata": {
    "deletable": true,
    "editable": true
   },
   "source": [
    "# Sequence length\n",
    "\n",
    "Now I will look at a few statistics in order to find a reasonable sequence length limit and a justification for doing so. I found that reducing the range of sequence lengths makes the algorithm orders of magnitude faster to train."
   ]
  },
  {
   "cell_type": "code",
   "execution_count": 15,
   "metadata": {
    "collapsed": false,
    "deletable": true,
    "editable": true
   },
   "outputs": [
    {
     "name": "stdout",
     "output_type": "stream",
     "text": [
      "Language: fr\n",
      "Min: 1  Max: 124  Mean: 24.00   Median: 21.0   Mode: 14   1st Quart.: 13.0   IQR: 18.0   3rd Quart.: 31.0\n",
      "Language: en\n",
      "Min: 1  Max: 125  Mean: 20.17   Median: 18.0   Mode: 12   1st Quart.: 11.0   IQR: 15.0   3rd Quart.: 26.0\n"
     ]
    }
   ],
   "source": [
    "from utils import sequence_stats\n",
    "print \"Language:\", lang_s\n",
    "sequence_stats(source_long)\n",
    "print \"Language:\", lang_t\n",
    "sequence_stats(target_long)"
   ]
  },
  {
   "cell_type": "code",
   "execution_count": 22,
   "metadata": {
    "collapsed": false,
    "deletable": true,
    "editable": true
   },
   "outputs": [
    {
     "name": "stdout",
     "output_type": "stream",
     "text": [
      "41.4549181945\n",
      "41.3591233041\n"
     ]
    },
    {
     "data": {
      "image/png": "[encoded data removed]",
      "text/plain": [
       "<matplotlib.figure.Figure at 0x12eacb110>"
      ]
     },
     "metadata": {},
     "output_type": "display_data"
    }
   ],
   "source": [
    "import matplotlib.pyplot as plt\n",
    "\n",
    "def seq_length_hist(tokenised_text, ax, cutoff, label='', c='k'):\n",
    "    d = dict()\n",
    "    for phrase in tokenised_text:\n",
    "        if len(phrase) > 0:\n",
    "            if len(phrase) not in d.keys():\n",
    "                d[len(phrase)] =0\n",
    "            else:\n",
    "                d[len(phrase)] +=1\n",
    "    lengths = d.keys()\n",
    "    norm = float(sum(d.values()))\n",
    "    counts = np.array(d.values())/norm # normalise\n",
    "    ax.plot(lengths, counts, label=label, color=c)\n",
    "    ax.axvline(cutoff, color=c, linestyle='dashed')\n",
    "    p =0\n",
    "    for l, ct in d.items():\n",
    "        if l<=cutoff:\n",
    "            p+=ct\n",
    "    print 100*(float(p)/len(tokenised_text))\n",
    "    return lengths, counts\n",
    "fig = plt.figure()\n",
    "ax = fig.add_subplot(111)\n",
    "lengths, counts = seq_length_hist(source_long, ax, 18, label='French', c='b')\n",
    "lengths, counts = seq_length_hist(target_long, ax, 15, label='English', c='g')\n",
    "plt.xlim(0,max(lengths))\n",
    "plt.ylim(0, max(counts)+np.mean(counts)/3)\n",
    "plt.ylabel('Normalised count')\n",
    "plt.xlabel('Sequence length')\n",
    "plt.legend()\n",
    "plt.show()"
   ]
  },
  {
   "cell_type": "code",
   "execution_count": 5,
   "metadata": {
    "collapsed": false,
    "deletable": true,
    "editable": true
   },
   "outputs": [
    {
     "name": "stdout",
     "output_type": "stream",
     "text": [
      "58.0\n",
      "48.5\n"
     ]
    }
   ],
   "source": [
    "print 31+1.5*18\n",
    "print 26+1.5*15"
   ]
  },
  {
   "cell_type": "markdown",
   "metadata": {
    "deletable": true,
    "editable": true
   },
   "source": [
    "Although the maximum sequence lengths are very high in both the French and English corpora (124 and 125 words respectively), the mean and median are far lower, with a mean larger than median inidicating that the sequence length distribution is skewed. In fact, 25% of the Fr and En data is made up of sequences smaller than 13 and 11 tokens long, respectively and 50% by the medians 21 and 18. Due to the skewedness of the data, the interquartile range overlaps with zero in each case so there is no obvious lower bound to define outliers by using $Median-1.5IQR$. An upper bound of $Median+1.5IQR$ would mean that any sequences longer than 58 and 49 could be deemed outliers, using the standard approach. However, these sequences are still very long, considering that most of the data is a third of the length of this upper bound. Processing these sequences will be very challenging as their presence will cause batches to be padded with a large number of `<PAD>` tokens. The single layered LSTM encoder/decoder will also find it very difficult to compress/extract all of the information in the very long sequences.\n",
    "\n",
    "In order to make the model easier to train I will only consider sequences up to the median length. This means that French (English) sequences longer than 21 (18) tokens long are discarded while maintaining half of the overall dataset. Although this is a harsh approximation, I think it is justified since the aim of this experiment is to learn how to implement sequence-to-sequence modelling and not to create a cutting edge solution, so the decrease in rigour is worth the increase in trainability. Going from around 1,000,000 training examples to 500,000 should still be sufficient to train a toy model on."
   ]
  },
  {
   "cell_type": "markdown",
   "metadata": {
    "deletable": true,
    "editable": true
   },
   "source": [
    "## Removing long seqences\n",
    "\n",
    "Here I implement the discussion above and generate some word frequency statistics along the way."
   ]
  },
  {
   "cell_type": "code",
   "execution_count": 23,
   "metadata": {
    "collapsed": false,
    "deletable": true,
    "editable": true
   },
   "outputs": [
    {
     "name": "stdout",
     "output_type": "stream",
     "text": [
      "There are now 354834 sequence pairs remaining.\n",
      "35.0064718278\n",
      "Language: fr\n",
      "Min: 1  Max: 18  Mean: 11.04   Median: 11.0   Mode: 12   1st Quart.: 8.0   IQR: 6.0   3rd Quart.: 14.0\n",
      "Language: en\n",
      "Min: 1  Max: 15  Mean: 9.33   Median: 10.0   Mode: 10   1st Quart.: 7.0   IQR: 5.0   3rd Quart.: 12.0\n"
     ]
    }
   ],
   "source": [
    "def shorten_data(source_, target_):\n",
    "    flat_s = []\n",
    "    flat_t = []\n",
    "    source = []\n",
    "    target = []\n",
    "    for seq_s, seq_t in zip(source_, target_):\n",
    "        bool_short_s = (len(seq_s)<=18)\n",
    "        bool_short_t = (len(seq_t)<=15)\n",
    "        bool_asymm = (abs(len(seq_t)-len(seq_s))<10)\n",
    "        if bool_short_s and bool_short_t:\n",
    "            flat_s += seq_s\n",
    "            flat_t += seq_t\n",
    "            source.append(seq_s)\n",
    "            target.append(seq_t)\n",
    "    print \"There are now {} sequence pairs remaining.\".format(len(source))\n",
    "    print 100*len(source)/float(len(source_))\n",
    "    return source, nltk.FreqDist(flat_s), target, nltk.FreqDist(flat_t)\n",
    "\n",
    "\n",
    "source, freq_s, target, freq_t = shorten_data(source_long, target_long)\n",
    "print \"Language:\", lang_s\n",
    "sequence_stats(source)\n",
    "print \"Language:\", lang_t\n",
    "sequence_stats(target)"
   ]
  },
  {
   "cell_type": "markdown",
   "metadata": {
    "deletable": true,
    "editable": true
   },
   "source": [
    "## Saving benchmark data: making the test-train split"
   ]
  },
  {
   "cell_type": "markdown",
   "metadata": {
    "deletable": true,
    "editable": true
   },
   "source": [
    "At this point the test data for source and target phrases can be saved for the benchmark model to use later on in the `machine-translator.ipynb` notebook. Care has to be taken in keeping the `random_seed` constant so that the `train_test_split` method makes the same split between the training and testing data when called here and later on in this notebook. I will use 5% of the total data as testing data."
   ]
  },
  {
   "cell_type": "code",
   "execution_count": 8,
   "metadata": {
    "collapsed": true,
    "deletable": true,
    "editable": true
   },
   "outputs": [],
   "source": [
    "from utils import save_obj\n",
    "from sklearn.cross_validation import train_test_split\n",
    "\n",
    "test_fraction = 0.05\n",
    "\n",
    "source_train, source_test, target_train, target_test = train_test_split(\n",
    "                            source, target,\n",
    "                            test_size=test_fraction, random_state=42)\n",
    "save_obj(source_test, \"short_data/source_test\")\n",
    "save_obj(target_test, \"short_data/target_test\")"
   ]
  },
  {
   "cell_type": "markdown",
   "metadata": {
    "deletable": true,
    "editable": true
   },
   "source": [
    "# Limiting the vocabulary\n",
    "\n",
    "Here I'll check that the word statistics of the dataset are what I expect and then use some of the insights to find an appropriate upper bound on the number of vocabulary words I use.\n"
   ]
  },
  {
   "cell_type": "code",
   "execution_count": 9,
   "metadata": {
    "collapsed": false,
    "deletable": true,
    "editable": true
   },
   "outputs": [
    {
     "name": "stdout",
     "output_type": "stream",
     "text": [
      "[(u'the', 160924), (u'and', 80780), (u'of', 79484), (u'to', 66370)]\n",
      "[(u'de', 182437), (u'la', 97020), (u'les', 85788), (u'et', 76950)]\n",
      "English Vocabulary size: 112073\n",
      "Total proportion are hapaxes: 53.6525300474\n",
      "French Vocabulary size: 149273\n",
      "Total proportion are hapaxes: 52.6619013485\n"
     ]
    },
    {
     "data": {
      "image/png": "[encoded data removed]",
      "text/plain": [
       "<matplotlib.figure.Figure at 0x125d85fd0>"
      ]
     },
     "metadata": {},
     "output_type": "display_data"
    }
   ],
   "source": [
    "print freq_t.most_common(4)\n",
    "print freq_s.most_common(4)\n",
    "import matplotlib.pyplot as plt\n",
    "import string\n",
    "\n",
    "def plot_pareto(freq, ax, l):\n",
    "    counts_list = sorted(set(freq.values()))\n",
    "    total_counts = float(sum(freq.values()))\n",
    "    vocab_total= len(freq.keys())\n",
    "    print \"{} Vocabulary size: {}\".format(l, vocab_total)\n",
    "    print \"Total proportion are hapaxes: {}\".format((len(freq.hapaxes())/float(vocab_total))*100)\n",
    "    d = dict()\n",
    "    for word, count in freq.items():\n",
    "        if word not in string.punctuation.encode('utf-8'):\n",
    "            if count in d.keys():\n",
    "                pass\n",
    "            else:\n",
    "                d[count] = word\n",
    "    y, words = tuple(zip(*d.items()))\n",
    "    x, y = zip(*[(n, count/total_counts) for n,count in enumerate(sorted(y,reverse=True),1)])\n",
    "    ax.loglog(x,y,label=l)\n",
    "    ax.set_ylabel(\"Normalised count (log)\")\n",
    "    ax.set_xlabel(\"Word Rank (log)\")\n",
    "fig = plt.figure(figsize=(10,8))\n",
    "ax1 = fig.add_subplot(211)\n",
    "plot_pareto(freq_t, ax1, 'English')\n",
    "#ax1.set_title(\"English\")\n",
    "#plt.legend()\n",
    "#plt.savefig(\"English-pareto.pdf\")\n",
    "#fig = plt.figure()\n",
    "\n",
    "#ax2 = fig.add_subplot(221)\n",
    "plot_pareto(freq_s, ax1, 'French')\n",
    "#ax2.set_title(\"French\")\n",
    "plt.legend()\n",
    "#plt.savefig(\"French-pareto.pdf\")\n",
    "plt.show()\n",
    "#freqs = freq_t_d.values()\n",
    "#h, bins_edges = np.histogram(freqs, bins=vocab_size)\n",
    "#plt.hist(h, bins=bins_edges)\n"
   ]
  },
  {
   "cell_type": "markdown",
   "metadata": {
    "deletable": true,
    "editable": true
   },
   "source": [
    "In the above plot, we see normalised word frequency for words of each rank, that is the score that would be assigned to a word given the number of times it occurs in the text. For example, the word \"the\" occurs the most number of times in the English dataset and so is given rank of 1, etc. We see the famous Pareto distribution of words, the straight line indicating that there is a particular power law scaling. In this case the power law states that the rank 1 word is twice as common as the rank 2 word, the rank 2 word is three times as common as the rank 3 word and so on, which is shown nicely in the printed statistics above. The trailing off for uncommon words (large word rank) is due to the finite size of the dataset.\n",
    "\n",
    "We can also see that the total vocabulary used for English and French are 140873 and 184012, with over half of the vocabulary words only occurring once in the entire corpus (known hapax legomenon). These are fairly useless, as there are not enough different contexts of a word for the algorithm to learn it's meaning, particularly as they are likely to be obscure words/jargon anyway. This means that straight away, 75-95,000 words can be removed, which is a good start, but probably not enough."
   ]
  },
  {
   "cell_type": "code",
   "execution_count": 10,
   "metadata": {
    "collapsed": false,
    "deletable": true,
    "editable": true
   },
   "outputs": [
    {
     "name": "stdout",
     "output_type": "stream",
     "text": [
      "fr vocab size of 25000 restricts to 16.75 percent of total vocab.\n",
      "\tPercentage of whole fr corpus covered by vocab: 93.86\n",
      "fr vocab size of 12500 restricts to 8.37 percent of total vocab.\n",
      "\tPercentage of whole fr corpus covered by vocab: 89.01\n",
      "fr vocab size of 207 restricts to 0.14 percent of total vocab.\n",
      "\tPercentage of whole fr corpus covered by vocab: 49.02\n",
      "\n",
      "en vocab size of 350 restricts to 0.31 percent of total vocab.\n",
      "\tPercentage of whole en corpus covered by vocab: 48.69\n",
      "en vocab size of 20000 restricts to 17.85 percent of total vocab.\n",
      "\tPercentage of whole en corpus covered by vocab: 94.82\n",
      "en vocab size of 10000 restricts to 8.92 percent of total vocab.\n",
      "\tPercentage of whole en corpus covered by vocab: 88.94\n"
     ]
    }
   ],
   "source": [
    "def covered_with_vocab(freq_dist, vocab_size, lang):\n",
    "    total_words = len(freq_dist.keys())\n",
    "    total_length = sum(freq_dist.values())\n",
    "    print \"{} vocab size of {} restricts to {:0.2f} percent of total vocab.\".format(lang, vocab_size, 100*(float(vocab_size)/total_words))\n",
    "    vocab = dict(freq_dist.most_common(vocab_size))\n",
    "    #print \"vocab size= \",len(vocab.keys())\n",
    "    covered_with_vocab = sum(vocab.values()) # Total of frequencies\n",
    "    print \"\\tPercentage of whole {} corpus covered by vocab: {:0.2f}\".format(lang,\n",
    "                                            100*(covered_with_vocab/float(total_length)))\n",
    "    return\n",
    "vs_s1 = 25000\n",
    "vs_s2 = 12500\n",
    "vs_t1 = 20000\n",
    "vs_t2 = 10000\n",
    "covered_with_vocab(freq_s, vs_s1, lang_s)\n",
    "covered_with_vocab(freq_s, vs_s2, lang_s)\n",
    "covered_with_vocab(freq_s, 207, lang_s)\n",
    "print\n",
    "covered_with_vocab(freq_t, 350, lang_t)\n",
    "covered_with_vocab(freq_t, vs_t1, lang_t)\n",
    "covered_with_vocab(freq_t, vs_t2, lang_t)"
   ]
  },
  {
   "cell_type": "code",
   "execution_count": 11,
   "metadata": {
    "collapsed": false,
    "deletable": true,
    "editable": true
   },
   "outputs": [
    {
     "name": "stdout",
     "output_type": "stream",
     "text": [
      "vocab difference = 30.6226175349\n",
      "core usage difference = 40.8571428571\n"
     ]
    }
   ],
   "source": [
    "print \"vocab difference =\", ((184012-140873.)/140873)*100\n",
    "print \"core usage difference =\",((350-207)/350.)*100"
   ]
  },
  {
   "cell_type": "markdown",
   "metadata": {
    "deletable": true,
    "editable": true
   },
   "source": [
    "As we can see, it takes only around 14% of the vocabulary to cover 94-95% of the entire corpora and 7% of the vocabulary to cover 89%. In fact, with just 207 and 350 words you can cover 50% of the French and English corpora, respectively - this is the remarkable scaling properties of word frequency in action. This also shows an interesting insight, although French has 31% more words in its vocabulary, far fewer words (41% fewer!) make up its _core_ than English.\n",
    "\n",
    "94-95% of the corpus being covered by the vocabulary means that around 5 or 6 words in 100 will be replaced by an `<UNK>` token, this is likely to be sufficient to maintain enough information in source and target phrases for the model to learn from, while reducing the number of parameters in the model substantially. Given this, the vocabulary sizes for French and English will be 25,000 and 20,000, respectively."
   ]
  },
  {
   "cell_type": "markdown",
   "metadata": {
    "deletable": true,
    "editable": true
   },
   "source": [
    "# Replacing word tokens with IDs\n",
    "\n",
    "Now I will create dictionaries mapping from word tokens to their respective ID and vice versa. This will make it easy to define a sparse vector representation for each word as well as making it possible to index embedding arrays (dense representations) efficiently. We must remember to reserve IDs 0, 1 and 2 for `<PAD>`, `<EOS>` and `<UNK>`."
   ]
  },
  {
   "cell_type": "code",
   "execution_count": 12,
   "metadata": {
    "collapsed": false,
    "deletable": true,
    "editable": true
   },
   "outputs": [
    {
     "name": "stdout",
     "output_type": "stream",
     "text": [
      "3744 leblanc\n"
     ]
    }
   ],
   "source": [
    "vocab_size_s = 25000\n",
    "vocab_size_t = 20000\n",
    "def word_to_ids(freq_dist, vocab_size, lang):\n",
    "    vocab = dict(freq_dist.most_common(vocab_size))\n",
    "    # IDs begin at 3 because <EOS>=1 and <UNK>=2\n",
    "    word_to_ids = dict([(word, i+3) for i, word in enumerate(vocab.keys())])\n",
    "    word_to_ids[u'<UNK>'] = 2\n",
    "    word_to_ids[u'<EOS>'] = 1\n",
    "    word_to_ids[u'<PAD>'] = 0\n",
    "    id_to_words = dict((idx, word) for word, idx in word_to_ids.items())\n",
    "    return word_to_ids, id_to_words\n",
    "\n",
    "\n",
    "word2id_s, id2word_s = word_to_ids(freq_s, vocab_size_s, lang_s)\n",
    "word2id_t, id2word_t = word_to_ids(freq_t, vocab_size_t, lang_t)\n",
    "print word2id_t['hello'], id2word_t[2345]"
   ]
  },
  {
   "cell_type": "markdown",
   "metadata": {
    "deletable": true,
    "editable": true
   },
   "source": [
    "Then we can use the `word2id` dictionaries to swap out the various words for their IDs. "
   ]
  },
  {
   "cell_type": "code",
   "execution_count": 15,
   "metadata": {
    "collapsed": false,
    "deletable": true,
    "editable": true
   },
   "outputs": [
    {
     "name": "stdout",
     "output_type": "stream",
     "text": [
      "Replacing fr words with IDs took 2895.7459631 seconds.\n",
      "Replacing en words with IDs took 1223.57309699 seconds.\n"
     ]
    }
   ],
   "source": [
    "from multiprocessing import Pool\n",
    "import time\n",
    "from functools import partial\n",
    "def replace_id_func(sequence, **kwargs):\n",
    "    # Parallelisable version of word to ID replacer\n",
    "    word2id=kwargs['wtid']\n",
    "    ids_sent = [] # sentence with words replaced by ids\n",
    "    sequence+=[u'<EOS>']\n",
    "    for token in sequence:\n",
    "        if token not in word2id.keys():\n",
    "            if token == u'<EOS>':\n",
    "                ids_sent.append(1)\n",
    "            else:\n",
    "                ids_sent.append(2)\n",
    "        else:\n",
    "            ids_sent.append(word2id[token])\n",
    "    return ids_sent\n",
    "\n",
    "def replace_with_word_id(text, wtid, lang):\n",
    "    '''\n",
    "    take the list of lists, find FreqDist, replace any\n",
    "    out of vocabulary words with <UNK> whilst giving each\n",
    "    token a numerical ID, return new list of lists'''\n",
    "    ti = time.time()\n",
    "    prep_text = []\n",
    "    pool = Pool(processes = 3)\n",
    "    kwargs = {'wtid': wtid}\n",
    "    # Parallelise process, set buffer size to restrict memory usage\n",
    "    id_text = [i for i in pool.imap(partial(replace_id_func, **kwargs), text, chunksize=20000)]\n",
    "    print \"Replacing {} words with IDs took {} seconds.\".format(lang, time.time()-ti)\n",
    "    return id_text\n",
    "\n",
    "source_ids = replace_with_word_id(source, word2id_s, lang_s)\n",
    "target_ids = replace_with_word_id(target, word2id_t, lang_t)\n"
   ]
  },
  {
   "cell_type": "code",
   "execution_count": 17,
   "metadata": {
    "collapsed": false,
    "deletable": true,
    "editable": true
   },
   "outputs": [
    {
     "name": "stdout",
     "output_type": "stream",
     "text": [
      "DATA saved\n"
     ]
    },
    {
     "ename": "NameError",
     "evalue": "name 'load_obj' is not defined",
     "output_type": "error",
     "traceback": [
      "\u001b[0;31m---------------------------------------------------------------------------\u001b[0m",
      "\u001b[0;31mNameError\u001b[0m                                 Traceback (most recent call last)",
      "\u001b[0;32m<ipython-input-17-58794dfe90bf>\u001b[0m in \u001b[0;36m<module>\u001b[0;34m()\u001b[0m\n\u001b[1;32m     14\u001b[0m \u001b[0;34m\u001b[0m\u001b[0m\n\u001b[1;32m     15\u001b[0m \u001b[0;34m\u001b[0m\u001b[0m\n\u001b[0;32m---> 16\u001b[0;31m \u001b[0mdata_dic\u001b[0m \u001b[0;34m=\u001b[0m \u001b[0mload_obj\u001b[0m\u001b[0;34m(\u001b[0m\u001b[0;34m\"short_data/data_dic\"\u001b[0m\u001b[0;34m)\u001b[0m\u001b[0;34m\u001b[0m\u001b[0m\n\u001b[0m\u001b[1;32m     17\u001b[0m \u001b[0;32mprint\u001b[0m \u001b[0;34m\"DATA loaded\"\u001b[0m\u001b[0;34m\u001b[0m\u001b[0m\n",
      "\u001b[0;31mNameError\u001b[0m: name 'load_obj' is not defined"
     ]
    }
   ],
   "source": [
    "from utils import save_obj\n",
    "from sklearn.cross_validation import train_test_split\n",
    "\n",
    "source_train, source_test, target_train, target_test = train_test_split(\n",
    "                            source_ids, target_ids,\n",
    "                            test_size=test_fraction, random_state=42)\n",
    "\n",
    "data_dic = {\"s_train\": source_train, \"t_train\": target_train,\n",
    "                \"s_test\": source_test, \"t_test\": target_test,\n",
    "                \"word2id_s\": word2id_s, \"word2id_t\": word2id_t,\n",
    "                \"id2word_s\": id2word_s, \"id2word_t\": id2word_t}\n",
    "\n",
    "save_obj(data_dic, \"short_data/data_dic\")\n",
    "print \"DATA saved\"\n",
    "print \"Training and testing data are {} and {} sequences long.\".format(len(source_train), len(source_test))\n",
    "\n"
   ]
  },
  {
   "cell_type": "code",
   "execution_count": 19,
   "metadata": {
    "collapsed": false,
    "deletable": true,
    "editable": true
   },
   "outputs": [
    {
     "name": "stdout",
     "output_type": "stream",
     "text": [
      "DATA loaded\n"
     ]
    }
   ],
   "source": [
    "from utils import load_obj\n",
    "data_dic = load_obj(\"short_data/data_dic\")\n",
    "print \"DATA loaded\""
   ]
  },
  {
   "cell_type": "markdown",
   "metadata": {
    "deletable": true,
    "editable": true
   },
   "source": [
    "All done!"
   ]
  },
  {
   "cell_type": "code",
   "execution_count": 20,
   "metadata": {
    "collapsed": true,
    "deletable": true,
    "editable": true
   },
   "outputs": [],
   "source": [
    "! cp DATA/polyglot* short_data"
   ]
  },
  {
   "cell_type": "code",
   "execution_count": null,
   "metadata": {
    "collapsed": true,
    "deletable": true,
    "editable": true
   },
   "outputs": [],
   "source": []
  }
 ],
 "metadata": {
  "kernelspec": {
   "display_name": "Python 2",
   "language": "python",
   "name": "python2"
  },
  "language_info": {
   "codemirror_mode": {
    "name": "ipython",
    "version": 2
   },
   "file_extension": ".py",
   "mimetype": "text/x-python",
   "name": "python",
   "nbconvert_exporter": "python",
   "pygments_lexer": "ipython2",
   "version": "2.7.12"
  }
 },
 "nbformat": 4,
 "nbformat_minor": 2
}
