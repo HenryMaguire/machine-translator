{
 "cells": [
  {
   "cell_type": "markdown",
   "metadata": {},
   "source": [
    "## The dataset\n",
    "\n",
    "Here I will introduce the dataset, experiment with it, tokenize it, preprocess it and save it to a new set of files."
   ]
  },
  {
   "cell_type": "code",
   "execution_count": 379,
   "metadata": {
    "collapsed": false
   },
   "outputs": [
    {
     "name": "stdout",
     "output_type": "stream",
     "text": [
      "It was Nov . 10 of last year when stagehand Kevin Monk , his kindergarten-teacher wife , Roseanna , and Genevieve were getting ready to go on a family trip .\n",
      "The beginning of a new era means a problem for all Christian democracy , including Angela Merkel as well .\n",
      "Obama ? The first anti-American President . Here is why ?\n",
      "While villages report a sharp decline in interest in driver &apos;s license renewal , the authorities in the city are overloaded with applications and the interest in the license renewal has grown this week .\n",
      "Internet use is extremely limited on the island .\n",
      "On November 4th the lophoscopist of Cali CTI passed into history as the man who confirmed the identity of the FARC top leader , &quot; Alfonso Cano , through the comparison of his fingerprints .\n",
      "Both teams found it difficult to join in the combination ; the game remained around the mid-field line most of the time .\n",
      "The researchers put a small bucket with a moth larva in a vertical cylinder .\n",
      "&quot; It &apos;s like \n",
      "5001\n",
      "5001\n"
     ]
    }
   ],
   "source": [
    "import codecs\n",
    "import numpy as np\n",
    "f_fr = codecs.open(\"DATA/en-fr_paropt/dev.tok.fr\", encoding='utf-8')\n",
    "f_en = codecs.open(\"DATA/en-fr_paropt/dev.tok.en\", encoding='utf-8')\n",
    "text_fr = f_fr.read()\n",
    "text_en = f_en.read()\n",
    "print text_en[0:1000]\n",
    "print len(text_en.split('\\n'))\n",
    "print len(text_fr.split('\\n'))"
   ]
  },
  {
   "cell_type": "markdown",
   "metadata": {},
   "source": [
    "# Tokenizing and preprocessing\n",
    "Here we can see that sentences are not really split over lines since \"Here is why ?\" is technically it's own sentence - however, splitting these cases up will lead to misalignment between the english and french corpora so it's too risky. What I will do then is just tokenize each line, remove capitalisation and then replace the final punctuation with `<EOS` and unknown characters with `<UNK>` or `1`."
   ]
  },
  {
   "cell_type": "code",
   "execution_count": 380,
   "metadata": {
    "collapsed": false
   },
   "outputs": [
    {
     "name": "stdout",
     "output_type": "stream",
     "text": [
      "still aligned: True\n"
     ]
    }
   ],
   "source": [
    "# Fix a small pathology with the datasets, whereby spaces are put between words\n",
    "# and end of sentence tokens\n",
    "def format_eos(text):\n",
    "    #text = text.replace(' .', '.')\n",
    "    text = text.replace('?', '.')\n",
    "    text = text.replace('!', '.')\n",
    "    text = text.replace(\"didn't\", 'did not')\n",
    "    text = text.replace(\"shouldn't\", 'should not')\n",
    "    return text\n",
    "\n",
    "text_fr = format_eos(text_fr)\n",
    "text_en = format_eos(text_en)\n",
    "print \"still aligned:\", len(text_en.split('\\n')) == len(text_fr.split('\\n'))"
   ]
  },
  {
   "cell_type": "code",
   "execution_count": 381,
   "metadata": {
    "collapsed": false
   },
   "outputs": [
    {
     "name": "stdout",
     "output_type": "stream",
     "text": [
      "corpora still aligned: True \n",
      "\n",
      "It was Nov . 10 of last year when stagehand Kevin Monk , his kindergarten-teacher wife , Roseanna , and Genevieve were getting ready to go on a family trip .\n",
      "--------\n",
      "The beginning of a new era means a problem for all Christian democracy , including Angela Merkel as well .\n",
      "--------\n",
      "Obama . The first anti-American President . Here is why .\n",
      "--------\n",
      "While villages report a sharp decline in interest in driver &apos;s license renewal , the authorities in the city are overloaded with applications and the interest in the license renewal has grown this week .\n",
      "--------\n",
      "Internet use is extremely limited on the island .\n"
     ]
    }
   ],
   "source": [
    "# First split up into lines using the Punkt tokenizer\n",
    "import nltk.data\n",
    "#fr_sent_detector = nltk.data.load('tokenizers/punkt/french.pickle')\n",
    "#en_sent_detector = nltk.data.load('tokenizers/punkt/english.pickle')\n",
    "#fr_sents = fr_sent_detector.tokenize(text_fr)\n",
    "#en_sents = en_sent_detector.tokenize(text_en)\n",
    "\n",
    "# First split the text up into lines\n",
    "en_sents = text_en.split('\\n')\n",
    "fr_sents = text_fr.split('\\n')\n",
    "print \"corpora still aligned:\", len(en_sents)== len(fr_sents), '\\n'\n",
    "print \"\\n--------\\n\".join(en_sents[0:5])"
   ]
  },
  {
   "cell_type": "code",
   "execution_count": 382,
   "metadata": {
    "collapsed": false
   },
   "outputs": [
    {
     "name": "stdout",
     "output_type": "stream",
     "text": [
      "[[u'it', u'was', u'nov', u'.', u'10', u'of', u'last', u'year', u'when', u'stagehand', u'kevin', u'monk', u',', u'his', u'kindergarten-teacher', u'wife', u',', u'roseanna', u',', u'and', u'genevieve', u'were', u'getting', u'ready', u'to', u'go', u'on', u'a', u'family', u'trip', u'<EOS>'], [u'the', u'beginning', u'of', u'a', u'new', u'era', u'means', u'a', u'problem', u'for', u'all', u'christian', u'democracy', u',', u'including', u'angela', u'merkel', u'as', u'well', u'<EOS>'], [u'obama', u'.', u'the', u'first', u'anti-american', u'president', u'.', u'here', u'is', u'why', u'<EOS>'], [u'while', u'villages', u'report', u'a', u'sharp', u'decline', u'in', u'interest', u'in', u'driver', u'&apos', u';', u's', u'license', u'renewal', u',', u'the', u'authorities', u'in', u'the', u'city', u'are', u'overloaded', u'with', u'applications', u'and', u'the', u'interest', u'in', u'the', u'license', u'renewal', u'has', u'grown', u'this', u'week', u'<EOS>'], [u'internet', u'use', u'is', u'extremely', u'limited', u'on', u'the', u'island', u'<EOS>'], [u'on', u'november', u'4th', u'the', u'lophoscopist', u'of', u'cali', u'cti', u'passed', u'into', u'history', u'as', u'the', u'man', u'who', u'confirmed', u'the', u'identity', u'of', u'the', u'farc', u'top', u'leader', u',', u'&quot', u';', u'alfonso', u'cano', u',', u'through', u'the', u'comparison', u'of', u'his', u'fingerprints', u'<EOS>']]\n"
     ]
    }
   ],
   "source": [
    "# Next split up into tokens using the toktok tokenizer\n",
    "from nltk.tokenize import toktok\n",
    "tok_tokenizer = toktok.ToktokTokenizer()\n",
    "\n",
    "def tokenize_sentences(text):\n",
    "    new_text = []\n",
    "    for sentence in text:\n",
    "        # This splits up tokens within a sentence\n",
    "        tok_sent = tok_tokenizer.tokenize(sentence.lower())\n",
    "        # Will be more efficient to replace final punctuation with <EOS> now\n",
    "        new_text.append(tok_sent[0:-1]+[u'<EOS>'])\n",
    "    return new_text\n",
    "print tokenize_sentences(en_sents[0:6])\n",
    "tokenized_en = tokenize_sentences(en_sents)\n",
    "tokenized_fr = tokenize_sentences(fr_sents)"
   ]
  },
  {
   "cell_type": "markdown",
   "metadata": {},
   "source": [
    "## Vocabularies, Sequences and Word frequencies"
   ]
  },
  {
   "cell_type": "markdown",
   "metadata": {},
   "source": [
    "I need to:\n",
    "- Find the frequencies of words, limiting the vocabulary size to some number of the most common words and replacing out of vocabulary words with `<UNK>`\n",
    "- Give each token an ID, where `<EOS>` =0, `<UNK>` =1 and the remaining tokens are assigned numbers from 2 to vocab_size+1 at random\n",
    "- Make each sequence the same length by padding the end of sequences with zeros until their length matches the longest sequence. Given the long-tailed distribution of sequence length and the limited capacity of LSTMs we may be able to truncate max sequence length substantially.\n"
   ]
  },
  {
   "cell_type": "code",
   "execution_count": 485,
   "metadata": {
    "collapsed": false
   },
   "outputs": [
    {
     "data": {
      "image/png": "[encoded data removed]",
      "text/plain": [
       "<matplotlib.figure.Figure at 0x185f10290>"
      ]
     },
     "metadata": {},
     "output_type": "display_data"
    },
    {
     "data": {
      "image/png": "[encoded data removed]",
      "text/plain": [
       "<matplotlib.figure.Figure at 0x18ba5ce10>"
      ]
     },
     "metadata": {},
     "output_type": "display_data"
    },
    {
     "name": "stdout",
     "output_type": "stream",
     "text": [
      "English vocab size restricts to 7.34915852135 percent of total vocab.\n",
      "French vocab size restricts to 6.17093489664 percent of total vocab.\n"
     ]
    }
   ],
   "source": [
    "import nltk\n",
    "import matplotlib.pyplot as plt\n",
    "\n",
    "\n",
    "def unknown_word_replacer(tokenized_text, vocab_size, lang='English'):\n",
    "    ''' CURRENTLY UNUSED: This is the same as replace_with_word_id below \n",
    "    but without replacing tokens with ids.\n",
    "    We take the list of lists, find FreqDist, replace any\n",
    "    out of vocabulary words with <UNK>, return new list of lists'''\n",
    "    flat = [item for sublist in tokenized_text for item in sublist]\n",
    "    freq = nltk.FreqDist(flat)\n",
    "    print \"{} vocab size restricts to {} percent of total vocab.\".format(lang, 100*(float(vocab_size)/len(set(flat))))\n",
    "    vocab = dict(freq.most_common(vocab_size))\n",
    "    text = []\n",
    "    for sentence in tokenized_text:\n",
    "        new_sent = []\n",
    "        for token in sentence:\n",
    "            if token not in vocab.keys():\n",
    "                new_sent.append(u'<UNK>')\n",
    "            else:\n",
    "                new_sent.append(token)\n",
    "        text.append(new_sent)\n",
    "    return text, vocab\n",
    "\n",
    "def seq_length_stats(tokenized_text, lang='English'):\n",
    "    seq_data = dict()\n",
    "    for sublist in tokenized_text:\n",
    "        # Need to keep track of the longest sequence length to pad shorter ones with <EOS>\n",
    "        if len(sublist) not in seq_data.keys():\n",
    "            seq_data[len(sublist)] = 1\n",
    "        else:\n",
    "            seq_data[len(sublist)] += 1\n",
    "    \n",
    "    plt.scatter(seq_data.keys(), seq_data.values())\n",
    "    plt.ylim(0, max(seq_data.values()))\n",
    "    plt.xlim(0, max(seq_data.keys()))\n",
    "    plt.xlabel(\"Sequence length\")\n",
    "    plt.ylabel(\"Frequency\")\n",
    "    plt.title(lang)\n",
    "    plt.show()\n",
    "    \n",
    "    return seq_data, max(seq_data.values())\n",
    "\n",
    "def replace_with_word_id(tokenized_text, vocab_size, longest_sequence=1, lang='English'):\n",
    "    '''\n",
    "    take the list of lists, find FreqDist, replace any\n",
    "    out of vocabulary words with <UNK> whilst giving each\n",
    "    token a numerical ID, return new list of lists'''\n",
    "    flat = []\n",
    "    max_len = 0\n",
    "    for sublist in tokenized_text:\n",
    "        # Need to keep track of the longest sequence length to pad shorter ones with <EOS>\n",
    "        if len(sublist)>max_len:\n",
    "            max_len = len(sublist)\n",
    "        for item in sublist:\n",
    "            flat.append(item)\n",
    "    freq = nltk.FreqDist(flat)\n",
    "    print \"{} vocab size restricts to {} percent of total vocab.\".format(lang, 100*(float(vocab_size)/len(set(flat))))\n",
    "    vocab = dict(freq.most_common(vocab_size+1))\n",
    "    del vocab['<EOS>']\n",
    "    # The identities begin at 2, since <EOS>=1 and <UNK>=2\n",
    "    word_to_ids = dict([(word, i+2) for i, word in enumerate(vocab.keys())])\n",
    "    text = []\n",
    "    for sequence in tokenized_text:\n",
    "        # Make sure sequence is no longer than the maximum allowed\n",
    "        ids_sent = []\n",
    "        for token in sequence:\n",
    "            if token not in vocab.keys():\n",
    "                if token == '<EOS>':\n",
    "                    ids_sent.append(1)\n",
    "                else:\n",
    "                    ids_sent.append(2)\n",
    "            else:\n",
    "                ids_sent.append(word_to_ids[token])\n",
    "        # Then pad the rest of the sequence with zeros until matches longest_sequence\n",
    "        text.append(ids_sent)\n",
    "\n",
    "    word_to_ids[u'<UNK>'] = 2\n",
    "    word_to_ids[u'<EOS>'] = 1\n",
    "    word_to_ids[u'<PAD>'] = 0\n",
    "    id_to_words = {}\n",
    "    for word, idx in word_to_ids.items():\n",
    "        id_to_words[idx] = word\n",
    "    return text, word_to_ids, id_to_words\n",
    "\n",
    "en_vocab_size = 1000\n",
    "fr_vocab_size = 1000\n",
    "\n",
    "seq_data_en, en_max = seq_length_stats(tokenized_en, lang='English')\n",
    "seq_data_fr, fr_max = seq_length_stats(tokenized_fr, lang='French')\n",
    "\n",
    "\"\"\" For now, sequences form rows of the matrix, with the number of columns \n",
    "    equal to the maximum length of sequence (or timesteps)\"\"\"\n",
    "text_en, vocab_en, id_to_word_en = replace_with_word_id(tokenized_en, \n",
    "                                                        en_vocab_size, longest_sequence=en_max, lang='English')\n",
    "text_fr, vocab_fr, id_to_word_fr = replace_with_word_id(tokenized_fr, \n",
    "                                                        fr_vocab_size, longest_sequence=fr_max,  lang='French')"
   ]
  },
  {
   "cell_type": "code",
   "execution_count": 487,
   "metadata": {
    "collapsed": false
   },
   "outputs": [
    {
     "name": "stdout",
     "output_type": "stream",
     "text": [
      "Corpora still aligned: True\n",
      "[u'<PAD>', u'<EOS>', u'<UNK>', u'all', u'chinese', u'issued', u'global', u'focus', u'month', u'four', u'manager', u'higher', u'go', u'children', u'whose', u'paris', u'white', u'young', u'thursday', u'created', u'to', u'spanish', u'present', u'under', u'women', u'worth', u'started', u'town', u'supported', u'risk', u'outside', u'very', u'regional', u'wave', u'every', u'fall', u'nieto', u'entire', u'school', u'provide', u'level', u'did', u'cause', u'companies', u'wednesday', u'large', u'red', u'team', u'small', u'study', u'shows', u'petersburg', u'application', u'revolution', u'says', u'leaders', u'ten', u'request', u'elections', u'past', u'located', u'second', u'street', u'quebec', u'further', u'quite', u'even', u'afghanistan', u'what', u'defence', u'adds', u'business', u'lead', u'near', u'current', u'above', u'capital', u'international', u';', u'increasing', u'ever', u'public', u'told', u'body', u'impact', u'full', u'led', u'exchange', u'never', u'here', u'hours', u'reported', u'protection', u'china', u'groups', u'others', u'alone', u'november', u'strong', u'change', u'great', u'canadian', u'institute', u'involved', u'employees', u'30', u'completely', u'experience', u'products', u'social', u'action', u'military', u'changes', u'via', u'love', u'family', u'extra', u'win', u'explained', u'africa', u'private', u'hamas', u'brought', u'ask', u'muslim', u'total', u'crisis', u'market', u'cost', u'use', u'from', u'takes', u'working', u'army', u'remains', u'positive', u'hospital', u'voters', u'visit', u'two', u'next', u'few', u'live', u'music', u'therefore', u'taken', u'themselves', u'campaign', u'markets', u'until', u'today', u'more', u'israel', u'evening', u'club', u'company', u'site', u'glass', u'particular', u'known', u'cases', u'potential', u'must', u'me', u'states', u'account', u'word', u'room', u'rights', u'this', u'car', u'work', u'london', u'remain', u'itself', u'nine', u'can', u'mr', u'following', u'making', u'my', u'example', u'history', u'control', u'citizens', u'tap', u'council', u'figure', u'give', u'process', u'december', u'sense', u'share', u'accept', u'high', u'professor', u'woman', u'caused', u'something', u'want', u'allowed', u'keep', u'association', u'worse', u'information', u'needs', u'united', u'end', u'goal', u'january', u'rather', u'travel', u'get', u'makes', u'how', u'interview', u'instead', u'explains', u'economy', u'criminal', u'building', u'huge', u'may', u'after', u'southern', u'confirmed', u'water', u'president', u'law', u'data', u'man', u'a', u'physical', u'remember', u'third', u'light', u'perhaps', u'ones', u'so', u'things', u'banks', u'looking', u'dream', u'order', u'talk', u'six', u'mexican', u'help', u'office', u'developed', u'over', u'soon', u'years', u'course', u'reached', u'through', u'committee', u'committed', u'still', u'its', u'before', u'1', u'group', u'21', u'la', u'personal', u'interesting', u'll', u',', u'actually', u'better', u'previously', u'pena', u'policy', u'weeks', u'main', u'2011', u'2010', u'2012', u'then', u'them', u'good', u'return', u'greater', u'3', u'food', u'material', u'cover', u'nation', u'band', u'they', u'half', u'not', u'now', u'day', u'bank', u'term', u'document', u'stated', u'name', u'lies', u'always', u'university', u'didn', u'--', u'each', u'found', u'went', u'european', u'side', u'mean', u'development', u'everyone', u'financial', u'telescope', u'doing', u'house', u'energy', u'hard', u'reduce', u'idea', u'society', u'oil', u'expect', u'year', u'eu', u'our', u'friday', u'saturday', u'special', u'out', u'living', u'funding', u'network', u'space', u'quality', u'tried', u'since', u'research', u'increase', u're', u'health', u'americans', u'internet', u'got', u'issue', u'announced', u'common', u'model', u'earlier', u'cars', u'u.s.', u'million', u'given', u'free', u'20', u'reason', u'york', u'members', u'put', u'wanted', u'beginning', u'card', u'care', u'hagman', u'language', u'ministry', u'could', u'days', u'british', u'times', u'thing', u'american', u'place', u'think', u'south', u'first', u'major', u'already', u'valentino', u'feel', u'legislation', u'meet', u'coming', u'number', u'one', u'done', u'fast', u'another', u'such', u'vote', u'force', u'wages', u'open', u'city', u'little', u'management', u'service', u'needed', u'top', u'girls', u'system', u'least', u'anyone', u'their', u'2', u'too', u'statement', u'majority', u'hundred', u'final', u'interests', u'eyes', u'lot', u'that', u'moscow', u'took', u'part', u'boredom', u'sulphur', u'believe', u'than', u'population', u'10', u'kind', u'bored', u'15', u'14', u'culture', u'18', u'rate', u'nations', u'project', u'matter', u'patients', u'future', u'attention', u'were', u'playing', u'russia', u'result', u'and', u'mountain', u'fashion', u'remained', u'modern', u'marijuana', u'say', u'have', u'need', u'seen', u'presidential', u'saw', u'any', u'sell', u'forced', u'documents', u'responsible', u'-', u'snow', u'also', u'mr.', u'costs', u'take', u'which', u'new', u'registered', u'play', u'added', u'though', u'price', u'who', u'reach', u'paid', u'leave', u'most', u'germany', u'plan', u'significant', u'nothing', u'america', u'why', u'constitution', u'so-called', u'democratic', u'don', u'especially', u'considered', u'industry', u'clear', u'later', u'm', u'face', u'points', u'effect', u'voting', u'fact', u'laws', u'sector', u'particularly', u'show', u'german', u'able', u'spain', u'sites', u'bring', u'carry', u'earth', u'fine', u'find', u'staff', u'&quot', u'access', u'based', u'rocket', u'student', u'(', u'enough', u'should', u'authority', u'only', u'going', u'black', u'money', u'obama', u'local', u'scientists', u'hope', u'palliative', u'do', u'his', u'favour', u'goes', u'hiv', u'means', u'contracts', u'de', u'stop', u'television', u'quickly', u'famous', u'cannot', u'nearly', u'despite', u'report', u'during', u'trade', u'event', u'him', u'areas', u'prime', u'appeal', u'tobacco', u'countries', u'16', u'morning', u'bad', u'she', u'forces', u'including', u'act', u'movement', u'where', u'view', u'available', u'declared', u'set', u'art', u'questions', u'national', u'st.', u'manning', u'see', u'officials', u'are', u'sea', u'close', u'news', u'labour', u'best', u'subject', u'success', u'instance', u'practice', u'said', u'federal', u'away', u'currently', u'electoral', u'representatives', u'weapons', u'state', u'won', u'various', u'between', u'probably', u'conditions', u'across', u'bought', u'europe', u'we', u'men', u'terms', u'25', u'court', u'however', u'job', u'french', u'opposition', u'police', u'cities', u'come', u'both', u'protect', u'last', u'signed', u'avoid', u'career', u'country', u'region', u'museum', u'according', u'against', u'foreign', u'players', u's', u'became', u'planned', u'let', u'whole', u'asked', u'comes', u'insurance', u'among', u'key', u'cancer', u'point', u'simple', u'seems', u'tuesday', u'period', u'community', u'simply', u'article', u'respect', u'100', u'speak', u'debt', u'union', u'west', u'create', u'political', u'three', u'been', u'.', u'commission', u'much', u'interest', u'expected', u'meeting', u'board', u'wants', u'life', u'flight', u'league', u'influence', u'thousand', u'gas', u'search', u'else', u'lives', u'minister', u'child', u'prices', u'worked', u'an', u'former', u'those', u'case', u'east', u'look', u'virtual', u'these', u'might', u'budget', u'air', u'will', u'while', u'many', u'situation', u'taking', u'seven', u've', u'mexico', u'almost', u'is', u'thus', u'it', u'helped', u'player', u'someone', u'experts', u'drug', u'in', u'march', u'activity', u'technology', u'seem', u'if', u'different', u'century', u')', u'pay', u'make', u'administration', u'same', u'clearly', u'member', u'read', u'parts', u'largest', u'party', u'several', u'events', u'accused', u'difficult', u'week', u'used', u'singapore', u'whom', u'published', u'yesterday', u'hand', u'director', u'average', u'moment', u'walmart', u'prague', u'opinion', u'along', u'opportunity', u'euro', u'dark', u'off', u'i', u'try', u'&apos', u'well', u'suffering', u'thought', u'person', u'without', u'position', u'the', u'drivers', u'left', u'agency', u'just', u'less', u'being', u'percent', u'arab', u'actions', u'thanks', u'human', u'behind', u'followed', u'october', u'yet', u'previous', u'death', u'$', u'candidate', u'euros', u'workers', u'had', u'killed', u'reasons', u'book', u'parents', u'treatment', u'republic', u'has', u'gave', u'real', u'...', u'tests', u'photo', u'around', u'decided', u'government', u'rules', u'big', u'possible', u'early', u'department', u'game', u'five', u'know', u'birth', u'press', u'world', u'usually', u'projects', u'd', u'artists', u'necessary', u'like', u'lost', u'achieve', u'50', u'true', u'continue', u't', u'night', u'popular', u'become', u'security', u'works', u'reduced', u'towards', u'italian', u'because', u'old', u'often', u'people', u'czech', u'some', u'back', u'metres', u'economic', u'election', u'home', u'voted', u'5', u'transport', u'provided', u'recently', u'for', u'legal', u'decision', u'centre', u'/', u'everything', u'does', u'leader', u'either', u'be', u'measures', u'run', u'scientific', u'power', u'agreement', u'pressure', u'although', u'volcano', u'chairman', u'post', u'by', u'on', u'about', u'quarter', u'central', u'would', u'anything', u'getting', u'of', u'dollars', u'months', u'thousands', u'likely', u'addition', u'range', u'illegal', u'eight', u'efforts', u'or', u'road', u'own', u'civil', u'into', u'within', u'usa', u'due', u'down', u'services', u'right', u'parties', u'roads', u'france', u'your', u'per', u'story', u'her', u'area', u'support', u'there', u'question', u'long', u'fight', u'start', u'low', u'way', u'series', u'forward', u'call', u':', u'was', u'war', u'billion', u'head', u'himself', u'north', u'form', u'offer', u'brand', u'but', u'construction', u'competition', u'russian', u'line', u'trying', u'with', u'he', u'made', u'places', u'whether', u'official', u'politics', u'up', u'us', u'tell', u'planet', u'played', u'problem', u'similar', u'called', u'nature', u'sometimes', u'certain', u'received', u'am', u'direction', u'doesn', u'general', u'as', u'held', u'at', u'aids', u'senate', u'families', u'education', u'film', u'ice', u'again', u'compared', u'%', u'no', u'image', u'when', u'40', u'reality', u'field', u'politicians', u'other', u'role', u'details', u'test', u'you', u'really', u'2007', u'poor', u'media', u'star', u'users', u'monday', u'students', u'problems', u'important', u'recent', u'authorities', u'friends', u'died', u'began', u'ago', u'land', u'longer', u'using', u'established', u'age', u'required', u'together', u'summit', u'came', u'time', u'far', u'understand', u'2008', u'12', u'starting', u'having', u'once']\n"
     ]
    }
   ],
   "source": [
    "print \"Corpora still aligned:\", len(text_en) == len(text_fr)\n",
    "#print text_en[100:104]\n",
    "#print \n",
    "#print text_fr[100:104]\n",
    "print id_to_word_en.values()"
   ]
  },
  {
   "cell_type": "markdown",
   "metadata": {},
   "source": [
    "# Word IDs and word-to-vec vectors\n",
    "\n",
    "[THis is](https://sites.google.com/site/rmyeid/projects/polyglot#TOC-Download-the-Embeddings) where the embeddings are from."
   ]
  },
  {
   "cell_type": "code",
   "execution_count": 488,
   "metadata": {
    "collapsed": false
   },
   "outputs": [
    {
     "name": "stdout",
     "output_type": "stream",
     "text": [
      "The embedding matrix for en has 1002 columns and 64 rows.\n",
      "27 vocab words were not in the en embeddings file.\n",
      "The embedding matrix for fr has 1002 columns and 64 rows.\n",
      "59 vocab words were not in the fr embeddings file.\n"
     ]
    }
   ],
   "source": [
    "#from gensim.models.keyedvectors import KeyedVectors\n",
    "#model = KeyedVectors.load_word2vec_format('DATA/GoogleNews-vectors-negative300.bin', binary=True)\n",
    "# Here we have loaded the pretrained Google Word2Vec representations of words\n",
    "\n",
    "import pickle\n",
    "def get_embeddings(id_to_word, lang='en'):\n",
    "    filename ='DATA/polyglot-'+lang+'.pkl'\n",
    "    pretrain_vocab, pretrain_embed = pickle.load(open(filename, 'rb'))\n",
    "    embed_vocab = [pretrain_embed[pretrain_vocab.index('<PAD>')], pretrain_embed[pretrain_vocab.index('</S>')]]\n",
    "    skip_count = 0\n",
    "    skipped_words = []\n",
    "    for idx, word in sorted(id_to_word.items()[2::]):\n",
    "        try:\n",
    "            pretrain_idx = pretrain_vocab.index(word)\n",
    "            embed_vocab.append(pretrain_embed[pretrain_idx])\n",
    "        except ValueError:\n",
    "            try:\n",
    "                # it could be that the word is a name which needs to \n",
    "                # be capitalized. Try this...\n",
    "                pretrain_idx = pretrain_vocab.index(str(word.title()))\n",
    "                embed_vocab.append(pretrain_embed[pretrain_idx])\n",
    "            except ValueError:\n",
    "                try:\n",
    "                    # it could be that the word is an achronym which needs to \n",
    "                    # be upper case. Try this...\n",
    "                    pretrain_idx = pretrain_vocab.index(word.upper())\n",
    "                    embed_vocab.append(pretrain_embed[pretrain_idx])\n",
    "                except ValueError:\n",
    "                    # Give up trying to find an embedding.\n",
    "                    # How many words are skipped? Which ones?\n",
    "                    skip_count +=1\n",
    "                    skipped_words.append(word)\n",
    "                    # Let's just initialise the embedding to a random normal distribution\n",
    "                    embed_vocab.append(np.random.normal(loc=0.0, scale=np.sqrt(2)/4, size=64))\n",
    "    embed_vocab = np.array(embed_vocab, dtype=np.float32)\n",
    "    print \"The embedding matrix for {} has {} columns and {} rows.\".format(lang, \n",
    "                                                embed_vocab.shape[0], embed_vocab.shape[1])\n",
    "    print \"{} vocab words were not in the {} embeddings file.\".format(skip_count, lang)\n",
    "    return embed_vocab, skipped_words\n",
    "# the ith word in words corresponds to the ith embedding \n",
    "\n",
    "embed_vocab_en, skipped_en = get_embeddings(id_to_word_en, lang='en')\n",
    "embed_vocab_fr, skipped_fr = get_embeddings(id_to_word_fr, lang='fr')"
   ]
  },
  {
   "cell_type": "markdown",
   "metadata": {},
   "source": [
    "#### Note: to find a word given an index we use `id_to_word_en` and vice-versa we use `vocab_en`."
   ]
  },
  {
   "cell_type": "code",
   "execution_count": 489,
   "metadata": {
    "collapsed": false
   },
   "outputs": [
    {
     "name": "stdout",
     "output_type": "stream",
     "text": [
      "0 1 2\n",
      "[u'30', u'1', u'21', u'2011', u'2010', u'2012', u'didn', u'--', u'20', u'2', u'10', u'15', u'14', u'18', u'so-called', u'&quot', u'16', u'25', u'100', u'&apos', u'50', u'5', u'doesn', u'40', u'2007', u'2008', u'12']\n"
     ]
    }
   ],
   "source": [
    "print vocab_en['<PAD>'], vocab_en['<EOS>'], vocab_en['<UNK>']\n",
    "print skipped_en"
   ]
  },
  {
   "cell_type": "markdown",
   "metadata": {},
   "source": [
    "** We can see above ** that the 127 English words which were not in the embedding files are fairly specialist words or numerical values (which are the same in French) so hopefully they won't be too much of a problem."
   ]
  },
  {
   "cell_type": "code",
   "execution_count": 490,
   "metadata": {
    "collapsed": false
   },
   "outputs": [
    {
     "name": "stdout",
     "output_type": "stream",
     "text": [
      "[[697, 907, 2, 654, 423, 866, 614, 324, 959, 2, 2, 2, 268, 530, 2, 2, 268, 2, 268, 441, 2, 437, 865, 2, 20, 12, 859, 231, 115, 2, 1], [753, 361, 866, 231, 465, 2, 534, 231, 934, 838, 3, 2, 2, 268, 559, 2, 2, 945, 747, 1], [524, 654, 753, 376, 2, 227, 654, 89, 695, 481, 1], [687, 2, 544, 231, 2, 2, 703, 657, 703, 2, 746, 78, 625, 2, 2, 268, 753, 980, 703, 753, 394, 574, 2, 922, 2, 441, 753, 657, 703, 753, 2, 2, 782, 2, 169, 726, 1], [343, 129, 695, 2, 2, 859, 753, 2, 1], [859, 97, 2, 753, 2, 866, 2, 2, 2, 880, 182, 945, 753, 230, 471, 225, 753, 2, 866, 753, 2, 399, 845, 268, 511, 78, 2, 2, 268, 255, 753, 2, 866, 530, 2, 1], [612, 2, 306, 697, 725, 20, 2, 703, 753, 2, 78, 753, 796, 444, 788, 753, 2, 920, 475, 866, 753, 994, 1], [753, 2, 359, 231, 48, 2, 922, 231, 2, 2, 703, 231, 2, 2, 1], [511, 78, 697, 746, 78, 625, 807, 438, 703, 231, 289, 268, 511, 78, 54, 2, 1], [838, 582, 268, 753, 4, 790, 292, 520, 2, 753, 2, 20, 501, 2, 866, 753, 2, 2, 2, 268, 231, 109, 2, 78, 621, 20, 577, 2, 511, 78, 2, 2, 268, 511, 78, 697, 460, 2, 753, 483, 2, 2, 594, 753, 139, 553, 511, 78, 591, 2, 1]]\n"
     ]
    }
   ],
   "source": [
    "print text_en[0:10]"
   ]
  },
  {
   "cell_type": "markdown",
   "metadata": {},
   "source": [
    "We can see a couple of things:\n",
    "- The list of lists above does not have consistent lengths of rows (it's not a matrix)\n",
    "- In order to process large amounts of data we need to break data up into batches of sequences\n",
    "\n",
    "The format that I need for the seq-to-seq model is a matrix - we do this by padding shorter sequences in a batch with the `<PAD>` token (represented already as the 0th column of the embedding matrix). the of dimension `(max sequence length in batch, batch size)`, so sequences are represented as the columns of the input matrix. "
   ]
  },
  {
   "cell_type": "code",
   "execution_count": 573,
   "metadata": {
    "collapsed": false
   },
   "outputs": [
    {
     "name": "stdout",
     "output_type": "stream",
     "text": [
      "[[5 2 4 1]\n",
      " [2 0 2 2]\n",
      " [3 0 0 0]]\n",
      "[[697 753 524 687 343 859 612]\n",
      " [907 361 654   2 129  97   2]\n",
      " [  2 866 753 544 695   2 306]\n",
      " [654 231 376 231   2 753 697]\n",
      " [423 465   2   2   2   2 725]\n",
      " [866   2 227   2 859 866  20]\n",
      " [614 534 654 703 753   2   2]\n",
      " [324 231  89 657   2   2 703]\n",
      " [959 934 695 703   1   2 753]\n",
      " [  2 838 481   2   0 880   2]\n",
      " [  2   3   1 746   0 182  78]\n",
      " [  2   2   0  78   0 945 753]\n",
      " [268   2   0 625   0 753 796]\n",
      " [530 268   0   2   0 230 444]\n",
      " [  2 559   0   2   0 471 788]\n",
      " [  2   2   0 268   0 225 753]\n",
      " [268   2   0 753   0 753   2]\n",
      " [  2 945   0 980   0   2 920]\n",
      " [268 747   0 703   0 866 475]\n",
      " [441   1   0 753   0 753 866]\n",
      " [  2   0   0 394   0   2 753]\n",
      " [437   0   0 574   0 399 994]\n",
      " [865   0   0   2   0 845   1]\n",
      " [  2   0   0 922   0 268   0]\n",
      " [ 20   0   0   2   0 511   0]\n",
      " [ 12   0   0 441   0  78   0]\n",
      " [859   0   0 753   0   2   0]\n",
      " [231   0   0 657   0   2   0]\n",
      " [115   0   0 703   0 268   0]\n",
      " [  2   0   0 753   0 255   0]\n",
      " [  1   0   0   2   0 753   0]\n",
      " [  0   0   0   2   0   2   0]\n",
      " [  0   0   0 782   0 866   0]\n",
      " [  0   0   0   2   0 530   0]\n",
      " [  0   0   0 169   0   2   0]\n",
      " [  0   0   0 726   0   1   0]\n",
      " [  0   0   0   1   0   0   0]]\n"
     ]
    }
   ],
   "source": [
    "test_x = [[5,2,3],[2], [4,2], [1,2]]\n",
    "# it's going to go from the number of cols being the sequence length/ num of rows being batch size\n",
    "# to the number of rows being the max sequence length/ num cols being batch size\n",
    "# Essentially like a padding and then transpose\n",
    "def make_batch(x):\n",
    "    seq_lengths = [len(row) for row in x]\n",
    "    n_batches = len(x)\n",
    "    max_seq_length = max(seq_lengths)\n",
    "    outputs = np.zeros(shape=(max_seq_length, n_batches),dtype=np.int32)\n",
    "    for i in range(len(seq_lengths)):\n",
    "        for j in range(seq_lengths[i]):\n",
    "            outputs[j][i] = x[i][j]\n",
    "    return outputs\n",
    "\n",
    "print make_batch(test_x)\n",
    "print make_batch(text_en[0:7])"
   ]
  },
  {
   "cell_type": "markdown",
   "metadata": {},
   "source": [
    "Very cool."
   ]
  },
  {
   "cell_type": "code",
   "execution_count": 609,
   "metadata": {
    "collapsed": true
   },
   "outputs": [],
   "source": [
    "import tensorflow as tf\n",
    "tf.reset_default_graph()\n",
    "sess = tf.InteractiveSession()\n",
    "input_embedding_size = 64\n",
    "encoder_hidden_units = 200\n",
    "decoder_hidden_units = encoder_hidden_units\n"
   ]
  },
  {
   "cell_type": "markdown",
   "metadata": {},
   "source": [
    "- `encoder_inputs` int32 tensor is shaped `[encoder_max_time, batch_size]`\n",
    "- `decoder_targets` int32 tensor is shaped `[decoder_max_time, batch_size]`\n",
    "- `decoder_inputs` int32 tensor is shaped `[decoder_max_time, batch_size]`"
   ]
  },
  {
   "cell_type": "code",
   "execution_count": 610,
   "metadata": {
    "collapsed": true
   },
   "outputs": [],
   "source": [
    "encoder_inputs = tf.placeholder(shape=(None, None), dtype=tf.int32, name='encoder_inputs')\n",
    "decoder_targets = tf.placeholder(shape=(None, None), dtype=tf.int32, name='decoder_targets')\n",
    "decoder_inputs = tf.placeholder(shape=(None, None), dtype=tf.int32, name='decoder_inputs')"
   ]
  },
  {
   "cell_type": "code",
   "execution_count": 611,
   "metadata": {
    "collapsed": false
   },
   "outputs": [],
   "source": [
    "encoder_inputs_embedded = tf.nn.embedding_lookup(embed_vocab_en, encoder_inputs)\n",
    "decoder_inputs_embedded = tf.nn.embedding_lookup(embed_vocab_fr, decoder_inputs)"
   ]
  },
  {
   "cell_type": "code",
   "execution_count": 612,
   "metadata": {
    "collapsed": false
   },
   "outputs": [],
   "source": [
    "encoder_cell = tf.contrib.rnn.LSTMCell(encoder_hidden_units)\n",
    "\n",
    "encoder_outputs, encoder_final_state = tf.nn.dynamic_rnn(encoder_cell, encoder_inputs_embedded,\n",
    "                                                         dtype=tf.float32, time_major=True)\n",
    "\n",
    "del encoder_outputs"
   ]
  },
  {
   "cell_type": "code",
   "execution_count": 613,
   "metadata": {
    "collapsed": false
   },
   "outputs": [
    {
     "data": {
      "text/plain": [
       "LSTMStateTuple(c=<tf.Tensor 'rnn/while/Exit_2:0' shape=(?, 200) dtype=float32>, h=<tf.Tensor 'rnn/while/Exit_3:0' shape=(?, 200) dtype=float32>)"
      ]
     },
     "execution_count": 613,
     "metadata": {},
     "output_type": "execute_result"
    }
   ],
   "source": [
    "encoder_final_state"
   ]
  },
  {
   "cell_type": "code",
   "execution_count": 614,
   "metadata": {
    "collapsed": true
   },
   "outputs": [],
   "source": [
    "decoder_cell = tf.contrib.rnn.LSTMCell(decoder_hidden_units)\n",
    "\n",
    "decoder_outputs, decoder_final_state = tf.nn.dynamic_rnn(\n",
    "                                decoder_cell, decoder_inputs_embedded,\n",
    "                                initial_state=encoder_final_state,\n",
    "                                dtype=tf.float32, time_major=True, \n",
    "                                scope=\"plain_decoder\")"
   ]
  },
  {
   "cell_type": "code",
   "execution_count": 615,
   "metadata": {
    "collapsed": false
   },
   "outputs": [
    {
     "name": "stdout",
     "output_type": "stream",
     "text": [
      "Tensor(\"ArgMax:0\", shape=(?, ?), dtype=int64)\n",
      "Tensor(\"fully_connected/Reshape_1:0\", shape=(?, ?, 1000), dtype=float32)\n"
     ]
    }
   ],
   "source": [
    "decoder_logits = tf.contrib.layers.linear(decoder_outputs, fr_vocab_size)\n",
    "\n",
    "decoder_prediction = tf.argmax(decoder_logits, 2)\n",
    "print decoder_prediction\n",
    "print decoder_logits"
   ]
  },
  {
   "cell_type": "code",
   "execution_count": 616,
   "metadata": {
    "collapsed": false
   },
   "outputs": [],
   "source": [
    "stepwise_cross_entropy = tf.nn.softmax_cross_entropy_with_logits(\n",
    "    labels=tf.one_hot(decoder_targets, depth=fr_vocab_size, dtype=tf.float32),\n",
    "    logits=decoder_logits,\n",
    ")\n",
    "\n",
    "loss = tf.reduce_mean(stepwise_cross_entropy)\n",
    "train_op = tf.train.AdamOptimizer().minimize(loss)"
   ]
  },
  {
   "cell_type": "code",
   "execution_count": 617,
   "metadata": {
    "collapsed": true
   },
   "outputs": [],
   "source": [
    "sess.run(tf.global_variables_initializer())"
   ]
  },
  {
   "cell_type": "code",
   "execution_count": 618,
   "metadata": {
    "collapsed": false
   },
   "outputs": [
    {
     "name": "stdout",
     "output_type": "stream",
     "text": [
      "batch_encoded:\n",
      "[[  2  24   9]\n",
      " [124 523  82]\n",
      " [243  23   0]]\n",
      "decoder inputs:\n",
      "[[1 1 1]\n",
      " [1 1 1]\n",
      " [1 1 1]\n",
      " [1 1 1]]\n",
      "decoder predictions:\n",
      "[[793 330 124]\n",
      " [793 968 124]\n",
      " [  6 968 124]\n",
      " [  6 968 124]]\n"
     ]
    }
   ],
   "source": [
    "batch_ = [[2,124,243], [24,523,23], [9, 82]]\n",
    "\n",
    "batch_ = make_batch(batch_)\n",
    "print('batch_encoded:\\n' + str(batch_))\n",
    "\n",
    "din_ = make_batch(np.ones(shape=(3, 4), dtype=np.int32))\n",
    "print('decoder inputs:\\n' + str(din_))\n",
    "\n",
    "pred_ = sess.run(decoder_prediction,\n",
    "    feed_dict={\n",
    "        encoder_inputs: batch_,\n",
    "        decoder_inputs: din_,\n",
    "    })\n",
    "print('decoder predictions:\\n' + str(pred_))"
   ]
  },
  {
   "cell_type": "code",
   "execution_count": 619,
   "metadata": {
    "collapsed": true
   },
   "outputs": [],
   "source": [
    "\n",
    "def parallel_batches(text, batch_size):\n",
    "    num_remaining = len(text)\n",
    "    num_seqs = 0\n",
    "    while num_remaining>0:\n",
    "        b = 0\n",
    "        if num_remaining<batch_size:\n",
    "            b = text[num_seqs:num_seqs+num_remaining]\n",
    "            num_remaining -= num_remaining\n",
    "            num_seqs += num_remaining\n",
    "        else:\n",
    "            b = text[num_seqs:num_seqs+batch_size]\n",
    "            num_remaining -= batch_size\n",
    "            num_seqs += batch_size\n",
    "        yield b"
   ]
  },
  {
   "cell_type": "code",
   "execution_count": 620,
   "metadata": {
    "collapsed": false
   },
   "outputs": [
    {
     "name": "stdout",
     "output_type": "stream",
     "text": [
      "5001\n"
     ]
    }
   ],
   "source": [
    "batch_size = 100\n",
    "print len(text_en)\n",
    "en_batches, fr_batches = next_parallel_batch(text_en, batch_size), next_parallel_batch(text_fr, batch_size)\n"
   ]
  },
  {
   "cell_type": "code",
   "execution_count": 621,
   "metadata": {
    "collapsed": false
   },
   "outputs": [],
   "source": [
    "def next_feed():\n",
    "    en_batch, fr_batch = next(en_batches), next(fr_batches)\n",
    "    encoder_inputs_ = make_batch(en_batch)\n",
    "    decoder_targets_ = make_batch([sequence for sequence in fr_batch])\n",
    "    decoder_inputs_ = make_batch([[1]+sequence[0:-1] for sequence in fr_batch])\n",
    "    return {\n",
    "        encoder_inputs: encoder_inputs_,\n",
    "        decoder_inputs: decoder_inputs_,\n",
    "        decoder_targets: decoder_targets_,\n",
    "    }"
   ]
  },
  {
   "cell_type": "code",
   "execution_count": 622,
   "metadata": {
    "collapsed": false
   },
   "outputs": [
    {
     "ename": "TypeError",
     "evalue": "'int' object is not callable",
     "output_type": "error",
     "traceback": [
      "\u001b[0;31m---------------------------------------------------------------------------\u001b[0m",
      "\u001b[0;31mTypeError\u001b[0m                                 Traceback (most recent call last)",
      "\u001b[0;32m<ipython-input-622-2007c71bf1df>\u001b[0m in \u001b[0;36m<module>\u001b[0;34m()\u001b[0m\n\u001b[1;32m      6\u001b[0m \u001b[0;32mtry\u001b[0m\u001b[0;34m:\u001b[0m\u001b[0;34m\u001b[0m\u001b[0m\n\u001b[1;32m      7\u001b[0m     \u001b[0;32mfor\u001b[0m \u001b[0mbatch_n\u001b[0m \u001b[0;32min\u001b[0m \u001b[0mrange\u001b[0m\u001b[0;34m(\u001b[0m\u001b[0mmax_batches\u001b[0m\u001b[0;34m)\u001b[0m\u001b[0;34m:\u001b[0m\u001b[0;34m\u001b[0m\u001b[0m\n\u001b[0;32m----> 8\u001b[0;31m         \u001b[0mfd\u001b[0m \u001b[0;34m=\u001b[0m \u001b[0mnext_feed\u001b[0m\u001b[0;34m(\u001b[0m\u001b[0;34m)\u001b[0m\u001b[0;34m\u001b[0m\u001b[0m\n\u001b[0m\u001b[1;32m      9\u001b[0m         \u001b[0m_\u001b[0m\u001b[0;34m,\u001b[0m \u001b[0ml\u001b[0m \u001b[0;34m=\u001b[0m \u001b[0msess\u001b[0m\u001b[0;34m.\u001b[0m\u001b[0mrun\u001b[0m\u001b[0;34m(\u001b[0m\u001b[0;34m[\u001b[0m\u001b[0mtrain_op\u001b[0m\u001b[0;34m,\u001b[0m \u001b[0mloss\u001b[0m\u001b[0;34m]\u001b[0m\u001b[0;34m,\u001b[0m \u001b[0mfd\u001b[0m\u001b[0;34m)\u001b[0m\u001b[0;34m\u001b[0m\u001b[0m\n\u001b[1;32m     10\u001b[0m         \u001b[0mloss_track\u001b[0m\u001b[0;34m.\u001b[0m\u001b[0mappend\u001b[0m\u001b[0;34m(\u001b[0m\u001b[0ml\u001b[0m\u001b[0;34m)\u001b[0m\u001b[0;34m\u001b[0m\u001b[0m\n",
      "\u001b[0;32m<ipython-input-621-f0faa583d174>\u001b[0m in \u001b[0;36mnext_feed\u001b[0;34m()\u001b[0m\n\u001b[1;32m      1\u001b[0m \u001b[0;32mdef\u001b[0m \u001b[0mnext_feed\u001b[0m\u001b[0;34m(\u001b[0m\u001b[0;34m)\u001b[0m\u001b[0;34m:\u001b[0m\u001b[0;34m\u001b[0m\u001b[0m\n\u001b[0;32m----> 2\u001b[0;31m     \u001b[0men_batch\u001b[0m\u001b[0;34m,\u001b[0m \u001b[0mfr_batch\u001b[0m \u001b[0;34m=\u001b[0m \u001b[0mnext\u001b[0m\u001b[0;34m(\u001b[0m\u001b[0men_batches\u001b[0m\u001b[0;34m)\u001b[0m\u001b[0;34m,\u001b[0m \u001b[0mnext\u001b[0m\u001b[0;34m(\u001b[0m\u001b[0mfr_batches\u001b[0m\u001b[0;34m)\u001b[0m\u001b[0;34m\u001b[0m\u001b[0m\n\u001b[0m\u001b[1;32m      3\u001b[0m     \u001b[0mencoder_inputs_\u001b[0m \u001b[0;34m=\u001b[0m \u001b[0mmake_batch\u001b[0m\u001b[0;34m(\u001b[0m\u001b[0men_batch\u001b[0m\u001b[0;34m)\u001b[0m\u001b[0;34m\u001b[0m\u001b[0m\n\u001b[1;32m      4\u001b[0m     \u001b[0mdecoder_targets_\u001b[0m \u001b[0;34m=\u001b[0m \u001b[0mmake_batch\u001b[0m\u001b[0;34m(\u001b[0m\u001b[0;34m[\u001b[0m\u001b[0msequence\u001b[0m \u001b[0;32mfor\u001b[0m \u001b[0msequence\u001b[0m \u001b[0;32min\u001b[0m \u001b[0mfr_batch\u001b[0m\u001b[0;34m]\u001b[0m\u001b[0;34m)\u001b[0m\u001b[0;34m\u001b[0m\u001b[0m\n\u001b[1;32m      5\u001b[0m     \u001b[0mdecoder_inputs_\u001b[0m \u001b[0;34m=\u001b[0m \u001b[0mmake_batch\u001b[0m\u001b[0;34m(\u001b[0m\u001b[0;34m[\u001b[0m\u001b[0;34m[\u001b[0m\u001b[0;36m1\u001b[0m\u001b[0;34m]\u001b[0m\u001b[0;34m+\u001b[0m\u001b[0msequence\u001b[0m\u001b[0;34m[\u001b[0m\u001b[0;36m0\u001b[0m\u001b[0;34m:\u001b[0m\u001b[0;34m-\u001b[0m\u001b[0;36m1\u001b[0m\u001b[0;34m]\u001b[0m \u001b[0;32mfor\u001b[0m \u001b[0msequence\u001b[0m \u001b[0;32min\u001b[0m \u001b[0mfr_batch\u001b[0m\u001b[0;34m]\u001b[0m\u001b[0;34m)\u001b[0m\u001b[0;34m\u001b[0m\u001b[0m\n",
      "\u001b[0;32m<ipython-input-585-34733ccbecb9>\u001b[0m in \u001b[0;36mnext_parallel_batch\u001b[0;34m(text, batch_size)\u001b[0m\n\u001b[1;32m     10\u001b[0m             \u001b[0mnum_seqs\u001b[0m \u001b[0;34m+=\u001b[0m \u001b[0mnum_remaining\u001b[0m\u001b[0;34m\u001b[0m\u001b[0m\n\u001b[1;32m     11\u001b[0m         \u001b[0;32melse\u001b[0m\u001b[0;34m:\u001b[0m\u001b[0;34m\u001b[0m\u001b[0m\n\u001b[0;32m---> 12\u001b[0;31m             \u001b[0mb\u001b[0m \u001b[0;34m=\u001b[0m \u001b[0mbatch\u001b[0m\u001b[0;34m(\u001b[0m\u001b[0mtext\u001b[0m\u001b[0;34m[\u001b[0m\u001b[0mnum_seqs\u001b[0m\u001b[0;34m:\u001b[0m\u001b[0mnum_seqs\u001b[0m\u001b[0;34m+\u001b[0m\u001b[0mbatch_size\u001b[0m\u001b[0;34m]\u001b[0m\u001b[0;34m)\u001b[0m\u001b[0;34m\u001b[0m\u001b[0m\n\u001b[0m\u001b[1;32m     13\u001b[0m             \u001b[0mnum_remaining\u001b[0m \u001b[0;34m-=\u001b[0m \u001b[0mbatch_size\u001b[0m\u001b[0;34m\u001b[0m\u001b[0m\n\u001b[1;32m     14\u001b[0m             \u001b[0mnum_seqs\u001b[0m \u001b[0;34m+=\u001b[0m \u001b[0mbatch_size\u001b[0m\u001b[0;34m\u001b[0m\u001b[0m\n",
      "\u001b[0;31mTypeError\u001b[0m: 'int' object is not callable"
     ]
    }
   ],
   "source": [
    "loss_track = []\n",
    "\n",
    "max_batches = len(text_en)\n",
    "batches_in_epoch = 1000\n",
    "\n",
    "try:\n",
    "    for batch_n in range(max_batches):\n",
    "        fd = next_feed()\n",
    "        _, l = sess.run([train_op, loss], fd)\n",
    "        loss_track.append(l)\n",
    "\n",
    "        if batch_n == 0 or batch_n % batches_in_epoch == 0:\n",
    "            print('batch {}'.format(batch_n))\n",
    "            print('  minibatch loss: {}'.format(sess.run(loss, fd)))\n",
    "            predict_ = sess.run(decoder_prediction, fd)\n",
    "            for i, (inp, pred) in enumerate(zip(fd[encoder_inputs].T, predict_.T)):\n",
    "                print('  sample {}:'.format(i + 1))\n",
    "                print('    input     > {}'.format(inp))\n",
    "                print('    actual    > {}'.format(trans(inp)))\n",
    "                print('    predicted > {}'.format(pred))\n",
    "                if i >= 2:\n",
    "                    break\n",
    "            print()\n",
    "except KeyboardInterrupt:\n",
    "    print('training interrupted')"
   ]
  },
  {
   "cell_type": "code",
   "execution_count": null,
   "metadata": {
    "collapsed": true
   },
   "outputs": [],
   "source": []
  }
 ],
 "metadata": {
  "kernelspec": {
   "display_name": "Python 2",
   "language": "python",
   "name": "python2"
  },
  "language_info": {
   "codemirror_mode": {
    "name": "ipython",
    "version": 2
   },
   "file_extension": ".py",
   "mimetype": "text/x-python",
   "name": "python",
   "nbconvert_exporter": "python",
   "pygments_lexer": "ipython2",
   "version": "2.7.12"
  }
 },
 "nbformat": 4,
 "nbformat_minor": 2
}
