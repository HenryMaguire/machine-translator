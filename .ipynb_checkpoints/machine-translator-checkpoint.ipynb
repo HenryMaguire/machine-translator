{
 "cells": [
  {
   "cell_type": "markdown",
   "metadata": {
    "deletable": true,
    "editable": true
   },
   "source": [
    "# Neural Machine Translator\n",
    "\n",
    "In this notebook I will create a sequence-to-sequence translation system in Tensorflow. This will be done using single-layer encoder and decoder architecture, without using the Tensorflow native seq-to-seq modules. The method is heavily inspired by [these tutorials](https://github.com/ematvey/tensorflow-seq2seq-tutorials), particularly the implementation of previously fed tokens into the `tf.nn.raw_rnn` as proposed in the second tutorial. My code goes one step further and is able to feed in either the _ground truth_, previously generated tokens or a random combination of the two. While feeding in only the ground truth speeds up training and passing previously generated tokens increases robustness and performance, a combination of the two has been shown to interpolate between these two extremes. My NMT implementation was benchmarked against a direct dictionary based method using the [GoogleTrans](https://pypi.python.org/pypi/googletrans) API."
   ]
  },
  {
   "cell_type": "markdown",
   "metadata": {
    "deletable": true,
    "editable": true
   },
   "source": [
    "## Loading the preprocessed data"
   ]
  },
  {
   "cell_type": "code",
   "execution_count": 1,
   "metadata": {
    "collapsed": false,
    "deletable": true,
    "editable": true
   },
   "outputs": [
    {
     "name": "stdout",
     "output_type": "stream",
     "text": [
      "Tokens in s_train are of type  <type 'int'>\n",
      "Tokens in raw_s_train are of type  <type 'unicode'>\n",
      "s_test and raw_s_test are the same length? :  True\n",
      "17742 17742\n"
     ]
    }
   ],
   "source": [
    "import logging\n",
    "import os\n",
    "import numpy as np\n",
    "from utils import load_obj\n",
    "\n",
    "logging.getLogger(\"tensorflow\").setLevel(logging.WARNING)\n",
    "os.environ['TF_CPP_MIN_LOG_LEVEL'] = '3'\n",
    "\n",
    "import tensorflow as tf\n",
    "tf.logging.set_verbosity(tf.logging.ERROR)\n",
    "logging.basicConfig(level=logging.DEBUG, filename=\"logfile\", filemode=\"a+\",\n",
    "                        format=\"%(asctime)-15s %(levelname)-8s %(message)s\")\n",
    "os.environ['TF_CPP_MIN_LOG_LEVEL'] = '3'\n",
    "lang_t = 'en'\n",
    "lang_s = 'fr'\n",
    "prep_path = \"short_data/\"\n",
    "\n",
    "data_path = \"\"\n",
    "data_dict = load_obj(prep_path+'data_dic')\n",
    "s_train = data_dict[\"s_train\"] # preprocessed data\n",
    "t_train = data_dict[\"t_train\"]\n",
    "s_test = data_dict[\"s_test\"]\n",
    "t_test = data_dict[\"t_test\"]\n",
    "word2id_s = data_dict[\"word2id_s\"] # word-to-ID dictionaries \n",
    "word2id_t = data_dict[\"word2id_t\"]\n",
    "id2word_s = data_dict[\"id2word_s\"]\n",
    "id2word_t = data_dict[\"id2word_t\"]\n",
    "\n",
    "vocab_size_t = len(word2id_t.keys()) # Includes UNK, EOS and PAD tokens\n",
    "vocab_size_s = len(word2id_s.keys())\n",
    "\n",
    "raw_s_test = load_obj(\"short_data/source_test\") # Data for benchmark model \n",
    "raw_t_test = load_obj(\"short_data/target_test\") # Data for benchmark model \n",
    "print \"Tokens in s_train are of type \", type(s_test[0][0])\n",
    "print \"Tokens in raw_s_train are of type \", type(raw_s_test[0][0])\n",
    "print \"s_test and raw_s_test are the same length? : \", len(s_test) == len(raw_s_test)\n",
    "print len(s_test),  len(raw_s_test)"
   ]
  },
  {
   "cell_type": "markdown",
   "metadata": {
    "deletable": true,
    "editable": true
   },
   "source": [
    "## Benchmark model\n",
    "\n",
    "Here I use the [GoogleTrans]() python package to translate the corpus by translating each individual word in the text. There seems to be an issue with the number of JSON requests the model makes to the Google Translate service, so it needs to work in passes. If a phrase is skipped due to a JSON error, keep it stored and try again later (with a new Translator instance)."
   ]
  },
  {
   "cell_type": "code",
   "execution_count": 150,
   "metadata": {
    "collapsed": false,
    "deletable": true,
    "editable": true
   },
   "outputs": [
    {
     "name": "stdout",
     "output_type": "stream",
     "text": [
      "No JSON object could be decoded for phrase 110\n",
      "No JSON object could be decoded for phrase 236\n",
      "No JSON object could be decoded for phrase 368\n"
     ]
    },
    {
     "ename": "KeyboardInterrupt",
     "evalue": "",
     "output_type": "error",
     "traceback": [
      "\u001b[0;31m---------------------------------------------------------------------------\u001b[0m",
      "\u001b[0;31mKeyboardInterrupt\u001b[0m                         Traceback (most recent call last)",
      "\u001b[0;32m<ipython-input-150-76f784b6bebb>\u001b[0m in \u001b[0;36m<module>\u001b[0;34m()\u001b[0m\n\u001b[1;32m     48\u001b[0m \u001b[0;31m# Takes a while to run, running this cell is not for the faint hearted\u001b[0m\u001b[0;34m\u001b[0m\u001b[0;34m\u001b[0m\u001b[0m\n\u001b[1;32m     49\u001b[0m \u001b[0;31m# BM_translated is ([french sequences], [english translations])\u001b[0m\u001b[0;34m\u001b[0m\u001b[0;34m\u001b[0m\u001b[0m\n\u001b[0;32m---> 50\u001b[0;31m \u001b[0mBM_translated\u001b[0m \u001b[0;34m=\u001b[0m \u001b[0mtranslate_word_by_word\u001b[0m\u001b[0;34m(\u001b[0m\u001b[0mraw_s_test\u001b[0m\u001b[0;34m[\u001b[0m\u001b[0;36m1000\u001b[0m\u001b[0;34m:\u001b[0m\u001b[0;34m:\u001b[0m\u001b[0;34m]\u001b[0m\u001b[0;34m)\u001b[0m\u001b[0;34m\u001b[0m\u001b[0m\n\u001b[0m\u001b[1;32m     51\u001b[0m \u001b[0;34m\u001b[0m\u001b[0m\n\u001b[1;32m     52\u001b[0m \u001b[0;32mprint\u001b[0m \u001b[0;34m\"Corpus translated from {} to {}\"\u001b[0m\u001b[0;34m.\u001b[0m\u001b[0mformat\u001b[0m\u001b[0;34m(\u001b[0m\u001b[0mlang_s\u001b[0m\u001b[0;34m,\u001b[0m \u001b[0mlang_t\u001b[0m\u001b[0;34m)\u001b[0m\u001b[0;34m\u001b[0m\u001b[0m\n",
      "\u001b[0;32m<ipython-input-150-76f784b6bebb>\u001b[0m in \u001b[0;36mtranslate_word_by_word\u001b[0;34m(source_text)\u001b[0m\n\u001b[1;32m     29\u001b[0m     \u001b[0;31m# Need to keep track of phrase ordering by labelling\u001b[0m\u001b[0;34m\u001b[0m\u001b[0;34m\u001b[0m\u001b[0m\n\u001b[1;32m     30\u001b[0m     \u001b[0msource_text\u001b[0m \u001b[0;34m=\u001b[0m \u001b[0;34m[\u001b[0m\u001b[0;34m(\u001b[0m\u001b[0mi\u001b[0m\u001b[0;34m,\u001b[0m \u001b[0mphr\u001b[0m\u001b[0;34m)\u001b[0m \u001b[0;32mfor\u001b[0m \u001b[0mi\u001b[0m\u001b[0;34m,\u001b[0m \u001b[0mphr\u001b[0m \u001b[0;32min\u001b[0m \u001b[0menumerate\u001b[0m\u001b[0;34m(\u001b[0m\u001b[0msource_text\u001b[0m\u001b[0;34m)\u001b[0m\u001b[0;34m]\u001b[0m\u001b[0;34m\u001b[0m\u001b[0m\n\u001b[0;32m---> 31\u001b[0;31m     \u001b[0mtrans_text\u001b[0m\u001b[0;34m,\u001b[0m \u001b[0mskipped_phrases\u001b[0m \u001b[0;34m=\u001b[0m \u001b[0mgoogletrans_pass\u001b[0m\u001b[0;34m(\u001b[0m\u001b[0msource_text\u001b[0m\u001b[0;34m,\u001b[0m \u001b[0mtarget_lang\u001b[0m\u001b[0;34m=\u001b[0m\u001b[0mlang_t\u001b[0m\u001b[0;34m)\u001b[0m\u001b[0;34m\u001b[0m\u001b[0m\n\u001b[0m\u001b[1;32m     32\u001b[0m     print \"There are {} phrases which could not be translated first time around.\".format(\n\u001b[1;32m     33\u001b[0m                                                                     len(skipped_phrases))\n",
      "\u001b[0;32m<ipython-input-150-76f784b6bebb>\u001b[0m in \u001b[0;36mgoogletrans_pass\u001b[0;34m(s_text, target_lang)\u001b[0m\n\u001b[1;32m     17\u001b[0m             trans_corpus.append((i, [trans.text for\n\u001b[1;32m     18\u001b[0m                                 trans in translator.translate(\n\u001b[0;32m---> 19\u001b[0;31m                                 phrase, dest=target_lang)]))\n\u001b[0m\u001b[1;32m     20\u001b[0m         \u001b[0;32mexcept\u001b[0m \u001b[0mValueError\u001b[0m \u001b[0;32mas\u001b[0m \u001b[0merr\u001b[0m\u001b[0;34m:\u001b[0m\u001b[0;34m\u001b[0m\u001b[0m\n\u001b[1;32m     21\u001b[0m             \u001b[0;31m# Making a new Translator instance seems to help JSON errors\u001b[0m\u001b[0;34m\u001b[0m\u001b[0;34m\u001b[0m\u001b[0m\n",
      "\u001b[0;32m/usr/local/lib/python2.7/site-packages/googletrans/client.pyc\u001b[0m in \u001b[0;36mtranslate\u001b[0;34m(self, text, dest, src)\u001b[0m\n\u001b[1;32m    125\u001b[0m             \u001b[0mresult\u001b[0m \u001b[0;34m=\u001b[0m \u001b[0;34m[\u001b[0m\u001b[0;34m]\u001b[0m\u001b[0;34m\u001b[0m\u001b[0m\n\u001b[1;32m    126\u001b[0m             \u001b[0;32mfor\u001b[0m \u001b[0mitem\u001b[0m \u001b[0;32min\u001b[0m \u001b[0mtext\u001b[0m\u001b[0;34m:\u001b[0m\u001b[0;34m\u001b[0m\u001b[0m\n\u001b[0;32m--> 127\u001b[0;31m                 \u001b[0mtranslated\u001b[0m \u001b[0;34m=\u001b[0m \u001b[0mself\u001b[0m\u001b[0;34m.\u001b[0m\u001b[0mtranslate\u001b[0m\u001b[0;34m(\u001b[0m\u001b[0mitem\u001b[0m\u001b[0;34m,\u001b[0m \u001b[0mdest\u001b[0m\u001b[0;34m=\u001b[0m\u001b[0mdest\u001b[0m\u001b[0;34m,\u001b[0m \u001b[0msrc\u001b[0m\u001b[0;34m=\u001b[0m\u001b[0msrc\u001b[0m\u001b[0;34m)\u001b[0m\u001b[0;34m\u001b[0m\u001b[0m\n\u001b[0m\u001b[1;32m    128\u001b[0m                 \u001b[0mresult\u001b[0m\u001b[0;34m.\u001b[0m\u001b[0mappend\u001b[0m\u001b[0;34m(\u001b[0m\u001b[0mtranslated\u001b[0m\u001b[0;34m)\u001b[0m\u001b[0;34m\u001b[0m\u001b[0m\n\u001b[1;32m    129\u001b[0m             \u001b[0;32mreturn\u001b[0m \u001b[0mresult\u001b[0m\u001b[0;34m\u001b[0m\u001b[0m\n",
      "\u001b[0;32m/usr/local/lib/python2.7/site-packages/googletrans/client.pyc\u001b[0m in \u001b[0;36mtranslate\u001b[0;34m(self, text, dest, src)\u001b[0m\n\u001b[1;32m    130\u001b[0m \u001b[0;34m\u001b[0m\u001b[0m\n\u001b[1;32m    131\u001b[0m         \u001b[0morigin\u001b[0m \u001b[0;34m=\u001b[0m \u001b[0mtext\u001b[0m\u001b[0;34m\u001b[0m\u001b[0m\n\u001b[0;32m--> 132\u001b[0;31m         \u001b[0mdata\u001b[0m \u001b[0;34m=\u001b[0m \u001b[0mself\u001b[0m\u001b[0;34m.\u001b[0m\u001b[0m_translate\u001b[0m\u001b[0;34m(\u001b[0m\u001b[0mtext\u001b[0m\u001b[0;34m,\u001b[0m \u001b[0mdest\u001b[0m\u001b[0;34m,\u001b[0m \u001b[0msrc\u001b[0m\u001b[0;34m)\u001b[0m\u001b[0;34m\u001b[0m\u001b[0m\n\u001b[0m\u001b[1;32m    133\u001b[0m \u001b[0;34m\u001b[0m\u001b[0m\n\u001b[1;32m    134\u001b[0m         \u001b[0;31m# this code will be updated when the format is changed.\u001b[0m\u001b[0;34m\u001b[0m\u001b[0;34m\u001b[0m\u001b[0m\n",
      "\u001b[0;32m/usr/local/lib/python2.7/site-packages/googletrans/client.pyc\u001b[0m in \u001b[0;36m_translate\u001b[0;34m(self, text, dest, src)\u001b[0m\n\u001b[1;32m     59\u001b[0m                                     token=token)\n\u001b[1;32m     60\u001b[0m         \u001b[0murl\u001b[0m \u001b[0;34m=\u001b[0m \u001b[0murls\u001b[0m\u001b[0;34m.\u001b[0m\u001b[0mTRANSLATE\u001b[0m\u001b[0;34m.\u001b[0m\u001b[0mformat\u001b[0m\u001b[0;34m(\u001b[0m\u001b[0mhost\u001b[0m\u001b[0;34m=\u001b[0m\u001b[0mself\u001b[0m\u001b[0;34m.\u001b[0m\u001b[0m_pick_service_url\u001b[0m\u001b[0;34m(\u001b[0m\u001b[0;34m)\u001b[0m\u001b[0;34m)\u001b[0m\u001b[0;34m\u001b[0m\u001b[0m\n\u001b[0;32m---> 61\u001b[0;31m         \u001b[0mr\u001b[0m \u001b[0;34m=\u001b[0m \u001b[0mself\u001b[0m\u001b[0;34m.\u001b[0m\u001b[0msession\u001b[0m\u001b[0;34m.\u001b[0m\u001b[0mget\u001b[0m\u001b[0;34m(\u001b[0m\u001b[0murl\u001b[0m\u001b[0;34m,\u001b[0m \u001b[0mparams\u001b[0m\u001b[0;34m=\u001b[0m\u001b[0mparams\u001b[0m\u001b[0;34m)\u001b[0m\u001b[0;34m\u001b[0m\u001b[0m\n\u001b[0m\u001b[1;32m     62\u001b[0m \u001b[0;34m\u001b[0m\u001b[0m\n\u001b[1;32m     63\u001b[0m         \u001b[0mdata\u001b[0m \u001b[0;34m=\u001b[0m \u001b[0mutils\u001b[0m\u001b[0;34m.\u001b[0m\u001b[0mformat_json\u001b[0m\u001b[0;34m(\u001b[0m\u001b[0mr\u001b[0m\u001b[0;34m.\u001b[0m\u001b[0mtext\u001b[0m\u001b[0;34m)\u001b[0m\u001b[0;34m\u001b[0m\u001b[0m\n",
      "\u001b[0;32m/usr/local/lib/python2.7/site-packages/requests/sessions.pyc\u001b[0m in \u001b[0;36mget\u001b[0;34m(self, url, **kwargs)\u001b[0m\n\u001b[1;32m    519\u001b[0m \u001b[0;34m\u001b[0m\u001b[0m\n\u001b[1;32m    520\u001b[0m         \u001b[0mkwargs\u001b[0m\u001b[0;34m.\u001b[0m\u001b[0msetdefault\u001b[0m\u001b[0;34m(\u001b[0m\u001b[0;34m'allow_redirects'\u001b[0m\u001b[0;34m,\u001b[0m \u001b[0mTrue\u001b[0m\u001b[0;34m)\u001b[0m\u001b[0;34m\u001b[0m\u001b[0m\n\u001b[0;32m--> 521\u001b[0;31m         \u001b[0;32mreturn\u001b[0m \u001b[0mself\u001b[0m\u001b[0;34m.\u001b[0m\u001b[0mrequest\u001b[0m\u001b[0;34m(\u001b[0m\u001b[0;34m'GET'\u001b[0m\u001b[0;34m,\u001b[0m \u001b[0murl\u001b[0m\u001b[0;34m,\u001b[0m \u001b[0;34m**\u001b[0m\u001b[0mkwargs\u001b[0m\u001b[0;34m)\u001b[0m\u001b[0;34m\u001b[0m\u001b[0m\n\u001b[0m\u001b[1;32m    522\u001b[0m \u001b[0;34m\u001b[0m\u001b[0m\n\u001b[1;32m    523\u001b[0m     \u001b[0;32mdef\u001b[0m \u001b[0moptions\u001b[0m\u001b[0;34m(\u001b[0m\u001b[0mself\u001b[0m\u001b[0;34m,\u001b[0m \u001b[0murl\u001b[0m\u001b[0;34m,\u001b[0m \u001b[0;34m**\u001b[0m\u001b[0mkwargs\u001b[0m\u001b[0;34m)\u001b[0m\u001b[0;34m:\u001b[0m\u001b[0;34m\u001b[0m\u001b[0m\n",
      "\u001b[0;32m/usr/local/lib/python2.7/site-packages/requests/sessions.pyc\u001b[0m in \u001b[0;36mrequest\u001b[0;34m(self, method, url, params, data, headers, cookies, files, auth, timeout, allow_redirects, proxies, hooks, stream, verify, cert, json)\u001b[0m\n\u001b[1;32m    492\u001b[0m             \u001b[0mhooks\u001b[0m\u001b[0;34m=\u001b[0m\u001b[0mhooks\u001b[0m\u001b[0;34m,\u001b[0m\u001b[0;34m\u001b[0m\u001b[0m\n\u001b[1;32m    493\u001b[0m         )\n\u001b[0;32m--> 494\u001b[0;31m         \u001b[0mprep\u001b[0m \u001b[0;34m=\u001b[0m \u001b[0mself\u001b[0m\u001b[0;34m.\u001b[0m\u001b[0mprepare_request\u001b[0m\u001b[0;34m(\u001b[0m\u001b[0mreq\u001b[0m\u001b[0;34m)\u001b[0m\u001b[0;34m\u001b[0m\u001b[0m\n\u001b[0m\u001b[1;32m    495\u001b[0m \u001b[0;34m\u001b[0m\u001b[0m\n\u001b[1;32m    496\u001b[0m         \u001b[0mproxies\u001b[0m \u001b[0;34m=\u001b[0m \u001b[0mproxies\u001b[0m \u001b[0;32mor\u001b[0m \u001b[0;34m{\u001b[0m\u001b[0;34m}\u001b[0m\u001b[0;34m\u001b[0m\u001b[0m\n",
      "\u001b[0;32m/usr/local/lib/python2.7/site-packages/requests/sessions.pyc\u001b[0m in \u001b[0;36mprepare_request\u001b[0;34m(self, request)\u001b[0m\n\u001b[1;32m    435\u001b[0m             \u001b[0mauth\u001b[0m\u001b[0;34m=\u001b[0m\u001b[0mmerge_setting\u001b[0m\u001b[0;34m(\u001b[0m\u001b[0mauth\u001b[0m\u001b[0;34m,\u001b[0m \u001b[0mself\u001b[0m\u001b[0;34m.\u001b[0m\u001b[0mauth\u001b[0m\u001b[0;34m)\u001b[0m\u001b[0;34m,\u001b[0m\u001b[0;34m\u001b[0m\u001b[0m\n\u001b[1;32m    436\u001b[0m             \u001b[0mcookies\u001b[0m\u001b[0;34m=\u001b[0m\u001b[0mmerged_cookies\u001b[0m\u001b[0;34m,\u001b[0m\u001b[0;34m\u001b[0m\u001b[0m\n\u001b[0;32m--> 437\u001b[0;31m             \u001b[0mhooks\u001b[0m\u001b[0;34m=\u001b[0m\u001b[0mmerge_hooks\u001b[0m\u001b[0;34m(\u001b[0m\u001b[0mrequest\u001b[0m\u001b[0;34m.\u001b[0m\u001b[0mhooks\u001b[0m\u001b[0;34m,\u001b[0m \u001b[0mself\u001b[0m\u001b[0;34m.\u001b[0m\u001b[0mhooks\u001b[0m\u001b[0;34m)\u001b[0m\u001b[0;34m,\u001b[0m\u001b[0;34m\u001b[0m\u001b[0m\n\u001b[0m\u001b[1;32m    438\u001b[0m         )\n\u001b[1;32m    439\u001b[0m         \u001b[0;32mreturn\u001b[0m \u001b[0mp\u001b[0m\u001b[0;34m\u001b[0m\u001b[0m\n",
      "\u001b[0;32m/usr/local/lib/python2.7/site-packages/requests/models.pyc\u001b[0m in \u001b[0;36mprepare\u001b[0;34m(self, method, url, headers, files, data, params, auth, cookies, hooks, json)\u001b[0m\n\u001b[1;32m    303\u001b[0m \u001b[0;34m\u001b[0m\u001b[0m\n\u001b[1;32m    304\u001b[0m         \u001b[0mself\u001b[0m\u001b[0;34m.\u001b[0m\u001b[0mprepare_method\u001b[0m\u001b[0;34m(\u001b[0m\u001b[0mmethod\u001b[0m\u001b[0;34m)\u001b[0m\u001b[0;34m\u001b[0m\u001b[0m\n\u001b[0;32m--> 305\u001b[0;31m         \u001b[0mself\u001b[0m\u001b[0;34m.\u001b[0m\u001b[0mprepare_url\u001b[0m\u001b[0;34m(\u001b[0m\u001b[0murl\u001b[0m\u001b[0;34m,\u001b[0m \u001b[0mparams\u001b[0m\u001b[0;34m)\u001b[0m\u001b[0;34m\u001b[0m\u001b[0m\n\u001b[0m\u001b[1;32m    306\u001b[0m         \u001b[0mself\u001b[0m\u001b[0;34m.\u001b[0m\u001b[0mprepare_headers\u001b[0m\u001b[0;34m(\u001b[0m\u001b[0mheaders\u001b[0m\u001b[0;34m)\u001b[0m\u001b[0;34m\u001b[0m\u001b[0m\n\u001b[1;32m    307\u001b[0m         \u001b[0mself\u001b[0m\u001b[0;34m.\u001b[0m\u001b[0mprepare_cookies\u001b[0m\u001b[0;34m(\u001b[0m\u001b[0mcookies\u001b[0m\u001b[0;34m)\u001b[0m\u001b[0;34m\u001b[0m\u001b[0m\n",
      "\u001b[0;32m/usr/local/lib/python2.7/site-packages/requests/models.pyc\u001b[0m in \u001b[0;36mprepare_url\u001b[0;34m(self, url, params)\u001b[0m\n\u001b[1;32m    421\u001b[0m             \u001b[0mparams\u001b[0m \u001b[0;34m=\u001b[0m \u001b[0mto_native_string\u001b[0m\u001b[0;34m(\u001b[0m\u001b[0mparams\u001b[0m\u001b[0;34m)\u001b[0m\u001b[0;34m\u001b[0m\u001b[0m\n\u001b[1;32m    422\u001b[0m \u001b[0;34m\u001b[0m\u001b[0m\n\u001b[0;32m--> 423\u001b[0;31m         \u001b[0menc_params\u001b[0m \u001b[0;34m=\u001b[0m \u001b[0mself\u001b[0m\u001b[0;34m.\u001b[0m\u001b[0m_encode_params\u001b[0m\u001b[0;34m(\u001b[0m\u001b[0mparams\u001b[0m\u001b[0;34m)\u001b[0m\u001b[0;34m\u001b[0m\u001b[0m\n\u001b[0m\u001b[1;32m    424\u001b[0m         \u001b[0;32mif\u001b[0m \u001b[0menc_params\u001b[0m\u001b[0;34m:\u001b[0m\u001b[0;34m\u001b[0m\u001b[0m\n\u001b[1;32m    425\u001b[0m             \u001b[0;32mif\u001b[0m \u001b[0mquery\u001b[0m\u001b[0;34m:\u001b[0m\u001b[0;34m\u001b[0m\u001b[0m\n",
      "\u001b[0;32m/usr/local/lib/python2.7/site-packages/requests/models.pyc\u001b[0m in \u001b[0;36m_encode_params\u001b[0;34m(data)\u001b[0m\n\u001b[1;32m    103\u001b[0m                             (k.encode('utf-8') if isinstance(k, str) else k,\n\u001b[1;32m    104\u001b[0m                              v.encode('utf-8') if isinstance(v, str) else v))\n\u001b[0;32m--> 105\u001b[0;31m             \u001b[0;32mreturn\u001b[0m \u001b[0murlencode\u001b[0m\u001b[0;34m(\u001b[0m\u001b[0mresult\u001b[0m\u001b[0;34m,\u001b[0m \u001b[0mdoseq\u001b[0m\u001b[0;34m=\u001b[0m\u001b[0mTrue\u001b[0m\u001b[0;34m)\u001b[0m\u001b[0;34m\u001b[0m\u001b[0m\n\u001b[0m\u001b[1;32m    106\u001b[0m         \u001b[0;32melse\u001b[0m\u001b[0;34m:\u001b[0m\u001b[0;34m\u001b[0m\u001b[0m\n\u001b[1;32m    107\u001b[0m             \u001b[0;32mreturn\u001b[0m \u001b[0mdata\u001b[0m\u001b[0;34m\u001b[0m\u001b[0m\n",
      "\u001b[0;32m/usr/local/Cellar/python/2.7.12_2/Frameworks/Python.framework/Versions/2.7/lib/python2.7/urllib.pyc\u001b[0m in \u001b[0;36murlencode\u001b[0;34m(query, doseq)\u001b[0m\n\u001b[1;32m   1345\u001b[0m     \u001b[0;32melse\u001b[0m\u001b[0;34m:\u001b[0m\u001b[0;34m\u001b[0m\u001b[0m\n\u001b[1;32m   1346\u001b[0m         \u001b[0;32mfor\u001b[0m \u001b[0mk\u001b[0m\u001b[0;34m,\u001b[0m \u001b[0mv\u001b[0m \u001b[0;32min\u001b[0m \u001b[0mquery\u001b[0m\u001b[0;34m:\u001b[0m\u001b[0;34m\u001b[0m\u001b[0m\n\u001b[0;32m-> 1347\u001b[0;31m             \u001b[0mk\u001b[0m \u001b[0;34m=\u001b[0m \u001b[0mquote_plus\u001b[0m\u001b[0;34m(\u001b[0m\u001b[0mstr\u001b[0m\u001b[0;34m(\u001b[0m\u001b[0mk\u001b[0m\u001b[0;34m)\u001b[0m\u001b[0;34m)\u001b[0m\u001b[0;34m\u001b[0m\u001b[0m\n\u001b[0m\u001b[1;32m   1348\u001b[0m             \u001b[0;32mif\u001b[0m \u001b[0misinstance\u001b[0m\u001b[0;34m(\u001b[0m\u001b[0mv\u001b[0m\u001b[0;34m,\u001b[0m \u001b[0mstr\u001b[0m\u001b[0;34m)\u001b[0m\u001b[0;34m:\u001b[0m\u001b[0;34m\u001b[0m\u001b[0m\n\u001b[1;32m   1349\u001b[0m                 \u001b[0mv\u001b[0m \u001b[0;34m=\u001b[0m \u001b[0mquote_plus\u001b[0m\u001b[0;34m(\u001b[0m\u001b[0mv\u001b[0m\u001b[0;34m)\u001b[0m\u001b[0;34m\u001b[0m\u001b[0m\n",
      "\u001b[0;32m/usr/local/Cellar/python/2.7.12_2/Frameworks/Python.framework/Versions/2.7/lib/python2.7/urllib.pyc\u001b[0m in \u001b[0;36mquote_plus\u001b[0;34m(s, safe)\u001b[0m\n\u001b[1;32m   1301\u001b[0m \u001b[0;32mdef\u001b[0m \u001b[0mquote_plus\u001b[0m\u001b[0;34m(\u001b[0m\u001b[0ms\u001b[0m\u001b[0;34m,\u001b[0m \u001b[0msafe\u001b[0m\u001b[0;34m=\u001b[0m\u001b[0;34m''\u001b[0m\u001b[0;34m)\u001b[0m\u001b[0;34m:\u001b[0m\u001b[0;34m\u001b[0m\u001b[0m\n\u001b[1;32m   1302\u001b[0m     \u001b[0;34m\"\"\"Quote the query fragment of a URL; replacing ' ' with '+'\"\"\"\u001b[0m\u001b[0;34m\u001b[0m\u001b[0m\n\u001b[0;32m-> 1303\u001b[0;31m     \u001b[0;32mif\u001b[0m \u001b[0;34m' '\u001b[0m \u001b[0;32min\u001b[0m \u001b[0ms\u001b[0m\u001b[0;34m:\u001b[0m\u001b[0;34m\u001b[0m\u001b[0m\n\u001b[0m\u001b[1;32m   1304\u001b[0m         \u001b[0ms\u001b[0m \u001b[0;34m=\u001b[0m \u001b[0mquote\u001b[0m\u001b[0;34m(\u001b[0m\u001b[0ms\u001b[0m\u001b[0;34m,\u001b[0m \u001b[0msafe\u001b[0m \u001b[0;34m+\u001b[0m \u001b[0;34m' '\u001b[0m\u001b[0;34m)\u001b[0m\u001b[0;34m\u001b[0m\u001b[0m\n\u001b[1;32m   1305\u001b[0m         \u001b[0;32mreturn\u001b[0m \u001b[0ms\u001b[0m\u001b[0;34m.\u001b[0m\u001b[0mreplace\u001b[0m\u001b[0;34m(\u001b[0m\u001b[0;34m' '\u001b[0m\u001b[0;34m,\u001b[0m \u001b[0;34m'+'\u001b[0m\u001b[0;34m)\u001b[0m\u001b[0;34m\u001b[0m\u001b[0m\n",
      "\u001b[0;31mKeyboardInterrupt\u001b[0m: "
     ]
    }
   ],
   "source": [
    "from googletrans import Translator\n",
    "from utils import save_obj\n",
    "\n",
    "def googletrans_pass(s_text, target_lang='fr'):\n",
    "    \"\"\" This function makes a single pass through the data and tries to \n",
    "    translate each phrase one word at a time. Occasionally there are JSON\n",
    "    errors, probably due to too many requests being made. In this case\n",
    "    a new Translator instance is made and the failed attempts/skipped phrases\n",
    "    are returned, to be attempted again.\n",
    "    \"\"\"\n",
    "    translator = Translator()\n",
    "    trans_corpus = []\n",
    "    skipped_phrases = []\n",
    "    for i, phrase in s_text:\n",
    "        try:\n",
    "            # Appends (original index, translation)\n",
    "            trans_corpus.append((i, [trans.text for\n",
    "                                trans in translator.translate(\n",
    "                                phrase, dest=target_lang)]))\n",
    "        except ValueError as err:\n",
    "            # Making a new Translator instance seems to help JSON errors\n",
    "            translator = Translator()\n",
    "            # makes sure to keep skipped string and index\n",
    "            skipped_phrases.append((i, phrase))\n",
    "            print \"{} for phrase {}\".format(err, i)\n",
    "    return trans_corpus, skipped_phrases\n",
    "\n",
    "def translate_word_by_word(source_text):\n",
    "    # Need to keep track of phrase ordering by labelling\n",
    "    source_text = [(i, phr) for i, phr in enumerate(source_text)]\n",
    "    trans_text, skipped_phrases = googletrans_pass(source_text, target_lang=lang_t)\n",
    "    print \"There are {} phrases which could not be translated first time around.\".format(\n",
    "                                                                    len(skipped_phrases))\n",
    "    # Keep making passes until there are no more untranslated phrases left\n",
    "    j = 2\n",
    "    while len(skipped_phrases)>0:\n",
    "        translated_corpus = []\n",
    "        tc_s, skipped_phrases = googletrans_pass(skipped_phrases, target_lang=lang_t)\n",
    "        trans_text += tc_s\n",
    "        print \"There are {} phrases which could not be translated in pass {}.\".format(\n",
    "                                                            len(skipped_phrases), j)\n",
    "        j+=1\n",
    "    # Sort the phrases via their original indexes.\n",
    "    # Sorted function gives ([indices], [phrases]) so just need 2nd element\n",
    "    #trans_text = zip(*sorted(trans_text))[1]\n",
    "    return trans_text\n",
    "\n",
    "# Takes a while to run, running this cell is not for the faint hearted\n",
    "# BM_translated is ([french sequences], [english translations])\n",
    "BM_translated = translate_word_by_word(raw_s_test)\n",
    "\n",
    "print \"Corpus translated from {} to {}\".format(lang_s, lang_t)\n",
    "#save_obj(BM_translated, \"BM_translated\")\n"
   ]
  },
  {
   "cell_type": "code",
   "execution_count": 174,
   "metadata": {
    "collapsed": false
   },
   "outputs": [
    {
     "name": "stdout",
     "output_type": "stream",
     "text": [
      "[u'walter', u'r.macdonald', u'asaf', u'trigence', u'corp', u'what', u'are', u'the', u'advantages', u'for', u'mon', u'business', u'?'] [u'walter', u'r.macdonald', u'cfo', u'trigence', u'corp.', u'what', u'&aposs', u'in', u'it', u'for', u'my', u'company', u'?']\n"
     ]
    }
   ],
   "source": [
    "#BM_trans_1 #=  #zip(*sorted(BM_trans_1))[1] #, raw_t_test[0:1000])\n",
    "print BM_trans_1[-1], raw_t_test[999] \n",
    "#save_obj(BM_trans_1, \"short_data/BM_part_1\")\n",
    "#print p"
   ]
  },
  {
   "cell_type": "code",
   "execution_count": null,
   "metadata": {
    "collapsed": true
   },
   "outputs": [],
   "source": [
    "import load_obj\n",
    "bm_1 = load_obj(\"short_data/BM_part_1\")\n",
    "BM_trans_2 = load_obj(\"short_data/BM_part_2\")\n",
    "bm_2 = zip(*sorted(BM_trans_2))[1]\n",
    "bm_trans = bm_1 + bm_2\n",
    "save_obj(bm_trans, \"short_data/BM_translated\")"
   ]
  },
  {
   "cell_type": "code",
   "execution_count": 63,
   "metadata": {
    "collapsed": true
   },
   "outputs": [],
   "source": [
    "save_obj(BM_translated, \"short_data/BM_translated\")"
   ]
  },
  {
   "cell_type": "code",
   "execution_count": 145,
   "metadata": {
    "collapsed": false
   },
   "outputs": [
    {
     "name": "stdout",
     "output_type": "stream",
     "text": [
      "[((0, [u'in', u'oakes', u'the', u'judge', u'in', u'chef', u'dickson', u'wrote', u'at', u'the', u'page', u'139']), [u'in', u'oakes', u'dickson', u'cj', u'wrote', u'at', u'139']), ((1, [u'projections', u'video']), [u'video', u'projection']), ((2, [u'the', u'n&apos', u'Y', u'a', u'not', u'at', u'to choose', u'between', u'these', u'tasks', u'closely', u'linked', u'who', u'are', u'all', u'two', u'required']), [u'it', u'is', u'not', u'a', u'question', u'of', u'&quot', u'either', u'/', u'or', u'&quot']), ((3, [u'growth', u'spring']), [u'slow', u'growth']), ((4, [u'after', u'the', u'breakfast', u'visit', u'from', u'the', u'river', u'maritza', u'and', u'from', u'the', u'fair', u'international', u'from', u'plovdiv']), [u'after', u'breakfast', u'visit', u'of', u'maritza', u'river', u'and', u'the', u'international', u'fair', u'of', u'plovdiv']), ((5, [u'massey', u'block', u'the', u'massey', u'block', u'winnipeg', u'with', u'the', u'permission', u'from', u'western', u'canada', u'pictorial', u'index']), [u'massey', u'block', u'massey', u'block', u'winnipeg', u'designed', u'by', u'george', u'browne', u'jr', u'courtesy', u'western', u'canada', u'pictorial', u'index']), ((6, [u'the', u'mostly', u'of the', u'drawings', u'are', u'usually', u'fabricated', u'sure', u'order', u'from', u'various', u'companies']), [u'most', u'sketches', u'are', u'usually', u'made', u'to', u'order', u'various', u'companies']), ((7, [u'a', u'brush', u'n&apos', u'a', u'never', u'summer', u'also', u'read']), [u'the', u'lightest', u'touch', u'ever', u'made', u'in', u'car', u'wash', u'brushes']), ((8, [u'monsieur', u'the', u'President', u'the', u'Y', u'a', u'a lot', u'from', u'things', u'positives', u'at', u'say', u'the', u'subject', u'of', u'report', u'brok']), [u'there', u'are', u'many', u'good', u'things', u'to', u'say', u'about', u'mr', u'brok', u'&aposs', u'report']), ((9, [u'the', u'contracts', u'from', u'services', u'complexes', u'will', u'awarded', u'at', u'go', u'after', u'a', u'request', u'from', u'proposition', u'dp']), [u'complicated', u'service', u'contracts', u'will', u'be', u'awarded', u'based', u'on', u'rfp']), ((10, [u'the', u'envisage', u'also', u'a', u'new', u'connection', u'the', u'pipeline', u'yamal']), [u'the', u'company', u'is', u'also', u'considering', u'new', u'interconnection', u'with', u'the', u'yamal', u'pipeline']), ((11, [u'l&apos', u'a', u'of the', u'two', u'halves', u'East', u'supposed', u'be', u'enclosed', u'in', u'l&apos', u'other', u'after', u'be', u'past', u'by', u'the', u'closing']), [u'one', u'half', u'is', u'designed', u'to', u'snap', u'irreversibly', u'into', u'the', u'other', u'half', u'through', u'the', u'hasp']), ((12, [u'l&apos', u'aigle', u'royal', u'and', u'the', u'coyote', u'are', u'after', u'important', u'predators', u'of', u'you', u'of the', u'Sage']), [u'golden', u'eagles', u'and', u'coyotes', u'are', u'important', u'predators', u'of', u'sage', u'grouse']), ((13, [u'words', u'Keywords', u'calibration', u'from', u'standards', u'properties', u'geometric', u'reliability', u'steel', u'resistance', u'in', u'tension', u'resistance', u'the', u'flexing']), [u'key', u'words', u'code', u'calibration', u'geometric', u'properties', u'reliability', u'steel', u'tensile', u'strength', u'yield', u'strength']), ((14, [u'by', u'elsewhere', u'the', u'hormones', u'can', u'fire', u'sure', u'of the', u'structures', u'other', u'what', u'the', u'lca']), [u'alternatively', u'hormones', u'may', u'act', u'on', u'structures', u'other', u'then', u'the', u'acl']), ((15, [u'and', u'we', u'Y', u'succeed']), [u'achieve', u'it', u'we', u'will']), ((16, [u'ibid', u'p.', u'198', u'and', u'199']), [u'ibid', u'pp.', u'198', u'and', u'199']), ((17, [u'this', u'perturbation', u'a', u'summer', u'investigated', u'at', u'l&apos', u'aide', u'from', u'the', u'microscopy', u'electronic', u'and', u'after', u'analyses', u'biochemical']), [u'this', u'perturbation', u'was', u'monitored', u'using', u'electron', u'microscopy', u'and', u'biochemical', u'analyses']), ((18, [u'finally', u'the', u'populations', u'ask', u'often', u'the', u'women', u'from', u'present', u'at', u'new', u'the', u'piece']), [u'people', u'often', u'ask', u'the', u'women', u'to', u'do', u'the', u'play', u'again']), ((19, [u'Mrs', u'liz-anne', u'gillham-eisen', u'context']), [u'ms.', u'liz', u'anne', u'gillham-eisen', u'context']), ((20, [u'launching', u'from', u'l&apos', u'year', u'international', u'from', u'l&apos', u'water', u'fresh', u'2003']), [u'launch', u'of', u'the', u'international', u'year', u'of', u'freshwater', u'2003']), ((21, [u'in', u'definitive', u'all', u'the', u'classes', u'after', u'assets', u'have', u'summer', u'affected', u'actions', u'obligations', u'and', u'currencies']), [u'in', u'the', u'end', u'all', u'emerging', u'market', u'asset', u'classes', u'were', u'hit', u'stocks', u'bonds', u'and', u'currencies']), ((22, [u'1999.', u'www.psephisma.org', u'8080', u'/', u'site', u'/', u'index.xsp', u'ricay', u'agustin']), [u'washington', u'dc']), ((23, [u'this', u'affirmation', u'must', u'be', u'returned', u'in', u'l&apos', u'empire', u'of', u'journalism', u'creative', u':']), [u'this', u'allegation', u'must', u'be', u'consigned', u'to', u'the', u'domain', u'of', u'creative', u'journalism', u':']), ((24, [u'english', u'version', u'available']), [u'version', u'fran\\xe7aise', u'disponible']), ((25, [u'&quot', u'the', u'government', u'must', u'take', u'conscience', u'from', u'this', u'what', u'it', u'involved']), [u'&quot', u'government', u'needs', u'to', u'realize', u'what', u'is', u'underlying', u'this']), ((26, [u'this', u'who', u'Explain', u'Why', u'the', u'a', u'fact', u'this', u'that after', u'the', u'needed']), [u'which', u'is', u'why', u'he', u'has', u'done', u'all', u'right']), ((27, [u'25', u'February', u'2010', u'-', u'planetsolar', u'unveiled', u':']), [u'25th', u'february', u'2010', u'-', u'planetsolar', u'has', u'been', u'unveiled', u':']), ((28, [u'r', u'&apos', u'f', u'&apos', u'ences', u'selected', u'in', u'1.', u'from', u'villiers', u'e-m', u'wagner', u'd', u'schneider', u'a', u'and', u'al']), [u'selected', u'references', u'1.', u'de', u'villiers', u'e-m', u'wagner', u'd', u'schneider', u'a', u'et', u'al']), ((29, [u'It is', u'me', u'welcome', u'so', u'of', u'change', u'from', u'sentiments', u'from', u'm.', u'the', u'pen']), [u'so', u'i', u'welcome', u'mr', u'le', u'pen', u'&aposs', u'change', u'of', u'heart']), ((30, [u'communications', u'and', u'relations', u'public']), [u'communications', u'&amp', u'public', u'relations']), ((31, [u'the', u'n&apos', u'East', u'not', u'true', u'what', u'600', u'members', u'of', u'falun', u'palace', u'have', u'summer', u'arrested']), [u'it', u'is', u'untrue', u'that', u'600', u'falun', u'gong', u'members', u'were', u'arrested']), ((32, [u'sainsbury', u'offer', u'plus', u'from', u'1', u'300', u'products', u'biological']), [u'sainsbury', u'offers', u'more', u'than', u'1300', u'organic', u'products']), ((33, [u'discover', u'of the', u'receipts', u'original', u'and', u'full', u'from', u'flavors']), [u'discover', u'original', u'recipes', u'and', u'plenty', u'of', u'flavours']), ((34, [u'the', u'occupied', u'now', u'son', u'post', u'current', u'from', u'director', u'from', u'region', u'since', u'1995']), [u'he', u'has', u'served', u'in', u'his', u'current', u'position', u'of', u'regional', u'director', u'since', u'1995']), ((35, [u'c-ac-96-85f', u'mifflin', u'restores', u'the', u'facts', u'the', u'subject', u'of the', u'fishermen', u'from', u'lobster', u'the', u'25', u'October', u'1996']), [u'nr-hq-96-85e', u'mifflin', u'sets', u'the', u'record', u'straight', u'on', u'lobster', u'fishers', u'october', u'25', u'1996']), ((36, [u'the', u'plus', u'notable', u'East', u'the', u'lac', u'victoria', u'in', u'the', u'South']), [u'the', u'most', u'notable', u'is', u'lake', u'victoria', u'in', u'the', u'south']), ((37, [u'in', u'outraged', u'from', u'new', u'lenders', u'font', u'their', u'Entrance', u'sure', u'the', u'market']), [u'new', u'lenders', u'are', u'also', u'entering', u'the', u'marketplace']), ((38, [u'petite', u'history', u'international', u'of the', u'missions', u'towards', u'mars']), [u'past', u'missions', u'to', u'mars']), ((39, [u'concession', u'after', u'arms', u'and', u'from', u'supports', u'at', u'the', u'royal', u'roads', u'university', u'victoria', u'British Columbia', u'the', u'24', u'mars', u'1998']), [u'grant', u'of', u'arms', u'and', u'supporters', u'to', u'royal', u'roads', u'university', u'victoria', u'british', u'columbia', u'march', u'24', u'1998']), ((40, [u'these', u'interviews', u'codified', u'aim', u'at', u'to define', u'a', u'contract', u'between', u'the', u'employees', u'and', u'their', u'higher']), [u'annual', u'and', u'formalised', u'interviews', u'aim', u'at', u'a', u'contract', u'between', u'staff', u'members', u'and', u'their', u'superiors']), ((41, [u'the', u'described', u'faithfully', u'the', u'plans', u'and', u'the', u'priorities', u'from', u'l&apos', u'organisation']), [u'it', u'accurately', u'portrays', u'the', u'agency', u'&aposs', u'plans', u'and', u'priorities']), ((42, [u'Home', u'&gt', u'l&apos', u'encyclopedia', u'Canadian', u'&gt', u'biography', u'&gt', u'dramaturges', u'&gt', u'deverell', u'rex', u'for', u'to print']), [u'home', u'&gt', u'the', u'canadian', u'encyclopedia', u'&gt', u'biography', u'&gt', u'playwrights', u'&gt', u'deverell', u'rex', u'print', u'version']), ((43, [u'the', u'mostly', u'of the', u'savings', u'Scandinavian', u'rely', u'mostly', u'sure', u'the', u'commerce']), [u'most', u'scandinavian', u'economies', u'are', u'heavily', u'reliant', u'on', u'trade']), ((44, [u'the', u'pays', u'who', u'followed', u'the', u'advice', u'of', u'imf', u'born', u's&apos', u'in', u'out', u'never', u'also', u'good']), [u'countries', u'that', u'relied', u'on', u'imf', u'advice', u'fared', u'far', u'less', u'well']), ((45, [u'a', u'fine', u'layer', u'from', u'metal', u'or', u'from', u'plastic', u'can', u'block', u'the', u'radiation', u'beta']), [u'thin', u'sheets', u'of', u'metal', u'or', u'plastic', u'may', u'stop', u'beta', u'particles']), ((46, [u'this', u'redundancy', u'aide', u'at', u'minimize', u'the', u'time', u'after', u'stop']), [u'this', u'reduncency', u'minimizes', u'the', u'amount', u'of', u'downtime']), ((47, [u'the', u'ready', u'mortgage', u'East', u'very', u'limit']), [u'mortgage', u'lending', u'is', u'very', u'limited']), ((48, [u'and', u'you', u'want', u'you', u'inscribe', u'at', u'a', u'course', u'thank you', u'from', u'fill', u'the', u'form', u'after', u'inscription', u'below']), [u'if', u'you', u'wish', u'to', u'enroll', u'for', u'a', u'course', u'please', u'complete', u'the', u'enrollment', u'form', u'below']), ((49, [u'the', u'halyards', u'strained', u'tremble', u'slightly', u'and', u'the', u'pavillon', u'slap']), [u'pennant', u'extends', u'and', u'flaps']), ((50, [u'hand', u'c.m.', u'g.d.', u'workman', u'L. J.', u'richards', u'r.', u'kieser', u'and', u'r.i.', u'perry']), [u'hand', u'c.m.', u'g.d.', u'workman', u'l.j.', u'richards', u'r.', u'kieser', u'and', u'r.i.', u'perry']), ((51, [u'the', u'advice', u'would have', u'could', u'fire', u'with', u'determination', u'for', u'make', u'moving forward', u'the', u'process', u'from', u'peace']), [u'the', u'council', u'could', u'have', u'acted', u'decisively', u'to', u'nudge', u'the', u'peace', u'process', u'forward']), ((52, [u'this', u'analysis', u'recommended', u'also', u'from', u'extend', u'the', u'duration', u'of', u'protocol', u'from', u'five', u'or', u'six', u'years']), [u'the', u'analysis', u'also', u'recommends', u'extending', u'the', u'duration', u'of', u'the', u'protocols', u'to', u'five', u'or', u'six', u'years']), ((53, [u'Contents', u'dredged', u'composed', u'from', u'roche', u'shot']), [u'dredged', u'material', u'consisting', u'of', u'blasted', u'rock']), ((54, [u'from', u'recent', u'statements', u'make', u'by', u'the', u'leader', u'of', u'hamas', u'Palestinian', u'the', u'confirm']), [u'recent', u'statements', u'made', u'by', u'the', u'hamas', u'palestinian', u'leadership', u'tell', u'us', u'that', u'much']), ((55, [u'Annex', u'like']), [u'annex', u'xi']), ((56, [u'the', u'attacks', u'terrorists', u'of', u'11', u'September', u'stay', u'at', u'never', u'engraved', u'in', u'we', u'memoirs']), [u'the', u'terrorist', u'attacks', u'of', u'11', u'september', u'will', u'forever', u'remain', u'etched', u'in', u'our', u'memory']), ((57, [u'many', u'neurones', u'unidentified', u'are', u'excited', u'by', u'all', u'these', u'peptides']), [u'many', u'nonidentified', u'neurons', u'were', u'excited', u'by', u'all', u'of', u'these', u'peptides']), ((58, [u'the', u'citizens', u'from', u'pays', u'tiers', u'are', u'supposed', u'be', u'transferred', u'sure', u'the', u'base', u'naval', u'from', u'guant\\xe1namo', u'bay']), [u'nationals', u'of', u'third', u'countries', u'are', u'allegedly', u'transferred', u'to', u'guant\\xe1namo', u'bay', u'naval', u'base']), ((59, [u'm.', u'raymond', u'leigh', u'mills']), [u'mr.', u'raymond', u'leigh', u'mills']), ((60, [u'the', u'figure', u'6-1', u'trained', u'a', u'example', u'after', u'a', u'report', u'daily', u'class', u'by', u'category']), [u'figure', u'6-1', u'shows', u'an', u'example', u'of', u'a', u'daily', u'category', u'report']), ((61, [u'taker', u'from', u'licence', u'and', u'who', u'not allowed', u'the', u'holder', u'or', u'at', u'all', u'other', u'no one', u'after', u'use', u'the', u'Mark']), [u'and', u'excludes', u'the', u'holder', u'and', u'any', u'other', u'person', u'from', u'using', u'the', u'mark']), ((62, [u'l&apos', u'study', u'a', u'revealed', u'that after', u'the', u'rest', u'after', u'other', u'observations', u'or', u'after', u'other', u'way', u'interesting', u'at', u'explorer']), [u'the', u'study', u'turned', u'up', u'some', u'other', u'interesting', u'observations', u'and', u'avenues', u'for', u'further', u'exploration']), ((63, [u'elaboration', u'or', u'modification', u'from', u'policies']), [u'policy', u'development', u'or', u'modification']), ((64, [u'venus', u'glasses', u'at', u'l&apos', u'East', u'little', u'before', u'l&apos', u'dawn']), [u'venus', u'dominates', u'the', u'eastern', u'sky', u'before', u'dawn']), ((65, [u'a', u'professor', u'm.', u'and', u'pedersen', u'their', u'a', u'so', u'request', u'from', u'go']), [u'while', u'they', u'were', u'waiting', u'a', u'teacher', u'mr.', u'k.p.', u'asked', u'them', u'to', u'leave']), ((66, [u'after', u'East', u'Why', u'the', u'commission', u'propose', u'after', u'to integrate', u'the', u'operators', u'after', u'aircraft', u'in', u'l&apos', u'ets']), [u'for', u'that', u'reason', u'the', u'commission', u'proposes', u'including', u'aircraft', u'operators', u'in', u'the', u'ets']), ((67, [u'1', u'00000', u'Bad day', u'martha', u'j.', u'1', u'00000', u'fernando', u'Velocci', u'1', u'00000', u'flagship', u'capital', u'partners', u'inc']), [u'1000.00', u'durdin', u'martha', u'j.', u'1000.00', u'fernando', u'velocci', u'1000.00', u'flagship', u'capital', u'partners', u'inc']), ((68, [u'after', u'East', u'this', u'anarchy', u'in', u'the', u'pillage', u'who', u'gene', u'the', u'rapporteur']), [u'it', u'is', u'this', u'anarchy', u'in', u'the', u'plundering', u'that', u'bothers', u'the', u'rapporteur']), ((69, [u'finished', u'the', u'excuses']), [u'no', u'more', u'excuses']), ((70, [u'position', u'from', u'departure', u'the', u'good', u'alignment', u'from', u'all', u'the', u'articulations']), [u'neutral', u'standing', u'posture']), ((71, [u'she', u'diffuse', u'sure', u'internet', u'in', u'son', u'site', u'in', u'line', u'the', u'r\\xe9sum\\xe9s', u'from', u'his', u'productions', u'and', u'from', u'his', u'activities']), [u'on', u'its', u'website', u'it', u'circulates', u'internet', u'summaries', u'of', u'its', u'production', u'and', u'activities']), ((72, [u'l&apos', u'uruguay', u'pays', u'the', u'plus', u'touch', u'a', u'checked in', u'a', u'drop', u'higher', u'at', u'10', u'%']), [u'uruguay', u'which', u'was', u'hit', u'the', u'hardest', u'posted', u'a', u'double-digit', u'drop']), ((73, [u'\\u2022', u'from', u'7', u'h', u'30', u'at', u'19', u'h', u'30', u'in', u'the', u'spindle', u'schedule', u'of the', u'rock']), [u'british', u'columbia', u'makes', u'no', u'provision', u'for', u'a', u'tie', u'after', u'a', u'recount']), ((74, [u'of the', u'reforms', u'for', u'defuse', u'the', u'crisis', u'are', u'required']), [u'reforms', u'to', u'defuse', u'the', u'crisis', u'are', u'needed']), ((75, [u'from', u'the', u'reception', u'from', u'the', u'order', u'the', u'client', u'East', u'at once', u'price', u'in', u'charge']), [u'customers', u'always', u'get', u'our', u'full', u'attention', u'the', u'moment', u'an', u'order', u'is', u'placed']), ((76, [u'measurement', u'and', u'possible', u'adverse', u'effects', u'&quot', u'hhs', u'publication', u'fda', u'81-8163', u'May', u'1981']), [u'measurement', u'and', u'possible', u'adverse', u'effects', u'&quot', u'hhs', u'publication', u'fda', u'81-8163', u'may', u'1981']), ((77, [u'a', u'album', u'dance-jazz', u'from', u'quality', u'who', u'approach', u'from', u'way', u'inattandue', u'of the', u'beats', u'hip', u'hop']), [u'the', u'prime', u'example', u'of', u'90', u'&quot', u's', u'jazz', u'with', u'some', u'really', u'tough', u'vocals', u'cuts']), ((78, [u'making', u'evidence', u'from', u'a lot', u'from', u'foresight', u'the', u'colonel', u'by', u'providence', u'boldly', u'a', u'system', u'after', u'locks', u'a lot', u'plus', u'big']), [u'with', u'considerable', u'foresight', u'colonel', u'by', u'boldly', u'advocated', u'a', u'system', u'of', u'much', u'larger', u'locks']), ((79, [u'from', u'new', u'methods', u'can', u'be', u'available', u'suite', u'at', u'the', u'publication', u'from', u'this', u'document']), [u'new', u'methods', u'may', u'become', u'available', u'after', u'publication', u'of', u'this', u'document']), ((80, [u'at', u' ', u'O', u'porno', u'and', u'blondes', u'hard', u':', u'so', u'the', u'Test', u'saddle', u'capacity', u'at', u'all', u'make']), [u'after', u'he', u'has', u'finished', u'screwing', u'her', u'anus', u'he', u'fills', u'her', u'mouth', u'with', u'cum']), ((81, [u'all', u'it', u'we', u'a', u'allowed', u'from', u'manage', u'l&apos', u'aspect', u'policy', u'of', u'process']), [u'that', u'made', u'the', u'politics', u'manageable']), ((82, [u'campbell', u'j.', u'Y.', u'and', u'p.', u'perron', u'1991']), [u'princeton', u'n.j.']), ((83, [u'lane', u'environment', u'contact', u'after', u'business']), [u'lane', u'environment', u'contact']), ((84, [u'\\u2022', u'of the', u'boards', u'or', u'of the', u'pages', u'web', u'interactives']), [u'\\u2022', u'video', u'conferencing', u'hall', u'wendell', u'&amp', u'tidwell', u'2003']), ((85, [u'modifications', u'in', u'waiting', u'after', u'authorization', u'finale']), [u'these', u'amendments', u'are', u'awaiting', u'final', u'approval']), ((86, [u'in', u'October', u'2004', u'the', u'therapist', u'was', u'supervised', u'sure', u'the', u'plan', u'clinique', u'by', u'tony', u'martens']), [u'as', u'of', u'october', u'2004', u'the', u'therapist', u'was', u'clinically', u'supervised', u'by', u'tony', u'martens']), ((87, [u'Yes', u'It is', u'n', u'&quot', u'was', u'not', u'again', u'authorized', u'at', u'come', u'right here']), [u'yeah', u'i', u'wasn', u'&apost', u'qualified', u'yet', u'to', u'come', u'here']), ((88, [u'differences', u'national', u'and', u'international']), [u'national', u'and', u'transnational', u'differences']), ((89, [u'animals', u'from', u'company', u'autoris\\xe9s.restaurant', u'accessible', u'in', u'armchair', u'rolling']), [u'free', u'car', u'parking', u'also', u'places', u'for', u'buses']), ((90, [u'illustration']), [u'nations', u'in', u'the', u'news']), ((91, [u'm.', u'sebastian', u'beliwine']), [u'mr.', u'sebastian', u'beliwine']), ((92, [u'\\\\', u'&quot', u'we', u'present', u'we', u'sincerest', u'condolences', u'at', u'loretta', u'at', u'their', u'children', u'and', u'at', u'their', u'grandchildren']), [u'\\\\', u'&quot', u'our', u'sincerest', u'condolences', u'to', u'loretta', u'the', u'children', u'and', u'the', u'grandchildren']), ((93, [u'16', u'gosden', u't', u'torgerson', u'dj', u'maynard', u'a.', u'what', u'is', u'to', u'be', u'done', u'about', u'fundholding', u'?']), [u'gosden', u't', u'torgerson', u'dj', u'maynard', u'a.', u'what', u'is', u'to', u'be', u'done', u'about', u'fundholding', u'?']), ((94, [u'the', u'declaration', u'equivalent', u'at', u'a', u'request', u'concrete', u'after', u'euthanasia']), [u'the', u'declaration', u'has', u'the', u'same', u'status', u'as', u'a', u'concrete', u'request', u'for', u'euthanasia']), ((95, [u'some', u'were', u'crowned', u'from', u'success', u'more', u'the', u'mostly', u'failed']), [u'although', u'initially', u'pushed', u'back', u'the', u'corps', u'did', u'not', u'repeat', u'the', u'mistakes', u'of', u'ypres']), ((96, [u'at', u'who', u's&apos', u'address', u'in', u'case', u'from', u'problem', u'?']), [u'where', u'do', u'i', u'go', u'if', u'i', u'encounter', u'a', u'problem', u'?']), ((97, [u'learning', u'from', u'the', u'suffolk', u'system', u'journal', u'of', u'money', u'credit', u'and', u'banking', u'vol.']), [u'learning', u'from', u'the', u'suffolk', u'system', u'&quot', u'journal', u'of', u'money', u'credit', u'and', u'banking', u'vol']), ((98, [u'cooked', u'saddle', u'chair', u'East', u'after', u'a', u'blanc', u'while', u'skinny', u'without', u'edges', u'puff', u'and', u'fresh', u'the', u'taste']), [u'once', u'cooked', u'the', u'meat', u'is', u'pure', u'white', u'lean', u'boneless', u'and', u'flaky', u'with', u'a', u'mild', u'flavour']), ((99, [u'May', u'adding', u'after', u'a', u'all', u'small', u'clip', u'from', u'the', u'zone', u'polar', u'with', u'from', u'beautiful', u'effects', u'aquatic']), [u'update', u'little', u'&quot', u'polar', u'zone', u'&quot', u'clip', u'added', u'with', u'superb', u'aquatic', u'effects']), ((100, [u'institute', u'of', u'big-dull', u'for', u'the', u'tourism', u'durable']), [u'gros', u'morne', u'institute', u'of', u'sustainable', u'tourism']), ((101, [u'the', u'diet', u'criminal', u'from', u'the', u'family', u'al-assad', u'born', u'must', u'not', u'be', u'reward', u'for', u'son', u'bad', u'behavior']), [u'the', u'al-assad', u'family', u'&aposs', u'criminal', u'regime', u'must', u'not', u'be', u'rewarded', u'for', u'bad', u'behaviour']), ((102, [u'diane', u'carroll', u'Deputy Minister', u'Assistant', u'Associ\\xe9s', u'\\xa9', u'e', u'policies', u'and', u'communications']), [u'diane', u'carroll', u'associate', u'assistant', u'deputy', u'minister', u'policy', u'and', u'communications']), ((103, [u'after', u'East', u'was', u'a', u'other', u'signification', u'from', u'What', u'candidature']), [u'that', u'is', u'another', u'characteristic', u'of', u'my', u'candidacy']), ((104, [u'a lot', u'from', u'we', u'comrades', u'born', u'are', u'never', u'earnings', u'the', u'pays']), [u'&quot', u'a', u'lot', u'of', u'our', u'boys', u'never', u'came', u'home']), ((105, [u'the', u'storms', u'winter', u'lead', u'sometimes', u'from', u'rares', u'birds', u'migratory', u'who', u'have', u'summer', u'deported']), [u'winter', u'storms', u'will', u'occasionally', u'bring', u'sightings', u'of', u'rare', u'migrating', u'birds', u'blown', u'off', u'course']), ((106, [u'advice', u'from', u'l&apos', u'europe', u'strasbourg', u'2002']), [u'hugh', u'starkey', u'the', u'open', u'university', u'milton', u'keynes']), ((107, [u'on', u'vagotomisa', u'a', u'other', u'group', u'from', u'rats-tests', u'and', u'on', u'unnerve', u'their', u'sinus', u'carotidien', u'before', u'l&apos', u'injection', u'after', u'extracts']), [u'another', u'group', u'of', u'assay', u'rats', u'was', u'vagotomized', u'as', u'well', u'as', u'carotid-sinus-denervated', u'before', u'extract', u'injection']), ((108, [u'correa', u'a', u'also', u'fact', u'reference', u'the', u'new', u'treatment', u'medical', u'of', u'President', u'Venezuelan', u'hugo', u'ch\\xe1vez', u'at', u'cuba']), [u'correa', u'also', u'referred', u'to', u'venezuelan', u'president', u'hugo', u'chavez', u'&aposs', u'new', u'health', u'treatment', u'in', u'cuba']), ((109, [u'in', u'reducing', u'the', u'amount', u'you', u'reduce', u'the', u'risks']), [u'less', u'to', u'store', u'means', u'less', u'of', u'a', u'hazard']), ((110, [u'??', u'these', u'two', u'massive', u'are', u'become', u'from', u'real', u'dumps', u':']), [u'&quot', u'both', u'mountains', u'are', u'a', u'mess', u'with', u'trash', u'lying', u'about']), ((111, [u'shopping', u'fenoarivo', u'shoes', u'laced', u'chic', u'for', u'men', u'in', u'spring', u'shoes']), [u'buy', u'fenoarivo', u'sale', u'&aposs', u'men', u'shoes', u'at', u'spring', u'shoes']), ((112, [u'name', u'from', u'l&apos', u'food', u'a', u'a', u'low', u'content', u'in', u'fats', u'saturated', u'and', u'trans']), [u'naming', u'the', u'food', u'is', u'low', u'in', u'saturated', u'and', u'trans', u'fats']), ((113, [u'melik', u'ParSignant', u'st\\xe9phane', u't']), [u'cairney', u'john', u'/', u'cheung', u'amy', u'h', u'/', u'kurdyak', u'paul', u'a', u'/', u'levitt', u'anthony', u'j']), ((114, [u'the', u'tissues', u'leaf', u'are', u'from', u'color', u'dark', u'and', u'hollowed']), [u'leaf', u'tissue', u'darkens', u'and', u'collapses']), ((115, [u'you', u'must', u'buy', u'a', u'key', u'usb', u'available', u'in', u'the', u'commerce']), [u'you', u'need', u'to', u'purchase', u'a', u'commercially', u'available', u'usb', u'device']), ((116, [u'is he', u'possible', u'that after', u'a', u'wife', u'pregnant', u'transmit', u'the', u'virus', u'of', u'nil', u'occidental', u'at', u'son', u'child', u'at', u'be born', u'?']), [u'can', u'a', u'pregnant', u'woman', u'pass', u'west', u'nile', u'virus', u'to', u'her', u'unborn', u'baby', u'?']), ((117, [u'tty', u'preferred', u'term', u'teletype', u'tdd', u'telecommunications', u'device', u'for', u'the', u'deaf', u'native', u'huh.']), [u'appointments', u'file', u'fichier', u'des', u'nominations', u'n.m.']), ((118, [u'the', u'judge', u'gibson', u'n&apos', u'a', u'found', u'no', u'other', u'conflict', u'relatively', u'the', u'other', u'questions', u'presented', u'in front of', u'his']), [u'judge', u'gibson', u'found', u'no', u'conflict', u'on', u'any', u'of', u'the', u'other', u'points', u'at', u'issue']), ((119, [u'guerin', u'm.r.', u'r.a.', u'jenkins', u'and', u'b.a.', u'tomkins']), [u'guerin', u'm.r.', u'r.a.', u'jenkins', u'and', u'b.a.', u'tomkins']), ((120, [u'&quot', u'all', u'the', u'people', u'who', u'hear', u'speak', u'from', u'the', u'hiking', u'wish', u'Y', u'participate', u'precise', u'the', u'police officer', u'beauvais']), [u'&quot', u'everybody', u'we', u'speak', u'to', u'about', u'the', u'event', u'jumps', u'on', u'board', u'&quot', u'said', u'const']), ((121, [u'jekanowslci', u'm.', u'ct', u'j.', u'it was ok']), [u'cambridge', u'mit', u'press']), ((122, [u'measures', u'preventive']), [u'preventive', u'measures']), ((123, [u'the', u'travelers', u'are', u'subject', u'the', u'system', u'judicial', u'of', u'pays', u'in', u'which', u'they', u'stay']), [u'someone', u'who', u'is', u'high', u'can', u'easily', u'be', u'attacked', u'robbed', u'or', u'sexually', u'assaulted']), ((124, [u'a', u'democracy', u'dangerous', u'the', u'East', u'dangerous', u'from', u'criticize', u'the', u'democracy', u'says', u'the', u'advertiser', u'ansgar', u'Long']), [u'dangerous', u'democracy', u'criticizing', u'democracy', u'can', u'be', u'very', u'dangerous', u'says', u'publicist', u'ansgar', u'lange']), ((125, [u'the', u'development', u'and', u'the', u'preservation', u'from', u'we', u'means', u'from', u'subsistence', u'require', u'of the', u'solutions', u'durables']), [u'development', u'and', u'the', u'preservation', u'of', u'our', u'livelihoods', u'require', u'sustainable', u'solutions']), ((126, [u'millennium', u'environmental', u'n', u'\\xb0', u'4', u'-', u'risk', u'management', u'people', u'maria', u'noel', u'estrada', u'ortiz']), [u'milenio', u'ambiental', u'n', u'\\xb0', u'4', u'-', u'risk', u'management', u'people', u'maria', u'noel', u'estrada', u'ortiz']), ((127, [u'the', u'degree', u'from', u'precision', u'East', u'acceptable', u'in', u'the', u'book', u'd', u'&quot', u'establishment', u'of the', u'price', u'from', u'come back']), [u'acceptable', u'level', u'of', u'accuracy', u'in', u'costing', u'records', u'maintained']), ((128, [u'this', u'reasoning', u'worth', u'also', u'in', u'big', u'part', u'for', u'l&apos', u'accusation', u'relative', u'at', u'a', u'manipulation', u'of the', u'items', u'from', u'evidence']), [u'these', u'allegations', u'were', u'based', u'on', u'the', u'following', u'claims', u'made', u'by', u'the', u'complainant']), ((129, [u'the', u'plan', u'East', u'structure', u'around', u'from', u'three', u'themes', u'strategic', u'at', u'know', u'the', u'research', u'the', u'formation', u'and', u'l&apos', u'information']), [u'the', u'plan', u'revolved', u'around', u'three', u'strategic', u'areas', u'namely', u'research', u'training', u'and', u'information']), ((130, [u'after', u'East', u'the', u'first', u'time', u'what', u'the', u'theme', u'from', u'star', u'trek', u'a', u'summer', u'play', u'so']), [u'this', u'sign', u'was', u'later', u'placed', u'next', u'to', u'the', u'jefferies', u'tube', u'in', u'season', u'two']), ((131, [u'm.', u'felipe', u'calder\\xf3n', u'who', u'succeeds', u'at', u'm.', u'vicente', u'fox', u'exercise', u'a', u'mandate', u'unique', u'from', u'six', u'years']), [u'felipe', u'calder\\xf3n', u'will', u'serve', u'for', u'a', u'single', u'six-year', u'term', u'succeeding', u'president', u'vicente', u'fox']), ((132, [u'\\u2022', u'teacher', u'constantin', u'chef', u'after', u'unit']), [u'\\u2022', u'daskalakis', u'constantin', u'head', u'of', u'unit']), ((133, [u'two', u'rules', u'empirical', u'have', u'summer', u'used', u'at', u'tour', u'from', u'role', u'for', u'validate', u'this', u'postulate', u'1']), [u'alternatively', u'two', u'rules', u'of', u'thumb', u'were', u'used', u'to', u'validate', u'this', u'assumption', u'1']), ((134, [u'after', u'after', u'the', u'analysts', u'l&apos', u'economy', u'World', u'n&apos', u'would have', u'not', u'again', u'touch', u'the', u'fond']), [u'according', u'to', u'analysts', u'the', u'global', u'economic', u'downturn', u'has', u'not', u'yet', u'reached', u'bottom']), ((135, [u'booking.com', u'art', u'deco', u'hotel', u'montana', u'lucerne', u'suisse', u'-', u'41', u'comments', u'clients']), [u'booking.com', u'art', u'deco', u'hotel', u'montana', u'lucerne', u'switzerland', u'-', u'42', u'guest', u'reviews']), ((136, [u'cut', u'rolls', u'horizontally', u'again', u'wrapped', u'in', u'of', u'plastic', u'formant', u'pivots']), [u'cut', u'rolls', u'horizontally', u'still', u'wrapped', u'in', u'plastic', u'forming', u'of', u'the', u'walker']), ((137, [u'exposition']), [u'exhibit']), ((138, [u'line', u'312', u'-', u'the', u'production', u'is she', u'a', u'coproduction', u'expected', u'by', u'a', u'accord', u'?']), [u'business', u'number', u'enter', u'the', u'business', u'number', u'of', u'the', u'qc']), ((139, [u'm.', u'embleton', u'East', u'came', u'and', u'a', u'got out', u'the', u'pelures', u'from', u'apples', u'from', u'terre']), [u'mr.', u'embleton', u'came', u'in', u'and', u'took', u'out', u'the', u'potato', u'peelings']), ((140, [u'the', u'leaders', u'from', u'unions', u'should', u'HE', u'learn', u'with', u'the', u'world', u'from', u'the', u'finance', u'rather', u'what', u'from', u'the', u'condemn']), [u'union', u'leaders', u'must', u'study', u'finance', u'rather', u'than', u'condemn', u'it', u'as', u'evil']), ((141, [u'dre', u'sarah', u'stobo', u'prichard', u'Professor', u'university', u'mcgill']), [u'dr.', u'stephanie', u'atkinson', u'professor', u'mcmaster', u'university']), ((142, [u'the', u'barrage', u'from', u'montreuil']), [u'citing', u'online', u'sources', u'advice', u'on', u'online', u'citation', u'formats', u'&#91', u'online', u'&#93']), ((143, [u'kodjovi', u'East', u'falls', u'and', u'they', u'have', u'play', u'with', u'his', u'as', u'a', u'ballon']), [u'two', u'soldiers', u'wearing', u'red', u'berets', u'hit', u'people', u'with', u'their', u'truncheons']), ((144, [u'the', u'East', u'time', u'from', u'to put', u'the', u'things', u'the', u'clair']), [u'it', u'&aposs', u'time', u'to', u'set', u'the', u'record', u'straight']), ((145, [u'criterion', u'after', u'origin', u'read', u'the', u'instructions', u'who', u'follow', u'9']), [u'origin', u'criterion', u'see', u'the', u'instruction', u'that', u'follow', u'9']), ((146, [u'more', u'on', u'born', u'you can', u'not', u'very', u'good', u'Why', u'after', u'East', u'the', u'fsb', u'who', u'should', u'think', u'this', u'process']), [u'but', u'why', u'the', u'fsb', u'should', u'head', u'up', u'this', u'process', u'is', u'far', u'from', u'clear']), ((147, [u'modifier', u'as', u'suit', u'the', u'two', u'first', u'phrases', u'of', u'paragraph', u'2.4.2.3.2.2']), [u'amend', u'the', u'first', u'two', u'sentences', u'of', u'2.4.2.3.2.2', u'to', u'read']), ((148, [u'in', u'fact', u'the', u'song', u's&apos', u'inserts', u'good', u'in', u'What', u'presentation']), [u'it', u'works', u'in', u'my', u'presentation', u'pretty', u'good', u'actually']), ((149, [u'loiselle', u'represented', u'the', u'patron', u'from', u'the', u'Party', u'st', u'Jean Baptiste']), [u'loiselle', u'represented', u'the', u'patron', u'saint', u'of', u'the', u'celebration', u'st.', u'jean-baptiste']), ((150, [u'\\u2022', u'comment', u'invite', u'the', u'Governor', u'General', u'at', u'your', u'activity']), [u'\\u2022', u'inviting', u'the', u'governor', u'general', u'to', u'your', u'event']), ((151, [u'education', u'relative', u'the', u'job', u'from', u'parent', u'and', u'aide', u'domestic']), [u'parenting', u'education', u'and', u'family', u'support']), ((152, [u'citybug', u'assists', u'perhaps', u'at', u'rodrigo', u'Y', u'gabriela', u'at', u'radio', u'city', u'music', u'hall']), [u'hello', u'_', u'didi', u'is', u'attending', u'show', u'da', u'virada', u'at', u'radio', u'city', u'music', u'hall']), ((153, [u'&quot', u'now', u'what', u'j & apos', u'to', u'in use', u'your', u'site', u'web', u'It is', u'foresee', u'Y', u'to have', u'recourse', u'plus', u'often']), [u'&quot', u'now', u'that', u'i', u'have', u'used', u'your', u'web', u'site', u'i', u'plan', u'to', u'use', u'it', u'more']), ((154, [u'l&apos', u'intensity', u'relatively', u'low', u'from', u'these', u'rainfall', u'East', u'compensated', u'by', u'their', u'persistence']), [u'what', u'these', u'storms', u'lack', u'in', u'rainfall', u'intensity', u'they', u'make', u'up', u'in', u'storm', u'duration']), ((155, [u'.', u'radio canada', u'HE', u'prepare', u'at', u'attack', u'the', u'subtitles']), [u'.', u'cbc', u'plans', u'attack', u'on', u'captioning']), ((156, [u'l', u'&quot', u'eternal', u'inflation', u'Russian', u'by', u'brigitte', u'granville', u'brigitte', u'granville']), [u'russia', u'&aposs', u'eternal', u'inflation', u'by', u'brigitte', u'granville', u'brigitte', u'granville']), ((157, [u'j & apos', u'to', u'it', u'pendant', u'all', u'What', u'life', u'EXCEPT', u'when', u'j', u'&quot', u'was', u'in', u'prison']), [u'i', u'drank', u'for', u'all', u'of', u'my', u'life', u'except', u'when', u'i', u'was', u'in', u'jail']), ((158, [u're', u'complaint', u'trademark', u'by', u'ibm', u'canada', u'lt\\xe9e', u'5', u'November', u'1999', u'pr-99-020', u'tce', u'&#91', u'ibm', u'&#93', u'at', u'the', u'p.']), [u're', u'complaint', u'filed', u'by', u'ibm', u'canada', u'ltd']), ((159, [u'after', u'other', u'avow', u'what', u'their', u'parents', u'were', u'the', u'taken', u'with', u'of the', u'problems', u'from', u'disease', u'mental', u'and', u'from', u'substance addiction']), [u'others', u'said', u'their', u'parents', u'had', u'problems', u'such', u'as', u'mental', u'illness', u'and', u'substance', u'abuse']), ((160, [u'the', u'farmers', u'local', u'were', u'surely', u'contents']), [u'i', u'&aposm', u'sure', u'the', u'local', u'farmers', u'will', u'be', u'happy']), ((161, [u'&quot', u'j & apos', u'love', u'the', u'job', u'what', u'we', u'accomplish', u'at', u'the', u'SRSA']), [u'&quot', u'i', u'love', u'the', u'work', u'we', u'do', u'at', u'srdc']), ((162, [u'bel', u'apartment', u'entirely', u'renovated', u'in', u'a', u'style', u'modern']), [u'one', u'bedroom', u'apartment', u'in', u'the', u'charming', u'little', u'streets', u'of', u'the', u'rock']), ((163, [u'\\u2022', u't5018', u'state', u'of the', u'payments', u'contractual']), [u'\\u2022', u't5018', u'slip', u'statement', u'of', u'contract', u'payments']), ((164, [u'for', u'l&apos', u'aviation', u'commercial', u'and', u'after', u'business']), [u'for', u'commercial', u'and', u'business', u'aviation']), ((165, [u'\\u2022', u'rather', u'ambitious', u'with', u'from', u'strong', u'trends', u'at', u'lead']), [u'\\u2022', u'quite', u'ambitious', u'with', u'strong', u'leadership', u'tendencies']), ((166, [u'the', u'aides', u'functional', u'at', u'your', u'service', u':']), [u'promising', u'pathways']), ((167, [u'1.2.23', u'settlement', u'no', u'87', u'fires', u'from', u'circulation', u'daily', u'117']), [u'devices', u'on', u'tractors', u'-', u'supplement', u'2', u'116']), ((168, [u'site', u'web', u'www.act-nl.ca', u'www.speakupnow.ca', u'contacts']), [u'phase', u'one', u'of', u'the', u'project', u'featured', u'two', u'ads']), ((169, [u'alberta', u'app.', u'ant', u'appellation', u'previous', u'&#91', u'can', u'&#93', u'canada', u'c.-b.']), [u'manitoba', u'n', u'noun', u'n.b.']), ((170, [u'and', u'these', u'questions', u'born', u'are', u'not', u'adjusted', u'from', u'way', u'specific', u'a', u'rule', u'implicit', u'could', u'be', u'deducted']), [u'if', u'these', u'issues', u'are', u'not', u'dealt', u'with', u'specifically', u'an', u'implicit', u'rule', u'might', u'be', u'drawn']), ((171, [u'the', u'users', u'from', u'superh', u'can', u'from now on', u'use', u'n&apos', u'imported', u'that', u'core', u'recent', u'without', u'corrective', u'additional']), [u'superh', u'users', u'can', u'now', u'run', u'any', u'recent', u'kernel', u'with', u'no', u'need', u'for', u'extra', u'patches']), ((172, [u'summary', u'established', u'by', u'this', u'beaumont']), [u'abstract', u'prepared', u'by', u'ben', u'beaumont']), ((173, [u'or', u'buy', u'the', u'&quot', u'guide', u'from', u'l&apos', u'auto', u'&quot', u'from', u'1990', u'a', u'1998', u'?']), [u'1992', u'buick', u'regal', u'limited', u'-', u'current', u'value', u'?']), ((174, [u'the', u'ratio', u'after', u'ebitda', u'reported', u'the', u'figure', u'after', u'business', u'achieved', u'106', u'%', u'in', u'2008']), [u'the', u'group', u'&aposs', u'ebitda', u'margin', u'was', u'10.6', u'%', u'in', u'2008']), ((175, [u'these', u'hotels', u'have', u'a', u'capacity', u'total', u'after', u'about', u'240', u'000', u'beds']), [u'these', u'hotels', u'have', u'a', u'total', u'capacity', u'of', u'approximately', u'240', u'000', u'beds']), ((176, [u'jhangi', u'syedan', u'abbottabad', u'pakistan', u'name', u'from', u'l&apos', u'observer', u'accredited', u'having', u'designed', u'the', u'candidate']), [u'jhangi', u'syedan', u'abbottabad', u'pakistan', u'name', u'of', u'the', u'accredited', u'observer', u'which', u'nomintates', u'the', u'candidate']), ((177, [u'a', u'guide', u'to', u'the', u'birds', u'of', u'mexico', u'and', u'northern', u'central', u'america']), [u'yellow', u'rail', u'again', u'found', u'in', u'becker', u'county', u'minnesota']), ((178, [u'after', u'l&apos', u'to have', u'deposit', u'sure', u'a', u'litter', u'they', u'l&apos', u'have', u'transported', u'up & apos', u'at', u'l&apos', u'helicopter']), [u'after', u'placing', u'him', u'on', u'a', u'stretcher', u'they', u'carried', u'him', u'back', u'to', u'the', u'waiting', u'helicopter']), ((179, [u'the', u'ceiling', u'was', u'low', u'and', u'the', u'maneuvers', u'were', u'difficult', u'for', u'the', u'pilot']), [u'our', u'ceiling', u'was', u'low', u'and', u'it', u'was', u'touch', u'and', u'go', u'getting', u'him', u'out', u'by', u'chopper']), ((180, [u'in', u'the', u'category', u'of', u'muesli', u'l&apos', u'offer', u'comprises', u'typically', u'a', u'Mark', u'House', u'and', u'many', u'other', u'brands']), [u'in', u'mueslis', u'the', u'offer', u'typically', u'incorporates', u'a', u'house', u'brand', u'and', u'several', u'other', u'museli', u'brands']), ((181, [u'less', u'from', u'1', u'%', u'of the', u'deliveries', u'HE', u'font', u'by', u'caesarean']), [u'less', u'than', u'1', u'per', u'cent', u'of', u'deliveries', u'are', u'by', u'caesarean', u'section']), ((182, [u'tim', u'guimond', u'park', u'view', u'education', u'centre', u'bridgewater', u'new', u'Scotland']), [u'tim', u'guimond', u'park', u'view', u'education', u'centre', u'bridgewater', u'nova', u'scotia']), ((183, [u'done', u'of the', u'call', u'unlimited', u'the', u'United States', u'and', u'towards', u'l&apos', u'international']), [u'place', u'unlimited', u'calls', u'to', u'usa', u'and', u'overseas']), ((184, [u'28', u'June', u'2005', u'team', u'canada', u'Atlantic', u'ready', u'at', u'return', u'at', u'chicago', u'halifax', u'new Scotland']), [u'28', u'june', u'2005', u'team', u'canada', u'atlantic', u'set', u'to', u'return', u'to', u'chicago', u'halifax', u'nova', u'scotia']), ((185, [u'pause', u'this', u'button', u'will', u'breaks', u'the', u'music', u'what', u'you', u'were', u'in', u'train', u'after', u'listen']), [u'pause', u'tap', u'this', u'button', u'to', u'pause', u'the', u'music', u'tap', u'again', u'to', u'resume']), ((186, [u'&quot', u'for', u'm.', u'chr\\xe9tien', u'it', u'means e', u'that after', u'the', u'must', u'be', u'&quot', u'a', u'little', u'plus', u'bold']), [u'for', u'mr.', u'chr\\xe9tien', u'being', u'an', u'ambassador', u'meant', u'&quot', u'being', u'a', u'bit', u'more', u'daring']), ((187, [u'l&apos', u'learning', u'HE', u'place', u'in', u'two', u'variants-a', u'the', u'variant', u'c.']), [u'learning', u'takes', u'place', u'in', u'two', u'variants-a', u'-c', u'variant']), ((188, [u'without', u'make', u'It is', u'born', u'thought', u'not', u'what', u'we', u'would', u'known', u'a', u'growth', u'also', u'lightning']), [u'without', u'fcc', u'i', u'don', u'&apost', u'think', u'we', u'could', u'have', u'grown', u'so', u'big', u'so', u'quickly']), ((189, [u'after', u'East', u'really', u'pity']), [u'and', u'that', u'is', u'a', u'real', u'shame']), ((190, [u'the', u'children', u'disabled', u'are', u'often', u'ignored', u'by', u'the', u'system', u'school']), [u'children', u'with', u'disabilities', u'are', u'often', u'neglected', u'by', u'the', u'school', u'system']), ((191, [u'more', u'nothing', u'born', u'you', u'stop', u'from', u'we', u'provide', u'of the', u'informations', u'at', u'add', u'at', u'we', u'bases', u'from', u'data']), [u'but', u'don', u'&apost', u'hesitate', u'to', u'send', u'us', u'information', u'to', u'enhance', u'our', u'databases']), ((192, [u'the', u'structure', u'and', u'dynamics', u'of', u'canada & apos;', u's', u'health', u'care', u'system']), [u'flood', u'colleen', u'm.', u'1999']), ((193, [u'category', u'ii', u'6-3']), [u'category', u'ii', u'6-3']), ((194, [u'\\u2022', u'the & apos;', u'brecht', u'm.', u'1991']), [u'ottawa', u'author']), ((195, [u'paragraph', u'44', u'second', u'line']), [u'paragraph', u'44', u'lines', u'2', u'and', u'3']), ((196, [u'the', u'sex', u'HE', u'reports', u'the', u'sex', u'of', u'worker']), [u'gender', u'relates', u'to', u'male', u'and', u'female']), ((197, [u'\\u2022', u'choose', u'of the', u'costumes', u'the', u'colors', u'bright', u'from', u'kind', u'that after', u'they', u'are', u'good', u'visible', u'for', u'the', u'motorists']), [u'let', u'children', u'draw', u'a', u'face', u'on', u'the', u'pumpkin', u'which', u'you', u'can', u'carve']), ((198, [u'the', u'only', u'informations', u'known', u'sure', u'this', u'handcar', u'are', u'those', u'from', u'the', u'press', u'from', u'l&apos', u'time']), [u'information', u'about', u'this', u'rail', u'track', u'is', u'only', u'known', u'from', u'press', u'articles', u'of', u'the', u'time']), ((199, [u'anucha', u'Skin to hire him', u'year', u'now', u'with', u'his', u'Grand parents']), [u'anucha', u'phoupinta', u'now', u'lives', u'with', u'his', u'grandparents'])]\n"
     ]
    }
   ],
   "source": [
    "print zip(sorted(BM_translated), raw_t_test)\n",
    "#zip(*BM_translated)[143]"
   ]
  },
  {
   "cell_type": "markdown",
   "metadata": {
    "deletable": true,
    "editable": true
   },
   "source": [
    "## Evaluation metric:     BLEU Score\n",
    "\n",
    "Here I use the NLTK implementation of BLEU score to measure how successful the machine translation was."
   ]
  },
  {
   "cell_type": "code",
   "execution_count": 86,
   "metadata": {
    "collapsed": false,
    "deletable": true,
    "editable": true
   },
   "outputs": [
    {
     "name": "stdout",
     "output_type": "stream",
     "text": [
      "BLEU1 score test is 0.282160574964.\n",
      "BLEU2 score test is 0.218560641558.\n"
     ]
    }
   ],
   "source": [
    "from nltk.translate import bleu_score\n",
    "from utils import remove_EOS_PAD\n",
    "\n",
    "p_phrase1 = [4,5,4,5,4,5, 1, 0]\n",
    "t_phrase = [4,5,6,34,8,76, 87, 1]\n",
    "# Truncate sequences at [1]\n",
    "t_phrase = remove_EOS_PAD(t_phrase)\n",
    "p_phrase1 = remove_EOS_PAD(p_phrase1)\n",
    "\n",
    "print \"BLEU1 score test is {}.\".format(\n",
    "    bleu_score.corpus_bleu([[t_phrase]], [p_phrase1], weights=([1])))\n",
    "print \"BLEU2 score test is {}.\".format(\n",
    "    bleu_score.corpus_bleu([[t_phrase]], [p_phrase1], weights=([0.5,0.5])))"
   ]
  },
  {
   "cell_type": "code",
   "execution_count": 171,
   "metadata": {
    "collapsed": false,
    "deletable": true,
    "editable": true
   },
   "outputs": [
    {
     "name": "stdout",
     "output_type": "stream",
     "text": [
      "Actual: \n",
      "the company is also considering new interconnection with the yamal pipeline\n",
      "Prediction: \n",
      "the envisage also a new connection the pipeline yamal\n",
      "Unigram BLEU score is 0.342098104996.\n",
      "Bigram BLEU score is 0.195312929275.\n",
      "4-Gram BLEU: 0.0904845328422\n"
     ]
    }
   ],
   "source": [
    "test_targets = [[phrase] for phrase in raw_t_test]\n",
    "BM_BLEU4 = bleu_score.corpus_bleu(test_targets[0:1000], BM_trans_1, weights=(\n",
    "                                                            0.25,0.25, 0.25,0.25))\n",
    "BM_BLEU2 = bleu_score.corpus_bleu(test_targets[0:1000], BM_trans_1, weights=(0.5,0.5))\n",
    "BM_BLEU1 = bleu_score.corpus_bleu(test_targets[0:1000], BM_trans_1, weights=([1]))\n",
    "\n",
    "print \"Actual: \\n\", (\" \".join(test_targets[10][0])).encode('utf-8')\n",
    "print \"Prediction: \\n\", (\" \".join(p[10])).encode('utf-8')\n",
    "print \"Unigram BLEU score is {}.\".format(BM_BLEU1)\n",
    "print \"Bigram BLEU score is {}.\".format(BM_BLEU2)\n",
    "print \"4-Gram BLEU: {}\".format(BM_BLEU4)"
   ]
  },
  {
   "cell_type": "markdown",
   "metadata": {
    "deletable": true,
    "editable": true
   },
   "source": [
    "# The Neural Network \n",
    "\n",
    "For development reasons I will use a much smaller dataset, using only 10% of the available data to test functionality."
   ]
  },
  {
   "cell_type": "code",
   "execution_count": 9,
   "metadata": {
    "collapsed": true,
    "deletable": true,
    "editable": true
   },
   "outputs": [],
   "source": [
    "testing_only = False\n",
    "load_embeddings = True # Do we want to load in the embeddings?\n",
    "plot_name = ''\n",
    "feed_previous_probability = 0.7\n",
    "anneal_feed_previous = False\n",
    "encoder_hidden_units = 512\n",
    "epochs =  51 # How many times we loop over the whole training data\n",
    "\n",
    "GPU = False\n",
    "\n",
    "prepend = \"short_nmt/\"\n",
    "device_1 = \"gpu:0\"\n",
    "device_2 = device_1\n",
    "data_path =prep_path\n",
    "if not GPU:\n",
    "    #prepend = ''\n",
    "    \n",
    "    device_1 = \"cpu:0\"\n",
    "    device_1 = \"cpu:1\"\n",
    "    data_path = \"DATA/\"\n",
    "\n",
    "\n",
    "dev_fraction = 0.1\n",
    "test_fraction = 0.05\n",
    "\n",
    "log_dir = prepend+plot_name\n",
    "logging.basicConfig(level=logging.DEBUG, filename=prepend+'logfile'+plot_name, filemode=\"a+\",\n",
    "                        format=\"%(asctime)-15s %(levelname)-8s %(message)s\")"
   ]
  },
  {
   "cell_type": "markdown",
   "metadata": {
    "deletable": true,
    "editable": true
   },
   "source": [
    "## Loading pretrained embeddings\n",
    "\n",
    "Go through each word in the vocabulary and find the pretrained word embedding in the polyglot pickle file. If one doesn't exist, initialise to a random distribution."
   ]
  },
  {
   "cell_type": "code",
   "execution_count": 10,
   "metadata": {
    "collapsed": true,
    "deletable": true,
    "editable": true
   },
   "outputs": [],
   "source": [
    "import pickle\n",
    "\n",
    "def get_embeddings(id_to_word, lang):\n",
    "    # We load pretrained word2vec embeddings from polyglot to save on training time\n",
    "    filename =data_path+'polyglot-'+lang+'.pkl'\n",
    "    pretrain_vocab, pretrain_embed = pickle.load(open(filename, 'rb'))\n",
    "    # Embeddings for <PAD> and <EOS> already exist  - find them first\n",
    "    embed_vocab = [pretrain_embed[pretrain_vocab.index('<PAD>')], pretrain_embed[pretrain_vocab.index('</S>')]]\n",
    "    skip_count = 0\n",
    "    skipped_words = []\n",
    "    metadata = u'<PAD>\\n<EOS>\\n' # For tensorboard embeddings\n",
    "    for idx, word in sorted(id_to_word.items()[2::]):\n",
    "        metadata += word+r\"\\n\"\n",
    "        try:\n",
    "            pretrain_idx = pretrain_vocab.index(word)\n",
    "            embed_vocab.append(pretrain_embed[pretrain_idx])\n",
    "        except ValueError:\n",
    "            try:\n",
    "                # it could be that the word is a name which needs to\n",
    "                # be capitalized. Try this...\n",
    "                pretrain_idx = pretrain_vocab.index(str(word.title()))\n",
    "                embed_vocab.append(pretrain_embed[pretrain_idx])\n",
    "            except ValueError:\n",
    "                try:\n",
    "                    # it could be that the word is an achronym which needs to\n",
    "                    # be upper case. Try this...\n",
    "                    pretrain_idx = pretrain_vocab.index(word.upper())\n",
    "                    embed_vocab.append(pretrain_embed[pretrain_idx])\n",
    "                except ValueError:\n",
    "                    # Give up trying to find an embedding.\n",
    "                    # How many words are skipped? Which ones?\n",
    "                    skip_count +=1\n",
    "                    skipped_words.append(word)\n",
    "                    # Let's just initialise the embedding to a random normal distribution\n",
    "                    embed_vocab.append(np.random.normal(loc=0.0, scale=np.sqrt(2)/5, size=64))\n",
    "\n",
    "    embed_vocab = np.array(embed_vocab, dtype=np.float32)\n",
    "    print \"The embedding matrix for {} has {} columns and {} rows.\".format(lang,\n",
    "                                                embed_vocab.shape[0], embed_vocab.shape[1])\n",
    "    print \"{} vocab words were not in the {} embeddings file.\".format(skip_count, lang)\n",
    "    return embed_vocab, skipped_words, metadata\n"
   ]
  },
  {
   "cell_type": "code",
   "execution_count": null,
   "metadata": {
    "collapsed": true,
    "deletable": true,
    "editable": true
   },
   "outputs": [],
   "source": []
  },
  {
   "cell_type": "code",
   "execution_count": 11,
   "metadata": {
    "collapsed": true,
    "deletable": true,
    "editable": true
   },
   "outputs": [],
   "source": [
    "def variable_summaries(var):\n",
    "  \"\"\"Attach a lot of summaries to a Tensor (for TensorBoard visualization).\n",
    "  I'll just get as much data as I can.\"\"\"\n",
    "  with tf.name_scope('summaries'):\n",
    "    mean = tf.reduce_mean(var)\n",
    "    tf.summary.scalar('mean', mean)\n",
    "    with tf.name_scope('stddev'):\n",
    "      stddev = tf.sqrt(tf.reduce_mean(tf.square(var - mean)))\n",
    "    tf.summary.scalar('stddev', stddev)\n",
    "    tf.summary.scalar('max', tf.reduce_max(var))\n",
    "    tf.summary.scalar('min', tf.reduce_min(var))\n",
    "    tf.summary.histogram('histogram', var)"
   ]
  },
  {
   "cell_type": "code",
   "execution_count": 12,
   "metadata": {
    "collapsed": true,
    "deletable": true,
    "editable": true
   },
   "outputs": [],
   "source": [
    "# the ith word in words corresponds to the ith embedding\n",
    "embed_vocab_s = np.array(np.random.normal(loc=0.0, scale=np.sqrt(2)/5, size=(vocab_size_s, 64)), dtype=np.float32)\n",
    "embed_vocab_t = np.array(np.random.normal(loc=0.0, scale=np.sqrt(2)/5, size=(vocab_size_t, 64)), dtype=np.float32)\n",
    "metadata_s = ''\n",
    "metadata_t = ''\n",
    "# We only want to load in the embeddings, running this with test_only=True \n",
    "# takes a while with the full dataset\n",
    "\n",
    "if load_embeddings:\n",
    "    embed_vocab_s, skipped_s, metadata_s = get_embeddings(id2word_s, lang=lang_s)\n",
    "    embed_vocab_t, skipped_t, metadata_t = get_embeddings(id2word_t, lang=lang_t)\n",
    "\n",
    "tf.reset_default_graph()\n",
    "\n",
    "with tf.device(device_1):\n",
    "    with tf.name_scope(\"source_embeddings\"):\n",
    "        # Load encoder embeddings into trainable tensors\n",
    "        source_embeddings = tf.Variable(embed_vocab_s, trainable=True, name=\"source_embeddings\")\n",
    "        variable_summaries(source_embeddings)\n",
    "    with tf.name_scope(\"target_embeddings\"):\n",
    "        # Load decoder embeddings into trainable tensors\n",
    "        target_embeddings = tf.Variable(embed_vocab_t, trainable=True, name=\"target_embeddings\")\n",
    "        variable_summaries(target_embeddings)\n"
   ]
  },
  {
   "cell_type": "markdown",
   "metadata": {
    "deletable": true,
    "editable": true
   },
   "source": [
    "## Building the encoder layer\n",
    "With each forward pass a batch of phrases is fed through the neural network, one word at a time, so for the purposes of building the sequence-to-sequence model it helps to think of just a single batch.  The encoder inputs are going to be in the form of a tensor filled with word indices, of dimension `(encoder_max_time, batch size)` where maximum time is the length of the longest sequence in the batch. The batch size (though unusual) and maximum time step can change between batches so can be designated as `None` in the Tensorflow placeholder dimension. Similarly, the decoder inputs are of dimension `(decoder_max_time, batch_size)` where `decoder_max_time` does not need to equal `encoder_max_time` but must be the dimension of both the inputs and targets of the decoder. This is because at each timestep during training we must assess the quality of a single output slice (in time) of the decoder given a decoder input slice and some target sequence, therefore there must be valid tokens to compare at each time-step. If an output sequence is shorter than the target it is padded with zeros until it is the same length. Time will run down the columns of the input matrices which is called \"time-major\" format."
   ]
  },
  {
   "cell_type": "code",
   "execution_count": 13,
   "metadata": {
    "collapsed": true,
    "deletable": true,
    "editable": true
   },
   "outputs": [],
   "source": [
    "with tf.device(device_1):\n",
    "    with tf.name_scope('encoder_inputs'):\n",
    "        encoder_inputs = tf.placeholder(shape=(None, None), dtype=tf.int32, name='encoder_inputs')\n",
    "        encoder_inputs_length = tf.placeholder(shape=(None,), dtype=tf.int32, name='encoder_inputs_length')\n",
    "\n",
    "\n",
    "    with tf.name_scope('decoder_targets'):\n",
    "        decoder_targets = tf.placeholder(shape=(None, None), dtype=tf.int32, name='decoder_targets')\n",
    "    with tf.name_scope('decoder_inputs'):\n",
    "        decoder_inputs = tf.placeholder(shape=(None, None), dtype=tf.int32, name='decoder_inputs')\n"
   ]
  },
  {
   "cell_type": "markdown",
   "metadata": {
    "deletable": true,
    "editable": true
   },
   "source": [
    "Next we find the embeddings which correspond to the words at each timestep. The words which were previously index integers for each sample in a batch/timestep, are used to index the columns of an embedding matrix. Using these column vectors as representations of the words means that the input matrices become tensors of dimension `(max_time_step, batch_size, embedding_hidden_dimension)'."
   ]
  },
  {
   "cell_type": "code",
   "execution_count": 14,
   "metadata": {
    "collapsed": true,
    "deletable": true,
    "editable": true
   },
   "outputs": [],
   "source": [
    "with tf.device(device_1):    \n",
    "    with tf.name_scope('encoder_inputs_embed'):\n",
    "        encoder_inputs_embedded = tf.nn.embedding_lookup(source_embeddings,\n",
    "                                                encoder_inputs, name='encoder_inputs_embed')\n",
    "    with tf.name_scope('decoder_inputs_embed'):\n",
    "        decoder_inputs_embedded = tf.nn.embedding_lookup(target_embeddings,\n",
    "                                                decoder_inputs, name='decoder_inputs_embed')\n",
    "    "
   ]
  },
  {
   "cell_type": "markdown",
   "metadata": {
    "deletable": true,
    "editable": true
   },
   "source": [
    "Now the encoder RNN is finally constructed, using an LSTM which is unrolled over the encoder time-steps dynamically using `tf.nn.dynamic_rnn`. Notive that the keyword argument `time_major = True`  accounts for the fact that time-steps were defined along the columns of the input matrices.\n",
    "\n",
    "The encoder RNN returns the encoder outputs - which are not used at all in sequence-to-sequence learning - and the final hidden state. This hidden state eventually becomes the first hidden state of the decoder layer."
   ]
  },
  {
   "cell_type": "code",
   "execution_count": 15,
   "metadata": {
    "collapsed": true,
    "deletable": true,
    "editable": true
   },
   "outputs": [],
   "source": [
    "with tf.device(device_1):     \n",
    "    with tf.name_scope('encoder_rnn'):\n",
    "        encoder_cell = tf.contrib.rnn.LSTMCell(encoder_hidden_units)\n",
    "\n",
    "        encoder_outputs, encoder_final_state = tf.nn.dynamic_rnn(encoder_cell, \n",
    "                                        encoder_inputs_embedded, dtype=tf.float32, \n",
    "                                        time_major=True, scope='encoder_rnn')\n",
    "        variable_summaries(encoder_outputs)\n",
    "        variable_summaries(encoder_final_state)"
   ]
  },
  {
   "cell_type": "code",
   "execution_count": 16,
   "metadata": {
    "collapsed": true,
    "deletable": true,
    "editable": true
   },
   "outputs": [],
   "source": [
    "decoder_hidden_units = encoder_hidden_units # Set these to be the same at the moment"
   ]
  },
  {
   "cell_type": "markdown",
   "metadata": {
    "deletable": true,
    "editable": true
   },
   "source": [
    "## The decoder layer: `raw_rnn`\n",
    "\n",
    "Now for the subtle part. Ideally we would like to have control over precisely what the decoder inputs are at each time-step, however `dynamic_rnn` has a relatively constrained API, so all inputs must be specified at the initial time-step. This means that we cannot feed tokens generated at the current time-step in as inputs in the next timestep. This actually makes it impossible to make adequate precictions with the model, since a generative model must _see_ the data it has produced in order to react accordingly, in real-time. In order to implement this, I define a _loop function_ for a `raw_rnn` which replicates the functionality of `dynamic_rnn`, which allowing for the feeding of previously generated tokens into the decoder inputs. I also allow the user to define a probability with which the previously generated tokens are mixed in with the \"ground truth\" target data, so that the model can be conditioned on a statistical mixture of both inputs. Since the length of the decoder max timesteps is unknown at the beginning of training, this has to be defined somehow so I just set it to the length of the encoder inputs plus some extra timesteps to allow for some error. This could be set to the decoder targets but strictly speaking this length would not be known in a blind test.\n"
   ]
  },
  {
   "cell_type": "code",
   "execution_count": 17,
   "metadata": {
    "collapsed": true,
    "deletable": true,
    "editable": true
   },
   "outputs": [],
   "source": [
    "reverse_encoder_inputs = True\n",
    "additional_decode_steps = 3 # Includes the extra step for the leading EOS token\n",
    "\n",
    "\n",
    "with tf.device(device_2):\n",
    "    encoder_max_time, batch_size = tf.unstack(tf.shape(encoder_inputs))\n",
    "    decoder_lengths = encoder_inputs_length + additional_decode_steps\n",
    "    # This is the projection layer, needed at every timestep because there is a possibility\n",
    "    # of feeding previous tokens in.\n",
    "    W = tf.Variable(tf.random_uniform([decoder_hidden_units, vocab_size_t], -1, 1), dtype=tf.float32)\n",
    "    #bias\n",
    "    b = tf.Variable(tf.zeros([vocab_size_t]), dtype=tf.float32)\n",
    "    \n",
    "    # The probability that we feed previous tokens in as decoder inputs\n",
    "    # 0 = use ground truth training examples as inputs\n",
    "    feed_previous_prob = tf.placeholder(tf.float32, shape=(), name='feed_previous_prob')\n",
    "    \n",
    "    # Create a slice in time of PAD - for padding entire batch once all the sequences have\n",
    "    # terminated. Also slice for EOS which is used to initialise the loop_function\n",
    "    eos_time_slice = tf.ones([batch_size], dtype=tf.int32, name='EOS')\n",
    "    pad_time_slice = tf.zeros([batch_size], dtype=tf.int32, name='PAD')\n",
    "\n",
    "    #retrieves columns of the embedding matrix. Dim= (batch_size, hidden_dim)\n",
    "    eos_step_embedded = tf.nn.embedding_lookup(embed_vocab_t, eos_time_slice)\n",
    "    pad_step_embedded = tf.nn.embedding_lookup(embed_vocab_t, pad_time_slice)"
   ]
  },
  {
   "cell_type": "markdown",
   "metadata": {
    "deletable": true,
    "editable": true
   },
   "source": [
    "\n",
    "The loop function tells the RNN what to do and which quantities to manipulate at each timestep. If the model is feeding previously generated tokens in as decoder inputs it will have to pass the RNN output through a linear layer and find the argmax. Intially the hidden state will be set to the final state of the encoder and the initial input will be the `<EOS>` token. These are then mapped onto the inputs for the next timestep within `loop_fn`."
   ]
  },
  {
   "cell_type": "code",
   "execution_count": 18,
   "metadata": {
    "collapsed": true,
    "deletable": true,
    "editable": true
   },
   "outputs": [],
   "source": [
    "with tf.device(device_2):\n",
    "    def loop_fn_initial():\n",
    "        initial_elements_finished = (0 >= decoder_lengths)  # Returns false unless something is wrong\n",
    "        \n",
    "        initial_input = eos_step_embedded\n",
    "        # Self explanatory...\n",
    "        initial_cell_state = encoder_final_state\n",
    "        # Not sure what these \n",
    "        initial_cell_output = None\n",
    "        #none\n",
    "        initial_loop_state = None  # we don't need to pass any additional information\n",
    "        return (initial_elements_finished, # Boolean\n",
    "                initial_input, # EOS\n",
    "                initial_cell_state, # encoder state\n",
    "                initial_cell_output, # The output to store for this state\n",
    "                initial_loop_state)\n",
    "\n",
    "    def loop_fn_transition(time, previous_output, previous_state, previous_loop_state):\n",
    "        # What to do when moving from one time-step to the next\n",
    "        def feed_previous():\n",
    "             # We take the previous output word vectors and apply the linear layer\n",
    "             # to each output word in the batch\n",
    "            output_logits = tf.add(tf.matmul(previous_output, W), b)\n",
    "            # Greedily gives the index of the word with the highest probability\n",
    "            prediction = tf.argmax(output_logits, axis=1)\n",
    "            # Find embedding for the predicted word\n",
    "            return tf.nn.embedding_lookup(source_embeddings, prediction)\n",
    "\n",
    "        def feed_ground_truth():\n",
    "            # Find the current word in the shifted ground truth decoder targets\n",
    "            # At initialisation, time=0. Therefore, decoder inputs are passed\n",
    "            # here with a leading <EOS> token as usual.\n",
    "            ground_truth = tf.gather(decoder_inputs, time)\n",
    "            return tf.nn.embedding_lookup(target_embeddings, ground_truth)\n",
    "\n",
    "        def get_next_input():\n",
    "            # if uniform random number < fpp, feed_previous. If not feed decoder target.\n",
    "            return tf.cond(tf.constant(np.random.uniform())<feed_previous_prob, \n",
    "                            feed_previous, feed_ground_truth)\n",
    "\n",
    "        # boolean tensor of [batch_size] indicating if all of the sequences have finished\n",
    "        sequences_finished = (time >= decoder_lengths)\n",
    "        #Computes the \"logical and\" of elements to produce scalar\n",
    "        finished = tf.reduce_all(sequences_finished)\n",
    "        # If sequences are finished PAD, if not get next input\n",
    "        input = tf.cond(finished, lambda: pad_step_embedded, get_next_input)\n",
    "\n",
    "        # states and outputs are passed through \n",
    "        state = previous_state\n",
    "        output = previous_output\n",
    "        loop_state = None\n",
    "\n",
    "        return (sequences_finished,\n",
    "                input,\n",
    "                state,\n",
    "                output,\n",
    "                loop_state)\n",
    "\n",
    "    def loop_fn(time, previous_output, previous_state, previous_loop_state):\n",
    "        if previous_state is None:    # time == 0\n",
    "            assert previous_output is None and previous_state is None\n",
    "            return loop_fn_initial()\n",
    "        else:\n",
    "            # time >0\n",
    "            return loop_fn_transition(time, previous_output, previous_state, previous_loop_state)"
   ]
  },
  {
   "cell_type": "markdown",
   "metadata": {
    "deletable": true,
    "editable": true
   },
   "source": [
    "Now the loop function has been defined, we can create the `raw_rnn`. Within the loop function we found word predictions at each timestep, which required projecting onto the vocabulary space to find a word (embedding). "
   ]
  },
  {
   "cell_type": "code",
   "execution_count": 19,
   "metadata": {
    "collapsed": true,
    "deletable": true,
    "editable": true
   },
   "outputs": [],
   "source": [
    "with tf.device(device_2):\n",
    "    with tf.name_scope('decoder_rnn'):\n",
    "        decoder_cell = tf.contrib.rnn.LSTMCell(decoder_hidden_units)\n",
    "        decoder_outputs_, decoder_final_state, _ = tf.nn.raw_rnn(decoder_cell, loop_fn, scope='decoder_rnn')\n",
    "        # Turn the output matrices dims=(batch_size, dec_hidden_layer_dim)\n",
    "        # at each timestep into a tensor\n",
    "        decoder_outputs = decoder_outputs_.stack()\n",
    "        variable_summaries(decoder_outputs)\n",
    "        variable_summaries(decoder_final_state)"
   ]
  },
  {
   "cell_type": "markdown",
   "metadata": {
    "deletable": true,
    "editable": true
   },
   "source": [
    "## Forward and backward steps\n",
    "\n",
    "In the previous cell, outputs from the `raw_rnn` were seen to form a tensor of dimension `(max_decoder_time, batch_size, dec_hidden_dim` since the outputs are for each sequence in the batch at each timestep are word embeddings. These need to be turned into sequences of word IDs, so in order to do so we flatten the tensor to have dimension  `(max_decoder_time*batch_size, hidden_dim)` so it can be passed through the projection layer to discriminate which word it respresents, ending up with dimension `(max_decoder_time*batch_size, vocab_site_t)`. Then after reshaping this to a tensor of shape `(max_decoder_time, batch_size, vocab_site_t)` gives us the logits/scores for each word and an argmax is performed over the vocabulary words to generate the predictions. Note it is not necessary to perform softmax because the this function preserves ordering of the elements, so `max(softmax(v)) = max(v)`."
   ]
  },
  {
   "cell_type": "code",
   "execution_count": 20,
   "metadata": {
    "collapsed": true,
    "deletable": true,
    "editable": true
   },
   "outputs": [],
   "source": [
    "with tf.device(device_2):  \n",
    "    with tf.name_scope('projection_layer'):\n",
    "        # Get dimension information for the batch\n",
    "        decoder_max_steps, decoder_batch_size, decoder_dim = tf.unstack(tf.shape(decoder_outputs))\n",
    "        # flatten output tensor to pass through fully connected layer\n",
    "        decoder_outputs_flat = tf.reshape(decoder_outputs, (-1, decoder_dim))\n",
    "        # output is a vector of dimension: vocab_size_t\n",
    "        decoder_logits_flat = tf.add(tf.matmul(decoder_outputs_flat, W), b)\n",
    "        #prediction vals\n",
    "        decoder_logits = tf.reshape(decoder_logits_flat, (decoder_max_steps, decoder_batch_size, vocab_size_t))\n",
    "\n",
    "    with tf.name_scope('prediction'):\n",
    "        decoder_prediction = tf.argmax(decoder_logits, axis=2)\n",
    "        "
   ]
  },
  {
   "cell_type": "markdown",
   "metadata": {
    "deletable": true,
    "editable": true
   },
   "source": [
    "Now we have the likelihood scores for each word in `decoder_logits` we calculate the probability distribution via a softmax and then find the cross-entropy, which calculates how well the predictions correlate with the targets and sum over all the timesteps. The mean of cross-entropy is then taken over the batch. That is the end of one forward step.\n",
    "\n",
    "A backward step is then made by attempting to minimize the average cross-entropy (same as maximizing the log likelihood) using AdaM optimiser."
   ]
  },
  {
   "cell_type": "code",
   "execution_count": 21,
   "metadata": {
    "collapsed": false,
    "deletable": true,
    "editable": true
   },
   "outputs": [
    {
     "name": "stdout",
     "output_type": "stream",
     "text": [
      "Tensor(\"timestep_cross_entropy/Reshape_2:0\", shape=(?, ?), dtype=float32, device=/device:GPU:0)\n"
     ]
    }
   ],
   "source": [
    "with tf.device(device_2):     \n",
    "    with tf.name_scope('timestep_cross_entropy'):\n",
    "        timestep_cross_entropy = tf.nn.softmax_cross_entropy_with_logits(\n",
    "                                            labels=tf.one_hot(decoder_targets,\n",
    "                                            depth=vocab_size_t, dtype=tf.float32),\n",
    "                                            logits=decoder_logits)\n",
    "        variable_summaries(timestep_cross_entropy)\n",
    "    print timestep_cross_entropy\n",
    "    # loss is the mean of the cross entropy\n",
    "    with tf.name_scope('loss'):\n",
    "        loss = tf.reduce_mean(timestep_cross_entropy)\n",
    "        variable_summaries(loss)\n",
    "        tf.summary.scalar('loss', loss)\n",
    "    # We use AdaM which combines AdaGrad (parameters updated less often get updated more \tstrongly)\n",
    "    # and momentum (updates depend on the slope of previous updates - avoiding local minima)\n",
    "    with tf.name_scope('Optimizer'):\n",
    "        train_op = tf.train.AdamOptimizer().minimize(loss)\n"
   ]
  },
  {
   "cell_type": "markdown",
   "metadata": {
    "deletable": true,
    "editable": true
   },
   "source": [
    "## Feeding data into the model\n",
    "\n",
    "A few functions are needed to help pass data efficiently to the sequence-to-sequence model. Firstly the source and target data needs to be efficiently split up into batches. Secondly this data needs to be formatted (another function in utils called `format_batch`) and fed into the model. Since $1)$ the lengths of decoder_inputs are being generated dynamically depending on the `encoder_input_lengths` and $2)$ the length decoder_inputs must be equal to the that of decoder_outputs, the formatting of these matrices must be done carefully to make sure the time axes are match in length. The `decoder_inputs` should also be shifted one timestep to the right, since the initial input is an `<EOS>` embedding. `encoder_input_lengths` changes between batches as well, so we feed the placeholders with these values too. Finally, the `feed_previous_probability` if free to change between batches too, since it could be useful for this number to grow or shrink over time - something that I will explore in the future.\n",
    "\n",
    "** The encoder inputs were also reversed, as this has been shown to speed up training time substantially in language translation models.** For example, rather than translating from $[a, b, c] \\to [\\alpha, \\beta, \\gamma]$ the source sequences are reversed: $[c, b, a] \\to [\\alpha, \\beta, \\gamma]$ so that $a$ and $\\alpha$ are in close proximity in time. This is a main theoretical contribution of [this paper](https://papers.nips.cc/paper/5346-sequence-to-sequence-learning-with-neural-networks.pdf)."
   ]
  },
  {
   "cell_type": "code",
   "execution_count": 22,
   "metadata": {
    "collapsed": true,
    "deletable": true,
    "editable": true
   },
   "outputs": [],
   "source": [
    "from utils import format_batch\n",
    "\"\"\"\n",
    "format_batch() takes inputs with the number of cols as sequence length and \n",
    "num of rows as batch size to the number of rows being the max sequence \n",
    "length/ num cols being batch size\n",
    "Essentially like a padding and then transpose\"\"\"\n",
    "\n",
    "def batch_source_target(source, target, batch_size):\n",
    "    assert len(source) == len(target)\n",
    "    for start in range(0, len(source), batch_size):\n",
    "        end = min(start + batch_size, len(source))\n",
    "        #print type(source[start:end])\n",
    "        #print len(target[start:end])\n",
    "        yield source[start:end], target[start:end]\n",
    "\n",
    "def make_feed_dict(fd_keys, s_batch, t_batch, reverse_encoder_inputs= False, feed_previous_prob_=1):\n",
    "    encoder_inputs_, encoder_input_lengths_  = format_batch(s_batch)\n",
    "    if reverse_encoder_inputs:\n",
    "        encoder_inputs_, encoder_input_lengths_ = format_batch([sequence[-2::-1]+[1] for sequence in s_batch])\n",
    "    dec_seq_length = max(encoder_input_lengths_)+additional_decode_steps\n",
    "    # enforce max length to equal the generated data (enc length + some margin of error)\n",
    "    decoder_targets_, _ = format_batch([sequence +[1] for sequence in t_batch], max_length=dec_seq_length)\n",
    "    decoder_inputs_, _ = format_batch([[1]+sequence[0:-1] for sequence in t_batch], max_length=dec_seq_length)\n",
    "    return {\n",
    "        fd_keys[0]: encoder_inputs_,\n",
    "        fd_keys[1]: encoder_input_lengths_,\n",
    "        fd_keys[2]: decoder_inputs_,\n",
    "        fd_keys[3]: decoder_targets_,\n",
    "        fd_keys[4]: feed_previous_prob_\n",
    "    }\n"
   ]
  },
  {
   "cell_type": "markdown",
   "metadata": {
    "deletable": true,
    "editable": true
   },
   "source": [
    "## Training the model\n",
    "\n"
   ]
  },
  {
   "cell_type": "code",
   "execution_count": 23,
   "metadata": {
    "collapsed": false,
    "deletable": true,
    "editable": true
   },
   "outputs": [
    {
     "ename": "NameError",
     "evalue": "name 'train_length' is not defined",
     "output_type": "error",
     "traceback": [
      "\u001b[0;31m---------------------------------------------------------------------------\u001b[0m",
      "\u001b[0;31mNameError\u001b[0m                                 Traceback (most recent call last)",
      "\u001b[0;32m<ipython-input-23-0e8b16086b25>\u001b[0m in \u001b[0;36m<module>\u001b[0;34m()\u001b[0m\n\u001b[1;32m      2\u001b[0m \u001b[0;34m\u001b[0m\u001b[0m\n\u001b[1;32m      3\u001b[0m \u001b[0mmerged\u001b[0m \u001b[0;34m=\u001b[0m \u001b[0mtf\u001b[0m\u001b[0;34m.\u001b[0m\u001b[0msummary\u001b[0m\u001b[0;34m.\u001b[0m\u001b[0mmerge_all\u001b[0m\u001b[0;34m(\u001b[0m\u001b[0;34m)\u001b[0m \u001b[0;31m# Tensorboard stuff\u001b[0m\u001b[0;34m\u001b[0m\u001b[0m\n\u001b[0;32m----> 4\u001b[0;31m \u001b[0mtotal_batches\u001b[0m \u001b[0;34m=\u001b[0m \u001b[0mtrain_length\u001b[0m\u001b[0;34m/\u001b[0m\u001b[0mbatch_size\u001b[0m\u001b[0;34m\u001b[0m\u001b[0m\n\u001b[0m\u001b[1;32m      5\u001b[0m \u001b[0msamples_in_final\u001b[0m \u001b[0;34m=\u001b[0m \u001b[0mtrain_length\u001b[0m\u001b[0;34m%\u001b[0m\u001b[0mbatch_size\u001b[0m \u001b[0;31m# number of samples in final batch\u001b[0m\u001b[0;34m\u001b[0m\u001b[0m\n\u001b[1;32m      6\u001b[0m \u001b[0;34m\u001b[0m\u001b[0m\n",
      "\u001b[0;31mNameError\u001b[0m: name 'train_length' is not defined"
     ]
    }
   ],
   "source": [
    "batch_size = 100 # After how many sequences do we update the weights?\n",
    "epochs = 50\n",
    "merged = tf.summary.merge_all() # Tensorboard stuff\n",
    "train_length = len(s_train)\n",
    "total_batches = train_length/batch_size \n",
    "samples_in_final = train_length%batch_size # number of samples in final batch\n",
    "\n",
    "print \"there will be {} batches and {} samples in the final batch\".format(total_batches, samples_in_final)\n",
    "fd_keys = [encoder_inputs, encoder_inputs_length, decoder_inputs, decoder_targets, feed_previous_prob]\n",
    "loss_list = []\n",
    "print('Training...')\n",
    "#with tf.Session(config=tf.ConfigProto(\n",
    "#  intra_op_parallelism_threads=NUM_CORES)) as sess:\n",
    "print make_feed_dict(fd_keys, [[2,3,3],[4,4,5]], [[2,3,3],[4,4,5]])\n",
    "\n",
    "def save_metadata(metadata, filename):\n",
    "    with open(filename, 'w') as f:\n",
    "        f.write(metadata.encode('utf-8'))\n",
    "\n",
    "def get_fp_prob(feed_previous_prob, epochs, anneal_fp=True):\n",
    "    # This implements the growing/decaying feed previous prob\n",
    "    if anneal_fp:\n",
    "        for i in np.linspace(0.2,0.5,epochs):\n",
    "            yield i\n",
    "    else:\n",
    "        while True:\n",
    "            yield feed_previous_prob"
   ]
  },
  {
   "cell_type": "code",
   "execution_count": null,
   "metadata": {
    "collapsed": true,
    "deletable": true,
    "editable": true
   },
   "outputs": [],
   "source": [
    "from tensorflow.contrib.tensorboard.plugins import projector\n",
    "import time\n",
    "from utils import format_idx, ids_to_phrases, save_obj\n",
    "with tf.Session(config=tf.ConfigProto(log_device_placement=True,\n",
    "                                    allow_soft_placement=True)) as sess:\n",
    "    # Initializing the variables\n",
    "    sess.run(tf.global_variables_initializer())\n",
    "    # Many tensorboard things\n",
    "    train_writer = tf.summary.FileWriter(log_dir+'/train',\n",
    "                                        sess.graph)\n",
    "    summary_writer = tf.summary.FileWriter(log_dir,\n",
    "                                        sess.graph)\n",
    "    # This is for saving word embeddings\n",
    "    config = projector.ProjectorConfig()\n",
    "    embedding_enc = config.embeddings.add()\n",
    "    embedding_enc.tensor_name = source_embeddings.name\n",
    "    # Link this tensor to its metadata file (e.g. labels).\n",
    "    meta_s_filename = os.path.join(log_dir, 'metadata_s.tsv')\n",
    "    save_metadata(metadata_s, meta_s_filename)\n",
    "    embedding_enc.metadata_path = meta_s_filename\n",
    "\n",
    "    embedding_dec = config.embeddings.add()\n",
    "    embedding_dec.tensor_name = target_embeddings.name\n",
    "    # Link this tensor to its metadata file (e.g. labels).\n",
    "    meta_t_filename = os.path.join(log_dir, 'metadata_t.tsv')\n",
    "    save_metadata(metadata_t, meta_t_filename)\n",
    "    embedding_dec.metadata_path = meta_t_filename\n",
    "\n",
    "    # Saves a configuration file that TensorBoard will read during startup.\n",
    "    projector.visualize_embeddings(summary_writer, config)\n",
    "    # Training cycle\n",
    "    # call the generator for fp_probs\n",
    "    feed_previous_prob = get_fp_prob(feed_previous_probability, epochs, anneal_fp=anneal_feed_previous)\n",
    "    try:\n",
    "        batch_n = 0\n",
    "        ti = time.time()\n",
    "        print \"training has begun...\"\n",
    "        epoch_losses = []\n",
    "        for epoch in range(1, epochs+1):\n",
    "            fp_prob = feed_previous_prob.next()\n",
    "            logging.info(\"fp_prob = {}\".format(fp_prob))\n",
    "            ti = time.time()\n",
    "            saver = tf.train.Saver()\n",
    "            epoch_loss = []\n",
    "            if epoch%20==0:\n",
    "                save_path = saver.save(sess, log_dir+\"/model.ckpt\", epoch)\n",
    "            for s_batch, t_batch in batch_source_target(s_train,\n",
    "                                                        t_train, batch_size):\n",
    "                feed_dict = make_feed_dict(fd_keys,s_batch, t_batch,\n",
    "                                reverse_encoder_inputs=reverse_encoder_inputs,\n",
    "                                feed_previous_prob_= fp_prob)\n",
    "                _, l = sess.run([train_op, loss], feed_dict)\n",
    "                epoch_loss.append(l)\n",
    "                if (batch_n==0) or (batch_n%400) == 0:\n",
    "                    loss_list.append(l)\n",
    "                    logging.info(\"epoch {}\".format(epoch))\n",
    "                    logging.info('batch {}'.format(batch_n-(epoch-1)*total_batches))\n",
    "                    logging.info('loss: {}'.format(sess.run(loss, feed_dict)))\n",
    "                    print \"**********************************************\"*5\n",
    "                    print \"$$$$$$$$$$$$$$$$$$$$$$$$$$$$$$$$$$$$$$$$$$$$$$\"*5\n",
    "                    print (\"epoch {}\".format(epoch))\n",
    "                    print ('batch {}'.format(batch_n-(epoch-1)*total_batches))\n",
    "                    print ('loss: {}'.format(sess.run(loss, feed_dict)))\n",
    "                    summary_, predict_ = sess.run([merged, decoder_prediction], feed_dict)\n",
    "                    summary_writer.add_summary(summary_, batch_n)\n",
    "                    i = 1\n",
    "                    rand_sample = np.random.randint(0,batch_size-10)\n",
    "                    for (inp, act, pred) in zip(feed_dict[encoder_inputs].T,\n",
    "                                                 feed_dict[decoder_targets].T,\n",
    "                                                 predict_.T)[rand_sample:rand_sample+2]:\n",
    "                        logging.info('  sample {}:'.format(i))\n",
    "                        logging.info('    input     : {} \\n {}'.format(\n",
    "                                         format_idx(inp), ids_to_phrases(inp, id2word_s)))\n",
    "                        logging.info('    actual     : {} \\n {}'.format(\n",
    "                                         format_idx(act), ids_to_phrases(act, id2word_t)))\n",
    "                        logging.info('    predicted     : {} \\n {}'.format(\n",
    "                                         format_idx(pred), ids_to_phrases(pred, id2word_t)))\n",
    "                        print ('  sample {}:'.format(i))\n",
    "                        print ('    input     : {} \\n {}'.format(\n",
    "                                         format_idx(inp), ids_to_phrases(inp, id2word_s)))\n",
    "                        print ('    actual     : {} \\n {}'.format(\n",
    "                                         format_idx(act), ids_to_phrases(act, id2word_t)))\n",
    "                        print ('    predicted     : {} \\n {}'.format(\n",
    "                                         format_idx(pred), ids_to_phrases(pred, id2word_t)))\n",
    "                        i+=1\n",
    "                batch_n += 1\n",
    "            logging.info(\"Epoch {} took {} seconds to complete.\".format(epoch, time.time()-ti))\n",
    "            print (\"Epoch {} took {} seconds to complete, with average loss of {}.\".format(epoch\n",
    "                                                    ,time.time()-ti, np.mean(epoch_loss)))\n",
    "            logging.info(\"Epoch {} took {} seconds to complete, with average loss of {}.\".format(epoch\n",
    "                                                    ,time.time()-ti, np.mean(epoch_loss)))\n",
    "            save_obj(loss_list, prepend+\"loss_track\")\n",
    "            actuals = []\n",
    "            predictions = []\n",
    "            if epoch%5==0:\n",
    "                for s_batch, t_batch in batch_source_target(s_test, t_test, batch_size):\n",
    "                    feed_dict = make_feed_dict(fd_keys, s_batch, t_batch,\n",
    "                                                    reverse_encoder_inputs= True,\n",
    "                                                    feed_previous_prob_= 1)\n",
    "                    predict_ = sess.run(decoder_prediction, feed_dict)\n",
    "                    for (act, pred) in zip(feed_dict[decoder_targets].T, predict_.T):\n",
    "                        actuals.append(act)\n",
    "                        predictions.append(pred)\n",
    "                save_obj([actuals, predictions], prepend+\"predictions{}\".format(epoch))\n",
    "                print \"Made {} predictions.\".format(len(actuals))\n",
    "            if np.mean(epoch_loss) < 0.5:\n",
    "                save_path = saver.save(sess, log_dir+\"/model.ckpt\", epoch)\n",
    "                break\n",
    "        print ('Training is complete')\n",
    "        logging.info('Training is complete')\n",
    "    except KeyboardInterrupt:\n",
    "        print 'training interrupted'"
   ]
  },
  {
   "cell_type": "code",
   "execution_count": null,
   "metadata": {
    "collapsed": true,
    "deletable": true,
    "editable": true
   },
   "outputs": [],
   "source": []
  },
  {
   "cell_type": "code",
   "execution_count": 28,
   "metadata": {
    "collapsed": false,
    "deletable": true,
    "editable": true
   },
   "outputs": [
    {
     "name": "stdout",
     "output_type": "stream",
     "text": [
      "24911\n"
     ]
    }
   ],
   "source": [
    "#preds_BM, targs_BM = load_obj(\"DATA/BM_translated_test\"), load_obj(\"DATA/BM_target\")\n",
    "#print len(preds_BM)"
   ]
  },
  {
   "cell_type": "code",
   "execution_count": 32,
   "metadata": {
    "collapsed": false,
    "deletable": true,
    "editable": true
   },
   "outputs": [
    {
     "data": {
      "image/png": "[encoded data removed]",
      "text/plain": [
       "<matplotlib.figure.Figure at 0x128fab7d0>"
      ]
     },
     "metadata": {},
     "output_type": "display_data"
    },
    {
     "data": {
      "image/png": "[encoded data removed]",
      "text/plain": [
       "<matplotlib.figure.Figure at 0x128db20d0>"
      ]
     },
     "metadata": {},
     "output_type": "display_data"
    }
   ],
   "source": [
    "import matplotlib.pyplot as plt\n",
    "from utils import ids_to_phrases, format_idx, load_obj\n",
    "\n",
    "def bleu_over_time(data, ax, title=''):\n",
    "    actuals = raw_t_test\n",
    "    targs_form = []\n",
    "    for a in actuals:\n",
    "            targs_form.append([a])\n",
    "    data_path = 'short_data/'+data+'/predictions'\n",
    "    b1, b2, b4 = [], [], []\n",
    "    for n in range(5,35,5):\n",
    "        preds = load_obj(data_path+str(n))\n",
    "        preds = [(ids_to_phrases(format_idx(p), id2word_t)).split(' ') for p in preds[1]]\n",
    "        BLEU4 = bleu_score.corpus_bleu(targs_form, preds, weights=(0.25,0.25, 0.25,0.25))\n",
    "        BLEU2 = bleu_score.corpus_bleu(targs_form, preds, weights=(0.5,0.5))\n",
    "        BLEU1 = bleu_score.corpus_bleu(targs_form, preds, weights=([1]))\n",
    "        b1.append(BLEU1)\n",
    "        b2.append(BLEU2)\n",
    "        b4.append(BLEU4)\n",
    "    ax.plot(range(5,35,5),b1,label='BLEU1' )\n",
    "    ax.plot(range(5,35,5),b2,label='BLEU2' )\n",
    "    ax.plot(range(5,35,5),b4,label='BLEU4' )\n",
    "    ax.set_xlabel(\"Epoch\")\n",
    "    ax.set_ylabel(\"N-gram BLEU score\")\n",
    "    ax.set_title(title)\n",
    "    return b1, b2, b4\n",
    "fig = plt.figure()\n",
    "ax1 = fig.add_subplot(111)\n",
    "bleu_over_time('Predictions_70_noembed', ax1, title='Feed previous prob = 0.7')\n",
    "fig = plt.figure()\n",
    "ax2 = fig.add_subplot(111)\n",
    "bleu_over_time('Predictions_50_embed', ax2, title='Feed previous prob = 0.5')\n",
    "\n",
    "plt.legend()\n",
    "plt.show()"
   ]
  },
  {
   "cell_type": "code",
   "execution_count": 33,
   "metadata": {
    "collapsed": true,
    "deletable": true,
    "editable": true
   },
   "outputs": [],
   "source": [
    "\n",
    "import matplotlib.pyplot as plt\n",
    "from nltk.translate import bleu_score\n",
    "import numpy as np\n",
    "from utils import load_obj, format_idx, ids_to_phrases\n",
    "import time\n",
    "\n",
    "def BLEU_analysis(preds, targs, Ngram_len = 2, lab=\"NMT\", titl_suf=''):\n",
    "    bleu_d = dict()\n",
    "    targs_form = []\n",
    "    preds_form = []\n",
    "    results = []\n",
    "    for p, a in zip(preds, targs):\n",
    "        if p[-1] == '':\n",
    "            p = p[0:-1] #get rid of phantom whitespace at the end\n",
    "        BLEU4 = bleu_score.sentence_bleu( [a], p, weights=(0.25,0.25, 0.25,0.25))\n",
    "        BLEU2 = bleu_score.sentence_bleu( [a],p, weights=(0.5,0.5))\n",
    "        BLEU1 = bleu_score.sentence_bleu( [a], p,weights=([1]))\n",
    "        l = len(p)\n",
    "        if l not in bleu_d.keys():\n",
    "            bleu_d[l] = []\n",
    "        bleu_d[l].append(eval(\"BLEU\"+str(Ngram_len)))\n",
    "        targs_form.append([a])\n",
    "        preds_form.append(p)\n",
    "        results.append((a, p, BLEU1, BLEU2, BLEU4))\n",
    "    BLEU4 = bleu_score.corpus_bleu(targs_form, preds, weights=(0.25,0.25, 0.25,0.25))\n",
    "    BLEU2 = bleu_score.corpus_bleu(targs_form, preds, weights=(0.5,0.5))\n",
    "    BLEU1 = bleu_score.corpus_bleu(targs_form, preds, weights=([1]))\n",
    "    bleu_mean = [np.mean(v) for v in bleu_d.values()]\n",
    "    bleu_median = [np.median(v) for v in bleu_d.values()]\n",
    "    plt.figure()\n",
    "    #print max(bleu.keys())+1, len(bleu_mean)\n",
    "    #X = range(1,max(bleu.keys())+1)\n",
    "    plt.plot(bleu_d.keys(), bleu_mean, label='Mean')\n",
    "    plt.scatter(bleu_d.keys(), bleu_median, label='Median')\n",
    "    #print zip(bleu_d.keys(),bleu_mean)\n",
    "    plt.ylabel(\"Average BLEU\"+str(Ngram_len))\n",
    "    plt.xlabel(\"Sequence Length\")\n",
    "    plt.title(titl_suf)\n",
    "    plt.legend()\n",
    "    plt.xlim(0,20)\n",
    "    plt.ylim(0,1)\n",
    "    plt.show()\n",
    "    print'{} Corpus BLEU4: {:.5f} \\t BLEU2: {:.5f} \\t BLEU1: {:.5f}\\n'.format(lab, BLEU4, BLEU2, BLEU1)\n",
    "    return results\n",
    "\n",
    "\n",
    "\n",
    "# mean = 0.27129"
   ]
  },
  {
   "cell_type": "code",
   "execution_count": 172,
   "metadata": {
    "collapsed": false,
    "deletable": true,
    "editable": true
   },
   "outputs": [
    {
     "data": {
      "image/png": "[encoded data removed]",
      "text/plain": [
       "<matplotlib.figure.Figure at 0x12860ad10>"
      ]
     },
     "metadata": {},
     "output_type": "display_data"
    },
    {
     "name": "stdout",
     "output_type": "stream",
     "text": [
      "NMT Corpus BLEU4: 0.05259 \t BLEU2: 0.14169 \t BLEU1: 0.27739\n",
      "\n",
      "[18227 16806  5728  6331  5916  5916  5916     1     1     1     1     0\n",
      "     0     0     0     0     0     0     0     0     0     0]\n",
      "video projection\n",
      "video projection\n",
      "projections video 1.0 1.0 1.0 \n",
      "\n",
      "slow growth\n",
      "slow growth\n",
      "growth spring 1.0 1.0 1.0 \n",
      "\n",
      "launch of the international year of freshwater 2003\n",
      "launch of the year year the freshwater 2003\n",
      "launching from l&apos year international from l&apos water fresh 2003 0.75 0.566946709514 0.481097729098 \n",
      "\n",
      "it accurately portrays the agency &aposs plans and priorities\n",
      "it accurately portrays the organisation &aposs plans and priorities\n",
      "the described faithfully the plans and the priorities from l&apos organisation 0.888888888889 0.816496580928 0.596949179202 \n",
      "\n",
      "home &gt the canadian encyclopedia &gt biography &gt playwrights &gt deverell rex print version\n",
      "home &gt the canadian encyclopedia &gt biography &gt <UNK> &gt <UNK> <UNK> print version\n",
      "Home &gt l&apos encyclopedia Canadian &gt biography &gt dramaturges &gt deverell rex for to print 0.785714285714 0.695353495365 0.57575756362 \n",
      "\n",
      "annex xi\n",
      "annex xi\n",
      "Annex like 1.0 1.0 1.0 \n",
      "\n",
      "policy development or modification\n",
      "development or modification\n",
      "elaboration or modification from policies 0.716531310574 0.716531310574 0.716531310574 \n",
      "\n",
      "that is another characteristic of my candidacy\n",
      "that is a another consequence of my candidacy\n",
      "after East was a other signification from What candidature 0.75 0.566946709514 0.481097729098 \n",
      "\n",
      "preventive measures\n",
      "preventive measures\n",
      "measures preventive 1.0 1.0 1.0 \n",
      "\n",
      "exhibit\n",
      "exhibit\n",
      "exposition 1.0 1.0 1.0 \n",
      "\n",
      "if these issues are not dealt with specifically an implicit rule might be drawn\n",
      "if these issues are not dealt with a implicit implicit would be drawn\n",
      "and these questions born are not adjusted from way specific a rule implicit could be deducted 0.712277752802 0.620268109634 0.494874892252 \n",
      "\n",
      "abstract prepared by ben beaumont\n",
      "abstract prepared by ben beaumont\n",
      "summary established by this beaumont 1.0 1.0 1.0 \n",
      "\n",
      "when would you like to stay at the limerick strand hotel ?\n",
      "when would you like to stay at the strand strand hotel\n",
      "at those period You want stay in l&apos establishment following limerick strand hotel ? 0.830091560257 0.778694907265 0.677470202987 \n",
      "\n",
      "emerging consensus\n",
      "emerging consensus\n",
      "consensus emergent 1.0 1.0 1.0 \n",
      "\n",
      "mcguffin m kartesz jt leung ay tucker ao\n",
      "mcguffin hickey kartesz jt leung ay tucker ao\n",
      "mcguffin m. j.t. Kartz a. Y. leung to. tucker 0.875 0.790569415042 0.707106781187 \n",
      "\n",
      "see corfu channel i.c.j.\n",
      "see corfu channel case i.c.j.\n",
      "see case of strait from corf c.i.j. 0.8 0.632455532034 0.604275079471 \n",
      "\n",
      "66th plenary meeting 3 december 2004\n",
      "66th plenary meeting 3 december 2004\n",
      "66th meeting plenary 3 December 2004 1.0 1.0 1.0 \n",
      "\n",
      "institutional publications\n",
      "institutional publications\n",
      "publications institutional 1.0 1.0 1.0 \n",
      "\n",
      "possibly\n",
      "possibly\n",
      "after East possible 1.0 1.0 1.0 \n",
      "\n",
      "south pacific\n",
      "south pacific\n",
      "peaceful South 1.0 1.0 1.0 \n",
      "\n",
      "decision of the tribunal the appeals are dismissed\n",
      "the of the the appeals dismissed are dismissed\n",
      "decision of tribunal the call are rejected 0.75 0.566946709514 0.752958637319 \n",
      "\n",
      "internal oversight\n",
      "internal oversight\n",
      "control internal 1.0 1.0 1.0 \n",
      "\n",
      "sharon watts president and chief executive officer\n",
      "chief <UNK> executive president and executive officer\n",
      "sharon watts headmistress General and first Management 0.714285714286 0.487950036474 0.698534205658 \n",
      "\n",
      "guilty pleas reduce the length of trials\n",
      "guilty pleas reduce the length trials trials\n",
      "the pleas from guilt shorten the duration of the trial 0.857142857143 0.755928946018 0.643458884161 \n",
      "\n",
      "rate group ii 16 cents per mile or 10 cents per kilometre\n",
      "rate group ii 16 cents per mile or 10 cents per kilometre\n",
      "group ii 10 cents by kilometer or 16 cents by mile 1.0 1.0 1.0 \n",
      "\n",
      "click thumbnail to see a larger photo of le méridien beach plaza\n",
      "click thumbnail to see a larger photo of the plaza beach\n",
      "click sure a vignette for get a photo plus big from the méridien beach plaza 0.830091560257 0.728402387953 0.655227643641 \n",
      "\n",
      "b conditions for the illumination of stop lamps\n",
      "b conditions of the stop lamps lamps\n",
      "b conditions relatives at l&apos illumination of the fires stop 0.743038199786 0.463365728147 0.633783487662 \n",
      "\n",
      "coles fisheries limited contact\n",
      "coles fisheries limited contact\n",
      "coles fisheries limited contact after business 1.0 1.0 1.0 \n",
      "\n",
      "c evidence gathering and cooperation issues in hard-core cartel investigations and\n",
      "c technical gathering in cooperation investigations hard-core cartel cartels and\n",
      "c information and cooperation in the investigations sure the agreements unjustifiable 0.723869934429 0.269770396709 0.494063102468 \n",
      "\n",
      "f pressure receptacles are transported in an outer packaging\n",
      "f pressure receptacles are transported in operating packaging\n",
      "f transporter of the containers at pression in of the packaging Outside 0.772184789762 0.697675060053 0.624019544194 \n",
      "\n",
      "stewart l. coffin address\n",
      "stewart l. coffin address\n",
      "stewart l. coffin address 1.0 1.0 1.0 \n",
      "\n",
      "h.e. ms. margaret beckett\n",
      "ms. margaret beckett\n",
      "ms margaret beckett 0.716531310574 0.716531310574 0.716531310574 \n",
      "\n",
      "co-operation with non-governmental organisations\n",
      "co-operation with non-governmental organizations\n",
      "cooperation with the organisations non government 0.75 0.707106781187 0.707106781187 \n",
      "\n",
      "it is the bastion of our democracy\n",
      "it is the fight of our democracy\n",
      "after East the rampart from our democracy 0.857142857143 0.755928946018 0.691441569284 \n",
      "\n",
      "the guest reviews are submitted by our customers after their stay at classical egnatia grand\n",
      "the guest reviews are submitted by our customers after their stay at <UNK> <UNK>\n",
      "here is the comments done by we clients after their stay in this establishment classical egnatia grand 0.798053811175 0.792921579091 0.780767533659 \n",
      "\n",
      "poverty is widespread\n",
      "poverty is widespread\n",
      "the poverty East widely widespread 1.0 1.0 1.0 \n",
      "\n",
      "• international relations\n",
      "• international relations\n",
      "• relations international 1.0 1.0 1.0 \n",
      "\n",
      "policing issues\n",
      "policing issues\n",
      "at. retention from l&apos order 1.0 1.0 1.0 \n",
      "\n",
      "that was unavoidable\n",
      "that was unavoidable\n",
      "it was inevitable 1.0 1.0 1.0 \n",
      "\n",
      "steven d &aposarcy of\n",
      "steven d &aposarcy\n",
      "steven after arcy cabinet 0.716531310574 0.716531310574 0.716531310574 \n",
      "\n",
      "cocaine\n",
      "cocaine\n",
      "cocaine 1.0 1.0 1.0 \n",
      "\n",
      "problem\n",
      "problem\n",
      "problem 1.0 1.0 1.0 \n",
      "\n",
      "11-13 chemin des anémones\n",
      "11-13 chemin des anémones\n",
      "11-13 path of the anemones 1.0 1.0 1.0 \n",
      "\n",
      "birth registration\n",
      "birth registration\n",
      "recording of the births 1.0 1.0 1.0 \n",
      "\n",
      "42nd plenary meeting\n",
      "42nd plenary meeting\n",
      "42e meeting plenary 1.0 1.0 1.0 \n",
      "\n",
      "ms. olivia chibanda third secretary\n",
      "ms. olivia <UNK> third secretary\n",
      "Mrs olivia skin third secretary 0.8 0.632455532034 0.795270728767 \n",
      "\n",
      "the stratospheric ozone layer prevents most ultraviolet radiation from reaching the earth\n",
      "the ozone ozone layer prevents ultraviolet ultraviolet radiation reaching reaching the earth\n",
      "the layer after ozone stratospheric stop l&apos essential of influence ultraviolet after reach the terre 0.75 0.583874208121 0.510995581129 \n",
      "\n",
      "loud applause\n",
      "loud applause\n",
      "bright applause 1.0 1.0 1.0 \n",
      "\n",
      "tripoli 16 july 2007\n",
      "26 16 july 2007\n",
      "tripoli the 16 July 2007 0.75 0.707106781187 0.707106781187 \n",
      "\n",
      "• gallagher kelly director of regional affairs\n",
      "• gallagher kelly director of of affairs\n",
      "• gallagher kelly headmistress of the business regional 0.857142857143 0.755928946018 0.643458884161 \n",
      "\n"
     ]
    }
   ],
   "source": [
    "preds = load_obj('short_data/Predictions_70_noembed/predictions30')\n",
    "#BM_translated = zip(*load_obj('short_data/BM_translated'))[1]\n",
    "actuals, preds = raw_t_test, [unicode(ids_to_phrases(format_idx(p), id2word_t), 'utf-8').split(' ') for p in preds[1]]\n",
    "\n",
    "r1 = BLEU_analysis(preds, raw_t_test, Ngram_len = 1, titl_suf='NMT: 30 epochs and FPP=0.7')\n",
    "#r4 = BLEU_analysis(predictions, raw_t_test, Ngram_len = 4, titl_suf=': 30 epochs and FPP=0.7')\n",
    "\n",
    "\"\"\"\n",
    "preds = load_obj('short_data/Predictions_70_noembed/predictions35')\n",
    "actuals, preds = raw_t_test, [unicode(ids_to_phrases(format_idx(p), id2word_t), 'utf-8').split(' ') for p in preds[1]]\n",
    "\n",
    "\n",
    "r1 = BLEU_analysis(predictions, raw_t_test, Ngram_len = 1, titl_suf='NMT: 30 epochs and FPP=0.7')\n",
    "\n",
    "\n",
    "b1_nmt = [b1 for a, p, b1, b2, b4 in r1]\n",
    "\"\"\"\n",
    "bm = p\n",
    "print bm\n",
    "#np.random.shuffle(r1)\n",
    "for i, dat in enumerate(r1[0:1000]):\n",
    "    a, pred, b1, b2, b4 = dat\n",
    "    if b1> 0.7:\n",
    "        print  u' '.join(a)\n",
    "        print  u' '.join(pred)\n",
    "        print u' '.join(BM_trans_1[i]), b1, b2, b4, '\\n'\n",
    "    #if u'it accurately portrays' in u' '.join(a):\n",
    "    #    print a, p, b1, b2, b4\n",
    "    \"\"\"\n",
    "    try:\n",
    "        print u\"Target: {} \\nPrediction: {} \\n b1: {:.3f} b2: {:.3f} b4: {:.3f}\\n\".format(\n",
    "                                                            u' '.join(a), \n",
    "                                                            unicode(u' '.join(p).encode('utf-8)', 'utf-8')), \n",
    "                                                            b1, b2, b4)\n",
    "    except Exception as err:\n",
    "        print a\n",
    "        print p\n",
    "        print err\n",
    "    \"\"\"\n",
    "\n",
    "#print b1_nmt.count(0.)"
   ]
  },
  {
   "cell_type": "code",
   "execution_count": 159,
   "metadata": {
    "collapsed": false,
    "deletable": true,
    "editable": true,
    "scrolled": true
   },
   "outputs": [
    {
     "data": {
      "image/png": "[encoded data removed]",
      "text/plain": [
       "<matplotlib.figure.Figure at 0x11e4dec90>"
      ]
     },
     "metadata": {},
     "output_type": "display_data"
    },
    {
     "name": "stdout",
     "output_type": "stream",
     "text": [
      "BM Corpus BLEU4: 0.09048 \t BLEU2: 0.19531 \t BLEU1: 0.34210\n",
      "\n"
     ]
    },
    {
     "data": {
      "text/plain": [
       "'\\nfor a, p, b1, b2, b4 in r_bm[0:200]:\\n    try:\\n        print u\"Target: {} \\nPrediction: {} \\n b1: {:.3f} b2: {:.3f} b4: {:.3f}\\n\".format(\\n                                                            u\\' \\'.join(a), \\n                                                            unicode(u\\' \\'.join(p).encode(\\'utf-8)\\', \\'utf-8\\')), \\n                                                            b1, b2, b4)\\n    except Exception as err:\\n        print err\\n        print a\\n        print p\\n'"
      ]
     },
     "execution_count": 159,
     "metadata": {},
     "output_type": "execute_result"
    }
   ],
   "source": [
    "#BM_translated = load_obj('short_data/BM_translated')\n",
    "#preds_BM = BM_translated\n",
    "#print preds_BM\n",
    "\n",
    "r_bm = BLEU_analysis(p, raw_t_test[0:1000], Ngram_len=1, titl_suf='Benchmark Model', lab=\"BM\")\n",
    "#b1_bm = [b1 for a, p, b1, b2, b4 in r_bm]\n",
    "#print b1_bm.count(0.)\n",
    "\"\"\"\n",
    "for a, p, b1, b2, b4 in r_bm[0:200]:\n",
    "    try:\n",
    "        print u\"Target: {} \\nPrediction: {} \\n b1: {:.3f} b2: {:.3f} b4: {:.3f}\\n\".format(\n",
    "                                                            u' '.join(a), \n",
    "                                                            unicode(u' '.join(p).encode('utf-8)', 'utf-8')), \n",
    "                                                            b1, b2, b4)\n",
    "    except Exception as err:\n",
    "        print err\n",
    "        print a\n",
    "        print p\n",
    "\"\"\"\n",
    "#BLEU_analysis(preds_BM, raw_t_test, Ngram_len=4)"
   ]
  },
  {
   "cell_type": "code",
   "execution_count": 86,
   "metadata": {
    "collapsed": false,
    "deletable": true,
    "editable": true
   },
   "outputs": [
    {
     "name": "stdout",
     "output_type": "stream",
     "text": [
      "ibid pp. 198 and 199 ibid p. 198 and 199\n",
      "communications &amp public relations communications and relations public\n",
      "mr. raymond leigh mills m. raymond leigh mills\n",
      "measurement and possible adverse effects &quot hhs publication fda 81-8163 may 1981 measurement and possible adverse effects &quot hhs publication fda 81-8163 May 1981\n",
      "national and transnational differences differences national and international\n",
      "gosden t torgerson dj maynard a. what is to be done about fundholding ? 16 gosden t torgerson dj maynard a. what is to be done about fundholding ?\n",
      "learning from the suffolk system &quot journal of money credit and banking vol learning from the suffolk system journal of money credit and banking vol.\n",
      "guerin m.r. r.a. jenkins and b.a. tomkins guerin M.R. r.a. jenkins and b.a. tomkins\n",
      "preventive measures measures preventive\n",
      "milenio ambiental n ° 4 - risk management people maria noel estrada ortiz millennium environmental n ° 4 - risk management people maria noel estrada ortiz\n",
      "22027\n",
      "63.9487901212\n"
     ]
    }
   ],
   "source": [
    "import nltk\n",
    "flat = []\n",
    "flat_a = []\n",
    "for a, p, b1, b2, b4 in r_bm:\n",
    "    flat += p\n",
    "    flat_a += a\n",
    "    try:\n",
    "        if b1 > 0.7:\n",
    "            print ' '.join(a), ' '.join(p)\n",
    "            #try:\n",
    "            #    print \"Target: {} \\nPrediction: {} \\n b1: {:.3f} b2: {:.3f} b4: {:.3f}\\n\".format(\n",
    "        #                                                      ' '.join(a), ' '.join(p), b1, b2, b4)\n",
    "    except Exception as err:\n",
    "        print a\n",
    "        print p\n",
    "        print err\n",
    "fd = nltk.FreqDist(flat)\n",
    "fd_keys = fd.keys()\n",
    "fd_a = nltk.FreqDist(flat_a)\n",
    "fd_keys_a = fd_a.keys()\n",
    "print len(fd_keys)\n",
    "counts = 0\n",
    "for k in fd_keys:\n",
    "    if k in fd_a.keys():\n",
    "        counts += 1\n",
    "print \"Percentage of benchmark vocabulary within the target corpus vocabulary: {:0.3f}\".format(\n",
    "                                                                100*(counts/float(len(fd_keys))))"
   ]
  },
  {
   "cell_type": "code",
   "execution_count": 162,
   "metadata": {
    "collapsed": false,
    "deletable": true,
    "editable": true
   },
   "outputs": [
    {
     "name": "stdout",
     "output_type": "stream",
     "text": [
      "Ground truth\n",
      "Min: 1  Max: 15  Mean: 9.36   Median: 10.0   Mode: 10   1st Quart.: 7.0   IQR: 5.0   3rd Quart.: 12.0\n",
      "Dictionary method\n",
      "Min: 1  Max: 18  Mean: 11.03   Median: 11.0   Mode: 12   1st Quart.: 8.0   IQR: 7.0   3rd Quart.: 15.0\n"
     ]
    }
   ],
   "source": [
    "from utils import sequence_stats\n",
    "print \"Ground truth\"\n",
    "sequence_stats(raw_t_test)\n",
    "#print \"NMT\"\n",
    "#from utils import sequence_stats\n",
    "#sequence_stats(predictions)\n",
    "print \"Dictionary method\"\n",
    "sequence_stats(p)"
   ]
  },
  {
   "cell_type": "code",
   "execution_count": null,
   "metadata": {
    "collapsed": true,
    "deletable": true,
    "editable": true
   },
   "outputs": [],
   "source": []
  },
  {
   "cell_type": "code",
   "execution_count": 142,
   "metadata": {
    "collapsed": false,
    "deletable": true,
    "editable": true
   },
   "outputs": [
    {
     "name": "stdout",
     "output_type": "stream",
     "text": [
      "1112 1045\n"
     ]
    },
    {
     "data": {
      "image/png": "[encoded data removed]",
      "text/plain": [
       "<matplotlib.figure.Figure at 0x1301a9b10>"
      ]
     },
     "metadata": {},
     "output_type": "display_data"
    },
    {
     "data": {
      "text/plain": [
       "'\\nl_a= load_obj(\"DATA/loss_track_a\")\\nl_b= load_obj(\"DATA/loss_track_b\")\\nl_c= load_obj(\"DATA/loss_track_c\")\\nl_58= load_obj(\"DATA/loss_track_58\")\\nl_59= load_obj(\"DATA/loss_track_59\")\\nl_61= load_obj(\"DATA/loss_track_61\")\\nl_62= load_obj(\"DATA/loss_track_62\")\\nwhile len(l_c)< len(l_b):\\n    l_c.append(0)\\n#l_128\\nbatches = 35000/51\\nticks = [(batches*i, i) for i in range(1,51)]\\nfig = plt.figure()\\n\\nplt.plot(30*np.arange(0,len(l_c)),l_c, label=\\'$P_f=0$\\')\\n#plt.\\nfig = plt.figure()\\nT = 100*np.arange(0,len(l_58))\\nplt.plot(30*np.arange(0,len(l_a)),l_a, label=\\'$P_f=1$\\' )\\nplt.plot(30*np.arange(0,len(l_b)),l_b, label=\\'$P_f=0.5$\\')\\nplt.plot(T,l_62, label=r\"$P_f=0.2$\")\\nplt.plot(30*np.arange(0,len(l_c)),l_c, label=\\'$P_f=0$\\')\\nplt.plot(T,l_58, label=r\"$N_h=512$ annealed\")\\nplt.plot(T,l_59, label=r\"$N_h=256$ annealed\")\\n\\n#plt.plot(T,l_61, label=r\"$N_h=256$, $P_f=0.2$\")\\n\\nplt.legend(loc=\\'upper center\\', bbox_to_anchor=(0.5, 1.25),\\n          ncol=3, fancybox=True, shadow=True)\\nplt.ylabel(\\'Batch Loss\\')\\nplt.xlabel(\\'Batch Number\\')\\nplt.xlim(0,35000)\\nplt.ylim(0,6)\\nplt.show()\\n'"
      ]
     },
     "execution_count": 142,
     "metadata": {},
     "output_type": "execute_result"
    }
   ],
   "source": [
    "import matplotlib.pyplot as plt\n",
    "from matplotlib.font_manager import FontProperties\n",
    "from utils import *\n",
    "plt.figure()\n",
    "l_a= load_obj(\"fp_06_data/loss_track8\")\n",
    "l_b= load_obj(\"fp_02_data/loss_track8\")\n",
    "print len(l_a), len(l_b)\n",
    "plt.plot(l_a)\n",
    "plt.plot(l_b)\n",
    "plt.ylim(0,6)\n",
    "plt.show()\n",
    "#l_c= load_obj(\"DATA/loss_track_c\")\n",
    "\"\"\"\n",
    "l_a= load_obj(\"DATA/loss_track_a\")\n",
    "l_b= load_obj(\"DATA/loss_track_b\")\n",
    "l_c= load_obj(\"DATA/loss_track_c\")\n",
    "l_58= load_obj(\"DATA/loss_track_58\")\n",
    "l_59= load_obj(\"DATA/loss_track_59\")\n",
    "l_61= load_obj(\"DATA/loss_track_61\")\n",
    "l_62= load_obj(\"DATA/loss_track_62\")\n",
    "while len(l_c)< len(l_b):\n",
    "    l_c.append(0)\n",
    "#l_128\n",
    "batches = 35000/51\n",
    "ticks = [(batches*i, i) for i in range(1,51)]\n",
    "fig = plt.figure()\n",
    "\n",
    "plt.plot(30*np.arange(0,len(l_c)),l_c, label='$P_f=0$')\n",
    "#plt.\n",
    "fig = plt.figure()\n",
    "T = 100*np.arange(0,len(l_58))\n",
    "plt.plot(30*np.arange(0,len(l_a)),l_a, label='$P_f=1$' )\n",
    "plt.plot(30*np.arange(0,len(l_b)),l_b, label='$P_f=0.5$')\n",
    "plt.plot(T,l_62, label=r\"$P_f=0.2$\")\n",
    "plt.plot(30*np.arange(0,len(l_c)),l_c, label='$P_f=0$')\n",
    "plt.plot(T,l_58, label=r\"$N_h=512$ annealed\")\n",
    "plt.plot(T,l_59, label=r\"$N_h=256$ annealed\")\n",
    "\n",
    "#plt.plot(T,l_61, label=r\"$N_h=256$, $P_f=0.2$\")\n",
    "\n",
    "plt.legend(loc='upper center', bbox_to_anchor=(0.5, 1.25),\n",
    "          ncol=3, fancybox=True, shadow=True)\n",
    "plt.ylabel('Batch Loss')\n",
    "plt.xlabel('Batch Number')\n",
    "plt.xlim(0,35000)\n",
    "plt.ylim(0,6)\n",
    "plt.show()\n",
    "\"\"\""
   ]
  },
  {
   "cell_type": "code",
   "execution_count": 24,
   "metadata": {
    "collapsed": false,
    "deletable": true,
    "editable": true
   },
   "outputs": [
    {
     "ename": "NotFoundError",
     "evalue": "Unsuccessful TensorSliceReader constructor: Failed to find any matching files for fp_06_data/nmt_8/\n\t [[Node: save_39/RestoreV2_12 = RestoreV2[dtypes=[DT_FLOAT], _device=\"/job:localhost/replica:0/task:0/cpu:0\"](_recv_save_39/Const_0, save_39/RestoreV2_12/tensor_names, save_39/RestoreV2_12/shape_and_slices)]]\n\nCaused by op u'save_39/RestoreV2_12', defined at:\n  File \"/usr/local/Cellar/python/2.7.12_2/Frameworks/Python.framework/Versions/2.7/lib/python2.7/runpy.py\", line 174, in _run_module_as_main\n    \"__main__\", fname, loader, pkg_name)\n  File \"/usr/local/Cellar/python/2.7.12_2/Frameworks/Python.framework/Versions/2.7/lib/python2.7/runpy.py\", line 72, in _run_code\n    exec code in run_globals\n  File \"/usr/local/lib/python2.7/site-packages/ipykernel/__main__.py\", line 3, in <module>\n    app.launch_new_instance()\n  File \"/usr/local/lib/python2.7/site-packages/traitlets/config/application.py\", line 658, in launch_instance\n    app.start()\n  File \"/usr/local/lib/python2.7/site-packages/ipykernel/kernelapp.py\", line 474, in start\n    ioloop.IOLoop.instance().start()\n  File \"/usr/local/lib/python2.7/site-packages/zmq/eventloop/ioloop.py\", line 177, in start\n    super(ZMQIOLoop, self).start()\n  File \"/usr/local/lib/python2.7/site-packages/tornado/ioloop.py\", line 887, in start\n    handler_func(fd_obj, events)\n  File \"/usr/local/lib/python2.7/site-packages/tornado/stack_context.py\", line 275, in null_wrapper\n    return fn(*args, **kwargs)\n  File \"/usr/local/lib/python2.7/site-packages/zmq/eventloop/zmqstream.py\", line 440, in _handle_events\n    self._handle_recv()\n  File \"/usr/local/lib/python2.7/site-packages/zmq/eventloop/zmqstream.py\", line 472, in _handle_recv\n    self._run_callback(callback, msg)\n  File \"/usr/local/lib/python2.7/site-packages/zmq/eventloop/zmqstream.py\", line 414, in _run_callback\n    callback(*args, **kwargs)\n  File \"/usr/local/lib/python2.7/site-packages/tornado/stack_context.py\", line 275, in null_wrapper\n    return fn(*args, **kwargs)\n  File \"/usr/local/lib/python2.7/site-packages/ipykernel/kernelbase.py\", line 276, in dispatcher\n    return self.dispatch_shell(stream, msg)\n  File \"/usr/local/lib/python2.7/site-packages/ipykernel/kernelbase.py\", line 228, in dispatch_shell\n    handler(stream, idents, msg)\n  File \"/usr/local/lib/python2.7/site-packages/ipykernel/kernelbase.py\", line 390, in execute_request\n    user_expressions, allow_stdin)\n  File \"/usr/local/lib/python2.7/site-packages/ipykernel/ipkernel.py\", line 196, in do_execute\n    res = shell.run_cell(code, store_history=store_history, silent=silent)\n  File \"/usr/local/lib/python2.7/site-packages/ipykernel/zmqshell.py\", line 501, in run_cell\n    return super(ZMQInteractiveShell, self).run_cell(*args, **kwargs)\n  File \"/usr/local/lib/python2.7/site-packages/IPython/core/interactiveshell.py\", line 2717, in run_cell\n    interactivity=interactivity, compiler=compiler, result=result)\n  File \"/usr/local/lib/python2.7/site-packages/IPython/core/interactiveshell.py\", line 2827, in run_ast_nodes\n    if self.run_code(code, result):\n  File \"/usr/local/lib/python2.7/site-packages/IPython/core/interactiveshell.py\", line 2881, in run_code\n    exec(code_obj, self.user_global_ns, self.user_ns)\n  File \"<ipython-input-24-a6fb770cd285>\", line 76, in <module>\n    test_model()\n  File \"<ipython-input-24-a6fb770cd285>\", line 15, in test_model\n    loader = tf.train.import_meta_graph(log_dir+'model.ckpt-40'+ '.meta')\n  File \"/usr/local/lib/python2.7/site-packages/tensorflow/python/training/saver.py\", line 1595, in import_meta_graph\n    **kwargs)\n  File \"/usr/local/lib/python2.7/site-packages/tensorflow/python/framework/meta_graph.py\", line 499, in import_scoped_meta_graph\n    producer_op_list=producer_op_list)\n  File \"/usr/local/lib/python2.7/site-packages/tensorflow/python/framework/importer.py\", line 308, in import_graph_def\n    op_def=op_def)\n  File \"/usr/local/lib/python2.7/site-packages/tensorflow/python/framework/ops.py\", line 2336, in create_op\n    original_op=self._default_original_op, op_def=op_def)\n  File \"/usr/local/lib/python2.7/site-packages/tensorflow/python/framework/ops.py\", line 1228, in __init__\n    self._traceback = _extract_stack()\n\nNotFoundError (see above for traceback): Unsuccessful TensorSliceReader constructor: Failed to find any matching files for fp_06_data/nmt_8/\n\t [[Node: save_39/RestoreV2_12 = RestoreV2[dtypes=[DT_FLOAT], _device=\"/job:localhost/replica:0/task:0/cpu:0\"](_recv_save_39/Const_0, save_39/RestoreV2_12/tensor_names, save_39/RestoreV2_12/shape_and_slices)]]\n",
     "output_type": "error",
     "traceback": [
      "\u001b[0;31m---------------------------------------------------------------------------\u001b[0m",
      "\u001b[0;31mNotFoundError\u001b[0m                             Traceback (most recent call last)",
      "\u001b[0;32m<ipython-input-24-a6fb770cd285>\u001b[0m in \u001b[0;36m<module>\u001b[0;34m()\u001b[0m\n\u001b[1;32m     74\u001b[0m \"\"\"\n\u001b[1;32m     75\u001b[0m \u001b[0;34m\u001b[0m\u001b[0m\n\u001b[0;32m---> 76\u001b[0;31m \u001b[0mtest_model\u001b[0m\u001b[0;34m(\u001b[0m\u001b[0;34m)\u001b[0m\u001b[0;34m\u001b[0m\u001b[0m\n\u001b[0m",
      "\u001b[0;32m<ipython-input-24-a6fb770cd285>\u001b[0m in \u001b[0;36mtest_model\u001b[0;34m()\u001b[0m\n\u001b[1;32m     14\u001b[0m         \u001b[0;32mif\u001b[0m \u001b[0mtesting_only\u001b[0m\u001b[0;34m:\u001b[0m\u001b[0;34m\u001b[0m\u001b[0m\n\u001b[1;32m     15\u001b[0m             \u001b[0mloader\u001b[0m \u001b[0;34m=\u001b[0m \u001b[0mtf\u001b[0m\u001b[0;34m.\u001b[0m\u001b[0mtrain\u001b[0m\u001b[0;34m.\u001b[0m\u001b[0mimport_meta_graph\u001b[0m\u001b[0;34m(\u001b[0m\u001b[0mlog_dir\u001b[0m\u001b[0;34m+\u001b[0m\u001b[0;34m'model.ckpt-40'\u001b[0m\u001b[0;34m+\u001b[0m \u001b[0;34m'.meta'\u001b[0m\u001b[0;34m)\u001b[0m\u001b[0;34m\u001b[0m\u001b[0m\n\u001b[0;32m---> 16\u001b[0;31m             \u001b[0mloader\u001b[0m\u001b[0;34m.\u001b[0m\u001b[0mrestore\u001b[0m\u001b[0;34m(\u001b[0m\u001b[0msess\u001b[0m\u001b[0;34m,\u001b[0m \u001b[0mlog_dir\u001b[0m\u001b[0;34m)\u001b[0m\u001b[0;34m\u001b[0m\u001b[0m\n\u001b[0m\u001b[1;32m     17\u001b[0m         \u001b[0mpredictions\u001b[0m\u001b[0;34m,\u001b[0m \u001b[0mactuals\u001b[0m \u001b[0;34m=\u001b[0m \u001b[0;34m[\u001b[0m\u001b[0;34m]\u001b[0m\u001b[0;34m,\u001b[0m \u001b[0;34m[\u001b[0m\u001b[0;34m]\u001b[0m\u001b[0;34m\u001b[0m\u001b[0m\n\u001b[1;32m     18\u001b[0m         \u001b[0mfd_keys\u001b[0m \u001b[0;34m=\u001b[0m \u001b[0;34m[\u001b[0m\u001b[0mencoder_inputs\u001b[0m\u001b[0;34m,\u001b[0m \u001b[0mdecoder_inputs\u001b[0m\u001b[0;34m,\u001b[0m \u001b[0mdecoder_targets\u001b[0m\u001b[0;34m]\u001b[0m\u001b[0;34m\u001b[0m\u001b[0m\n",
      "\u001b[0;32m/usr/local/lib/python2.7/site-packages/tensorflow/python/training/saver.pyc\u001b[0m in \u001b[0;36mrestore\u001b[0;34m(self, sess, save_path)\u001b[0m\n\u001b[1;32m   1455\u001b[0m     \u001b[0mlogging\u001b[0m\u001b[0;34m.\u001b[0m\u001b[0minfo\u001b[0m\u001b[0;34m(\u001b[0m\u001b[0;34m\"Restoring parameters from %s\"\u001b[0m\u001b[0;34m,\u001b[0m \u001b[0msave_path\u001b[0m\u001b[0;34m)\u001b[0m\u001b[0;34m\u001b[0m\u001b[0m\n\u001b[1;32m   1456\u001b[0m     sess.run(self.saver_def.restore_op_name,\n\u001b[0;32m-> 1457\u001b[0;31m              {self.saver_def.filename_tensor_name: save_path})\n\u001b[0m\u001b[1;32m   1458\u001b[0m \u001b[0;34m\u001b[0m\u001b[0m\n\u001b[1;32m   1459\u001b[0m   \u001b[0;34m@\u001b[0m\u001b[0mstaticmethod\u001b[0m\u001b[0;34m\u001b[0m\u001b[0m\n",
      "\u001b[0;32m/usr/local/lib/python2.7/site-packages/tensorflow/python/client/session.pyc\u001b[0m in \u001b[0;36mrun\u001b[0;34m(self, fetches, feed_dict, options, run_metadata)\u001b[0m\n\u001b[1;32m    776\u001b[0m     \u001b[0;32mtry\u001b[0m\u001b[0;34m:\u001b[0m\u001b[0;34m\u001b[0m\u001b[0m\n\u001b[1;32m    777\u001b[0m       result = self._run(None, fetches, feed_dict, options_ptr,\n\u001b[0;32m--> 778\u001b[0;31m                          run_metadata_ptr)\n\u001b[0m\u001b[1;32m    779\u001b[0m       \u001b[0;32mif\u001b[0m \u001b[0mrun_metadata\u001b[0m\u001b[0;34m:\u001b[0m\u001b[0;34m\u001b[0m\u001b[0m\n\u001b[1;32m    780\u001b[0m         \u001b[0mproto_data\u001b[0m \u001b[0;34m=\u001b[0m \u001b[0mtf_session\u001b[0m\u001b[0;34m.\u001b[0m\u001b[0mTF_GetBuffer\u001b[0m\u001b[0;34m(\u001b[0m\u001b[0mrun_metadata_ptr\u001b[0m\u001b[0;34m)\u001b[0m\u001b[0;34m\u001b[0m\u001b[0m\n",
      "\u001b[0;32m/usr/local/lib/python2.7/site-packages/tensorflow/python/client/session.pyc\u001b[0m in \u001b[0;36m_run\u001b[0;34m(self, handle, fetches, feed_dict, options, run_metadata)\u001b[0m\n\u001b[1;32m    980\u001b[0m     \u001b[0;32mif\u001b[0m \u001b[0mfinal_fetches\u001b[0m \u001b[0;32mor\u001b[0m \u001b[0mfinal_targets\u001b[0m\u001b[0;34m:\u001b[0m\u001b[0;34m\u001b[0m\u001b[0m\n\u001b[1;32m    981\u001b[0m       results = self._do_run(handle, final_targets, final_fetches,\n\u001b[0;32m--> 982\u001b[0;31m                              feed_dict_string, options, run_metadata)\n\u001b[0m\u001b[1;32m    983\u001b[0m     \u001b[0;32melse\u001b[0m\u001b[0;34m:\u001b[0m\u001b[0;34m\u001b[0m\u001b[0m\n\u001b[1;32m    984\u001b[0m       \u001b[0mresults\u001b[0m \u001b[0;34m=\u001b[0m \u001b[0;34m[\u001b[0m\u001b[0;34m]\u001b[0m\u001b[0;34m\u001b[0m\u001b[0m\n",
      "\u001b[0;32m/usr/local/lib/python2.7/site-packages/tensorflow/python/client/session.pyc\u001b[0m in \u001b[0;36m_do_run\u001b[0;34m(self, handle, target_list, fetch_list, feed_dict, options, run_metadata)\u001b[0m\n\u001b[1;32m   1030\u001b[0m     \u001b[0;32mif\u001b[0m \u001b[0mhandle\u001b[0m \u001b[0;32mis\u001b[0m \u001b[0mNone\u001b[0m\u001b[0;34m:\u001b[0m\u001b[0;34m\u001b[0m\u001b[0m\n\u001b[1;32m   1031\u001b[0m       return self._do_call(_run_fn, self._session, feed_dict, fetch_list,\n\u001b[0;32m-> 1032\u001b[0;31m                            target_list, options, run_metadata)\n\u001b[0m\u001b[1;32m   1033\u001b[0m     \u001b[0;32melse\u001b[0m\u001b[0;34m:\u001b[0m\u001b[0;34m\u001b[0m\u001b[0m\n\u001b[1;32m   1034\u001b[0m       return self._do_call(_prun_fn, self._session, handle, feed_dict,\n",
      "\u001b[0;32m/usr/local/lib/python2.7/site-packages/tensorflow/python/client/session.pyc\u001b[0m in \u001b[0;36m_do_call\u001b[0;34m(self, fn, *args)\u001b[0m\n\u001b[1;32m   1050\u001b[0m         \u001b[0;32mexcept\u001b[0m \u001b[0mKeyError\u001b[0m\u001b[0;34m:\u001b[0m\u001b[0;34m\u001b[0m\u001b[0m\n\u001b[1;32m   1051\u001b[0m           \u001b[0;32mpass\u001b[0m\u001b[0;34m\u001b[0m\u001b[0m\n\u001b[0;32m-> 1052\u001b[0;31m       \u001b[0;32mraise\u001b[0m \u001b[0mtype\u001b[0m\u001b[0;34m(\u001b[0m\u001b[0me\u001b[0m\u001b[0;34m)\u001b[0m\u001b[0;34m(\u001b[0m\u001b[0mnode_def\u001b[0m\u001b[0;34m,\u001b[0m \u001b[0mop\u001b[0m\u001b[0;34m,\u001b[0m \u001b[0mmessage\u001b[0m\u001b[0;34m)\u001b[0m\u001b[0;34m\u001b[0m\u001b[0m\n\u001b[0m\u001b[1;32m   1053\u001b[0m \u001b[0;34m\u001b[0m\u001b[0m\n\u001b[1;32m   1054\u001b[0m   \u001b[0;32mdef\u001b[0m \u001b[0m_extend_graph\u001b[0m\u001b[0;34m(\u001b[0m\u001b[0mself\u001b[0m\u001b[0;34m)\u001b[0m\u001b[0;34m:\u001b[0m\u001b[0;34m\u001b[0m\u001b[0m\n",
      "\u001b[0;31mNotFoundError\u001b[0m: Unsuccessful TensorSliceReader constructor: Failed to find any matching files for fp_06_data/nmt_8/\n\t [[Node: save_39/RestoreV2_12 = RestoreV2[dtypes=[DT_FLOAT], _device=\"/job:localhost/replica:0/task:0/cpu:0\"](_recv_save_39/Const_0, save_39/RestoreV2_12/tensor_names, save_39/RestoreV2_12/shape_and_slices)]]\n\nCaused by op u'save_39/RestoreV2_12', defined at:\n  File \"/usr/local/Cellar/python/2.7.12_2/Frameworks/Python.framework/Versions/2.7/lib/python2.7/runpy.py\", line 174, in _run_module_as_main\n    \"__main__\", fname, loader, pkg_name)\n  File \"/usr/local/Cellar/python/2.7.12_2/Frameworks/Python.framework/Versions/2.7/lib/python2.7/runpy.py\", line 72, in _run_code\n    exec code in run_globals\n  File \"/usr/local/lib/python2.7/site-packages/ipykernel/__main__.py\", line 3, in <module>\n    app.launch_new_instance()\n  File \"/usr/local/lib/python2.7/site-packages/traitlets/config/application.py\", line 658, in launch_instance\n    app.start()\n  File \"/usr/local/lib/python2.7/site-packages/ipykernel/kernelapp.py\", line 474, in start\n    ioloop.IOLoop.instance().start()\n  File \"/usr/local/lib/python2.7/site-packages/zmq/eventloop/ioloop.py\", line 177, in start\n    super(ZMQIOLoop, self).start()\n  File \"/usr/local/lib/python2.7/site-packages/tornado/ioloop.py\", line 887, in start\n    handler_func(fd_obj, events)\n  File \"/usr/local/lib/python2.7/site-packages/tornado/stack_context.py\", line 275, in null_wrapper\n    return fn(*args, **kwargs)\n  File \"/usr/local/lib/python2.7/site-packages/zmq/eventloop/zmqstream.py\", line 440, in _handle_events\n    self._handle_recv()\n  File \"/usr/local/lib/python2.7/site-packages/zmq/eventloop/zmqstream.py\", line 472, in _handle_recv\n    self._run_callback(callback, msg)\n  File \"/usr/local/lib/python2.7/site-packages/zmq/eventloop/zmqstream.py\", line 414, in _run_callback\n    callback(*args, **kwargs)\n  File \"/usr/local/lib/python2.7/site-packages/tornado/stack_context.py\", line 275, in null_wrapper\n    return fn(*args, **kwargs)\n  File \"/usr/local/lib/python2.7/site-packages/ipykernel/kernelbase.py\", line 276, in dispatcher\n    return self.dispatch_shell(stream, msg)\n  File \"/usr/local/lib/python2.7/site-packages/ipykernel/kernelbase.py\", line 228, in dispatch_shell\n    handler(stream, idents, msg)\n  File \"/usr/local/lib/python2.7/site-packages/ipykernel/kernelbase.py\", line 390, in execute_request\n    user_expressions, allow_stdin)\n  File \"/usr/local/lib/python2.7/site-packages/ipykernel/ipkernel.py\", line 196, in do_execute\n    res = shell.run_cell(code, store_history=store_history, silent=silent)\n  File \"/usr/local/lib/python2.7/site-packages/ipykernel/zmqshell.py\", line 501, in run_cell\n    return super(ZMQInteractiveShell, self).run_cell(*args, **kwargs)\n  File \"/usr/local/lib/python2.7/site-packages/IPython/core/interactiveshell.py\", line 2717, in run_cell\n    interactivity=interactivity, compiler=compiler, result=result)\n  File \"/usr/local/lib/python2.7/site-packages/IPython/core/interactiveshell.py\", line 2827, in run_ast_nodes\n    if self.run_code(code, result):\n  File \"/usr/local/lib/python2.7/site-packages/IPython/core/interactiveshell.py\", line 2881, in run_code\n    exec(code_obj, self.user_global_ns, self.user_ns)\n  File \"<ipython-input-24-a6fb770cd285>\", line 76, in <module>\n    test_model()\n  File \"<ipython-input-24-a6fb770cd285>\", line 15, in test_model\n    loader = tf.train.import_meta_graph(log_dir+'model.ckpt-40'+ '.meta')\n  File \"/usr/local/lib/python2.7/site-packages/tensorflow/python/training/saver.py\", line 1595, in import_meta_graph\n    **kwargs)\n  File \"/usr/local/lib/python2.7/site-packages/tensorflow/python/framework/meta_graph.py\", line 499, in import_scoped_meta_graph\n    producer_op_list=producer_op_list)\n  File \"/usr/local/lib/python2.7/site-packages/tensorflow/python/framework/importer.py\", line 308, in import_graph_def\n    op_def=op_def)\n  File \"/usr/local/lib/python2.7/site-packages/tensorflow/python/framework/ops.py\", line 2336, in create_op\n    original_op=self._default_original_op, op_def=op_def)\n  File \"/usr/local/lib/python2.7/site-packages/tensorflow/python/framework/ops.py\", line 1228, in __init__\n    self._traceback = _extract_stack()\n\nNotFoundError (see above for traceback): Unsuccessful TensorSliceReader constructor: Failed to find any matching files for fp_06_data/nmt_8/\n\t [[Node: save_39/RestoreV2_12 = RestoreV2[dtypes=[DT_FLOAT], _device=\"/job:localhost/replica:0/task:0/cpu:0\"](_recv_save_39/Const_0, save_39/RestoreV2_12/tensor_names, save_39/RestoreV2_12/shape_and_slices)]]\n"
     ]
    }
   ],
   "source": [
    "\"\"\"\n",
    "This was not used at all in getting the solution as in the report.\n",
    "\n",
    "\"\"\"\n",
    "\n",
    "import tensorflow as tf\n",
    "def test_model():\n",
    "    \"\"\"\n",
    "    Test the saved model against the test dataset\n",
    "    \"\"\"\n",
    "    \n",
    "    #raw_s_test = load_obj(\"DATA/source_test\") # Data for benchmark model \n",
    "    #raw_t_test = load_obj(\"DATA/target_test\") # Data for benchmark model \n",
    "    loaded_graph = tf.Graph()\n",
    "    \n",
    "    with tf.Session(graph=loaded_graph, config=tf.ConfigProto(log_device_placement=True,\n",
    "                                    allow_soft_placement=True)) as sess:\n",
    "        # Load model\n",
    "        if testing_only:\n",
    "            loader = tf.train.import_meta_graph(log_dir+'model.ckpt-40'+ '.meta')\n",
    "            loader.restore(sess, log_dir)\n",
    "        predictions, actuals = [], []\n",
    "        fd_keys = [encoder_inputs, decoder_inputs, decoder_targets]\n",
    "        try:\n",
    "            batch_n = 0\n",
    "            print \"testing has begun...\"\n",
    "            for s_batch, t_batch in batch_source_target(s_test, t_test, batch_size):\n",
    "                feed_dict = make_feed_dict(fd_keys, s_batch, t_batch,\n",
    "                                                reverse_encoder_inputs= True,\n",
    "                                                feed_previous_prob_= 1)\n",
    "                predict_ = sess.run(decoder_prediction, feed_dict)\n",
    "                for i, (inp, act, pred) in enumerate(zip(feed_dict[encoder_inputs].T,\n",
    "                                                         feed_dict[decoder_targets].T,\n",
    "                                                         predict_.T)):\n",
    "                    actuals.append([remove_EOS_PAD(act)])\n",
    "                    predictions.append(remove_EOS_PAD(pred))\n",
    "                    \n",
    "                    print \"batch number: \", batch_n\n",
    "                    print ('    actual     : {} \\n \\t {}'.format(\n",
    "                                     format_idx(act), ids_to_phrases(act, id2word_t)))\n",
    "                    print ('    predicted     : {} \\n \\t {}'.format(\n",
    "                                     format_idx(pred), ids_to_phrases(pred, id2word_t)))\n",
    "                    logging.info('    actual     : {} \\n \\t {}'.format(\n",
    "                                     format_idx(act), ids_to_phrases(act, id2word_t)))\n",
    "                    logging.info('    predicted     : {} \\n \\t {}'.format(\n",
    "                                     format_idx(pred), ids_to_phrases(pred, id2word_t)))\n",
    "                    if i >3:\n",
    "                        break\n",
    "\n",
    "            batch_n+=1\n",
    "        except KeyboardInterrupt:\n",
    "            print 'testing interrupted'\n",
    "\"\"\"\n",
    "# Get Tensors from loaded model\n",
    "loaded_x = loaded_graph.get_tensor_by_name('x:0')\n",
    "loaded_y = loaded_graph.get_tensor_by_name('y:0')\n",
    "loaded_keep_prob = loaded_graph.get_tensor_by_name('keep_prob:0')\n",
    "loaded_logits = loaded_graph.get_tensor_by_name('logits:0')\n",
    "loaded_acc = loaded_graph.get_tensor_by_name('accuracy:0')\n",
    "\n",
    "# Get accuracy in batches for memory limitations\n",
    "test_batch_acc_total = 0\n",
    "test_batch_count = 0\n",
    "\n",
    "for train_feature_batch, train_label_batch in helper.batch_features_labels(test_features, test_labels, batch_size):\n",
    "    test_batch_acc_total += sess.run(\n",
    "        loaded_acc,\n",
    "        feed_dict={loaded_x: train_feature_batch, loaded_y: train_label_batch, loaded_keep_prob: 1.0})\n",
    "    test_batch_count += 1\n",
    "\n",
    "print('Testing Accuracy: {}\\n'.format(test_batch_acc_total/test_batch_count))\n",
    "\n",
    "# Print Random Samples\n",
    "random_test_features, random_test_labels = tuple(zip(*random.sample(list(zip(test_features, test_labels)), n_samples)))\n",
    "random_test_predictions = sess.run(\n",
    "    tf.nn.top_k(tf.nn.softmax(loaded_logits), top_n_predictions),\n",
    "    feed_dict={loaded_x: random_test_features, loaded_y: random_test_labels, loaded_keep_prob: 1.0})\n",
    "helper.display_image_predictions(random_test_features, random_test_labels, random_test_predictions)\n",
    "\"\"\"\n",
    "\n",
    "test_model()"
   ]
  }
 ],
 "metadata": {
  "kernelspec": {
   "display_name": "Python 2",
   "language": "python",
   "name": "python2"
  },
  "language_info": {
   "codemirror_mode": {
    "name": "ipython",
    "version": 2
   },
   "file_extension": ".py",
   "mimetype": "text/x-python",
   "name": "python",
   "nbconvert_exporter": "python",
   "pygments_lexer": "ipython2",
   "version": "2.7.12"
  }
 },
 "nbformat": 4,
 "nbformat_minor": 2
}
