{
 "cells": [
  {
   "cell_type": "markdown",
   "metadata": {},
   "source": [
    "# Neural Machine Translator\n",
    "\n",
    "In this notebook I will create the sequence-to-sequence translation system in Tensorflow. This will be done using single-layer encoder and decoder architecture, without using the Tensorflow native seq-to-seq modules. The method is heavily inspired by [these tutorials](https://github.com/ematvey/tensorflow-seq2seq-tutorials), particularly the implementation of previously fed tokens into the `tf.nn.raw_rnn` as proposed in the second tutorial. My code goes one step further and is able to feed in either the _ground truth_, previously generated tokens or a random combination of the two. While feeding in only the ground truth speeds up training and passing previously generated tokens increases robustness and performance, a combination of the two has been shown to interpolate between these two extremes. My NMT implementation was benchmarked against a direct dictionary based method using the [GoogleTrans](https://pypi.python.org/pypi/googletrans) API."
   ]
  },
  {
   "cell_type": "markdown",
   "metadata": {},
   "source": [
    "## Loading the preprocessed data"
   ]
  },
  {
   "cell_type": "code",
   "execution_count": null,
   "metadata": {},
   "outputs": [],
   "source": [
    "import logging\n",
    "import os\n",
    "import numpy as np\n",
    "from utils import load_obj\n",
    "\n",
    "logging.getLogger(\"tensorflow\").setLevel(logging.WARNING)\n",
    "os.environ['TF_CPP_MIN_LOG_LEVEL'] = '3'\n",
    "\n",
    "import tensorflow as tf\n",
    "tf.logging.set_verbosity(tf.logging.ERROR)\n",
    "logging.basicConfig(level=logging.DEBUG, filename=\"logfile\", filemode=\"a+\",\n",
    "                        format=\"%(asctime)-15s %(levelname)-8s %(message)s\")\n",
    "os.environ['TF_CPP_MIN_LOG_LEVEL'] = '3'\n",
    "lang_t = 'en'\n",
    "lang_s = 'fr'\n",
    "prep_path = \"short_data/\"\n",
    "\n",
    "data_path = \"\"\n",
    "data_dict = load_obj(prep_path+'data_dic')\n",
    "s_train = data_dict[\"s_train\"] # preprocessed data\n",
    "t_train = data_dict[\"t_train\"]\n",
    "s_test = data_dict[\"s_test\"]\n",
    "t_test = data_dict[\"t_test\"]\n",
    "word2id_s = data_dict[\"word2id_s\"] # word-to-ID dictionaries \n",
    "word2id_t = data_dict[\"word2id_t\"]\n",
    "id2word_s = data_dict[\"id2word_s\"]\n",
    "id2word_t = data_dict[\"id2word_t\"]\n",
    "\n",
    "vocab_size_t = len(word2id_t.keys()) # Includes UNK, EOS and PAD tokens\n",
    "vocab_size_s = len(word2id_s.keys())\n",
    "\n",
    "raw_s_test = load_obj(\"short_data/source_test\") # Data for benchmark model \n",
    "raw_t_test = load_obj(\"short_data/target_test\") # Data for benchmark model \n",
    "print \"Tokens in s_train are of type \", type(s_test[0][0])\n",
    "print \"Tokens in raw_s_train are of type \", type(raw_s_test[0][0])\n",
    "print \"s_test and raw_s_test are the same length? : \", len(s_test) == len(raw_s_test)\n",
    "print len(s_test),  len(raw_s_test)"
   ]
  },
  {
   "cell_type": "markdown",
   "metadata": {},
   "source": [
    "## Benchmark model\n",
    "\n",
    "Here I use the [GoogleTrans]() python package to translate the corpus by translating each individual word in the text. There seems to be an issue with the number of JSON requests the model makes to the Google Translate service, so it needs to work in passes. If a phrase is skipped due to a JSON error, keep it stored and try again later (with a new Translator instance)."
   ]
  },
  {
   "cell_type": "code",
   "execution_count": null,
   "metadata": {
    "collapsed": true
   },
   "outputs": [],
   "source": [
    "from googletrans import Translator\n",
    "\n",
    "\n",
    "def googletrans_pass(s_text, target_lang='fr'):\n",
    "    \"\"\" This function makes a single pass through the data and tries to \n",
    "    translate each phrase one word at a time. Occasionally there are JSON\n",
    "    errors, probably due to too many requests being made. In this case\n",
    "    a new Translator instance is made and the failed attempts/skipped phrases\n",
    "    are returned, to be attempted again.\n",
    "    \"\"\"\n",
    "    translator = Translator()\n",
    "    trans_corpus = []\n",
    "    skipped_phrases = []\n",
    "    for i, phrase in s_text:\n",
    "        try:\n",
    "            trans_corpus.append((i, [trans.text for\n",
    "                                trans in translator.translate(\n",
    "                                phrase, dest=target_lang)]))\n",
    "        except ValueError as err:\n",
    "            # Making a new Translator instance seems to help JSON errors\n",
    "            translator = Translator()\n",
    "            skipped_phrases.append((i, phrase))\n",
    "            print \"{} for phrase {}\".format(err, i)\n",
    "    return trans_corpus, skipped_phrases\n",
    "\n",
    "def translate_word_by_word(source_text):\n",
    "    # Need to keep track of phrase ordering by labelling\n",
    "    source_text = [(i, phr) for i, phr in enumerate(source_text)]\n",
    "    trans_text, skipped_phrases = googletrans_pass(source_text, target_lang=lang_t)\n",
    "    print \"There are {} phrases which could not be translated first time around.\".format(\n",
    "                                                                    len(skipped_phrases))\n",
    "    # Keep making passes until there are no more untranslated phrases left\n",
    "    j = 2\n",
    "    while len(skipped_phrases)>0:\n",
    "        translated_corpus = []\n",
    "        tc_s, skipped_phrases = googletrans_pass(skipped_phrases, target_lang=lang_t)\n",
    "        trans_text += tc_s\n",
    "        print \"There are {} phrases which could not be translated in pass {}.\".format(\n",
    "                                                            len(skipped_phrases), j)\n",
    "        j+=1\n",
    "    # Sort the phrases via their labels.\n",
    "    # Sorted function gives ([indices], [phrases]) so just need 2nd element\n",
    "    trans_text = zip(*sorted(zip(*BM_translated)))[1]\n",
    "    return trans_text\n",
    "\n",
    "# Takes a while to run, running this cell is not for the faint hearted\n",
    "BM_translated = translate_word_by_word(raw_s_test)\n",
    "print \"Corpus translated from {} to {}\".format(lang_s, lang_t)\n",
    "save_obj(BM_translated, \"BM_translated\")\n"
   ]
  },
  {
   "cell_type": "markdown",
   "metadata": {},
   "source": [
    "## Evaluation metric:     BLEU Score\n",
    "\n",
    "Here I use the NLTK implementation of BLEU score to measure how successful the machine translation was."
   ]
  },
  {
   "cell_type": "code",
   "execution_count": 7,
   "metadata": {},
   "outputs": [
    {
     "name": "stdout",
     "output_type": "stream",
     "text": [
      "BLEU1 score test is 0.282160574964.\n",
      "BLEU2 score test is 0.218560641558.\n"
     ]
    }
   ],
   "source": [
    "from nltk.translate import bleu_score\n",
    "from utils import remove_EOS_PAD\n",
    "\n",
    "p_phrase1 = [4,5,4,5,4,5, 1, 0]\n",
    "t_phrase = [4,5,6,34,8,76, 87, 1]\n",
    "# Truncate sequences at [1]\n",
    "t_phrase = remove_EOS_PAD(t_phrase)\n",
    "p_phrase1 = remove_EOS_PAD(p_phrase1)\n",
    "\n",
    "print \"BLEU1 score test is {}.\".format(\n",
    "    bleu_score.corpus_bleu([[t_phrase]], [p_phrase1], weights=([1])))\n",
    "print \"BLEU2 score test is {}.\".format(\n",
    "    bleu_score.corpus_bleu([[t_phrase]], [p_phrase1], weights=([0.5,0.5])))"
   ]
  },
  {
   "cell_type": "code",
   "execution_count": null,
   "metadata": {
    "collapsed": true
   },
   "outputs": [],
   "source": [
    "#test_targets = [[ids_to_phrases(phrase,id_to_word_t)]for phrase in test_t]\n",
    "\n",
    "BM_BLEU4 = bleu_score.corpus_bleu(test_targets, BM_translated, weights=(\n",
    "                                                            0.25,0.25, 0.25,0.25))\n",
    "BM_BLEU2 = bleu_score.corpus_bleu(test_targets, BM_translated, weights=(0.5,0.5))\n",
    "BM_BLEU1 = bleu_score.corpus_bleu(test_targets, BM_translated, weights=([1]))\n",
    "\n",
    "print \"Actual: \\n\", (\" \".join(test_targets[10])).encode('utf-8')\n",
    "print \"Prediction: \\n\", (\" \".join(BM_translated_corp[10])).encode('utf-8')\n",
    "print \"Unigram BLEU score is {}.\".format(BM_BLEU1)\n",
    "print \"Bigram BLEU score is {}.\".format(BM_BLEU2)\n",
    "print \"4-Gram BLEU: {}\".format(BM_BLEU4)"
   ]
  },
  {
   "cell_type": "markdown",
   "metadata": {},
   "source": [
    "# The Neural Network \n",
    "\n",
    "For development reasons I will use a much smaller dataset, using only 10% of the available data to test functionality."
   ]
  },
  {
   "cell_type": "code",
   "execution_count": 9,
   "metadata": {
    "collapsed": true
   },
   "outputs": [],
   "source": [
    "testing_only = False\n",
    "load_embeddings = True # Do we want to load in the embeddings?\n",
    "plot_name = ''\n",
    "feed_previous_probability = 0.7\n",
    "anneal_feed_previous = False\n",
    "encoder_hidden_units = 512\n",
    "epochs =  51 # How many times we loop over the whole training data\n",
    "\n",
    "GPU = False\n",
    "\n",
    "prepend = \"short_nmt/\"\n",
    "device_1 = \"gpu:0\"\n",
    "device_2 = device_1\n",
    "data_path =prep_path\n",
    "if not GPU:\n",
    "    #prepend = ''\n",
    "    \n",
    "    device_1 = \"cpu:0\"\n",
    "    device_1 = \"cpu:1\"\n",
    "    data_path = \"DATA/\"\n",
    "\n",
    "\n",
    "dev_fraction = 0.1\n",
    "test_fraction = 0.05\n",
    "\n",
    "log_dir = prepend+plot_name\n",
    "logging.basicConfig(level=logging.DEBUG, filename=prepend+'logfile'+plot_name, filemode=\"a+\",\n",
    "                        format=\"%(asctime)-15s %(levelname)-8s %(message)s\")"
   ]
  },
  {
   "cell_type": "markdown",
   "metadata": {},
   "source": [
    "## Loading pretrained embeddings\n",
    "\n",
    "Go through each word in the vocabulary and find the pretrained word embedding in the polyglot pickle file. If one doesn't exist, initialise to a random distribution."
   ]
  },
  {
   "cell_type": "code",
   "execution_count": 10,
   "metadata": {
    "collapsed": true
   },
   "outputs": [],
   "source": [
    "import pickle\n",
    "\n",
    "def get_embeddings(id_to_word, lang):\n",
    "    # We load pretrained word2vec embeddings from polyglot to save on training time\n",
    "    filename =data_path+'polyglot-'+lang+'.pkl'\n",
    "    pretrain_vocab, pretrain_embed = pickle.load(open(filename, 'rb'))\n",
    "    # Embeddings for <PAD> and <EOS> already exist  - find them first\n",
    "    embed_vocab = [pretrain_embed[pretrain_vocab.index('<PAD>')], pretrain_embed[pretrain_vocab.index('</S>')]]\n",
    "    skip_count = 0\n",
    "    skipped_words = []\n",
    "    metadata = u'<PAD>\\n<EOS>\\n' # For tensorboard embeddings\n",
    "    for idx, word in sorted(id_to_word.items()[2::]):\n",
    "        metadata += word+r\"\\n\"\n",
    "        try:\n",
    "            pretrain_idx = pretrain_vocab.index(word)\n",
    "            embed_vocab.append(pretrain_embed[pretrain_idx])\n",
    "        except ValueError:\n",
    "            try:\n",
    "                # it could be that the word is a name which needs to\n",
    "                # be capitalized. Try this...\n",
    "                pretrain_idx = pretrain_vocab.index(str(word.title()))\n",
    "                embed_vocab.append(pretrain_embed[pretrain_idx])\n",
    "            except ValueError:\n",
    "                try:\n",
    "                    # it could be that the word is an achronym which needs to\n",
    "                    # be upper case. Try this...\n",
    "                    pretrain_idx = pretrain_vocab.index(word.upper())\n",
    "                    embed_vocab.append(pretrain_embed[pretrain_idx])\n",
    "                except ValueError:\n",
    "                    # Give up trying to find an embedding.\n",
    "                    # How many words are skipped? Which ones?\n",
    "                    skip_count +=1\n",
    "                    skipped_words.append(word)\n",
    "                    # Let's just initialise the embedding to a random normal distribution\n",
    "                    embed_vocab.append(np.random.normal(loc=0.0, scale=np.sqrt(2)/5, size=64))\n",
    "\n",
    "    embed_vocab = np.array(embed_vocab, dtype=np.float32)\n",
    "    print \"The embedding matrix for {} has {} columns and {} rows.\".format(lang,\n",
    "                                                embed_vocab.shape[0], embed_vocab.shape[1])\n",
    "    print \"{} vocab words were not in the {} embeddings file.\".format(skip_count, lang)\n",
    "    return embed_vocab, skipped_words, metadata\n"
   ]
  },
  {
   "cell_type": "code",
   "execution_count": null,
   "metadata": {
    "collapsed": true
   },
   "outputs": [],
   "source": []
  },
  {
   "cell_type": "code",
   "execution_count": 11,
   "metadata": {
    "collapsed": true
   },
   "outputs": [],
   "source": [
    "def variable_summaries(var):\n",
    "  \"\"\"Attach a lot of summaries to a Tensor (for TensorBoard visualization).\n",
    "  I'll just get as much data as I can.\"\"\"\n",
    "  with tf.name_scope('summaries'):\n",
    "    mean = tf.reduce_mean(var)\n",
    "    tf.summary.scalar('mean', mean)\n",
    "    with tf.name_scope('stddev'):\n",
    "      stddev = tf.sqrt(tf.reduce_mean(tf.square(var - mean)))\n",
    "    tf.summary.scalar('stddev', stddev)\n",
    "    tf.summary.scalar('max', tf.reduce_max(var))\n",
    "    tf.summary.scalar('min', tf.reduce_min(var))\n",
    "    tf.summary.histogram('histogram', var)"
   ]
  },
  {
   "cell_type": "code",
   "execution_count": 12,
   "metadata": {
    "collapsed": true
   },
   "outputs": [],
   "source": [
    "# the ith word in words corresponds to the ith embedding\n",
    "embed_vocab_s = np.array(np.random.normal(loc=0.0, scale=np.sqrt(2)/5, size=(vocab_size_s, 64)), dtype=np.float32)\n",
    "embed_vocab_t = np.array(np.random.normal(loc=0.0, scale=np.sqrt(2)/5, size=(vocab_size_t, 64)), dtype=np.float32)\n",
    "metadata_s = ''\n",
    "metadata_t = ''\n",
    "# We only want to load in the embeddings, running this with test_only=True \n",
    "# takes a while with the full dataset\n",
    "\n",
    "if load_embeddings:\n",
    "    embed_vocab_s, skipped_s, metadata_s = get_embeddings(id2word_s, lang=lang_s)\n",
    "    embed_vocab_t, skipped_t, metadata_t = get_embeddings(id2word_t, lang=lang_t)\n",
    "\n",
    "tf.reset_default_graph()\n",
    "\n",
    "with tf.device(device_1):\n",
    "    with tf.name_scope(\"source_embeddings\"):\n",
    "        # Load encoder embeddings into trainable tensors\n",
    "        source_embeddings = tf.Variable(embed_vocab_s, trainable=True, name=\"source_embeddings\")\n",
    "        variable_summaries(source_embeddings)\n",
    "    with tf.name_scope(\"target_embeddings\"):\n",
    "        # Load decoder embeddings into trainable tensors\n",
    "        target_embeddings = tf.Variable(embed_vocab_t, trainable=True, name=\"target_embeddings\")\n",
    "        variable_summaries(target_embeddings)\n"
   ]
  },
  {
   "cell_type": "markdown",
   "metadata": {},
   "source": [
    "## Building the encoder layer\n",
    "With each forward pass a batch of phrases is fed through the neural network, one word at a time, so for the purposes of building the sequence-to-sequence model it helps to think of just a single batch.  The encoder inputs are going to be in the form of a tensor filled with word indices, of dimension `(encoder_max_time, batch size)` where maximum time is the length of the longest sequence in the batch. The batch size (though unusual) and maximum time step can change between batches so can be designated as `None` in the Tensorflow placeholder dimension. Similarly, the decoder inputs are of dimension `(decoder_max_time, batch_size)` where `decoder_max_time` does not need to equal `encoder_max_time` but must be the dimension of both the inputs and targets of the decoder. This is because at each timestep during training we must assess the quality of a single output slice (in time) of the decoder given a decoder input slice and some target sequence, therefore there must be valid tokens to compare at each time-step. If an output sequence is shorter than the target it is padded with zeros until it is the same length. Time will run down the columns of the input matrices which is called \"time-major\" format."
   ]
  },
  {
   "cell_type": "code",
   "execution_count": 13,
   "metadata": {
    "collapsed": true
   },
   "outputs": [],
   "source": [
    "with tf.device(device_1):\n",
    "    with tf.name_scope('encoder_inputs'):\n",
    "        encoder_inputs = tf.placeholder(shape=(None, None), dtype=tf.int32, name='encoder_inputs')\n",
    "        encoder_inputs_length = tf.placeholder(shape=(None,), dtype=tf.int32, name='encoder_inputs_length')\n",
    "\n",
    "\n",
    "    with tf.name_scope('decoder_targets'):\n",
    "        decoder_targets = tf.placeholder(shape=(None, None), dtype=tf.int32, name='decoder_targets')\n",
    "    with tf.name_scope('decoder_inputs'):\n",
    "        decoder_inputs = tf.placeholder(shape=(None, None), dtype=tf.int32, name='decoder_inputs')\n"
   ]
  },
  {
   "cell_type": "markdown",
   "metadata": {},
   "source": [
    "Next we find the embeddings which correspond to the words at each timestep. The words which were previously index integers for each sample in a batch/timestep, are used to index the columns of an embedding matrix. Using these column vectors as representations of the words means that the input matrices become tensors of dimension `(max_time_step, batch_size, embedding_hidden_dimension)'."
   ]
  },
  {
   "cell_type": "code",
   "execution_count": 14,
   "metadata": {
    "collapsed": true
   },
   "outputs": [],
   "source": [
    "with tf.device(device_1):    \n",
    "    with tf.name_scope('encoder_inputs_embed'):\n",
    "        encoder_inputs_embedded = tf.nn.embedding_lookup(source_embeddings,\n",
    "                                                encoder_inputs, name='encoder_inputs_embed')\n",
    "    with tf.name_scope('decoder_inputs_embed'):\n",
    "        decoder_inputs_embedded = tf.nn.embedding_lookup(target_embeddings,\n",
    "                                                decoder_inputs, name='decoder_inputs_embed')\n",
    "    "
   ]
  },
  {
   "cell_type": "markdown",
   "metadata": {},
   "source": [
    "Now the encoder RNN is finally constructed, using an LSTM which is unrolled over the encoder time-steps dynamically using `tf.nn.dynamic_rnn`. Notive that the keyword argument `time_major = True`  accounts for the fact that time-steps were defined along the columns of the input matrices.\n",
    "\n",
    "The encoder RNN returns the encoder outputs - which are not used at all in sequence-to-sequence learning - and the final hidden state. This hidden state eventually becomes the first hidden state of the decoder layer."
   ]
  },
  {
   "cell_type": "code",
   "execution_count": 15,
   "metadata": {
    "collapsed": true
   },
   "outputs": [],
   "source": [
    "with tf.device(device_1):     \n",
    "    with tf.name_scope('encoder_rnn'):\n",
    "        encoder_cell = tf.contrib.rnn.LSTMCell(encoder_hidden_units)\n",
    "\n",
    "        encoder_outputs, encoder_final_state = tf.nn.dynamic_rnn(encoder_cell, \n",
    "                                        encoder_inputs_embedded, dtype=tf.float32, \n",
    "                                        time_major=True, scope='encoder_rnn')\n",
    "        variable_summaries(encoder_outputs)\n",
    "        variable_summaries(encoder_final_state)"
   ]
  },
  {
   "cell_type": "code",
   "execution_count": 16,
   "metadata": {
    "collapsed": true
   },
   "outputs": [],
   "source": [
    "decoder_hidden_units = encoder_hidden_units # Set these to be the same at the moment"
   ]
  },
  {
   "cell_type": "markdown",
   "metadata": {},
   "source": [
    "## The decoder layer: `raw_rnn`\n",
    "\n",
    "Now for the subtle part. Ideally we would like to have control over precisely what the decoder inputs are at each time-step, however `dynamic_rnn` has a relatively constrained API, so all inputs must be specified at the initial time-step. This means that we cannot feed tokens generated at the current time-step in as inputs in the next timestep. This actually makes it impossible to make adequate precictions with the model, since a generative model must _see_ the data it has produced in order to react accordingly, in real-time. In order to implement this, I define a _loop function_ for a `raw_rnn` which replicates the functionality of `dynamic_rnn`, which allowing for the feeding of previously generated tokens into the decoder inputs. I also allow the user to define a probability with which the previously generated tokens are mixed in with the \"ground truth\" target data, so that the model can be conditioned on a statistical mixture of both inputs. Since the length of the decoder max timesteps is unknown at the beginning of training, this has to be defined somehow so I just set it to the length of the encoder inputs plus some extra timesteps to allow for some error. This could be set to the decoder targets but strictly speaking this length would not be known in a blind test.\n"
   ]
  },
  {
   "cell_type": "code",
   "execution_count": 17,
   "metadata": {
    "collapsed": true
   },
   "outputs": [],
   "source": [
    "reverse_encoder_inputs = True\n",
    "additional_decode_steps = 3 # Includes the extra step for the leading EOS token\n",
    "\n",
    "\n",
    "with tf.device(device_2):\n",
    "    encoder_max_time, batch_size = tf.unstack(tf.shape(encoder_inputs))\n",
    "    decoder_lengths = encoder_inputs_length + additional_decode_steps\n",
    "    # This is the projection layer, needed at every timestep because there is a possibility\n",
    "    # of feeding previous tokens in.\n",
    "    W = tf.Variable(tf.random_uniform([decoder_hidden_units, vocab_size_t], -1, 1), dtype=tf.float32)\n",
    "    #bias\n",
    "    b = tf.Variable(tf.zeros([vocab_size_t]), dtype=tf.float32)\n",
    "    \n",
    "    # The probability that we feed previous tokens in as decoder inputs\n",
    "    # 0 = use ground truth training examples as inputs\n",
    "    feed_previous_prob = tf.placeholder(tf.float32, shape=(), name='feed_previous_prob')\n",
    "    \n",
    "    # Create a slice in time of PAD - for padding entire batch once all the sequences have\n",
    "    # terminated. Also slice for EOS which is used to initialise the loop_function\n",
    "    eos_time_slice = tf.ones([batch_size], dtype=tf.int32, name='EOS')\n",
    "    pad_time_slice = tf.zeros([batch_size], dtype=tf.int32, name='PAD')\n",
    "\n",
    "    #retrieves columns of the embedding matrix. Dim= (batch_size, hidden_dim)\n",
    "    eos_step_embedded = tf.nn.embedding_lookup(embed_vocab_t, eos_time_slice)\n",
    "    pad_step_embedded = tf.nn.embedding_lookup(embed_vocab_t, pad_time_slice)"
   ]
  },
  {
   "cell_type": "markdown",
   "metadata": {},
   "source": [
    "\n",
    "The loop function tells the RNN what to do and which quantities to manipulate at each timestep. If the model is feeding previously generated tokens in as decoder inputs it will have to pass the RNN output through a linear layer and find the argmax. Intially the hidden state will be set to the final state of the encoder and the initial input will be the `<EOS>` token. These are then mapped onto the inputs for the next timestep within `loop_fn`."
   ]
  },
  {
   "cell_type": "code",
   "execution_count": 18,
   "metadata": {
    "collapsed": true
   },
   "outputs": [],
   "source": [
    "with tf.device(device_2):\n",
    "    def loop_fn_initial():\n",
    "        initial_elements_finished = (0 >= decoder_lengths)  # Returns false unless something is wrong\n",
    "        \n",
    "        initial_input = eos_step_embedded\n",
    "        # Self explanatory...\n",
    "        initial_cell_state = encoder_final_state\n",
    "        # Not sure what these \n",
    "        initial_cell_output = None\n",
    "        #none\n",
    "        initial_loop_state = None  # we don't need to pass any additional information\n",
    "        return (initial_elements_finished, # Boolean\n",
    "                initial_input, # EOS\n",
    "                initial_cell_state, # encoder state\n",
    "                initial_cell_output, # The output to store for this state\n",
    "                initial_loop_state)\n",
    "\n",
    "    def loop_fn_transition(time, previous_output, previous_state, previous_loop_state):\n",
    "        # What to do when moving from one time-step to the next\n",
    "        def feed_previous():\n",
    "             # We take the previous output word vectors and apply the linear layer\n",
    "             # to each output word in the batch\n",
    "            output_logits = tf.add(tf.matmul(previous_output, W), b)\n",
    "            # Greedily gives the index of the word with the highest probability\n",
    "            prediction = tf.argmax(output_logits, axis=1)\n",
    "            # Find embedding for the predicted word\n",
    "            return tf.nn.embedding_lookup(source_embeddings, prediction)\n",
    "\n",
    "        def feed_ground_truth():\n",
    "            # Find the current word in the shifted ground truth decoder targets\n",
    "            # At initialisation, time=0. Therefore, decoder inputs are passed\n",
    "            # here with a leading <EOS> token as usual.\n",
    "            ground_truth = tf.gather(decoder_inputs, time)\n",
    "            return tf.nn.embedding_lookup(target_embeddings, ground_truth)\n",
    "\n",
    "        def get_next_input():\n",
    "            # if uniform random number < fpp, feed_previous. If not feed decoder target.\n",
    "            return tf.cond(tf.constant(np.random.uniform())<feed_previous_prob, \n",
    "                            feed_previous, feed_ground_truth)\n",
    "\n",
    "        # boolean tensor of [batch_size] indicating if all of the sequences have finished\n",
    "        sequences_finished = (time >= decoder_lengths)\n",
    "        #Computes the \"logical and\" of elements to produce scalar\n",
    "        finished = tf.reduce_all(sequences_finished)\n",
    "        # If sequences are finished PAD, if not get next input\n",
    "        input = tf.cond(finished, lambda: pad_step_embedded, get_next_input)\n",
    "\n",
    "        # states and outputs are passed through \n",
    "        state = previous_state\n",
    "        output = previous_output\n",
    "        loop_state = None\n",
    "\n",
    "        return (sequences_finished,\n",
    "                input,\n",
    "                state,\n",
    "                output,\n",
    "                loop_state)\n",
    "\n",
    "    def loop_fn(time, previous_output, previous_state, previous_loop_state):\n",
    "        if previous_state is None:    # time == 0\n",
    "            assert previous_output is None and previous_state is None\n",
    "            return loop_fn_initial()\n",
    "        else:\n",
    "            # time >0\n",
    "            return loop_fn_transition(time, previous_output, previous_state, previous_loop_state)"
   ]
  },
  {
   "cell_type": "markdown",
   "metadata": {},
   "source": [
    "Now the loop function has been defined, we can create the `raw_rnn`. Within the loop function we found word predictions at each timestep, which required projecting onto the vocabulary space to find a word (embedding). "
   ]
  },
  {
   "cell_type": "code",
   "execution_count": 19,
   "metadata": {
    "collapsed": true
   },
   "outputs": [],
   "source": [
    "with tf.device(device_2):\n",
    "    with tf.name_scope('decoder_rnn'):\n",
    "        decoder_cell = tf.contrib.rnn.LSTMCell(decoder_hidden_units)\n",
    "        decoder_outputs_, decoder_final_state, _ = tf.nn.raw_rnn(decoder_cell, loop_fn, scope='decoder_rnn')\n",
    "        # Turn the output matrices dims=(batch_size, dec_hidden_layer_dim)\n",
    "        # at each timestep into a tensor\n",
    "        decoder_outputs = decoder_outputs_.stack()\n",
    "        variable_summaries(decoder_outputs)\n",
    "        variable_summaries(decoder_final_state)"
   ]
  },
  {
   "cell_type": "markdown",
   "metadata": {},
   "source": [
    "## Forward and backward steps\n",
    "\n",
    "In the previous cell, outputs from the `raw_rnn` were seen to form a tensor of dimension `(max_decoder_time, batch_size, dec_hidden_dim` since the outputs are for each sequence in the batch at each timestep are word embeddings. These need to be turned into sequences of word IDs, so in order to do so we flatten the tensor to have dimension  `(max_decoder_time*batch_size, hidden_dim)` so it can be passed through the projection layer to discriminate which word it respresents, ending up with dimension `(max_decoder_time*batch_size, vocab_site_t)`. Then after reshaping this to a tensor of shape `(max_decoder_time, batch_size, vocab_site_t)` gives us the logits/scores for each word and an argmax is performed over the vocabulary words to generate the predictions. Note it is not necessary to perform softmax because the this function preserves ordering of the elements, so `max(softmax(v)) = max(v)`."
   ]
  },
  {
   "cell_type": "code",
   "execution_count": 20,
   "metadata": {
    "collapsed": true
   },
   "outputs": [],
   "source": [
    "with tf.device(device_2):  \n",
    "    with tf.name_scope('projection_layer'):\n",
    "        # Get dimension information for the batch\n",
    "        decoder_max_steps, decoder_batch_size, decoder_dim = tf.unstack(tf.shape(decoder_outputs))\n",
    "        # flatten output tensor to pass through fully connected layer\n",
    "        decoder_outputs_flat = tf.reshape(decoder_outputs, (-1, decoder_dim))\n",
    "        # output is a vector of dimension: vocab_size_t\n",
    "        decoder_logits_flat = tf.add(tf.matmul(decoder_outputs_flat, W), b)\n",
    "        #prediction vals\n",
    "        decoder_logits = tf.reshape(decoder_logits_flat, (decoder_max_steps, decoder_batch_size, vocab_size_t))\n",
    "\n",
    "    with tf.name_scope('prediction'):\n",
    "        decoder_prediction = tf.argmax(decoder_logits, axis=2)\n",
    "        "
   ]
  },
  {
   "cell_type": "markdown",
   "metadata": {},
   "source": [
    "Now we have the likelihood scores for each word in `decoder_logits` we calculate the probability distribution via a softmax and then find the cross-entropy, which calculates how well the predictions correlate with the targets and sum over all the timesteps. The mean of cross-entropy is then taken over the batch. That is the end of one forward step.\n",
    "\n",
    "A backward step is then made by attempting to minimize the average cross-entropy (same as maximizing the log likelihood) using AdaM optimiser."
   ]
  },
  {
   "cell_type": "code",
   "execution_count": 21,
   "metadata": {},
   "outputs": [
    {
     "name": "stdout",
     "output_type": "stream",
     "text": [
      "Tensor(\"timestep_cross_entropy/Reshape_2:0\", shape=(?, ?), dtype=float32, device=/device:GPU:0)\n"
     ]
    }
   ],
   "source": [
    "with tf.device(device_2):     \n",
    "    with tf.name_scope('timestep_cross_entropy'):\n",
    "        timestep_cross_entropy = tf.nn.softmax_cross_entropy_with_logits(\n",
    "                                            labels=tf.one_hot(decoder_targets,\n",
    "                                            depth=vocab_size_t, dtype=tf.float32),\n",
    "                                            logits=decoder_logits)\n",
    "        variable_summaries(timestep_cross_entropy)\n",
    "    print timestep_cross_entropy\n",
    "    # loss is the mean of the cross entropy\n",
    "    with tf.name_scope('loss'):\n",
    "        loss = tf.reduce_mean(timestep_cross_entropy)\n",
    "        variable_summaries(loss)\n",
    "        tf.summary.scalar('loss', loss)\n",
    "    # We use AdaM which combines AdaGrad (parameters updated less often get updated more \tstrongly)\n",
    "    # and momentum (updates depend on the slope of previous updates - avoiding local minima)\n",
    "    with tf.name_scope('Optimizer'):\n",
    "        train_op = tf.train.AdamOptimizer().minimize(loss)\n"
   ]
  },
  {
   "cell_type": "markdown",
   "metadata": {},
   "source": [
    "## Feeding data into the model\n",
    "\n",
    "A few functions are needed to help pass data efficiently to the sequence-to-sequence model. Firstly the source and target data needs to be efficiently split up into batches. Secondly this data needs to be formatted (another function in utils called `format_batch`) and fed into the model. Since $1)$ the lengths of decoder_inputs are being generated dynamically depending on the `encoder_input_lengths` and $2)$ the length decoder_inputs must be equal to the that of decoder_outputs, the formatting of these matrices must be done carefully to make sure the time axes are match in length. The `decoder_inputs` should also be shifted one timestep to the right, since the initial input is an `<EOS>` embedding. `encoder_input_lengths` changes between batches as well, so we feed the placeholders with these values too. Finally, the `feed_previous_probability` if free to change between batches too, since it could be useful for this number to grow or shrink over time - something that I will explore in the future.\n",
    "\n",
    "** The encoder inputs were also reversed, as this has been shown to speed up training time substantially in language translation models.** For example, rather than translating from $[a, b, c] \\to [\\alpha, \\beta, \\gamma]$ the source sequences are reversed: $[c, b, a] \\to [\\alpha, \\beta, \\gamma]$ so that $a$ and $\\alpha$ are in close proximity in time. This is a main theoretical contribution of [this paper](https://papers.nips.cc/paper/5346-sequence-to-sequence-learning-with-neural-networks.pdf)."
   ]
  },
  {
   "cell_type": "code",
   "execution_count": 22,
   "metadata": {
    "collapsed": true
   },
   "outputs": [],
   "source": [
    "from utils import format_batch\n",
    "\"\"\"\n",
    "format_batch() takes inputs with the number of cols as sequence length and \n",
    "num of rows as batch size to the number of rows being the max sequence \n",
    "length/ num cols being batch size\n",
    "Essentially like a padding and then transpose\"\"\"\n",
    "\n",
    "def batch_source_target(source, target, batch_size):\n",
    "    assert len(source) == len(target)\n",
    "    for start in range(0, len(source), batch_size):\n",
    "        end = min(start + batch_size, len(source))\n",
    "        #print type(source[start:end])\n",
    "        #print len(target[start:end])\n",
    "        yield source[start:end], target[start:end]\n",
    "\n",
    "def make_feed_dict(fd_keys, s_batch, t_batch, reverse_encoder_inputs= False, feed_previous_prob_=1):\n",
    "    encoder_inputs_, encoder_input_lengths_  = format_batch(s_batch)\n",
    "    if reverse_encoder_inputs:\n",
    "        encoder_inputs_, encoder_input_lengths_ = format_batch([sequence[-2::-1]+[1] for sequence in s_batch])\n",
    "    dec_seq_length = max(encoder_input_lengths_)+additional_decode_steps\n",
    "    # enforce max length to equal the generated data (enc length + some margin of error)\n",
    "    decoder_targets_, _ = format_batch([sequence +[1] for sequence in t_batch], max_length=dec_seq_length)\n",
    "    decoder_inputs_, _ = format_batch([[1]+sequence[0:-1] for sequence in t_batch], max_length=dec_seq_length)\n",
    "    return {\n",
    "        fd_keys[0]: encoder_inputs_,\n",
    "        fd_keys[1]: encoder_input_lengths_,\n",
    "        fd_keys[2]: decoder_inputs_,\n",
    "        fd_keys[3]: decoder_targets_,\n",
    "        fd_keys[4]: feed_previous_prob_\n",
    "    }\n"
   ]
  },
  {
   "cell_type": "markdown",
   "metadata": {},
   "source": [
    "## Training the model\n",
    "\n"
   ]
  },
  {
   "cell_type": "code",
   "execution_count": 23,
   "metadata": {},
   "outputs": [
    {
     "ename": "NameError",
     "evalue": "name 'train_length' is not defined",
     "output_type": "error",
     "traceback": [
      "\u001b[0;31m---------------------------------------------------------------------------\u001b[0m",
      "\u001b[0;31mNameError\u001b[0m                                 Traceback (most recent call last)",
      "\u001b[0;32m<ipython-input-23-0e8b16086b25>\u001b[0m in \u001b[0;36m<module>\u001b[0;34m()\u001b[0m\n\u001b[1;32m      2\u001b[0m \u001b[0;34m\u001b[0m\u001b[0m\n\u001b[1;32m      3\u001b[0m \u001b[0mmerged\u001b[0m \u001b[0;34m=\u001b[0m \u001b[0mtf\u001b[0m\u001b[0;34m.\u001b[0m\u001b[0msummary\u001b[0m\u001b[0;34m.\u001b[0m\u001b[0mmerge_all\u001b[0m\u001b[0;34m(\u001b[0m\u001b[0;34m)\u001b[0m \u001b[0;31m# Tensorboard stuff\u001b[0m\u001b[0;34m\u001b[0m\u001b[0m\n\u001b[0;32m----> 4\u001b[0;31m \u001b[0mtotal_batches\u001b[0m \u001b[0;34m=\u001b[0m \u001b[0mtrain_length\u001b[0m\u001b[0;34m/\u001b[0m\u001b[0mbatch_size\u001b[0m\u001b[0;34m\u001b[0m\u001b[0m\n\u001b[0m\u001b[1;32m      5\u001b[0m \u001b[0msamples_in_final\u001b[0m \u001b[0;34m=\u001b[0m \u001b[0mtrain_length\u001b[0m\u001b[0;34m%\u001b[0m\u001b[0mbatch_size\u001b[0m \u001b[0;31m# number of samples in final batch\u001b[0m\u001b[0;34m\u001b[0m\u001b[0m\n\u001b[1;32m      6\u001b[0m \u001b[0;34m\u001b[0m\u001b[0m\n",
      "\u001b[0;31mNameError\u001b[0m: name 'train_length' is not defined"
     ]
    }
   ],
   "source": [
    "batch_size = 100 # After how many sequences do we update the weights?\n",
    "epochs = 50\n",
    "merged = tf.summary.merge_all() # Tensorboard stuff\n",
    "train_length = len(s_train)\n",
    "total_batches = train_length/batch_size \n",
    "samples_in_final = train_length%batch_size # number of samples in final batch\n",
    "\n",
    "print \"there will be {} batches and {} samples in the final batch\".format(total_batches, samples_in_final)\n",
    "fd_keys = [encoder_inputs, encoder_inputs_length, decoder_inputs, decoder_targets, feed_previous_prob]\n",
    "loss_list = []\n",
    "print('Training...')\n",
    "#with tf.Session(config=tf.ConfigProto(\n",
    "#  intra_op_parallelism_threads=NUM_CORES)) as sess:\n",
    "print make_feed_dict(fd_keys, [[2,3,3],[4,4,5]], [[2,3,3],[4,4,5]])\n",
    "\n",
    "def save_metadata(metadata, filename):\n",
    "    with open(filename, 'w') as f:\n",
    "        f.write(metadata.encode('utf-8'))\n",
    "\n",
    "def get_fp_prob(feed_previous_prob, epochs, anneal_fp=True):\n",
    "    # This implements the growing/decaying feed previous prob\n",
    "    if anneal_fp:\n",
    "        for i in np.linspace(0.2,0.5,epochs):\n",
    "            yield i\n",
    "    else:\n",
    "        while True:\n",
    "            yield feed_previous_prob"
   ]
  },
  {
   "cell_type": "code",
   "execution_count": null,
   "metadata": {
    "collapsed": true
   },
   "outputs": [],
   "source": [
    "from tensorflow.contrib.tensorboard.plugins import projector\n",
    "import time\n",
    "from utils import format_idx, ids_to_phrases, save_obj\n",
    "with tf.Session(config=tf.ConfigProto(log_device_placement=True,\n",
    "                                    allow_soft_placement=True)) as sess:\n",
    "    # Initializing the variables\n",
    "    sess.run(tf.global_variables_initializer())\n",
    "    # Many tensorboard things\n",
    "    train_writer = tf.summary.FileWriter(log_dir+'/train',\n",
    "                                        sess.graph)\n",
    "    summary_writer = tf.summary.FileWriter(log_dir,\n",
    "                                        sess.graph)\n",
    "    # This is for saving word embeddings\n",
    "    config = projector.ProjectorConfig()\n",
    "    embedding_enc = config.embeddings.add()\n",
    "    embedding_enc.tensor_name = source_embeddings.name\n",
    "    # Link this tensor to its metadata file (e.g. labels).\n",
    "    meta_s_filename = os.path.join(log_dir, 'metadata_s.tsv')\n",
    "    save_metadata(metadata_s, meta_s_filename)\n",
    "    embedding_enc.metadata_path = meta_s_filename\n",
    "\n",
    "    embedding_dec = config.embeddings.add()\n",
    "    embedding_dec.tensor_name = target_embeddings.name\n",
    "    # Link this tensor to its metadata file (e.g. labels).\n",
    "    meta_t_filename = os.path.join(log_dir, 'metadata_t.tsv')\n",
    "    save_metadata(metadata_t, meta_t_filename)\n",
    "    embedding_dec.metadata_path = meta_t_filename\n",
    "\n",
    "    # Saves a configuration file that TensorBoard will read during startup.\n",
    "    projector.visualize_embeddings(summary_writer, config)\n",
    "    # Training cycle\n",
    "    # call the generator for fp_probs\n",
    "    feed_previous_prob = get_fp_prob(feed_previous_probability, epochs, anneal_fp=anneal_feed_previous)\n",
    "    try:\n",
    "        batch_n = 0\n",
    "        ti = time.time()\n",
    "        print \"training has begun...\"\n",
    "        epoch_losses = []\n",
    "        for epoch in range(1, epochs+1):\n",
    "            fp_prob = feed_previous_prob.next()\n",
    "            logging.info(\"fp_prob = {}\".format(fp_prob))\n",
    "            ti = time.time()\n",
    "            saver = tf.train.Saver()\n",
    "            epoch_loss = []\n",
    "            if epoch%20==0:\n",
    "                save_path = saver.save(sess, log_dir+\"/model.ckpt\", epoch)\n",
    "            for s_batch, t_batch in batch_source_target(s_train,\n",
    "                                                        t_train, batch_size):\n",
    "                feed_dict = make_feed_dict(fd_keys,s_batch, t_batch,\n",
    "                                reverse_encoder_inputs=reverse_encoder_inputs,\n",
    "                                feed_previous_prob_= fp_prob)\n",
    "                _, l = sess.run([train_op, loss], feed_dict)\n",
    "                epoch_loss.append(l)\n",
    "                if (batch_n==0) or (batch_n%400) == 0:\n",
    "                    loss_list.append(l)\n",
    "                    logging.info(\"epoch {}\".format(epoch))\n",
    "                    logging.info('batch {}'.format(batch_n-(epoch-1)*total_batches))\n",
    "                    logging.info('loss: {}'.format(sess.run(loss, feed_dict)))\n",
    "                    print \"**********************************************\"*5\n",
    "                    print \"$$$$$$$$$$$$$$$$$$$$$$$$$$$$$$$$$$$$$$$$$$$$$$\"*5\n",
    "                    print (\"epoch {}\".format(epoch))\n",
    "                    print ('batch {}'.format(batch_n-(epoch-1)*total_batches))\n",
    "                    print ('loss: {}'.format(sess.run(loss, feed_dict)))\n",
    "                    summary_, predict_ = sess.run([merged, decoder_prediction], feed_dict)\n",
    "                    summary_writer.add_summary(summary_, batch_n)\n",
    "                    i = 1\n",
    "                    rand_sample = np.random.randint(0,batch_size-10)\n",
    "                    for (inp, act, pred) in zip(feed_dict[encoder_inputs].T,\n",
    "                                                 feed_dict[decoder_targets].T,\n",
    "                                                 predict_.T)[rand_sample:rand_sample+2]:\n",
    "                        logging.info('  sample {}:'.format(i))\n",
    "                        logging.info('    input     : {} \\n {}'.format(\n",
    "                                         format_idx(inp), ids_to_phrases(inp, id2word_s)))\n",
    "                        logging.info('    actual     : {} \\n {}'.format(\n",
    "                                         format_idx(act), ids_to_phrases(act, id2word_t)))\n",
    "                        logging.info('    predicted     : {} \\n {}'.format(\n",
    "                                         format_idx(pred), ids_to_phrases(pred, id2word_t)))\n",
    "                        print ('  sample {}:'.format(i))\n",
    "                        print ('    input     : {} \\n {}'.format(\n",
    "                                         format_idx(inp), ids_to_phrases(inp, id2word_s)))\n",
    "                        print ('    actual     : {} \\n {}'.format(\n",
    "                                         format_idx(act), ids_to_phrases(act, id2word_t)))\n",
    "                        print ('    predicted     : {} \\n {}'.format(\n",
    "                                         format_idx(pred), ids_to_phrases(pred, id2word_t)))\n",
    "                        i+=1\n",
    "                batch_n += 1\n",
    "            logging.info(\"Epoch {} took {} seconds to complete.\".format(epoch, time.time()-ti))\n",
    "            print (\"Epoch {} took {} seconds to complete, with average loss of {}.\".format(epoch\n",
    "                                                    ,time.time()-ti, np.mean(epoch_loss)))\n",
    "            logging.info(\"Epoch {} took {} seconds to complete, with average loss of {}.\".format(epoch\n",
    "                                                    ,time.time()-ti, np.mean(epoch_loss)))\n",
    "            save_obj(loss_list, prepend+\"loss_track\")\n",
    "            actuals = []\n",
    "            predictions = []\n",
    "            if epoch%5==0:\n",
    "                for s_batch, t_batch in batch_source_target(s_test, t_test, batch_size):\n",
    "                    feed_dict = make_feed_dict(fd_keys, s_batch, t_batch,\n",
    "                                                    reverse_encoder_inputs= True,\n",
    "                                                    feed_previous_prob_= 1)\n",
    "                    predict_ = sess.run(decoder_prediction, feed_dict)\n",
    "                    for (act, pred) in zip(feed_dict[decoder_targets].T, predict_.T):\n",
    "                        actuals.append(act)\n",
    "                        predictions.append(pred)\n",
    "                save_obj([actuals, predictions], prepend+\"predictions{}\".format(epoch))\n",
    "                print \"Made {} predictions.\".format(len(actuals))\n",
    "            if np.mean(epoch_loss) < 0.5:\n",
    "                save_path = saver.save(sess, log_dir+\"/model.ckpt\", epoch)\n",
    "                break\n",
    "        print ('Training is complete')\n",
    "        logging.info('Training is complete')\n",
    "    except KeyboardInterrupt:\n",
    "        print 'training interrupted'"
   ]
  },
  {
   "cell_type": "code",
   "execution_count": null,
   "metadata": {
    "collapsed": true
   },
   "outputs": [],
   "source": []
  },
  {
   "cell_type": "code",
   "execution_count": 24,
   "metadata": {},
   "outputs": [
    {
     "ename": "NotFoundError",
     "evalue": "Unsuccessful TensorSliceReader constructor: Failed to find any matching files for fp_06_data/nmt_8/\n\t [[Node: save_39/RestoreV2_12 = RestoreV2[dtypes=[DT_FLOAT], _device=\"/job:localhost/replica:0/task:0/cpu:0\"](_recv_save_39/Const_0, save_39/RestoreV2_12/tensor_names, save_39/RestoreV2_12/shape_and_slices)]]\n\nCaused by op u'save_39/RestoreV2_12', defined at:\n  File \"/usr/local/Cellar/python/2.7.12_2/Frameworks/Python.framework/Versions/2.7/lib/python2.7/runpy.py\", line 174, in _run_module_as_main\n    \"__main__\", fname, loader, pkg_name)\n  File \"/usr/local/Cellar/python/2.7.12_2/Frameworks/Python.framework/Versions/2.7/lib/python2.7/runpy.py\", line 72, in _run_code\n    exec code in run_globals\n  File \"/usr/local/lib/python2.7/site-packages/ipykernel/__main__.py\", line 3, in <module>\n    app.launch_new_instance()\n  File \"/usr/local/lib/python2.7/site-packages/traitlets/config/application.py\", line 658, in launch_instance\n    app.start()\n  File \"/usr/local/lib/python2.7/site-packages/ipykernel/kernelapp.py\", line 474, in start\n    ioloop.IOLoop.instance().start()\n  File \"/usr/local/lib/python2.7/site-packages/zmq/eventloop/ioloop.py\", line 177, in start\n    super(ZMQIOLoop, self).start()\n  File \"/usr/local/lib/python2.7/site-packages/tornado/ioloop.py\", line 887, in start\n    handler_func(fd_obj, events)\n  File \"/usr/local/lib/python2.7/site-packages/tornado/stack_context.py\", line 275, in null_wrapper\n    return fn(*args, **kwargs)\n  File \"/usr/local/lib/python2.7/site-packages/zmq/eventloop/zmqstream.py\", line 440, in _handle_events\n    self._handle_recv()\n  File \"/usr/local/lib/python2.7/site-packages/zmq/eventloop/zmqstream.py\", line 472, in _handle_recv\n    self._run_callback(callback, msg)\n  File \"/usr/local/lib/python2.7/site-packages/zmq/eventloop/zmqstream.py\", line 414, in _run_callback\n    callback(*args, **kwargs)\n  File \"/usr/local/lib/python2.7/site-packages/tornado/stack_context.py\", line 275, in null_wrapper\n    return fn(*args, **kwargs)\n  File \"/usr/local/lib/python2.7/site-packages/ipykernel/kernelbase.py\", line 276, in dispatcher\n    return self.dispatch_shell(stream, msg)\n  File \"/usr/local/lib/python2.7/site-packages/ipykernel/kernelbase.py\", line 228, in dispatch_shell\n    handler(stream, idents, msg)\n  File \"/usr/local/lib/python2.7/site-packages/ipykernel/kernelbase.py\", line 390, in execute_request\n    user_expressions, allow_stdin)\n  File \"/usr/local/lib/python2.7/site-packages/ipykernel/ipkernel.py\", line 196, in do_execute\n    res = shell.run_cell(code, store_history=store_history, silent=silent)\n  File \"/usr/local/lib/python2.7/site-packages/ipykernel/zmqshell.py\", line 501, in run_cell\n    return super(ZMQInteractiveShell, self).run_cell(*args, **kwargs)\n  File \"/usr/local/lib/python2.7/site-packages/IPython/core/interactiveshell.py\", line 2717, in run_cell\n    interactivity=interactivity, compiler=compiler, result=result)\n  File \"/usr/local/lib/python2.7/site-packages/IPython/core/interactiveshell.py\", line 2827, in run_ast_nodes\n    if self.run_code(code, result):\n  File \"/usr/local/lib/python2.7/site-packages/IPython/core/interactiveshell.py\", line 2881, in run_code\n    exec(code_obj, self.user_global_ns, self.user_ns)\n  File \"<ipython-input-24-a6fb770cd285>\", line 76, in <module>\n    test_model()\n  File \"<ipython-input-24-a6fb770cd285>\", line 15, in test_model\n    loader = tf.train.import_meta_graph(log_dir+'model.ckpt-40'+ '.meta')\n  File \"/usr/local/lib/python2.7/site-packages/tensorflow/python/training/saver.py\", line 1595, in import_meta_graph\n    **kwargs)\n  File \"/usr/local/lib/python2.7/site-packages/tensorflow/python/framework/meta_graph.py\", line 499, in import_scoped_meta_graph\n    producer_op_list=producer_op_list)\n  File \"/usr/local/lib/python2.7/site-packages/tensorflow/python/framework/importer.py\", line 308, in import_graph_def\n    op_def=op_def)\n  File \"/usr/local/lib/python2.7/site-packages/tensorflow/python/framework/ops.py\", line 2336, in create_op\n    original_op=self._default_original_op, op_def=op_def)\n  File \"/usr/local/lib/python2.7/site-packages/tensorflow/python/framework/ops.py\", line 1228, in __init__\n    self._traceback = _extract_stack()\n\nNotFoundError (see above for traceback): Unsuccessful TensorSliceReader constructor: Failed to find any matching files for fp_06_data/nmt_8/\n\t [[Node: save_39/RestoreV2_12 = RestoreV2[dtypes=[DT_FLOAT], _device=\"/job:localhost/replica:0/task:0/cpu:0\"](_recv_save_39/Const_0, save_39/RestoreV2_12/tensor_names, save_39/RestoreV2_12/shape_and_slices)]]\n",
     "output_type": "error",
     "traceback": [
      "\u001b[0;31m---------------------------------------------------------------------------\u001b[0m",
      "\u001b[0;31mNotFoundError\u001b[0m                             Traceback (most recent call last)",
      "\u001b[0;32m<ipython-input-24-a6fb770cd285>\u001b[0m in \u001b[0;36m<module>\u001b[0;34m()\u001b[0m\n\u001b[1;32m     74\u001b[0m \"\"\"\n\u001b[1;32m     75\u001b[0m \u001b[0;34m\u001b[0m\u001b[0m\n\u001b[0;32m---> 76\u001b[0;31m \u001b[0mtest_model\u001b[0m\u001b[0;34m(\u001b[0m\u001b[0;34m)\u001b[0m\u001b[0;34m\u001b[0m\u001b[0m\n\u001b[0m",
      "\u001b[0;32m<ipython-input-24-a6fb770cd285>\u001b[0m in \u001b[0;36mtest_model\u001b[0;34m()\u001b[0m\n\u001b[1;32m     14\u001b[0m         \u001b[0;32mif\u001b[0m \u001b[0mtesting_only\u001b[0m\u001b[0;34m:\u001b[0m\u001b[0;34m\u001b[0m\u001b[0m\n\u001b[1;32m     15\u001b[0m             \u001b[0mloader\u001b[0m \u001b[0;34m=\u001b[0m \u001b[0mtf\u001b[0m\u001b[0;34m.\u001b[0m\u001b[0mtrain\u001b[0m\u001b[0;34m.\u001b[0m\u001b[0mimport_meta_graph\u001b[0m\u001b[0;34m(\u001b[0m\u001b[0mlog_dir\u001b[0m\u001b[0;34m+\u001b[0m\u001b[0;34m'model.ckpt-40'\u001b[0m\u001b[0;34m+\u001b[0m \u001b[0;34m'.meta'\u001b[0m\u001b[0;34m)\u001b[0m\u001b[0;34m\u001b[0m\u001b[0m\n\u001b[0;32m---> 16\u001b[0;31m             \u001b[0mloader\u001b[0m\u001b[0;34m.\u001b[0m\u001b[0mrestore\u001b[0m\u001b[0;34m(\u001b[0m\u001b[0msess\u001b[0m\u001b[0;34m,\u001b[0m \u001b[0mlog_dir\u001b[0m\u001b[0;34m)\u001b[0m\u001b[0;34m\u001b[0m\u001b[0m\n\u001b[0m\u001b[1;32m     17\u001b[0m         \u001b[0mpredictions\u001b[0m\u001b[0;34m,\u001b[0m \u001b[0mactuals\u001b[0m \u001b[0;34m=\u001b[0m \u001b[0;34m[\u001b[0m\u001b[0;34m]\u001b[0m\u001b[0;34m,\u001b[0m \u001b[0;34m[\u001b[0m\u001b[0;34m]\u001b[0m\u001b[0;34m\u001b[0m\u001b[0m\n\u001b[1;32m     18\u001b[0m         \u001b[0mfd_keys\u001b[0m \u001b[0;34m=\u001b[0m \u001b[0;34m[\u001b[0m\u001b[0mencoder_inputs\u001b[0m\u001b[0;34m,\u001b[0m \u001b[0mdecoder_inputs\u001b[0m\u001b[0;34m,\u001b[0m \u001b[0mdecoder_targets\u001b[0m\u001b[0;34m]\u001b[0m\u001b[0;34m\u001b[0m\u001b[0m\n",
      "\u001b[0;32m/usr/local/lib/python2.7/site-packages/tensorflow/python/training/saver.pyc\u001b[0m in \u001b[0;36mrestore\u001b[0;34m(self, sess, save_path)\u001b[0m\n\u001b[1;32m   1455\u001b[0m     \u001b[0mlogging\u001b[0m\u001b[0;34m.\u001b[0m\u001b[0minfo\u001b[0m\u001b[0;34m(\u001b[0m\u001b[0;34m\"Restoring parameters from %s\"\u001b[0m\u001b[0;34m,\u001b[0m \u001b[0msave_path\u001b[0m\u001b[0;34m)\u001b[0m\u001b[0;34m\u001b[0m\u001b[0m\n\u001b[1;32m   1456\u001b[0m     sess.run(self.saver_def.restore_op_name,\n\u001b[0;32m-> 1457\u001b[0;31m              {self.saver_def.filename_tensor_name: save_path})\n\u001b[0m\u001b[1;32m   1458\u001b[0m \u001b[0;34m\u001b[0m\u001b[0m\n\u001b[1;32m   1459\u001b[0m   \u001b[0;34m@\u001b[0m\u001b[0mstaticmethod\u001b[0m\u001b[0;34m\u001b[0m\u001b[0m\n",
      "\u001b[0;32m/usr/local/lib/python2.7/site-packages/tensorflow/python/client/session.pyc\u001b[0m in \u001b[0;36mrun\u001b[0;34m(self, fetches, feed_dict, options, run_metadata)\u001b[0m\n\u001b[1;32m    776\u001b[0m     \u001b[0;32mtry\u001b[0m\u001b[0;34m:\u001b[0m\u001b[0;34m\u001b[0m\u001b[0m\n\u001b[1;32m    777\u001b[0m       result = self._run(None, fetches, feed_dict, options_ptr,\n\u001b[0;32m--> 778\u001b[0;31m                          run_metadata_ptr)\n\u001b[0m\u001b[1;32m    779\u001b[0m       \u001b[0;32mif\u001b[0m \u001b[0mrun_metadata\u001b[0m\u001b[0;34m:\u001b[0m\u001b[0;34m\u001b[0m\u001b[0m\n\u001b[1;32m    780\u001b[0m         \u001b[0mproto_data\u001b[0m \u001b[0;34m=\u001b[0m \u001b[0mtf_session\u001b[0m\u001b[0;34m.\u001b[0m\u001b[0mTF_GetBuffer\u001b[0m\u001b[0;34m(\u001b[0m\u001b[0mrun_metadata_ptr\u001b[0m\u001b[0;34m)\u001b[0m\u001b[0;34m\u001b[0m\u001b[0m\n",
      "\u001b[0;32m/usr/local/lib/python2.7/site-packages/tensorflow/python/client/session.pyc\u001b[0m in \u001b[0;36m_run\u001b[0;34m(self, handle, fetches, feed_dict, options, run_metadata)\u001b[0m\n\u001b[1;32m    980\u001b[0m     \u001b[0;32mif\u001b[0m \u001b[0mfinal_fetches\u001b[0m \u001b[0;32mor\u001b[0m \u001b[0mfinal_targets\u001b[0m\u001b[0;34m:\u001b[0m\u001b[0;34m\u001b[0m\u001b[0m\n\u001b[1;32m    981\u001b[0m       results = self._do_run(handle, final_targets, final_fetches,\n\u001b[0;32m--> 982\u001b[0;31m                              feed_dict_string, options, run_metadata)\n\u001b[0m\u001b[1;32m    983\u001b[0m     \u001b[0;32melse\u001b[0m\u001b[0;34m:\u001b[0m\u001b[0;34m\u001b[0m\u001b[0m\n\u001b[1;32m    984\u001b[0m       \u001b[0mresults\u001b[0m \u001b[0;34m=\u001b[0m \u001b[0;34m[\u001b[0m\u001b[0;34m]\u001b[0m\u001b[0;34m\u001b[0m\u001b[0m\n",
      "\u001b[0;32m/usr/local/lib/python2.7/site-packages/tensorflow/python/client/session.pyc\u001b[0m in \u001b[0;36m_do_run\u001b[0;34m(self, handle, target_list, fetch_list, feed_dict, options, run_metadata)\u001b[0m\n\u001b[1;32m   1030\u001b[0m     \u001b[0;32mif\u001b[0m \u001b[0mhandle\u001b[0m \u001b[0;32mis\u001b[0m \u001b[0mNone\u001b[0m\u001b[0;34m:\u001b[0m\u001b[0;34m\u001b[0m\u001b[0m\n\u001b[1;32m   1031\u001b[0m       return self._do_call(_run_fn, self._session, feed_dict, fetch_list,\n\u001b[0;32m-> 1032\u001b[0;31m                            target_list, options, run_metadata)\n\u001b[0m\u001b[1;32m   1033\u001b[0m     \u001b[0;32melse\u001b[0m\u001b[0;34m:\u001b[0m\u001b[0;34m\u001b[0m\u001b[0m\n\u001b[1;32m   1034\u001b[0m       return self._do_call(_prun_fn, self._session, handle, feed_dict,\n",
      "\u001b[0;32m/usr/local/lib/python2.7/site-packages/tensorflow/python/client/session.pyc\u001b[0m in \u001b[0;36m_do_call\u001b[0;34m(self, fn, *args)\u001b[0m\n\u001b[1;32m   1050\u001b[0m         \u001b[0;32mexcept\u001b[0m \u001b[0mKeyError\u001b[0m\u001b[0;34m:\u001b[0m\u001b[0;34m\u001b[0m\u001b[0m\n\u001b[1;32m   1051\u001b[0m           \u001b[0;32mpass\u001b[0m\u001b[0;34m\u001b[0m\u001b[0m\n\u001b[0;32m-> 1052\u001b[0;31m       \u001b[0;32mraise\u001b[0m \u001b[0mtype\u001b[0m\u001b[0;34m(\u001b[0m\u001b[0me\u001b[0m\u001b[0;34m)\u001b[0m\u001b[0;34m(\u001b[0m\u001b[0mnode_def\u001b[0m\u001b[0;34m,\u001b[0m \u001b[0mop\u001b[0m\u001b[0;34m,\u001b[0m \u001b[0mmessage\u001b[0m\u001b[0;34m)\u001b[0m\u001b[0;34m\u001b[0m\u001b[0m\n\u001b[0m\u001b[1;32m   1053\u001b[0m \u001b[0;34m\u001b[0m\u001b[0m\n\u001b[1;32m   1054\u001b[0m   \u001b[0;32mdef\u001b[0m \u001b[0m_extend_graph\u001b[0m\u001b[0;34m(\u001b[0m\u001b[0mself\u001b[0m\u001b[0;34m)\u001b[0m\u001b[0;34m:\u001b[0m\u001b[0;34m\u001b[0m\u001b[0m\n",
      "\u001b[0;31mNotFoundError\u001b[0m: Unsuccessful TensorSliceReader constructor: Failed to find any matching files for fp_06_data/nmt_8/\n\t [[Node: save_39/RestoreV2_12 = RestoreV2[dtypes=[DT_FLOAT], _device=\"/job:localhost/replica:0/task:0/cpu:0\"](_recv_save_39/Const_0, save_39/RestoreV2_12/tensor_names, save_39/RestoreV2_12/shape_and_slices)]]\n\nCaused by op u'save_39/RestoreV2_12', defined at:\n  File \"/usr/local/Cellar/python/2.7.12_2/Frameworks/Python.framework/Versions/2.7/lib/python2.7/runpy.py\", line 174, in _run_module_as_main\n    \"__main__\", fname, loader, pkg_name)\n  File \"/usr/local/Cellar/python/2.7.12_2/Frameworks/Python.framework/Versions/2.7/lib/python2.7/runpy.py\", line 72, in _run_code\n    exec code in run_globals\n  File \"/usr/local/lib/python2.7/site-packages/ipykernel/__main__.py\", line 3, in <module>\n    app.launch_new_instance()\n  File \"/usr/local/lib/python2.7/site-packages/traitlets/config/application.py\", line 658, in launch_instance\n    app.start()\n  File \"/usr/local/lib/python2.7/site-packages/ipykernel/kernelapp.py\", line 474, in start\n    ioloop.IOLoop.instance().start()\n  File \"/usr/local/lib/python2.7/site-packages/zmq/eventloop/ioloop.py\", line 177, in start\n    super(ZMQIOLoop, self).start()\n  File \"/usr/local/lib/python2.7/site-packages/tornado/ioloop.py\", line 887, in start\n    handler_func(fd_obj, events)\n  File \"/usr/local/lib/python2.7/site-packages/tornado/stack_context.py\", line 275, in null_wrapper\n    return fn(*args, **kwargs)\n  File \"/usr/local/lib/python2.7/site-packages/zmq/eventloop/zmqstream.py\", line 440, in _handle_events\n    self._handle_recv()\n  File \"/usr/local/lib/python2.7/site-packages/zmq/eventloop/zmqstream.py\", line 472, in _handle_recv\n    self._run_callback(callback, msg)\n  File \"/usr/local/lib/python2.7/site-packages/zmq/eventloop/zmqstream.py\", line 414, in _run_callback\n    callback(*args, **kwargs)\n  File \"/usr/local/lib/python2.7/site-packages/tornado/stack_context.py\", line 275, in null_wrapper\n    return fn(*args, **kwargs)\n  File \"/usr/local/lib/python2.7/site-packages/ipykernel/kernelbase.py\", line 276, in dispatcher\n    return self.dispatch_shell(stream, msg)\n  File \"/usr/local/lib/python2.7/site-packages/ipykernel/kernelbase.py\", line 228, in dispatch_shell\n    handler(stream, idents, msg)\n  File \"/usr/local/lib/python2.7/site-packages/ipykernel/kernelbase.py\", line 390, in execute_request\n    user_expressions, allow_stdin)\n  File \"/usr/local/lib/python2.7/site-packages/ipykernel/ipkernel.py\", line 196, in do_execute\n    res = shell.run_cell(code, store_history=store_history, silent=silent)\n  File \"/usr/local/lib/python2.7/site-packages/ipykernel/zmqshell.py\", line 501, in run_cell\n    return super(ZMQInteractiveShell, self).run_cell(*args, **kwargs)\n  File \"/usr/local/lib/python2.7/site-packages/IPython/core/interactiveshell.py\", line 2717, in run_cell\n    interactivity=interactivity, compiler=compiler, result=result)\n  File \"/usr/local/lib/python2.7/site-packages/IPython/core/interactiveshell.py\", line 2827, in run_ast_nodes\n    if self.run_code(code, result):\n  File \"/usr/local/lib/python2.7/site-packages/IPython/core/interactiveshell.py\", line 2881, in run_code\n    exec(code_obj, self.user_global_ns, self.user_ns)\n  File \"<ipython-input-24-a6fb770cd285>\", line 76, in <module>\n    test_model()\n  File \"<ipython-input-24-a6fb770cd285>\", line 15, in test_model\n    loader = tf.train.import_meta_graph(log_dir+'model.ckpt-40'+ '.meta')\n  File \"/usr/local/lib/python2.7/site-packages/tensorflow/python/training/saver.py\", line 1595, in import_meta_graph\n    **kwargs)\n  File \"/usr/local/lib/python2.7/site-packages/tensorflow/python/framework/meta_graph.py\", line 499, in import_scoped_meta_graph\n    producer_op_list=producer_op_list)\n  File \"/usr/local/lib/python2.7/site-packages/tensorflow/python/framework/importer.py\", line 308, in import_graph_def\n    op_def=op_def)\n  File \"/usr/local/lib/python2.7/site-packages/tensorflow/python/framework/ops.py\", line 2336, in create_op\n    original_op=self._default_original_op, op_def=op_def)\n  File \"/usr/local/lib/python2.7/site-packages/tensorflow/python/framework/ops.py\", line 1228, in __init__\n    self._traceback = _extract_stack()\n\nNotFoundError (see above for traceback): Unsuccessful TensorSliceReader constructor: Failed to find any matching files for fp_06_data/nmt_8/\n\t [[Node: save_39/RestoreV2_12 = RestoreV2[dtypes=[DT_FLOAT], _device=\"/job:localhost/replica:0/task:0/cpu:0\"](_recv_save_39/Const_0, save_39/RestoreV2_12/tensor_names, save_39/RestoreV2_12/shape_and_slices)]]\n"
     ]
    }
   ],
   "source": [
    "\"\"\"\n",
    "This was not used at all in getting the solution as in the report.\n",
    "\n",
    "\"\"\"\n",
    "\n",
    "import tensorflow as tf\n",
    "def test_model():\n",
    "    \"\"\"\n",
    "    Test the saved model against the test dataset\n",
    "    \"\"\"\n",
    "    \n",
    "    #raw_s_test = load_obj(\"DATA/source_test\") # Data for benchmark model \n",
    "    #raw_t_test = load_obj(\"DATA/target_test\") # Data for benchmark model \n",
    "    loaded_graph = tf.Graph()\n",
    "    \n",
    "    with tf.Session(graph=loaded_graph, config=tf.ConfigProto(log_device_placement=True,\n",
    "                                    allow_soft_placement=True)) as sess:\n",
    "        # Load model\n",
    "        if testing_only:\n",
    "            loader = tf.train.import_meta_graph(log_dir+'model.ckpt-40'+ '.meta')\n",
    "            loader.restore(sess, log_dir)\n",
    "        predictions, actuals = [], []\n",
    "        fd_keys = [encoder_inputs, decoder_inputs, decoder_targets]\n",
    "        try:\n",
    "            batch_n = 0\n",
    "            print \"testing has begun...\"\n",
    "            for s_batch, t_batch in batch_source_target(s_test, t_test, batch_size):\n",
    "                feed_dict = make_feed_dict(fd_keys, s_batch, t_batch,\n",
    "                                                reverse_encoder_inputs= True,\n",
    "                                                feed_previous_prob_= 1)\n",
    "                predict_ = sess.run(decoder_prediction, feed_dict)\n",
    "                for i, (inp, act, pred) in enumerate(zip(feed_dict[encoder_inputs].T,\n",
    "                                                         feed_dict[decoder_targets].T,\n",
    "                                                         predict_.T)):\n",
    "                    actuals.append([remove_EOS_PAD(act)])\n",
    "                    predictions.append(remove_EOS_PAD(pred))\n",
    "                    \n",
    "                    print \"batch number: \", batch_n\n",
    "                    print ('    actual     : {} \\n \\t {}'.format(\n",
    "                                     format_idx(act), ids_to_phrases(act, id2word_t)))\n",
    "                    print ('    predicted     : {} \\n \\t {}'.format(\n",
    "                                     format_idx(pred), ids_to_phrases(pred, id2word_t)))\n",
    "                    logging.info('    actual     : {} \\n \\t {}'.format(\n",
    "                                     format_idx(act), ids_to_phrases(act, id2word_t)))\n",
    "                    logging.info('    predicted     : {} \\n \\t {}'.format(\n",
    "                                     format_idx(pred), ids_to_phrases(pred, id2word_t)))\n",
    "                    if i >3:\n",
    "                        break\n",
    "\n",
    "            batch_n+=1\n",
    "        except KeyboardInterrupt:\n",
    "            print 'testing interrupted'\n",
    "\"\"\"\n",
    "# Get Tensors from loaded model\n",
    "loaded_x = loaded_graph.get_tensor_by_name('x:0')\n",
    "loaded_y = loaded_graph.get_tensor_by_name('y:0')\n",
    "loaded_keep_prob = loaded_graph.get_tensor_by_name('keep_prob:0')\n",
    "loaded_logits = loaded_graph.get_tensor_by_name('logits:0')\n",
    "loaded_acc = loaded_graph.get_tensor_by_name('accuracy:0')\n",
    "\n",
    "# Get accuracy in batches for memory limitations\n",
    "test_batch_acc_total = 0\n",
    "test_batch_count = 0\n",
    "\n",
    "for train_feature_batch, train_label_batch in helper.batch_features_labels(test_features, test_labels, batch_size):\n",
    "    test_batch_acc_total += sess.run(\n",
    "        loaded_acc,\n",
    "        feed_dict={loaded_x: train_feature_batch, loaded_y: train_label_batch, loaded_keep_prob: 1.0})\n",
    "    test_batch_count += 1\n",
    "\n",
    "print('Testing Accuracy: {}\\n'.format(test_batch_acc_total/test_batch_count))\n",
    "\n",
    "# Print Random Samples\n",
    "random_test_features, random_test_labels = tuple(zip(*random.sample(list(zip(test_features, test_labels)), n_samples)))\n",
    "random_test_predictions = sess.run(\n",
    "    tf.nn.top_k(tf.nn.softmax(loaded_logits), top_n_predictions),\n",
    "    feed_dict={loaded_x: random_test_features, loaded_y: random_test_labels, loaded_keep_prob: 1.0})\n",
    "helper.display_image_predictions(random_test_features, random_test_labels, random_test_predictions)\n",
    "\"\"\"\n",
    "\n",
    "test_model()"
   ]
  },
  {
   "cell_type": "code",
   "execution_count": null,
   "metadata": {
    "collapsed": true
   },
   "outputs": [],
   "source": []
  },
  {
   "cell_type": "code",
   "execution_count": null,
   "metadata": {
    "collapsed": true
   },
   "outputs": [],
   "source": [
    "\n"
   ]
  },
  {
   "cell_type": "code",
   "execution_count": 142,
   "metadata": {},
   "outputs": [
    {
     "name": "stdout",
     "output_type": "stream",
     "text": [
      "1112 1045\n"
     ]
    },
    {
     "data": {
      "image/png": "[encoded data removed]",
      "text/plain": [
       "<matplotlib.figure.Figure at 0x1301a9b10>"
      ]
     },
     "metadata": {},
     "output_type": "display_data"
    },
    {
     "data": {
      "text/plain": [
       "'\\nl_a= load_obj(\"DATA/loss_track_a\")\\nl_b= load_obj(\"DATA/loss_track_b\")\\nl_c= load_obj(\"DATA/loss_track_c\")\\nl_58= load_obj(\"DATA/loss_track_58\")\\nl_59= load_obj(\"DATA/loss_track_59\")\\nl_61= load_obj(\"DATA/loss_track_61\")\\nl_62= load_obj(\"DATA/loss_track_62\")\\nwhile len(l_c)< len(l_b):\\n    l_c.append(0)\\n#l_128\\nbatches = 35000/51\\nticks = [(batches*i, i) for i in range(1,51)]\\nfig = plt.figure()\\n\\nplt.plot(30*np.arange(0,len(l_c)),l_c, label=\\'$P_f=0$\\')\\n#plt.\\nfig = plt.figure()\\nT = 100*np.arange(0,len(l_58))\\nplt.plot(30*np.arange(0,len(l_a)),l_a, label=\\'$P_f=1$\\' )\\nplt.plot(30*np.arange(0,len(l_b)),l_b, label=\\'$P_f=0.5$\\')\\nplt.plot(T,l_62, label=r\"$P_f=0.2$\")\\nplt.plot(30*np.arange(0,len(l_c)),l_c, label=\\'$P_f=0$\\')\\nplt.plot(T,l_58, label=r\"$N_h=512$ annealed\")\\nplt.plot(T,l_59, label=r\"$N_h=256$ annealed\")\\n\\n#plt.plot(T,l_61, label=r\"$N_h=256$, $P_f=0.2$\")\\n\\nplt.legend(loc=\\'upper center\\', bbox_to_anchor=(0.5, 1.25),\\n          ncol=3, fancybox=True, shadow=True)\\nplt.ylabel(\\'Batch Loss\\')\\nplt.xlabel(\\'Batch Number\\')\\nplt.xlim(0,35000)\\nplt.ylim(0,6)\\nplt.show()\\n'"
      ]
     },
     "execution_count": 142,
     "metadata": {},
     "output_type": "execute_result"
    }
   ],
   "source": [
    "import matplotlib.pyplot as plt\n",
    "from matplotlib.font_manager import FontProperties\n",
    "from utils import *\n",
    "plt.figure()\n",
    "l_a= load_obj(\"fp_06_data/loss_track8\")\n",
    "l_b= load_obj(\"fp_02_data/loss_track8\")\n",
    "print len(l_a), len(l_b)\n",
    "plt.plot(l_a)\n",
    "plt.plot(l_b)\n",
    "plt.ylim(0,6)\n",
    "plt.show()\n",
    "#l_c= load_obj(\"DATA/loss_track_c\")\n",
    "\"\"\"\n",
    "l_a= load_obj(\"DATA/loss_track_a\")\n",
    "l_b= load_obj(\"DATA/loss_track_b\")\n",
    "l_c= load_obj(\"DATA/loss_track_c\")\n",
    "l_58= load_obj(\"DATA/loss_track_58\")\n",
    "l_59= load_obj(\"DATA/loss_track_59\")\n",
    "l_61= load_obj(\"DATA/loss_track_61\")\n",
    "l_62= load_obj(\"DATA/loss_track_62\")\n",
    "while len(l_c)< len(l_b):\n",
    "    l_c.append(0)\n",
    "#l_128\n",
    "batches = 35000/51\n",
    "ticks = [(batches*i, i) for i in range(1,51)]\n",
    "fig = plt.figure()\n",
    "\n",
    "plt.plot(30*np.arange(0,len(l_c)),l_c, label='$P_f=0$')\n",
    "#plt.\n",
    "fig = plt.figure()\n",
    "T = 100*np.arange(0,len(l_58))\n",
    "plt.plot(30*np.arange(0,len(l_a)),l_a, label='$P_f=1$' )\n",
    "plt.plot(30*np.arange(0,len(l_b)),l_b, label='$P_f=0.5$')\n",
    "plt.plot(T,l_62, label=r\"$P_f=0.2$\")\n",
    "plt.plot(30*np.arange(0,len(l_c)),l_c, label='$P_f=0$')\n",
    "plt.plot(T,l_58, label=r\"$N_h=512$ annealed\")\n",
    "plt.plot(T,l_59, label=r\"$N_h=256$ annealed\")\n",
    "\n",
    "#plt.plot(T,l_61, label=r\"$N_h=256$, $P_f=0.2$\")\n",
    "\n",
    "plt.legend(loc='upper center', bbox_to_anchor=(0.5, 1.25),\n",
    "          ncol=3, fancybox=True, shadow=True)\n",
    "plt.ylabel('Batch Loss')\n",
    "plt.xlabel('Batch Number')\n",
    "plt.xlim(0,35000)\n",
    "plt.ylim(0,6)\n",
    "plt.show()\n",
    "\"\"\""
   ]
  },
  {
   "cell_type": "code",
   "execution_count": 138,
   "metadata": {},
   "outputs": [
    {
     "name": "stdout",
     "output_type": "stream",
     "text": [
      "24911\n"
     ]
    }
   ],
   "source": [
    "preds_BM, targs_BM = load_obj(\"DATA/BM_translated_test\"), load_obj(\"DATA/BM_target\")\n",
    "print len(preds_BM)"
   ]
  },
  {
   "cell_type": "code",
   "execution_count": 52,
   "metadata": {},
   "outputs": [
    {
     "data": {
      "image/png": "[encoded data removed]",
      "text/plain": [
       "<matplotlib.figure.Figure at 0x11c6e5450>"
      ]
     },
     "metadata": {},
     "output_type": "display_data"
    },
    {
     "data": {
      "image/png": "[encoded data removed]",
      "text/plain": [
       "<matplotlib.figure.Figure at 0x10f24fc90>"
      ]
     },
     "metadata": {},
     "output_type": "display_data"
    }
   ],
   "source": [
    "\n",
    "def bleu_over_time(data, ax, title=''):\n",
    "    actuals = raw_t_test\n",
    "    targs_form = []\n",
    "    for a in actuals:\n",
    "            targs_form.append([a])\n",
    "    data_path = 'short_data/'+data+'/predictions'\n",
    "    b1, b2, b4 = [], [], []\n",
    "    for n in range(5,35,5):\n",
    "        preds = load_obj(data_path+str(n))\n",
    "        preds = [(ids_to_phrases(format_idx(p), id2word_t)).split(' ') for p in preds[1]]\n",
    "        BLEU4 = bleu_score.corpus_bleu(targs_form, preds, weights=(0.25,0.25, 0.25,0.25))\n",
    "        BLEU2 = bleu_score.corpus_bleu(targs_form, preds, weights=(0.5,0.5))\n",
    "        BLEU1 = bleu_score.corpus_bleu(targs_form, preds, weights=([1]))\n",
    "        b1.append(BLEU1)\n",
    "        b2.append(BLEU2)\n",
    "        b4.append(BLEU4)\n",
    "    ax.plot(range(5,35,5),b1,label='BLEU1' )\n",
    "    ax.plot(range(5,35,5),b2,label='BLEU2' )\n",
    "    ax.plot(range(5,35,5),b4,label='BLEU4' )\n",
    "    ax.set_xlabel(\"Epoch\")\n",
    "    ax.set_ylabel(\"N-gram BLEU score\")\n",
    "    ax.set_title(title)\n",
    "    return b1, b2, b4\n",
    "fig = plt.figure()\n",
    "ax1 = fig.add_subplot(111)\n",
    "bleu_over_time('Predictions_70_noembed', ax1, title='Feed previous prob = 0.7')\n",
    "fig = plt.figure()\n",
    "ax2 = fig.add_subplot(111)\n",
    "bleu_over_time('Predictions_50_embed', ax2, title='Feed previous prob = 0.5')\n",
    "\n",
    "plt.legend()\n",
    "plt.show()"
   ]
  },
  {
   "cell_type": "code",
   "execution_count": 76,
   "metadata": {
    "collapsed": true
   },
   "outputs": [],
   "source": [
    "\n",
    "import matplotlib.pyplot as plt\n",
    "from nltk.translate import bleu_score\n",
    "import numpy as np\n",
    "from utils import load_obj, format_idx, ids_to_phrases\n",
    "import time\n",
    "\n",
    "def BLEU_analysis(preds, targs, Ngram_len = 2, lab=\"NMT\", titl_suf=''):\n",
    "    bleu_d = dict()\n",
    "    targs_form = []\n",
    "    preds_form = []\n",
    "    results = []\n",
    "    for p, a in zip(preds, targs):\n",
    "        if p[-1] == '':\n",
    "            p = p[0:-1] #get rid of phantom whitespace at the end\n",
    "        BLEU4 = bleu_score.sentence_bleu( [a], p, weights=(0.25,0.25, 0.25,0.25))\n",
    "        BLEU2 = bleu_score.sentence_bleu( [a],p, weights=(0.5,0.5))\n",
    "        BLEU1 = bleu_score.sentence_bleu( [a], p,weights=([1]))\n",
    "        l = len(p)\n",
    "        if l not in bleu_d.keys():\n",
    "            bleu_d[l] = []\n",
    "        bleu_d[l].append(eval(\"BLEU\"+str(Ngram_len)))\n",
    "        targs_form.append([a])\n",
    "        preds_form.append(p)\n",
    "        results.append((a, p, BLEU1, BLEU2, BLEU4))\n",
    "    BLEU4 = bleu_score.corpus_bleu(targs_form, preds, weights=(0.25,0.25, 0.25,0.25))\n",
    "    BLEU2 = bleu_score.corpus_bleu(targs_form, preds, weights=(0.5,0.5))\n",
    "    BLEU1 = bleu_score.corpus_bleu(targs_form, preds, weights=([1]))\n",
    "    bleu_mean = [np.mean(v) for v in bleu_d.values()]\n",
    "    bleu_median = [np.median(v) for v in bleu_d.values()]\n",
    "    plt.figure()\n",
    "    #print max(bleu.keys())+1, len(bleu_mean)\n",
    "    #X = range(1,max(bleu.keys())+1)\n",
    "    plt.plot(bleu_d.keys(), bleu_mean, label='Mean')\n",
    "    plt.scatter(bleu_d.keys(), bleu_median, label='Median')\n",
    "    #print zip(bleu_d.keys(),bleu_mean)\n",
    "    plt.ylabel(\"Average BLEU\"+str(Ngram_len))\n",
    "    plt.xlabel(\"Sequence Length\")\n",
    "    plt.title(titl_suf)\n",
    "    plt.legend()\n",
    "    plt.xlim(0,20)\n",
    "    plt.ylim(0,1)\n",
    "    plt.show()\n",
    "    print'{} Corpus BLEU4: {:.5f} \\t BLEU2: {:.5f} \\t BLEU1: {:.5f}\\n'.format(lab, BLEU4, BLEU2, BLEU1)\n",
    "    return results\n",
    "\n",
    "\n",
    "\n",
    "# mean = 0.27129"
   ]
  },
  {
   "cell_type": "code",
   "execution_count": 77,
   "metadata": {},
   "outputs": [
    {
     "data": {
      "image/png": "[encoded data removed]",
      "text/plain": [
       "<matplotlib.figure.Figure at 0x10096c210>"
      ]
     },
     "metadata": {},
     "output_type": "display_data"
    },
    {
     "name": "stdout",
     "output_type": "stream",
     "text": [
      "NMT Corpus BLEU4: 0.05093 \t BLEU2: 0.13829 \t BLEU1: 0.27129\n",
      "\n"
     ]
    },
    {
     "data": {
      "image/png": "[encoded data removed]",
      "text/plain": [
       "<matplotlib.figure.Figure at 0x110230310>"
      ]
     },
     "metadata": {},
     "output_type": "display_data"
    },
    {
     "name": "stdout",
     "output_type": "stream",
     "text": [
      "NMT Corpus BLEU4: 0.05093 \t BLEU2: 0.13829 \t BLEU1: 0.27129\n",
      "\n",
      "2420\n"
     ]
    },
    {
     "data": {
      "text/plain": [
       "\"\\npreds = load_obj('short_data/Predictions_70_noembed/predictions20')\\nactuals, predictions = preds[0], preds[1]\\nBLEU_analysis(predictions, actuals, Ngram_len = 1,tit_suf=': NMT 20 epochs without embeddings')\\npreds = load_obj('short_data/Predictions_70_noembed/predictions15')\\nactuals, predictions = preds[0], preds[1]\\nBLEU_analysis(predictions, actuals, Ngram_len = 1,tit_suf=': NMT 15 epochs without embeddings')\\n\\npreds = load_obj('short_data/Predictions_50_embed/predictions30')\\nactuals, predictions = preds[0], preds[1]\\nBLEU_analysis(predictions, actuals, Ngram_len = 1,tit_suf=': NMT 30 epochs with embeddings')\\n\\npreds = load_obj('short_data/Predictions_50_embed/predictions20')\\nactuals, predictions = preds[0], preds[1]\\nBLEU_analysis(predictions, actuals, Ngram_len = 1, tit_suf=': NMT 20 epochs with embeddings')\\n\\npreds = load_obj('short_data/Predictions_50_embed/predictions10')\\nactuals, predictions = preds[0], preds[1]\\nBLEU_analysis(predictions, actuals, Ngram_len = 1, tit_suf=': NMT 10 epochs and FPP=0.5')\\n\\npreds = load_obj('short_data/Predictions_50_embed/predictions10')\\nactuals, predictions = preds[0], preds[1]\\nBLEU_analysis(predictions, actuals, Ngram_len = 1, tit_suf=': NMT 10 epochs and FPP=0.5')\\n\""
      ]
     },
     "execution_count": 77,
     "metadata": {},
     "output_type": "execute_result"
    }
   ],
   "source": [
    "preds = load_obj('short_data/Predictions_70_noembed/predictions30')\n",
    "actuals, preds = raw_t_test, [unicode(ids_to_phrases(format_idx(p), id2word_t), 'utf-8').split(' ') for p in preds[1]]\n",
    "\n",
    "\n",
    "r1 = BLEU_analysis(predictions, raw_t_test, Ngram_len = 1, titl_suf='NMT: 30 epochs and FPP=0.7')\n",
    "#r4 = BLEU_analysis(predictions, raw_t_test, Ngram_len = 4, titl_suf=': 30 epochs and FPP=0.7')\n",
    "\n",
    "\"\"\"\n",
    "preds = load_obj('short_data/Predictions_70_noembed/predictions35')\n",
    "actuals, preds = raw_t_test, [unicode(ids_to_phrases(format_idx(p), id2word_t), 'utf-8').split(' ') for p in preds[1]]\n",
    "\n",
    "\n",
    "r1 = BLEU_analysis(predictions, raw_t_test, Ngram_len = 1, titl_suf='NMT: 30 epochs and FPP=0.7')\n",
    "\n",
    "b1_nmt = [b1 for a, p, b1, b2, b4 in r1]\n",
    "\"\"\"\n",
    "\"\"\"\n",
    "np.random.shuffle(r1)\n",
    "for a, p, b1, b2, b4 in r1:\n",
    "    if b4 >0.596949179202:\n",
    "        print a, p, b1, b2, b4\n",
    "    #if u'it accurately portrays' in u' '.join(a):\n",
    "    #    print a, p, b1, b2, b4\n",
    "    \n",
    "    try:\n",
    "        print u\"Target: {} \\nPrediction: {} \\n b1: {:.3f} b2: {:.3f} b4: {:.3f}\\n\".format(\n",
    "                                                            u' '.join(a), \n",
    "                                                            unicode(u' '.join(p).encode('utf-8)', 'utf-8')), \n",
    "                                                            b1, b2, b4)\n",
    "    except Exception as err:\n",
    "        print a\n",
    "        print p\n",
    "        print err\n",
    "    \n",
    "\"\"\"\n",
    "print b1_nmt.count(0.)"
   ]
  },
  {
   "cell_type": "code",
   "execution_count": 74,
   "metadata": {
    "scrolled": true
   },
   "outputs": [
    {
     "data": {
      "image/png": "[encoded data removed]",
      "text/plain": [
       "<matplotlib.figure.Figure at 0x11c2f7d90>"
      ]
     },
     "metadata": {},
     "output_type": "display_data"
    },
    {
     "name": "stdout",
     "output_type": "stream",
     "text": [
      "NMT Corpus BLEU4: 0.00175 \t BLEU2: 0.00749 \t BLEU1: 0.04269\n",
      "\n",
      "11475\n"
     ]
    },
    {
     "data": {
      "text/plain": [
       "'\\nfor a, p, b1, b2, b4 in r_bm:\\n    try:\\n        print u\"Target: {} \\nPrediction: {} \\n b1: {:.3f} b2: {:.3f} b4: {:.3f}\\n\".format(\\n                                                            u\\' \\'.join(a), \\n                                                            unicode(u\\' \\'.join(p).encode(\\'utf-8)\\', \\'utf-8\\')), \\n                                                            b1, b2, b4)\\n    except Exception as err:\\n        print err\\n        print a\\n        print p\\n'"
      ]
     },
     "execution_count": 74,
     "metadata": {},
     "output_type": "execute_result"
    }
   ],
   "source": [
    "BM_translated = zip(*load_obj('short_data/BM_translated'))\n",
    "preds_BM = BM_translated[1]\n",
    "\n",
    "r_bm = BLEU_analysis(preds_BM, raw_t_test, Ngram_len=1, titl_suf='Benchmark Model')\n",
    "b1_bm = [b1 for a, p, b1, b2, b4 in r_bm]\n",
    "print b1_bm.count(0.)\n",
    "\"\"\"\n",
    "for a, p, b1, b2, b4 in r_bm[0:200]:\n",
    "    try:\n",
    "        print u\"Target: {} \\nPrediction: {} \\n b1: {:.3f} b2: {:.3f} b4: {:.3f}\\n\".format(\n",
    "                                                            u' '.join(a), \n",
    "                                                            unicode(u' '.join(p).encode('utf-8)', 'utf-8')), \n",
    "                                                            b1, b2, b4)\n",
    "    except Exception as err:\n",
    "        print err\n",
    "        print a\n",
    "        print p\n",
    "\"\"\"\n",
    "#BLEU_analysis(preds_BM, raw_t_test, Ngram_len=4)"
   ]
  },
  {
   "cell_type": "code",
   "execution_count": 86,
   "metadata": {},
   "outputs": [
    {
     "name": "stdout",
     "output_type": "stream",
     "text": [
      "ibid pp. 198 and 199 ibid p. 198 and 199\n",
      "communications &amp public relations communications and relations public\n",
      "mr. raymond leigh mills m. raymond leigh mills\n",
      "measurement and possible adverse effects &quot hhs publication fda 81-8163 may 1981 measurement and possible adverse effects &quot hhs publication fda 81-8163 May 1981\n",
      "national and transnational differences differences national and international\n",
      "gosden t torgerson dj maynard a. what is to be done about fundholding ? 16 gosden t torgerson dj maynard a. what is to be done about fundholding ?\n",
      "learning from the suffolk system &quot journal of money credit and banking vol learning from the suffolk system journal of money credit and banking vol.\n",
      "guerin m.r. r.a. jenkins and b.a. tomkins guerin M.R. r.a. jenkins and b.a. tomkins\n",
      "preventive measures measures preventive\n",
      "milenio ambiental n ° 4 - risk management people maria noel estrada ortiz millennium environmental n ° 4 - risk management people maria noel estrada ortiz\n",
      "22027\n",
      "63.9487901212\n"
     ]
    }
   ],
   "source": [
    "import nltk\n",
    "flat = []\n",
    "flat_a = []\n",
    "for a, p, b1, b2, b4 in r_bm:\n",
    "    flat += p\n",
    "    flat_a += a\n",
    "    try:\n",
    "        if b1 > 0.7:\n",
    "            print ' '.join(a), ' '.join(p)\n",
    "            #try:\n",
    "            #    print \"Target: {} \\nPrediction: {} \\n b1: {:.3f} b2: {:.3f} b4: {:.3f}\\n\".format(\n",
    "        #                                                      ' '.join(a), ' '.join(p), b1, b2, b4)\n",
    "    except Exception as err:\n",
    "        print a\n",
    "        print p\n",
    "        print err\n",
    "fd = nltk.FreqDist(flat)\n",
    "fd_keys = fd.keys()\n",
    "fd_a = nltk.FreqDist(flat_a)\n",
    "fd_keys_a = fd_a.keys()\n",
    "print len(fd_keys)\n",
    "counts = 0\n",
    "for k in fd_keys:\n",
    "    if k in fd_a.keys():\n",
    "        counts += 1\n",
    "print \"Percentage of benchmark vocabulary within the target corpus vocabulary: {:0.3f}\".format(\n",
    "                                                                100*(counts/float(len(fd_keys))))"
   ]
  },
  {
   "cell_type": "code",
   "execution_count": 7,
   "metadata": {},
   "outputs": [
    {
     "name": "stdout",
     "output_type": "stream",
     "text": [
      "Ground truth\n",
      "Min: 1  Max: 15  Mean: 9.36   Median: 10.0   Mode: 10   1st Quart.: 7.0   IQR: 5.0   3rd Quart.: 12.0\n",
      "NMT\n",
      "Min: 1  Max: 17  Mean: 9.40   Median: 10.0   Mode: 9   1st Quart.: 7.0   IQR: 5.0   3rd Quart.: 12.0\n",
      "Dictionary method\n",
      "Min: 1  Max: 18  Mean: 11.03   Median: 11.0   Mode: 11   1st Quart.: 8.0   IQR: 6.0   3rd Quart.: 14.0\n"
     ]
    }
   ],
   "source": [
    "print \"Ground truth\"\n",
    "sequence_stats(raw_t_test)\n",
    "print \"NMT\"\n",
    "from utils import sequence_stats\n",
    "sequence_stats(predictions)\n",
    "print \"Dictionary method\"\n",
    "sequence_stats(preds_BM)"
   ]
  },
  {
   "cell_type": "code",
   "execution_count": null,
   "metadata": {
    "collapsed": true
   },
   "outputs": [],
   "source": []
  }
 ],
 "metadata": {
  "kernelspec": {
   "display_name": "Python 2",
   "language": "python",
   "name": "python2"
  }
 },
 "nbformat": 4,
 "nbformat_minor": 2
}
