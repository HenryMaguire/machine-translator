{
 "cells": [
  {
   "cell_type": "markdown",
   "metadata": {
    "deletable": true,
    "editable": true
   },
   "source": [
    "## The dataset\n",
    "\n",
    "Here I will introduce the dataset, experiment with it, tokenize it, preprocess it and save it to a new set of files."
   ]
  },
  {
   "cell_type": "code",
   "execution_count": 1,
   "metadata": {
    "collapsed": false,
    "deletable": true,
    "editable": true
   },
   "outputs": [
    {
     "name": "stdout",
     "output_type": "stream",
     "text": [
      "It was Nov . 10 of last year when stagehand Kevin Monk , his kindergarten-teacher wife , Roseanna , and Genevieve were getting ready to go on a family trip .\n",
      "The beginning of a new era means a problem for all Christian democracy , including Angela Merkel as well .\n",
      "Obama ? The first anti-American President . Here is why ?\n",
      "While villages report a sharp decline in interest in driver &apos;s license renewal , the authorities in the city are overloaded with applications and the interest in the license renewal has grown this week .\n",
      "Internet use is extremely limited on the island .\n",
      "On November 4th the lophoscopist of Cali CTI passed into history as the man who confirmed the identity of the FARC top leader , &quot; Alfonso Cano , through the comparison of his fingerprints .\n",
      "Both teams found it difficult to join in the combination ; the game remained around the mid-field line most of the time .\n",
      "The researchers put a small bucket with a moth larva in a vertical cylinder .\n",
      "&quot; It &apos;s like \n",
      "5001\n",
      "5001\n"
     ]
    }
   ],
   "source": [
    "import codecs\n",
    "import numpy as np\n",
    "f_fr = codecs.open(\"DATA/en-fr_paropt/dev.tok.fr\", encoding='utf-8')\n",
    "f_en = codecs.open(\"DATA/en-fr_paropt/dev.tok.en\", encoding='utf-8')\n",
    "text_fr = f_fr.read()\n",
    "text_en = f_en.read()\n",
    "print text_en[0:1000]\n",
    "print len(text_en.split('\\n'))\n",
    "print len(text_fr.split('\\n'))"
   ]
  },
  {
   "cell_type": "markdown",
   "metadata": {
    "deletable": true,
    "editable": true
   },
   "source": [
    "# Tokenizing and preprocessing\n",
    "Here we can see that sentences are not really split over lines since \"Here is why ?\" is technically it's own sentence - however, splitting these cases up will lead to misalignment between the english and french corpora so it's too risky. What I will do then is just tokenize each line, remove capitalisation and then replace the final punctuation with `<EOS` and unknown characters with `<UNK>` or `1`."
   ]
  },
  {
   "cell_type": "code",
   "execution_count": 2,
   "metadata": {
    "collapsed": false,
    "deletable": true,
    "editable": true
   },
   "outputs": [
    {
     "name": "stdout",
     "output_type": "stream",
     "text": [
      "still aligned: True\n"
     ]
    }
   ],
   "source": [
    "# Fix a small pathology with the datasets, whereby spaces are put between words\n",
    "# and end of sentence tokens\n",
    "def format_eos(text):\n",
    "    #text = text.replace(' .', '.')\n",
    "    #text = text.replace('?')\n",
    "    #text = text.replace('!', '.')\n",
    "    #text = text.replace(\"didn &apos;t\", 'did not')\n",
    "    #text = text.replace(\"shouldn &apos;t\", 'should not')\n",
    "    return text\n",
    "\n",
    "#text_fr = format_eos(text_fr)\n",
    "#text_en = format_eos(text_en)\n",
    "print \"still aligned:\", len(text_en.split('\\n')) == len(text_fr.split('\\n'))"
   ]
  },
  {
   "cell_type": "code",
   "execution_count": 3,
   "metadata": {
    "collapsed": false,
    "deletable": true,
    "editable": true
   },
   "outputs": [
    {
     "name": "stdout",
     "output_type": "stream",
     "text": [
      "Tempur softens when warm , but strengthens in the cold .\n",
      "Le Tempur se rammollit à la chaleur et se durcit , au contraire , au froid .\n",
      "------------\n",
      "Mr Bowen thinks that Muslim values and French secularism could be compatible .\n",
      "M Bowen estime que les valeurs des Musulmans et la laïcité des Français pourraient être compatibles .\n",
      "------------\n",
      " Judging by keywords and rudimentary knowledge of French, I suspect the corpora are still aligned.\n",
      "corpora still same length: True \n",
      "\n"
     ]
    }
   ],
   "source": [
    "\n",
    "import nltk.data\n",
    "import random\n",
    "# First split up into lines using the Punkt tokenizer\n",
    "#fr_sent_detector = nltk.data.load('tokenizers/punkt/french.pickle')\n",
    "#en_sent_detector = nltk.data.load('tokenizers/punkt/english.pickle')\n",
    "#fr_sents = fr_sent_detector.tokenize(text_fr)\n",
    "#en_sents = en_sent_detector.tokenize(text_en)\n",
    "\n",
    "# First split the text up into lines\n",
    "en_sents = text_en.split('\\n')\n",
    "fr_sents = text_fr.split('\\n')\n",
    "# Randomise the lists but maintain parallel ordering\n",
    "s = zip(en_sents, fr_sents)\n",
    "np.random.shuffle(s)\n",
    "en_sents, fr_sents = zip(*s)\n",
    "sents_en = en_sents\n",
    "sents_fr = fr_sents\n",
    "\n",
    "print \"\\n\".join([sents_en[0],sents_fr[0]])\n",
    "print \"------------\"\n",
    "print \"\\n\".join([sents_en[302],sents_fr[302]])\n",
    "print \"------------\\n Judging by keywords and rudimentary knowledge of French, I suspect the corpora are still aligned.\"\n",
    "print \"corpora still same length:\", len(en_sents)== len(fr_sents), '\\n'"
   ]
  },
  {
   "cell_type": "code",
   "execution_count": 4,
   "metadata": {
    "collapsed": false,
    "deletable": true,
    "editable": true
   },
   "outputs": [
    {
     "name": "stdout",
     "output_type": "stream",
     "text": [
      "[[u'tempur', u'softens', u'when', u'warm', u',', u'but', u'strengthens', u'in', u'the', u'cold', u'.', u'<EOS>'], [u'in', u'addition', u',', u'mr', u'beaulieu', u'emphasises', u'the', u'importance', u'of', u'discussing', u'your', u'concerns', u'and', u'family', u'history', u'with', u'your', u'doctor', u'.', u'<EOS>'], [u'many', u'of', u'these', u'ideas', u'may', u'have', u'been', u'creative', u',', u'but', u'they', u'didn', u'&apos', u';', u't', u'necessarily', u'work', u'.', u'<EOS>']]\n"
     ]
    }
   ],
   "source": [
    "# Next split up into tokens using the toktok tokenizer\n",
    "from nltk.tokenize import toktok\n",
    "tok_tokenizer = toktok.ToktokTokenizer()\n",
    "\n",
    "def tokenize_sentences(text):\n",
    "    new_text = []\n",
    "    for sentence in text:\n",
    "        # This splits up tokens within a sentence\n",
    "        tok_sent = tok_tokenizer.tokenize(sentence.lower())\n",
    "        # I'm keeping the final punctuation and appending the \n",
    "        # <EOS> tag after it\n",
    "        new_text.append(tok_sent+[u'<EOS>'])\n",
    "    return new_text\n",
    "print tokenize_sentences(sents_en[0:3])\n",
    "tokenized_en = tokenize_sentences(sents_en)\n",
    "tokenized_fr = tokenize_sentences(sents_fr)"
   ]
  },
  {
   "cell_type": "markdown",
   "metadata": {
    "deletable": true,
    "editable": true
   },
   "source": [
    "## Vocabularies, Sequences and Word frequencies"
   ]
  },
  {
   "cell_type": "markdown",
   "metadata": {
    "deletable": true,
    "editable": true
   },
   "source": [
    "I need to:\n",
    "- Find the frequencies of words, limiting the vocabulary size to some number of the most common words and replacing out of vocabulary words with `<UNK>`\n",
    "- Give each token an ID, where `<EOS>` =0, `<UNK>` =1 and the remaining tokens are assigned numbers from 2 to vocab_size+1 at random\n",
    "- Make each sequence the same length by padding the end of sequences with zeros until their length matches the longest sequence. Given the long-tailed distribution of sequence length and the limited capacity of LSTMs we may be able to truncate max sequence length substantially.\n"
   ]
  },
  {
   "cell_type": "code",
   "execution_count": 6,
   "metadata": {
    "collapsed": false,
    "deletable": true,
    "editable": true
   },
   "outputs": [
    {
     "data": {
      "image/png": "[encoded data removed]",
      "text/plain": [
       "<matplotlib.figure.Figure at 0x107d78490>"
      ]
     },
     "metadata": {},
     "output_type": "display_data"
    },
    {
     "data": {
      "image/png": "[encoded data removed]",
      "text/plain": [
       "<matplotlib.figure.Figure at 0x107d78510>"
      ]
     },
     "metadata": {},
     "output_type": "display_data"
    },
    {
     "name": "stdout",
     "output_type": "stream",
     "text": [
      "English vocab size restricts to 7.33568075117 percent of total vocab.\n",
      "Percentage of whole English corpus covered by vocab: 76.0516024995\n",
      "French vocab size restricts to 6.16180910715 percent of total vocab.\n",
      "Percentage of whole French corpus covered by vocab: 76.7572438652\n"
     ]
    }
   ],
   "source": [
    "import nltk\n",
    "import matplotlib.pyplot as plt\n",
    "\n",
    "def seq_length_stats(tokenized_text, lang='English'):\n",
    "    seq_data = dict()\n",
    "    for sublist in tokenized_text:\n",
    "        # Need to keep track of the longest sequence length to pad shorter ones with <EOS>\n",
    "        if len(sublist) not in seq_data.keys():\n",
    "            seq_data[len(sublist)] = 1\n",
    "        else:\n",
    "            seq_data[len(sublist)] += 1\n",
    "    \n",
    "    plt.scatter(seq_data.keys(), seq_data.values())\n",
    "    plt.ylim(0, max(seq_data.values()))\n",
    "    plt.xlim(0, max(seq_data.keys()))\n",
    "    plt.xlabel(\"Sequence length\")\n",
    "    plt.ylabel(\"Frequency\")\n",
    "    plt.title(lang)\n",
    "    plt.show()\n",
    "    \n",
    "    return seq_data, max(seq_data.values())\n",
    "\n",
    "def replace_with_word_id(tokenized_text, vocab_size, longest_sequence=1, lang='English'):\n",
    "    '''\n",
    "    take the list of lists, find FreqDist, replace any\n",
    "    out of vocabulary words with <UNK> whilst giving each\n",
    "    token a numerical ID, return new list of lists'''\n",
    "    flat = []\n",
    "    max_len = 0\n",
    "    for sublist in tokenized_text:\n",
    "        # Need to keep track of the longest sequence length to pad shorter ones with <EOS>\n",
    "        if len(sublist)>max_len:\n",
    "            max_len = len(sublist)\n",
    "        for item in sublist:\n",
    "            flat.append(item)\n",
    "    freq = nltk.FreqDist(flat)\n",
    "    print \"{} vocab size restricts to {} percent of total vocab.\".format(lang, 100*(float(vocab_size)/len(set(flat))))\n",
    "    vocab = dict(freq.most_common(vocab_size+1))\n",
    "    covered_with_vocab = sum(vocab.values())\n",
    "    del vocab['<EOS>']\n",
    "    # The identities begin at 2, since <EOS>=1 and <UNK>=2\n",
    "    word_to_ids = dict([(word, i+2) for i, word in enumerate(vocab.keys())])\n",
    "    text = []\n",
    "    total_length = 0\n",
    "    for sequence in tokenized_text:\n",
    "        total_length += len(sequence)\n",
    "        # Make sure sequence is no longer than the maximum allowed\n",
    "        ids_sent = []\n",
    "        for token in sequence:\n",
    "            if token not in vocab.keys():\n",
    "                if token == '<EOS>':\n",
    "                    ids_sent.append(1)\n",
    "                else:\n",
    "                    ids_sent.append(2)\n",
    "            else:\n",
    "                ids_sent.append(word_to_ids[token])\n",
    "        # Then pad the rest of the sequence with zeros until matches longest_sequence\n",
    "        text.append(ids_sent)\n",
    "    print \"Percentage of whole {} corpus covered by vocab: {}\".format(lang, \n",
    "                                            100*(covered_with_vocab/float(total_length)))\n",
    "    word_to_ids[u'<UNK>'] = 2\n",
    "    word_to_ids[u'<EOS>'] = 1\n",
    "    word_to_ids[u'<PAD>'] = 0\n",
    "    id_to_words = {}\n",
    "    for word, idx in word_to_ids.items():\n",
    "        id_to_words[idx] = word\n",
    "    return text, word_to_ids, id_to_words\n",
    "\n",
    "en_vocab_size = 1000\n",
    "fr_vocab_size = 1000\n",
    "\n",
    "seq_data_en, en_max = seq_length_stats(tokenized_en, lang='English')\n",
    "seq_data_fr, fr_max = seq_length_stats(tokenized_fr, lang='French')\n",
    "\n",
    "\"\"\" For now, sequences form rows of the matrix, with the number of columns \n",
    "    equal to the maximum length of sequence (or timesteps)\"\"\"\n",
    "text_en, vocab_en, id_to_word_en = replace_with_word_id(tokenized_en, \n",
    "                                                        en_vocab_size, longest_sequence=en_max, lang='English')\n",
    "\n",
    "text_fr, vocab_fr, id_to_word_fr = replace_with_word_id(tokenized_fr, \n",
    "                                                        fr_vocab_size, longest_sequence=fr_max,  lang='French')\n",
    "\n",
    "train_en, test_en = text_en[200::], text_en[0:200]\n",
    "train_fr, test_fr = text_fr[200::], text_fr[0:200]"
   ]
  },
  {
   "cell_type": "code",
   "execution_count": 7,
   "metadata": {
    "collapsed": false,
    "deletable": true,
    "editable": true
   },
   "outputs": [
    {
     "name": "stdout",
     "output_type": "stream",
     "text": [
      "Corpora still aligned: True\n",
      "[u'<PAD>', u'<EOS>', u'<UNK>', u'all', u'chinese', u'issued', u'global', u'focus', u'month', u'four', u'manager', u'higher', u'go', u'children', u'whose', u'paris', u'white', u'young', u'thursday', u'created']\n"
     ]
    }
   ],
   "source": [
    "print \"Corpora still aligned:\", len(text_en) == len(text_fr)\n",
    "print id_to_word_en.values()[0:20]"
   ]
  },
  {
   "cell_type": "code",
   "execution_count": 72,
   "metadata": {
    "collapsed": false,
    "deletable": true,
    "editable": true
   },
   "outputs": [
    {
     "name": "stdout",
     "output_type": "stream",
     "text": [
      "third rate institute go companies \n",
      "si prendre mer sécurité semaines \n"
     ]
    }
   ],
   "source": [
    "def ids_to_phrases(idx_list, lang='en'):\n",
    "    # Takes list of word ids and returns a string of words\n",
    "    # Mainly for use in analysis\n",
    "    phrase = ''\n",
    "    id_dict = eval('id_to_word_'+lang)\n",
    "    i=0\n",
    "    while idx_list[i] not in (1,0):\n",
    "        phrase+= id_dict[idx_list[i]]+' '\n",
    "        i+=1\n",
    "    return phrase\n",
    "# Test the functionality\n",
    "print ids_to_phrases([234, 432, 102, 12,43,1], lang='en')\n",
    "print ids_to_phrases([234, 432, 102, 12,43,1], lang='fr')"
   ]
  },
  {
   "cell_type": "markdown",
   "metadata": {
    "deletable": true,
    "editable": true
   },
   "source": [
    "## Evaluation metrics\n",
    "\n",
    "I am going to use the N-gram BLEU score as my evaluation metric, changing the parameter N to see the effect it has on my model, relative to the benchmark.\n",
    "\n",
    "## Implementing the BLEU metric\n",
    "This metric will be used to test how good a prediction actually was."
   ]
  },
  {
   "cell_type": "code",
   "execution_count": 417,
   "metadata": {
    "collapsed": false,
    "deletable": true,
    "editable": true
   },
   "outputs": [
    {
     "name": "stdout",
     "output_type": "stream",
     "text": [
      "[4, 5, 6, 34, 8, 76, 87]\n",
      "BLEU score is 0.2 as it should be.\n",
      "0.218560641558\n"
     ]
    }
   ],
   "source": [
    "from nltk.translate import bleu_score\n",
    "\n",
    "def nonunique_ngrams(phrase, N):\n",
    "        \n",
    "        N_grams = {}\n",
    "        for i in range(len(phrase)):\n",
    "            li = phrase[i:i+N]\n",
    "            ng = ' '.join([str(s) for s in li])\n",
    "            if len(li) == N or len(phrase)<N:\n",
    "                try:\n",
    "                    N_grams[ng] += 1\n",
    "                except KeyError:\n",
    "                    N_grams[ng] = 1\n",
    "        return N_grams, len(phrase)\n",
    "\n",
    "def remove_EOS_PAD(long_phrase):\n",
    "    i=0\n",
    "    phrase= []\n",
    "    while (long_phrase+[0])[i] not in (0,1):\n",
    "        phrase.append(long_phrase[i])\n",
    "        i+=1\n",
    "    return phrase\n",
    "\n",
    "def BLEU_metric(long_t_phrase, long_p_phrase, N):\n",
    "    # a) Find all (non-unique) N grams in target and predicted phrase and frequencies\n",
    "    # Firstly need to see how long the content is (not <EOS> or <PAD>)\n",
    "    t_phrase = remove_EOS_PAD(long_t_phrase)\n",
    "    p_phrase = remove_EOS_PAD(long_p_phrase)\n",
    "    N = min(N, len(p_phrase), len(t_phrase))\n",
    "    t_ngrams, t_len = nonunique_ngrams(t_phrase, N)\n",
    "    p_ngrams, p_len = nonunique_ngrams(p_phrase, N)\n",
    "    \n",
    "    #print \"N-gram count is {}\".format(p_ngrams)\n",
    "    p_num = sum(p_ngrams.values())\n",
    "    \n",
    "    #print p_num\n",
    "    # b) How many of the N-grams in the prediction appear in the target + frequencies\n",
    "    # d) Limit the number of correct counts of an Ngram to \n",
    "    #    the number of times it appears in the target\n",
    "    cross_count = []\n",
    "    for ng in p_ngrams.keys():\n",
    "        try:\n",
    "            cross_count.append(min((t_ngrams[ng], p_ngrams[ng])))\n",
    "        except KeyError:\n",
    "            cross_count.append(0)\n",
    "    # e) return the above number divided by the total number of (non-unique) N-grams\n",
    "    # I take the log of the BLEU scores so I can sum them \n",
    "    # and exponentiate to calculate the product (for geometric mean later on)\n",
    "    #print float(p_num)\n",
    "    return [np.log(sum(cross_count)/float(p_num)), t_len, p_len]\n",
    "p_phrase1 = [4,5,4,5,4,5, 1, 0]\n",
    "t_phrase = [4,5,6,34,8,76, 87, 1]\n",
    "assert len(t_phrase) == len(p_phrase1)\n",
    "t_phrase = remove_EOS_PAD(t_phrase)\n",
    "p_phrase1 = remove_EOS_PAD(p_phrase1)\n",
    "print t_phrase\n",
    "\n",
    "print \"BLEU score is {} as it should be.\".format(np.exp(BLEU_metric(t_phrase, p_phrase1, 2)[0]))\n",
    "print bleu_score.corpus_bleu([[t_phrase]], [remove_EOS_PAD(p_phrase1)], weights=(0.5,0.5))"
   ]
  },
  {
   "cell_type": "markdown",
   "metadata": {
    "deletable": true,
    "editable": true
   },
   "source": [
    "# Benchmark Model\n",
    "\n",
    "Here I will implement the dictionary based translation benchmark using a free English-to-French dictionary [text file](http://ktranslator.sourceforge.net/dictionaries.html).\n"
   ]
  },
  {
   "cell_type": "code",
   "execution_count": 96,
   "metadata": {
    "collapsed": false,
    "deletable": true,
    "editable": true
   },
   "outputs": [
    {
     "name": "stdout",
     "output_type": "stream",
     "text": [
      "[(u'yellow', [u'jaune']), (u'be situated', [u'\\xeatre situ\\xe9']), (u'four', [u'quatre']), (u'prefix', [u'pr\\xe9fixe']), (u'woods', [u'bois', u'for\\xeat']), (u'preface', [u'introduction']), (u'cyprus', [u'chypre']), (u'aggression', [u'agression', u'acc\\xe8s', u'assaut', u'attaque']), (u'deal in secondhand goods', [u\"vendre d'occasion\"]), (u'untie', [u'd\\xe9tacher'])]\n",
      "8785\n"
     ]
    }
   ],
   "source": [
    "h = open(\"DATA/freedict-fra-eng.dic\",'rb')\n",
    "f = open(\"DATA/freedict-eng-fra.dic\",'rb')\n",
    "txt = unicode(f.read(), 'utf-8')\n",
    "\n",
    "en_to_fr = {}\n",
    "for line in txt.split('\\n'):\n",
    "    words = line.split('\\t')\n",
    "    try:\n",
    "        source, targets = words[0], words[1].split('; ')\n",
    "        en_to_fr[source.lower()] = (', '.join(targets).lower()).split(', ')\n",
    "    except:\n",
    "        pass\n",
    "\n",
    "en_to_fr[u'<EOS>'] = [u'<EOS>']\n",
    "en_to_fr[u'<PAD>'] = [u'<PAD>']\n",
    "en_to_fr[u'<UNK>'] = [u'<UNK>']\n",
    "print en_to_fr.items()[0:10]\n",
    "print len(en_to_fr.keys())"
   ]
  },
  {
   "cell_type": "markdown",
   "metadata": {},
   "source": [
    "Some words may not have direct translations in the dictionary but may be phrasal, so rather than look up words directly like `source_to_target[source_word]` I am going to find out whether the source word is contained within any of the keys in the dictionary, then use the shortest of those keys as the chosen source phrase/word."
   ]
  },
  {
   "cell_type": "code",
   "execution_count": 94,
   "metadata": {
    "collapsed": false,
    "deletable": true,
    "editable": true
   },
   "outputs": [
    {
     "name": "stdout",
     "output_type": "stream",
     "text": [
      "<UNK>\n",
      "There are 130 unique words which are not in the dictionary because the dictionary is crap.\n"
     ]
    }
   ],
   "source": [
    "import random\n",
    "\n",
    "not_in_dictionary = []\n",
    "def bm_translate_word(s, s_to_t):\n",
    "    # The closer in length the candidate phrase or word is \n",
    "    # to the actual\n",
    "    keys = []\n",
    "    lens = [] \n",
    "    for k in en_to_fr.keys():\n",
    "        if s in k:\n",
    "            keys.append(k)\n",
    "            lens.append(len(k))\n",
    "        else:\n",
    "            pass\n",
    "    word = u'<UNK>'\n",
    "    try:\n",
    "        best_key = keys[lens.index(min(lens))]\n",
    "        translations = s_to_t[best_key]\n",
    "        word = random.choice(translations)\n",
    "    except ValueError:\n",
    "        #print \"{} not in the dictionary\".format(s)\n",
    "        global not_in_dictionary\n",
    "        not_in_dictionary.append(s)\n",
    "    return word\n",
    "\n",
    "s1 = 'children'\n",
    "print bm_translate_word(s1, en_to_fr)\n",
    "\n",
    "def bm_translate_corpus(s_text, s_to_t):\n",
    "    trans_text = []\n",
    "    for phrase in s_text:\n",
    "        trans_phrase = []\n",
    "        phrase = ids_to_phrases(phrase, lang='en').split(' ')\n",
    "        for word in phrase:\n",
    "            trans_phrase.append(bm_translate_word(word, s_to_t))\n",
    "    return trans_text\n",
    "\n",
    "tc = bm_translate_corpus(test_en, en_to_fr)\n",
    "print \"There are {} unique words which are not in the dictionary because the dictionary is crap.\".format(len(set(not_in_dictionary)))"
   ]
  },
  {
   "cell_type": "code",
   "execution_count": 97,
   "metadata": {
    "collapsed": false
   },
   "outputs": [
    {
     "name": "stdout",
     "output_type": "stream",
     "text": [
      "['children', u'been', u'didn', u'&apos', u';', u'&apos', u';', u'students', u'construction', u'citizens', u'countries', u'anyone', u'$', u'groups', u'could', u'children', u'years', u'been', u'&apos', u';', u'&apos', u';', u':', u'?', u'would', u'forced', u'?', u'euros', u'euros', u'political', u'&apos', u';', u'thousands', u'cars', u'been', u'2010', u'thousands', u'documents', u'conditions', u'countries', u'been', u'would', u'based', u'senate', u'&apos', u';', u'elections', u'asked', u'based', u'later', u'application', u'costs', u'&quot', u';', u'&quot', u';', u'democratic', u'rights', u'&quot', u';', u'&apos', u';', u'&apos', u';', u'makes', u'&quot', u';', u'takes', u'hours', u'(', u'euros', u')', u'2007', u'career', u'took', u'companies', u'could', u':', u'&apos', u';', u'&apos', u';', u'roads', u'including', u'roads', u'says', u'players', u'were', u'&quot', u';', u'&apos', u';', u'products', u'&quot', u';', u'clearly', u'&apos', u';', u'&apos', u';', u'cases', u':', u'takes', u'companies', u'largest', u'telescope', u':', u'?', u'&apos', u';', u'&apos', u';', u'&apos', u';', u'takes', u'&quot', u';', u':', u'players', u'million', u'dollars', u'higher', u'announced', u'&apos', u';', u'projects', u'considered', u'&apos', u';', u'based', u'markets', u'&quot', u';', u'(', u')', u'were', u'added', u'&quot', u';', u'groups', u'&quot', u';', u'&quot', u';', u'?', u'&quot', u';', u'based', u'available', u'years', u'whether', u'&apos', u';', u'boredom', u'?', u'weapons', u'&apos', u';', u'nieto', u'says', u'&apos', u';', u'&apos', u';', u'(', u')', u'2010', u'became', u'having', u'been', u'weeks', u'tried', u'&quot', u';', u'&quot', u';', u'&quot', u';', u'&quot', u';', u':', u'&quot', u';', u'takes', u'measures', u'been', u'been', u'&apos', u';', u'remained', u'committed', u':', u'experts', u';', u'(', u')', u'says', u'announced', u'2011', u'&apos', u';', u'artists', u'politicians', u'&quot', u';', u'reached', u'efforts', u'parties', u'markets', u'&quot', u';', u'declared', u'scientific', u'(', u')', u'published', u'years', u'been', u'would', u'york', u'would', u'countries', u'&quot', u';', u'boredom', u'&quot', u';', u'legislation', u'?', u'palliative', u'internet', u'sites', u'&quot', u';', u'&quot', u';', u'groups', u'weapons', u'&quot', u';', u'&quot', u';', u'including', u'&apos', u';', u'been', u'political', u'reasons', u'&apos', u';', u'&apos', u';', u'?', u'&apos', u';', u'began', u'1', u'would', u'?', u'remained', u'years', u'made', u'&apos', u';', u'council', u'&apos', u';', u'&apos', u';', u'&quot', u';', u'&apos', u';', u'&quot', u';', u'(', u')', u'took', u'virtual', u'published', u'been', u'voters', u'stated', u'reached', u'3', u'higher', u'compared', u'wanted', u';', u'&quot', u';', u'dollars', u'were', u'&quot', u';', u'&quot', u';', u'didn', u'&apos', u';', u'would', u'anyone', u'&quot', u';', u'told', u'years', u'&apos', u';', u'boredom', u'cases', u'forced', u'&apos', u';', u'18', u'allowed', u'including', u'&quot', u';', u'&quot', u';', u'hours', u'2010', u'projects', u'&quot', u';', u'projects', u'&quot', u';', u'killed', u'30', u':', u'those', u'parties', u'leaders', u'&quot', u';', u'didn', u'&apos', u';', u'&quot', u';', u'students', u'(', u')', u'&quot', u';', u'officials', u'whose', u'weapons', u'&quot', u';', u'16', u'having', u'!', u'&apos', u';', u'been', u'&quot', u';', u'&quot', u';', u'says', u'&apos', u';', u'&apos', u';', u'million', u'euros', u'&apos', u';', u'began', u'&apos', u';', u'15', u'dollars', u'/', u'15', u':', u'would', u'1', u'%', u'&quot', u';', u'&quot', u';', u'&quot', u';', u'valentino', u'&quot', u';', u'whether', u'others', u'products', u'&quot', u';', u'&apos', u';', u'were', u'&quot', u';', u'says', u'&quot', u';', u'anyone', u'years', u'?', u'&apos', u';', u'potential', u'forces', u'&apos', u';', u'asked', u'would', u'took', u'stated', u'&quot', u';', u'&quot', u';', u'simply', u'suffering', u'euros', u'&quot', u';', u'took', u'measures', u'&quot', u';', u'says', u'those', u'10', u'million', u'workers', u'patients', u'palliative', u'been', u'&apos', u';', u'&quot', u';', u'&quot', u';', u'families', u'followed', u'(', u')', u';', u'manning', u'development', u'experts', u'boredom', u'simply', u'application', u'costs', u'euros', u'higher', u'&apos', u';', u'&apos', u';', u'lives', u'2', u'bought']\n"
     ]
    },
    {
     "ename": "NameError",
     "evalue": "name 'BLEU_metric' is not defined",
     "output_type": "error",
     "traceback": [
      "\u001b[0;31m---------------------------------------------------------------------------\u001b[0m",
      "\u001b[0;31mNameError\u001b[0m                                 Traceback (most recent call last)",
      "\u001b[0;32m<ipython-input-97-53ff4e7a5916>\u001b[0m in \u001b[0;36m<module>\u001b[0;34m()\u001b[0m\n\u001b[1;32m      1\u001b[0m \u001b[0;32mprint\u001b[0m \u001b[0mnot_in_dictionary\u001b[0m\u001b[0;34m\u001b[0m\u001b[0m\n\u001b[0;32m----> 2\u001b[0;31m \u001b[0;32mprint\u001b[0m \u001b[0;34m\"BLEU score is {} as it should be.\"\u001b[0m\u001b[0;34m.\u001b[0m\u001b[0mformat\u001b[0m\u001b[0;34m(\u001b[0m\u001b[0mnp\u001b[0m\u001b[0;34m.\u001b[0m\u001b[0mexp\u001b[0m\u001b[0;34m(\u001b[0m\u001b[0mBLEU_metric\u001b[0m\u001b[0;34m(\u001b[0m\u001b[0mt_phrase\u001b[0m\u001b[0;34m,\u001b[0m \u001b[0mp_phrase1\u001b[0m\u001b[0;34m,\u001b[0m \u001b[0;36m2\u001b[0m\u001b[0;34m)\u001b[0m\u001b[0;34m[\u001b[0m\u001b[0;36m0\u001b[0m\u001b[0;34m]\u001b[0m\u001b[0;34m)\u001b[0m\u001b[0;34m)\u001b[0m\u001b[0;34m\u001b[0m\u001b[0m\n\u001b[0m\u001b[1;32m      3\u001b[0m \u001b[0;32mprint\u001b[0m \u001b[0mbleu_score\u001b[0m\u001b[0;34m.\u001b[0m\u001b[0mcorpus_bleu\u001b[0m\u001b[0;34m(\u001b[0m\u001b[0;34m[\u001b[0m\u001b[0mtest_fr\u001b[0m\u001b[0;34m]\u001b[0m\u001b[0;34m,\u001b[0m \u001b[0;34m[\u001b[0m\u001b[0mtc\u001b[0m\u001b[0;34m]\u001b[0m\u001b[0;34m,\u001b[0m \u001b[0mweights\u001b[0m\u001b[0;34m=\u001b[0m\u001b[0;34m(\u001b[0m\u001b[0;36m0.5\u001b[0m\u001b[0;34m,\u001b[0m\u001b[0;36m0.5\u001b[0m\u001b[0;34m)\u001b[0m\u001b[0;34m)\u001b[0m\u001b[0;34m\u001b[0m\u001b[0m\n",
      "\u001b[0;31mNameError\u001b[0m: name 'BLEU_metric' is not defined"
     ]
    }
   ],
   "source": [
    "print not_in_dictionary\n",
    "print \"BLEU score is {} as it should be.\".format(np.exp(BLEU_metric(t_phrase, p_phrase1, 2)[0]))\n",
    "print bleu_score.corpus_bleu([test_fr], [tc], weights=(0.5,0.5))\n"
   ]
  },
  {
   "cell_type": "markdown",
   "metadata": {
    "deletable": true,
    "editable": true
   },
   "source": [
    "# Word IDs and word-to-vec vectors\n",
    "\n",
    "Since we are interested in the process of learning weights within the RNNs to predict seq2seq mappings rather than embeddings I have chosen to use pretrained word embeddings ino order to cut down training time. [THis is](https://sites.google.com/site/rmyeid/projects/polyglot#TOC-Download-the-Embeddings) where the embeddings are from."
   ]
  },
  {
   "cell_type": "code",
   "execution_count": 413,
   "metadata": {
    "collapsed": false,
    "deletable": true,
    "editable": true
   },
   "outputs": [
    {
     "name": "stdout",
     "output_type": "stream",
     "text": [
      "The embedding matrix for en has 1002 columns and 64 rows.\n",
      "27 vocab words were not in the en embeddings file.\n",
      "The embedding matrix for fr has 1002 columns and 64 rows.\n",
      "60 vocab words were not in the fr embeddings file.\n"
     ]
    }
   ],
   "source": [
    "\n",
    "\n",
    "import pickle\n",
    "def get_embeddings(id_to_word, lang='en'):\n",
    "    # We load pretrained word2vec embeddings from polyglot to save on training time\n",
    "    filename ='DATA/polyglot-'+lang+'.pkl'\n",
    "    pretrain_vocab, pretrain_embed = pickle.load(open(filename, 'rb'))\n",
    "    embed_vocab = [pretrain_embed[pretrain_vocab.index('<PAD>')], pretrain_embed[pretrain_vocab.index('</S>')]]\n",
    "    skip_count = 0\n",
    "    skipped_words = []\n",
    "    for idx, word in sorted(id_to_word.items()[2::]):\n",
    "        try:\n",
    "            pretrain_idx = pretrain_vocab.index(word)\n",
    "            embed_vocab.append(pretrain_embed[pretrain_idx])\n",
    "        except ValueError:\n",
    "            try:\n",
    "                # it could be that the word is a name which needs to \n",
    "                # be capitalized. Try this...\n",
    "                pretrain_idx = pretrain_vocab.index(str(word.title()))\n",
    "                embed_vocab.append(pretrain_embed[pretrain_idx])\n",
    "            except ValueError:\n",
    "                try:\n",
    "                    # it could be that the word is an achronym which needs to \n",
    "                    # be upper case. Try this...\n",
    "                    pretrain_idx = pretrain_vocab.index(word.upper())\n",
    "                    embed_vocab.append(pretrain_embed[pretrain_idx])\n",
    "                except ValueError:\n",
    "                    # Give up trying to find an embedding.\n",
    "                    # How many words are skipped? Which ones?\n",
    "                    skip_count +=1\n",
    "                    skipped_words.append(word)\n",
    "                    # Let's just initialise the embedding to a random normal distribution\n",
    "                    embed_vocab.append(np.random.normal(loc=0.0, scale=np.sqrt(2)/4, size=64))\n",
    "    embed_vocab = np.array(embed_vocab, dtype=np.float32)\n",
    "    print \"The embedding matrix for {} has {} columns and {} rows.\".format(lang, \n",
    "                                                embed_vocab.shape[0], embed_vocab.shape[1])\n",
    "    print \"{} vocab words were not in the {} embeddings file.\".format(skip_count, lang)\n",
    "    return embed_vocab, skipped_words\n",
    "# the ith word in words corresponds to the ith embedding \n",
    "\n",
    "embed_vocab_en, skipped_en = get_embeddings(id_to_word_en, lang='en')\n",
    "embed_vocab_fr, skipped_fr = get_embeddings(id_to_word_fr, lang='fr')"
   ]
  },
  {
   "cell_type": "markdown",
   "metadata": {
    "deletable": true,
    "editable": true
   },
   "source": [
    "#### Note: to find a word given an index we use `id_to_word_en` and vice-versa we use `vocab_en`."
   ]
  },
  {
   "cell_type": "code",
   "execution_count": 414,
   "metadata": {
    "collapsed": false,
    "deletable": true,
    "editable": true
   },
   "outputs": [
    {
     "name": "stdout",
     "output_type": "stream",
     "text": [
      "0 1 2\n",
      "[u'30', u'25', u'21', u'2011', u'2010', u'2012', u'didn', u'--', u'20', u'2', u'10', u'15', u'14', u'18', u'so-called', u'&quot', u'16', u'100', u'1', u'&apos', u'50', u'5', u'doesn', u'40', u'2007', u'2008', u'12']\n"
     ]
    }
   ],
   "source": [
    "print vocab_en['<PAD>'], vocab_en['<EOS>'], vocab_en['<UNK>']\n",
    "print skipped_en"
   ]
  },
  {
   "cell_type": "markdown",
   "metadata": {
    "deletable": true,
    "editable": true
   },
   "source": [
    "** We can see above ** that the English words which were not in the embedding files are fairly specialist words or numerical values (which are the same in French) so hopefully they won't be too much of a problem."
   ]
  },
  {
   "cell_type": "code",
   "execution_count": 415,
   "metadata": {
    "collapsed": false,
    "deletable": true,
    "editable": true
   },
   "outputs": [
    {
     "name": "stdout",
     "output_type": "stream",
     "text": [
      "[[231, 325, 223, 754, 2, 856, 698, 696, 994, 20, 681, 949, 754, 2, 869, 754, 2, 869, 389, 2, 517, 483, 389, 903, 2, 712, 862, 250, 554, 655, 1], [961, 754, 263, 984, 20, 467, 142, 269, 698, 627, 2, 655, 1], [512, 78, 709, 231, 2, 2, 464, 2, 623, 2, 696, 2, 269, 698, 687, 873, 252, 2, 704, 925, 754, 2, 442, 754, 755, 687, 293, 713, 437, 20, 698, 269, 512, 78, 2, 2, 655, 1], [704, 2, 442, 611, 269, 754, 592, 2, 575, 85, 269, 925, 402, 442, 2, 2, 655, 1], [2, 2, 696, 2, 734, 869, 754, 2, 2, 704, 2, 269, 676, 102, 704, 464, 2, 442, 652, 702, 130, 600, 442, 915, 480, 612, 991, 20, 339, 754, 2, 869, 754, 2, 642, 655, 1], [704, 874, 269, 800, 353, 465, 137, 704, 279, 530, 293, 449, 391, 2, 655, 1], [601, 450, 231, 2, 2, 843, 269, 585, 2, 2, 517, 2, 712, 655, 1], [2, 269, 168, 325, 754, 702, 530, 293, 717, 801, 709, 168, 687, 2, 655, 1], [754, 230, 2, 653, 371, 442, 777, 2, 13, 269, 442, 696, 585, 20, 449, 2, 390, 2, 949, 754, 989, 869, 2, 655, 1], [2, 2, 442, 2, 83, 720, 2, 863, 2, 2, 2, 416, 575, 754, 716, 841, 3, 553, 2, 1]]\n"
     ]
    }
   ],
   "source": [
    "print text_en[0:10]"
   ]
  },
  {
   "cell_type": "markdown",
   "metadata": {
    "deletable": true,
    "editable": true
   },
   "source": [
    "We can see a couple of things:\n",
    "- The list of lists above does not have consistent lengths of rows (it's not a matrix)\n",
    "- In order to process large amounts of data we need to break data up into batches of sequences\n",
    "\n",
    "The format that I need for the seq-to-seq model is a matrix - we do this by padding shorter sequences in a batch with the `<PAD>` token (represented already as the 0th column of the embedding matrix). the of dimension `(max sequence length in batch, batch size)`, so sequences are represented as the columns of the input matrix. "
   ]
  },
  {
   "cell_type": "code",
   "execution_count": 416,
   "metadata": {
    "collapsed": false,
    "deletable": true,
    "editable": true
   },
   "outputs": [
    {
     "name": "stdout",
     "output_type": "stream",
     "text": [
      "[[5 2 4 1]\n",
      " [2 0 2 2]\n",
      " [3 0 0 0]]\n",
      "[[231 961 512 704   2 704 601]\n",
      " [325 754  78   2   2 874 450]\n",
      " [223 263 709 442 696 269 231]\n",
      " [754 984 231 611   2 800   2]\n",
      " [  2  20   2 269 734 353   2]\n",
      " [856 467   2 754 869 465 843]\n",
      " [698 142 464 592 754 137 269]\n",
      " [696 269   2   2   2 704 585]\n",
      " [994 698 623 575   2 279   2]\n",
      " [ 20 627   2  85 704 530   2]\n",
      " [681   2 696 269   2 293 517]\n",
      " [949 655   2 925 269 449   2]\n",
      " [754   1 269 402 676 391 712]\n",
      " [  2   0 698 442 102   2 655]\n",
      " [869   0 687   2 704 655   1]\n",
      " [754   0 873   2 464   1   0]\n",
      " [  2   0 252 655   2   0   0]\n",
      " [869   0   2   1 442   0   0]\n",
      " [389   0 704   0 652   0   0]\n",
      " [  2   0 925   0 702   0   0]\n",
      " [517   0 754   0 130   0   0]\n",
      " [483   0   2   0 600   0   0]\n",
      " [389   0 442   0 442   0   0]\n",
      " [903   0 754   0 915   0   0]\n",
      " [  2   0 755   0 480   0   0]\n",
      " [712   0 687   0 612   0   0]\n",
      " [862   0 293   0 991   0   0]\n",
      " [250   0 713   0  20   0   0]\n",
      " [554   0 437   0 339   0   0]\n",
      " [655   0  20   0 754   0   0]\n",
      " [  1   0 698   0   2   0   0]\n",
      " [  0   0 269   0 869   0   0]\n",
      " [  0   0 512   0 754   0   0]\n",
      " [  0   0  78   0   2   0   0]\n",
      " [  0   0   2   0 642   0   0]\n",
      " [  0   0   2   0 655   0   0]\n",
      " [  0   0 655   0   1   0   0]\n",
      " [  0   0   1   0   0   0   0]]\n"
     ]
    }
   ],
   "source": [
    "test_x = [[5,2,3],[2], [4,2], [1,2]]\n",
    "# it's going to go from the number of cols being the sequence length/ num of rows being batch size\n",
    "# to the number of rows being the max sequence length/ num cols being batch size\n",
    "# Essentially like a padding and then transpose\n",
    "def format_batch(x):\n",
    "    seq_lengths = [len(row) for row in x]\n",
    "    n_batches = len(x)\n",
    "    max_seq_length = max(seq_lengths)\n",
    "    outputs = np.zeros(shape=(max_seq_length, n_batches),dtype=np.int32)\n",
    "    for i in range(len(seq_lengths)):\n",
    "        for j in range(seq_lengths[i]):\n",
    "            outputs[j][i] = x[i][j]\n",
    "    return outputs\n",
    "\n",
    "print format_batch(test_x)\n",
    "print np.array(format_batch(text_en[0:7]))"
   ]
  },
  {
   "cell_type": "markdown",
   "metadata": {
    "deletable": true,
    "editable": true
   },
   "source": [
    "Very cool."
   ]
  },
  {
   "cell_type": "markdown",
   "metadata": {
    "deletable": true,
    "editable": true
   },
   "source": [
    "# Build the network"
   ]
  },
  {
   "cell_type": "code",
   "execution_count": 378,
   "metadata": {
    "collapsed": true,
    "deletable": true,
    "editable": true
   },
   "outputs": [],
   "source": [
    "import tensorflow as tf\n",
    "tf.reset_default_graph()\n",
    "sess = tf.InteractiveSession()\n",
    "input_embedding_size = 64\n",
    "encoder_hidden_units = 200\n",
    "decoder_hidden_units = encoder_hidden_units\n"
   ]
  },
  {
   "cell_type": "markdown",
   "metadata": {
    "deletable": true,
    "editable": true
   },
   "source": [
    "- `encoder_inputs` int32 tensor is shaped `[encoder_max_time, batch_size]`\n",
    "- `decoder_targets` int32 tensor is shaped `[decoder_max_time, batch_size]`\n",
    "- `decoder_inputs` int32 tensor is shaped `[decoder_max_time, batch_size]`"
   ]
  },
  {
   "cell_type": "code",
   "execution_count": 379,
   "metadata": {
    "collapsed": true,
    "deletable": true,
    "editable": true
   },
   "outputs": [],
   "source": [
    "encoder_inputs = tf.placeholder(shape=(None, None), dtype=tf.int32, name='encoder_inputs')\n",
    "decoder_targets = tf.placeholder(shape=(None, None), dtype=tf.int32, name='decoder_targets')\n",
    "decoder_inputs = tf.placeholder(shape=(None, None), dtype=tf.int32, name='decoder_inputs')"
   ]
  },
  {
   "cell_type": "code",
   "execution_count": 380,
   "metadata": {
    "collapsed": false,
    "deletable": true,
    "editable": true
   },
   "outputs": [],
   "source": [
    "encoder_inputs_embedded = tf.nn.embedding_lookup(embed_vocab_en, encoder_inputs)\n",
    "decoder_inputs_embedded = tf.nn.embedding_lookup(embed_vocab_fr, decoder_inputs)"
   ]
  },
  {
   "cell_type": "code",
   "execution_count": 381,
   "metadata": {
    "collapsed": false,
    "deletable": true,
    "editable": true
   },
   "outputs": [],
   "source": [
    "encoder_cell = tf.contrib.rnn.LSTMCell(encoder_hidden_units)\n",
    "\n",
    "encoder_outputs, encoder_final_state = tf.nn.dynamic_rnn(encoder_cell, encoder_inputs_embedded,\n",
    "                                                         dtype=tf.float32, time_major=True)\n",
    "\n",
    "#del encoder_outputs"
   ]
  },
  {
   "cell_type": "code",
   "execution_count": 382,
   "metadata": {
    "collapsed": false,
    "deletable": true,
    "editable": true
   },
   "outputs": [
    {
     "data": {
      "text/plain": [
       "LSTMStateTuple(c=<tf.Tensor 'rnn/while/Exit_2:0' shape=(?, 200) dtype=float32>, h=<tf.Tensor 'rnn/while/Exit_3:0' shape=(?, 200) dtype=float32>)"
      ]
     },
     "execution_count": 382,
     "metadata": {},
     "output_type": "execute_result"
    }
   ],
   "source": [
    "encoder_final_state"
   ]
  },
  {
   "cell_type": "code",
   "execution_count": 383,
   "metadata": {
    "collapsed": false,
    "deletable": true,
    "editable": true
   },
   "outputs": [],
   "source": [
    "decoder_cell = tf.contrib.rnn.LSTMCell(decoder_hidden_units)\n",
    "\n",
    "decoder_outputs, decoder_final_state = tf.nn.dynamic_rnn(\n",
    "                                decoder_cell, decoder_inputs_embedded,\n",
    "                                initial_state=encoder_final_state,\n",
    "                                dtype=tf.float32, time_major=True, \n",
    "                                scope=\"plain_decoder\")\n",
    "#help(tf.nn.dynamic_rnn)"
   ]
  },
  {
   "cell_type": "code",
   "execution_count": 384,
   "metadata": {
    "collapsed": false,
    "deletable": true,
    "editable": true
   },
   "outputs": [
    {
     "name": "stdout",
     "output_type": "stream",
     "text": [
      "Tensor(\"ArgMax:0\", shape=(?, ?), dtype=int64)\n",
      "Tensor(\"fully_connected/Reshape_1:0\", shape=(?, ?, 1000), dtype=float32)\n"
     ]
    }
   ],
   "source": [
    "decoder_logits = tf.contrib.layers.linear(decoder_outputs, fr_vocab_size)\n",
    "\n",
    "decoder_prediction = tf.argmax(decoder_logits, axis=2)\n",
    "print decoder_prediction\n",
    "print decoder_logits\n",
    "#help(tf.argmax)"
   ]
  },
  {
   "cell_type": "markdown",
   "metadata": {
    "deletable": true,
    "editable": true
   },
   "source": [
    "## Optimisation\n",
    "In order to determine whether the decoder RNN has predicted the next letter correctly, I will use a simple cross-entropy calculation which determines how strongly correlated the two vectors are. In reality the target word will be a simple one-hot encoded word vector. (?)"
   ]
  },
  {
   "cell_type": "code",
   "execution_count": 385,
   "metadata": {
    "collapsed": false,
    "deletable": true,
    "editable": true
   },
   "outputs": [],
   "source": [
    "stepwise_cross_entropy = tf.nn.softmax_cross_entropy_with_logits(\n",
    "    labels=tf.one_hot(decoder_targets, depth=fr_vocab_size, dtype=tf.float32),\n",
    "    logits=decoder_logits,\n",
    ")\n",
    "\n",
    "loss = tf.reduce_mean(stepwise_cross_entropy)\n",
    "train_op = tf.train.AdamOptimizer().minimize(loss)\n",
    "#import inspect\n",
    "#print inspect.getsourcefile(tf.nn.softmax_cross_entropy_with_logits)\n",
    "#help(tf.nn.softmax_cross_entropy_with_logits)"
   ]
  },
  {
   "cell_type": "code",
   "execution_count": 386,
   "metadata": {
    "collapsed": false,
    "deletable": true,
    "editable": true
   },
   "outputs": [],
   "source": [
    "sess.run(tf.global_variables_initializer())"
   ]
  },
  {
   "cell_type": "code",
   "execution_count": 425,
   "metadata": {
    "collapsed": false,
    "deletable": true,
    "editable": true
   },
   "outputs": [
    {
     "name": "stdout",
     "output_type": "stream",
     "text": [
      "batch_encoded:\n",
      "[[  2  24   9]\n",
      " [124 523  82]\n",
      " [243  23   0]]\n",
      "decoder inputs:\n",
      "[[1 1 1]\n",
      " [1 1 1]\n",
      " [1 1 1]\n",
      " [1 1 1]]\n",
      "decoder predictions:\n",
      "[[230 100 100]\n",
      " [230 100   0]\n",
      " [100   0   0]\n",
      " [  0   0   0]]\n"
     ]
    }
   ],
   "source": [
    "# Test format_batch and make sure that the decoder\n",
    "# and encoder accepts inputs with a forward pass\n",
    "\n",
    "batch_ = [[2,124,243], [24,523,23], [9, 82]]\n",
    "\n",
    "batch_ = format_batch(batch_)\n",
    "print('batch_encoded:\\n' + str(batch_))\n",
    "\n",
    "din_ = make_batch(np.ones(shape=(3, 4), dtype=np.int32))\n",
    "print('decoder inputs:\\n' + str(din_))\n",
    "\n",
    "pred_ = sess.run(decoder_prediction,\n",
    "    feed_dict={\n",
    "        encoder_inputs: batch_,\n",
    "        decoder_inputs: din_,\n",
    "    })\n",
    "print('decoder predictions:\\n' + str(pred_))"
   ]
  },
  {
   "cell_type": "code",
   "execution_count": 388,
   "metadata": {
    "collapsed": false,
    "deletable": true,
    "editable": true
   },
   "outputs": [
    {
     "data": {
      "text/plain": [
       "'\\nfor en_sample_batch, fr_sample_batch in batch_source_target(text_en[0:2], text_fr[0:2], batch_size):\\n    fd_keys = [encoder_inputs, decoder_inputs, decoder_targets]\\n    fd = make_feed_dict(fd_keys, en_sample_batch, fr_sample_batch)\\n    fd_r = make_feed_dict(fd_keys, en_sample_batch, fr_sample_batch, reverse_encoder_inputs= True)\\n    fd_t = make_test_feed_dict(fd_keys, en_batch, fr_batch, reverse_encoder_inputs= False)\\n    assert len(fd.values()[0].T[0]) == len(fd_r.values()[0]) # reversed list must be the same length as original\\n    print fd.keys()[0]\\n    print np.array(fd.values()[0]).T[0]\\n    print \"Reversed as in Sutskever et al. \"\\n    print np.array(fd_r.values()[0]).T[0]\\n    assert len(fd.values()[1].T[0]) == len(fd.values()[1].T[1]) # decoder inputs and targets must be the same\\n    \\n    for i in range(len(fd.keys())-1):\\n        print fd.keys()[i+1]\\n        print np.array(fd.values()[i+1]).T[0]\\n    \\n    print \"Decoder inputs at test time\"\\n    print np.array(fd_t.values()[1]).T[0]\\n    break\\n'"
      ]
     },
     "execution_count": 388,
     "metadata": {},
     "output_type": "execute_result"
    }
   ],
   "source": [
    "def batch_source_target(source, target, batch_size):\n",
    "    assert len(source) == len(target)\n",
    "    for start in range(0, len(source), batch_size):\n",
    "        end = min(start + batch_size, len(source))\n",
    "        #print type(source[start:end])\n",
    "        #print len(target[start:end])\n",
    "        yield source[start:end], target[start:end]     \n",
    "\n",
    "\n",
    "def make_feed_dict(fd_keys, en_batch, fr_batch, reverse_encoder_inputs= False):\n",
    "    encoder_inputs_ = format_batch(en_batch)\n",
    "    if reverse_encoder_inputs:\n",
    "        encoder_inputs_ = format_batch([sequence[-2::-1]+[1] for sequence in en_batch])\n",
    "    decoder_inputs_ = format_batch([[1]+sequence[0:-1] for sequence in fr_batch])\n",
    "    decoder_targets_ = format_batch([sequence for sequence in fr_batch])\n",
    "    return {\n",
    "        fd_keys[0]: encoder_inputs_,\n",
    "        fd_keys[1]: decoder_inputs_,\n",
    "        fd_keys[2]: decoder_targets_,\n",
    "    }\n",
    "\n",
    "\n",
    "\n",
    "def make_test_feed_dict(fd_keys,en_batch, fr_batch, reverse_encoder_inputs= False):\n",
    "    # At testing time, we can't supervise the decoder layer with\n",
    "    # the 'gold truth' example as input, so we instead feed in\n",
    "    # word generated at  previous timestep. This is (apparently)\n",
    "    # equivalent to feeding in zeros for the decoder inputs\n",
    "    encoder_inputs_ = format_batch(en_batch)\n",
    "    if reverse_encoder_inputs:\n",
    "        encoder_inputs_ = format_batch([sequence[-2::-1]+[1] for sequence in en_batch])\n",
    "    decoder_targets_ = make_batch([sequence for sequence in fr_batch])\n",
    "    decoder_inputs_ = make_batch([[0]*len(sequence) for sequence in fr_batch])\n",
    "    return {\n",
    "        fd_keys[0]: encoder_inputs_,\n",
    "        fd_keys[1]: decoder_inputs_,\n",
    "        fd_keys[2]: decoder_targets_,\n",
    "    }\n",
    "\n",
    "\n",
    "# Test everything is working okay\n",
    "\n",
    "batch_size = 100\n",
    "\n",
    "for en_sample_batch, fr_sample_batch in batch_source_target(text_en[0:2], text_fr[0:2], batch_size):\n",
    "    fd_keys = [encoder_inputs, decoder_inputs, decoder_targets]\n",
    "    fd = make_feed_dict(fd_keys, en_sample_batch, fr_sample_batch)\n",
    "    fd_r = make_feed_dict(fd_keys, en_sample_batch, fr_sample_batch, reverse_encoder_inputs= True)\n",
    "    fd_t = make_test_feed_dict(fd_keys, en_batch, fr_batch, reverse_encoder_inputs= False)\n",
    "    assert len(fd.values()[0].T[0]) == len(fd_r.values()[0]) # reversed list must be the same length as original\n",
    "    print fd.keys()[0]\n",
    "    print np.array(fd.values()[0]).T[0]\n",
    "    print \"Reversed as in Sutskever et al. \"\n",
    "    print np.array(fd_r.values()[0]).T[0]\n",
    "    assert len(fd.values()[1].T[0]) == len(fd.values()[1].T[1]) # decoder inputs and targets must be the same\n",
    "    \n",
    "    for i in range(len(fd.keys())-1):\n",
    "        print fd.keys()[i+1]\n",
    "        print np.array(fd.values()[i+1]).T[0]\n",
    "    \n",
    "    print \"Decoder inputs at test time\"\n",
    "    print np.array(fd_t.values()[1]).T[0]\n",
    "    break\n"
   ]
  },
  {
   "cell_type": "code",
   "execution_count": 398,
   "metadata": {
    "collapsed": false,
    "deletable": true,
    "editable": true
   },
   "outputs": [],
   "source": [
    "loss_track = []\n"
   ]
  },
  {
   "cell_type": "code",
   "execution_count": null,
   "metadata": {
    "collapsed": true,
    "deletable": true,
    "editable": true
   },
   "outputs": [],
   "source": []
  },
  {
   "cell_type": "code",
   "execution_count": 419,
   "metadata": {
    "collapsed": false,
    "deletable": true,
    "editable": true,
    "scrolled": true
   },
   "outputs": [
    {
     "name": "stdout",
     "output_type": "stream",
     "text": [
      "training has begun...\n",
      "epoch 0\n",
      "batch 87\n",
      "loss: 3.86115312576\n",
      "  sample 1:\n",
      "    input     > [442 601   2 747  78 816 294 510   2   2 767 754   2   2 269 332 748 704\n",
      " 754 206 163 919 811   2   2 655   1   0   0   0   0   0   0]\n",
      "    actual    > [332 240 965 240   2 725   2 548 123 640 540 270   2 272   2   2  24 407\n",
      " 272 269 255 177 490 641   2 665   1   0   0   0   0   0   0   0]\n",
      "    predicted > [  2   2   2   2 725 725   2   2   2   2   2   2   2   2   2   2   2   2\n",
      "   2   2   2  90   2   2   2   2   1   0   0   0   0   0   0   0]\n",
      "  sample 2:\n",
      "    input     > [  2 747  78 626  54 416 698   2   2 869   2 269 442 544 168 698 945 747\n",
      "  78 816  66 187 970   2 369 879 713 970 841   2 170 203   1]\n",
      "    actual    > [  2  90 731 931   2 177 953 540   2 332 663 228 965 155   2 107 725 540\n",
      "   2 488 332 965 155   2 725 266 419 361 155 410 565   2 212   1]\n",
      "    predicted > [  2   2   2   2   2   2   2   2   2   2   2   2  90  37 725 725   2   2\n",
      "   2   2  90   2   2 725 272   2   2   2 100   2  90   2 665  90]\n",
      "epoch 1\n",
      "batch 168\n",
      "loss: 3.3184838295\n",
      "  sample 1:\n",
      "    input     > [442 601   2 747  78 816 294 510   2   2 767 754   2   2 269 332 748 704\n",
      " 754 206 163 919 811   2   2 655   1   0   0   0   0   0   0]\n",
      "    actual    > [332 240 965 240   2 725   2 548 123 640 540 270   2 272   2   2  24 407\n",
      " 272 269 255 177 490 641   2 665   1   0   0   0   0   0   0   0]\n",
      "    predicted > [519  90   2   2 725 725   2   2   2   2   2   2   2 540   2   2   2   2\n",
      "   2   2   2  90   2   1   1 665   1   0   0   0   0   0   0   0]\n",
      "  sample 2:\n",
      "    input     > [  2 747  78 626  54 416 698   2   2 869   2 269 442 544 168 698 945 747\n",
      "  78 816  66 187 970   2 369 879 713 970 841   2 170 203   1]\n",
      "    actual    > [  2  90 731 931   2 177 953 540   2 332 663 228 965 155   2 107 725 540\n",
      "   2 488 332 965 155   2 725 266 419 361 155 410 565   2 212   1]\n",
      "    predicted > [  2   2   2   2   2   2   2   2   2   2   2   2  90   2 725 725 725   2\n",
      "   2   2  90   2   2 725 725   2   2 540   0   2   0 665 665 665]\n",
      "epoch 2\n",
      "batch 249\n",
      "loss: 2.873036623\n",
      "  sample 1:\n",
      "    input     > [442 601   2 747  78 816 294 510   2   2 767 754   2   2 269 332 748 704\n",
      " 754 206 163 919 811   2   2 655   1   0   0   0   0   0   0]\n",
      "    actual    > [332 240 965 240   2 725   2 548 123 640 540 270   2 272   2   2  24 407\n",
      " 272 269 255 177 490 641   2 665   1   0   0   0   0   0   0   0]\n",
      "    predicted > [718  90   2   2   2 725   2   2   2   2   2   2   2   2   2   2   2   2\n",
      "   2   2   2   2   2   2   2 665   1   0   0   0   0   0   0   0]\n",
      "  sample 2:\n",
      "    input     > [  2 747  78 626  54 416 698   2   2 869   2 269 442 544 168 698 945 747\n",
      "  78 816  66 187 970   2 369 879 713 970 841   2 170 203   1]\n",
      "    actual    > [  2  90 731 931   2 177 953 540   2 332 663 228 965 155   2 107 725 540\n",
      "   2 488 332 965 155   2 725 266 419 361 155 410 565   2 212   1]\n",
      "    predicted > [  2   2   2   2   2   2   2  90   2   2   2   2 965   2 725 725 725   2\n",
      "   2   2   2   2   2 725 725   2   2 540 100   2   2   2 665 665]\n",
      "epoch 3\n",
      "batch 330\n",
      "loss: 2.48335409164\n",
      "  sample 1:\n",
      "    input     > [442 601   2 747  78 816 294 510   2   2 767 754   2   2 269 332 748 704\n",
      " 754 206 163 919 811   2   2 655   1   0   0   0   0   0   0]\n",
      "    actual    > [332 240 965 240   2 725   2 548 123 640 540 270   2 272   2   2  24 407\n",
      " 272 269 255 177 490 641   2 665   1   0   0   0   0   0   0   0]\n",
      "    predicted > [718  90   2   2   2 725   2   2   2   2   2   2   2   2   2   2   2   2\n",
      " 272   2   2   2   2   2   2 665   1   0   0   0   0   0   0   0]\n",
      "  sample 2:\n",
      "    input     > [  2 747  78 626  54 416 698   2   2 869   2 269 442 544 168 698 945 747\n",
      "  78 816  66 187 970   2 369 879 713 970 841   2 170 203   1]\n",
      "    actual    > [  2  90 731 931   2 177 953 540   2 332 663 228 965 155   2 107 725 540\n",
      "   2 488 332 965 155   2 725 266 419 361 155 410 565   2 212   1]\n",
      "    predicted > [  2   2   2   2   2   2   2  90   2   2   2   2 965   2   2 725 725   2\n",
      "   2   2   2   2   2   2 725   2   2 540 100   2   2   2 665   0]\n",
      "epoch 4\n",
      "batch 411\n",
      "loss: 2.09007072449\n",
      "  sample 1:\n",
      "    input     > [442 601   2 747  78 816 294 510   2   2 767 754   2   2 269 332 748 704\n",
      " 754 206 163 919 811   2   2 655   1   0   0   0   0   0   0]\n",
      "    actual    > [332 240 965 240   2 725   2 548 123 640 540 270   2 272   2   2  24 407\n",
      " 272 269 255 177 490 641   2 665   1   0   0   0   0   0   0   0]\n",
      "    predicted > [718  90   2   2   2 725   2   2   2   2   2   2   2   2   2   2   2   2\n",
      " 272   2   2   2   2 665   2 665   1   0   0   0   0   0   0   0]\n",
      "  sample 2:\n",
      "    input     > [  2 747  78 626  54 416 698   2   2 869   2 269 442 544 168 698 945 747\n",
      "  78 816  66 187 970   2 369 879 713 970 841   2 170 203   1]\n",
      "    actual    > [  2  90 731 931   2 177 953 540   2 332 663 228 965 155   2 107 725 540\n",
      "   2 488 332 965 155   2 725 266 419 361 155 410 565   2 212   1]\n",
      "    predicted > [  2   2 731   2   2   2   2  90   2   2   2   2 965 155   2 725 725   2\n",
      "   2   2 272   2 155   2 725   2   2 540 266   2   2   2 665   1]\n",
      "epoch 5\n",
      "batch 492\n",
      "loss: 1.76778197289\n",
      "  sample 1:\n",
      "    input     > [442 601   2 747  78 816 294 510   2   2 767 754   2   2 269 332 748 704\n",
      " 754 206 163 919 811   2   2 655   1   0   0   0   0   0   0]\n",
      "    actual    > [332 240 965 240   2 725   2 548 123 640 540 270   2 272   2   2  24 407\n",
      " 272 269 255 177 490 641   2 665   1   0   0   0   0   0   0   0]\n",
      "    predicted > [718 240   2 240   2 725   2   2   2   2 540   2   2   2   2   2   2   2\n",
      " 272   2   2   2   2   2   2 665   1   0   0   0   0   0   0   0]\n",
      "  sample 2:\n",
      "    input     > [  2 747  78 626  54 416 698   2   2 869   2 269 442 544 168 698 945 747\n",
      "  78 816  66 187 970   2 369 879 713 970 841   2 170 203   1]\n",
      "    actual    > [  2  90 731 931   2 177 953 540   2 332 663 228 965 155   2 107 725 540\n",
      "   2 488 332 965 155   2 725 266 419 361 155 410 565   2 212   1]\n",
      "    predicted > [  2  90 731   2   2 177   2 540   2   2 663 228 965 155   2 725 725   2\n",
      "   2   2 272   2 155   2 725   2   2 361 155   2   2   2 665   1]\n",
      "epoch 6\n",
      "batch 573\n",
      "loss: 1.46905446053\n",
      "  sample 1:\n",
      "    input     > [442 601   2 747  78 816 294 510   2   2 767 754   2   2 269 332 748 704\n",
      " 754 206 163 919 811   2   2 655   1   0   0   0   0   0   0]\n",
      "    actual    > [332 240 965 240   2 725   2 548 123 640 540 270   2 272   2   2  24 407\n",
      " 272 269 255 177 490 641   2 665   1   0   0   0   0   0   0   0]\n",
      "    predicted > [519 240 309 240   2 725   2   2   2   2 540   2   2   2   2   2   2   2\n",
      " 272   2   2   2   2 665   2 665   1   0   0   0   0   0   0   0]\n",
      "  sample 2:\n",
      "    input     > [  2 747  78 626  54 416 698   2   2 869   2 269 442 544 168 698 945 747\n",
      "  78 816  66 187 970   2 369 879 713 970 841   2 170 203   1]\n",
      "    actual    > [  2  90 731 931   2 177 953 540   2 332 663 228 965 155   2 107 725 540\n",
      "   2 488 332 965 155   2 725 266 419 361 155 410 565   2 212   1]\n",
      "    predicted > [  2  90 731 931   2   2   2 540   2   2 663 228 965 155   2 725 725 540\n",
      "   2   2 332   2 155   2 725   2 419 361 155 410 565   2 665   1]\n",
      "epoch 7\n",
      "batch 654\n",
      "loss: 1.26396071911\n",
      "  sample 1:\n",
      "    input     > [442 601   2 747  78 816 294 510   2   2 767 754   2   2 269 332 748 704\n",
      " 754 206 163 919 811   2   2 655   1   0   0   0   0   0   0]\n",
      "    actual    > [332 240 965 240   2 725   2 548 123 640 540 270   2 272   2   2  24 407\n",
      " 272 269 255 177 490 641   2 665   1   0   0   0   0   0   0   0]\n",
      "    predicted > [332 240 965 240   2 725   2   2   2   2 540   2   2   2   2   2   2   2\n",
      " 272   2   2   2   2   2   2 665   1   0   0   0   0   0   0   0]\n",
      "  sample 2:\n",
      "    input     > [  2 747  78 626  54 416 698   2   2 869   2 269 442 544 168 698 945 747\n",
      "  78 816  66 187 970   2 369 879 713 970 841   2 170 203   1]\n",
      "    actual    > [  2  90 731 931   2 177 953 540   2 332 663 228 965 155   2 107 725 540\n",
      "   2 488 332 965 155   2 725 266 419 361 155 410 565   2 212   1]\n",
      "    predicted > [  2  90 731 931   2 177   2 540   2   2 663 228 965 155   2 725 725 540\n",
      "   2   2 332   2 155   2 725 266 419 361 155 410 565   2 212   1]\n",
      "epoch 8\n",
      "batch 735\n",
      "loss: 1.06036734581\n",
      "  sample 1:\n",
      "    input     > [442 601   2 747  78 816 294 510   2   2 767 754   2   2 269 332 748 704\n",
      " 754 206 163 919 811   2   2 655   1   0   0   0   0   0   0]\n",
      "    actual    > [332 240 965 240   2 725   2 548 123 640 540 270   2 272   2   2  24 407\n",
      " 272 269 255 177 490 641   2 665   1   0   0   0   0   0   0   0]\n",
      "    predicted > [332 240 965 240   2 725   2 540   2   2 540   2   2   2   2   2   2   2\n",
      " 272   2   2 177   2   2   2 665   1   0   0   0   0   0   0   0]\n",
      "  sample 2:\n",
      "    input     > [  2 747  78 626  54 416 698   2   2 869   2 269 442 544 168 698 945 747\n",
      "  78 816  66 187 970   2 369 879 713 970 841   2 170 203   1]\n",
      "    actual    > [  2  90 731 931   2 177 953 540   2 332 663 228 965 155   2 107 725 540\n",
      "   2 488 332 965 155   2 725 266 419 361 155 410 565   2 212   1]\n",
      "    predicted > [  2  90 731 931   2 177 953 540   2 332 663 228 965 155   2 725 725 540\n",
      "   2   2 332 965 155   2 725 266 419 361 155 410 565   2 212   1]\n",
      "epoch 9\n",
      "batch 816\n",
      "loss: 0.894511520863\n",
      "  sample 1:\n",
      "    input     > [442 601   2 747  78 816 294 510   2   2 767 754   2   2 269 332 748 704\n",
      " 754 206 163 919 811   2   2 655   1   0   0   0   0   0   0]\n",
      "    actual    > [332 240 965 240   2 725   2 548 123 640 540 270   2 272   2   2  24 407\n",
      " 272 269 255 177 490 641   2 665   1   0   0   0   0   0   0   0]\n",
      "    predicted > [519 240 965 240   2 725   2 540   2 540 540 270   2 272   2   2 272   2\n",
      " 272 269   2 177   2   2   2 665   1   0   0   0   0   0   0   0]\n",
      "  sample 2:\n",
      "    input     > [  2 747  78 626  54 416 698   2   2 869   2 269 442 544 168 698 945 747\n",
      "  78 816  66 187 970   2 369 879 713 970 841   2 170 203   1]\n",
      "    actual    > [  2  90 731 931   2 177 953 540   2 332 663 228 965 155   2 107 725 540\n",
      "   2 488 332 965 155   2 725 266 419 361 155 410 565   2 212   1]\n",
      "    predicted > [  2  90 731 931   2 177 953 540   2 332 663 228 965 155   2 725 725 540\n",
      "   2   2 332 965 155   2 725 266 419 361 155 410 565   2 212   1]\n",
      "Training is complete\n"
     ]
    }
   ],
   "source": [
    "\n",
    "BLEU = []\n",
    "epochs = 10\n",
    "batch_size = 256\n",
    "fd_keys = [encoder_inputs, decoder_inputs, decoder_targets]\n",
    "try:\n",
    "    batch_n = 0\n",
    "    print \"training has begun...\"\n",
    "    for epoch in range(epochs):    \n",
    "        for en_batch, fr_batch in batch_source_target(train_en*2, train_fr*2, batch_size):\n",
    "            feed_dict = make_feed_dict(fd_keys, en_batch, fr_batch)\n",
    "            _, l = sess.run([train_op, loss], feed_dict)\n",
    "            \n",
    "            #if batch_n == 0 or batch_n == 60:\n",
    "            #    batch_n += 1\n",
    "            batch_n +=1\n",
    "        loss_track.append(l)\n",
    "        print \"epoch {}\".format(epoch)\n",
    "        print 'batch {}'.format(batch_n)\n",
    "        print 'loss: {}'.format(sess.run(loss, feed_dict))\n",
    "        predict_ = sess.run(decoder_prediction, feed_dict)\n",
    "        #predictions = [remove_EOS_PAD(pred) for pred in predict_.T]\n",
    "        #actuals = [[remove_EOS_PAD(act)] for act in fd[decoder_targets].T]\n",
    "        #BLEU2 = bleu_score.corpus_bleu(actuals, predictions, weights=(0.5,0.5))\n",
    "        #BLEU.append(BLEU2)\n",
    "        for i, (inp, act, pred) in enumerate(zip(feed_dict[encoder_inputs].T,\n",
    "                                                 feed_dict[decoder_targets].T,\n",
    "                                                 predict_.T)):\n",
    "            \n",
    "            print '  sample {}:'.format(i + 1)\n",
    "            print '    input     > {}'.format(inp)\n",
    "            #print ids_to_phrases(inp, lang='en')\n",
    "            print '    actual    > {}'.format(act)\n",
    "            #print ids_to_phrases(act, lang='fr')\n",
    "            print '    predicted > {}'.format(pred)\n",
    "            #print ids_to_phrases(pred, lang='fr')\n",
    "            if i > 2:\n",
    "                break\n",
    "            \n",
    "    print 'Training is complete'\n",
    "except KeyboardInterrupt:\n",
    "    print 'training interrupted'\n",
    "\n",
    "import matplotlib.pyplot as plt\n",
    "\n",
    "#plt.plot(, loss_track)\n",
    "#l = [s for i,s in sorted(zip([len(row) for row in l], l))]"
   ]
  },
  {
   "cell_type": "code",
   "execution_count": 424,
   "metadata": {
    "collapsed": false,
    "deletable": true,
    "editable": true
   },
   "outputs": [
    {
     "data": {
      "text/plain": [
       "[<matplotlib.lines.Line2D at 0x139bb2550>]"
      ]
     },
     "execution_count": 424,
     "metadata": {},
     "output_type": "execute_result"
    },
    {
     "data": {
      "image/png": "[encoded data removed]",
      "text/plain": [
       "<matplotlib.figure.Figure at 0x131c49bd0>"
      ]
     },
     "metadata": {
      "image/png": {
       "height": 255,
       "width": 378
      }
     },
     "output_type": "display_data"
    }
   ],
   "source": [
    "%matplotlib inline\n",
    "%config InlineBackend.figure_format = 'retina'\n",
    "plt.plot(range(len(loss_track)), loss_track)\n"
   ]
  },
  {
   "cell_type": "code",
   "execution_count": 423,
   "metadata": {
    "collapsed": false,
    "deletable": true,
    "editable": true
   },
   "outputs": [
    {
     "name": "stdout",
     "output_type": "stream",
     "text": [
      "training has begun...\n",
      "Testing is complete, with a Corpus BLEU4 score of 6.14085265141 and BLEU2 of 24.7941397871\n"
     ]
    }
   ],
   "source": [
    "\n",
    "predictions, actuals = [], []\n",
    "batch_size = 120\n",
    "fd_keys = [encoder_inputs, decoder_inputs, decoder_targets]\n",
    "try:\n",
    "    #batch_n = 0\n",
    "    print \"training has begun...\"  \n",
    "    for en_batch, fr_batch in batch_source_target(test_en, test_fr, batch_size):\n",
    "        feed_dict = make_feed_dict(fd_keys, en_batch, fr_batch)\n",
    "        predict_ = sess.run(decoder_prediction, feed_dict)\n",
    "        for i, (inp, act, pred) in enumerate(zip(feed_dict[encoder_inputs].T,\n",
    "                                                 feed_dict[decoder_targets].T,\n",
    "                                                 predict_.T)):\n",
    "            actuals.append([remove_EOS_PAD(act)])\n",
    "            predictions.append(remove_EOS_PAD(pred))\n",
    "    BLEU4 = bleu_score.corpus_bleu(actuals, predictions, weights=(0.25, 0.25, 0.25, 0.25))\n",
    "    BLEU2 = bleu_score.corpus_bleu(actuals, predictions, weights=(0.5, 0.5))\n",
    "    print('Testing is complete, with a Corpus BLEU4 score of {} and BLEU2 of {}'.format(BLEU4*100, BLEU2*100))\n",
    "except KeyboardInterrupt:\n",
    "    print('training interrupted')\n"
   ]
  },
  {
   "cell_type": "markdown",
   "metadata": {
    "collapsed": true,
    "deletable": true,
    "editable": true
   },
   "source": [
    "Observations:\n",
    "The above code generates a model with an increased BLEU score when it is trained on more data. Now I need to refactor the code so it is more original, efficient and generalisable.\n",
    "- Simplify the generator batch stuff\n",
    "- Go through and change all variable names referring to en and fr and source and target instead\n",
    "- Make it so it's not an interactive session\n",
    "- Sort phrases by length. Create batches of similar length. Randomise batches.\n",
    "- Translated language stats should be similar to target. Compare percent of text covered by vocab words (i.e. is `<UNK>` being overused?)"
   ]
  },
  {
   "cell_type": "code",
   "execution_count": null,
   "metadata": {
    "collapsed": true,
    "deletable": true,
    "editable": true
   },
   "outputs": [],
   "source": [
    "\"\"\"\n",
    "def unknown_word_replacer(tokenized_text, vocab_size, lang='English'):\n",
    "    ''' CURRENTLY UNUSED: This is the same as replace_with_word_id below \n",
    "    but without replacing tokens with ids.\n",
    "    We take the list of lists, find FreqDist, replace any\n",
    "    out of vocabulary words with <UNK>, return new list of lists'''\n",
    "    flat = [item for sublist in tokenized_text for item in sublist]\n",
    "    freq = nltk.FreqDist(flat)\n",
    "    print \"{} vocab size restricts to {} percent of total vocab.\".format(lang, 100*(float(vocab_size)/len(set(flat))))\n",
    "    vocab = dict(freq.most_common(vocab_size))\n",
    "    text = []\n",
    "    for sentence in tokenized_text:\n",
    "        new_sent = []\n",
    "        for token in sentence:\n",
    "            if token not in vocab.keys():\n",
    "                new_sent.append(u'<UNK>')\n",
    "            else:\n",
    "                new_sent.append(token)\n",
    "        text.append(new_sent)\n",
    "    return text, vocab\n",
    "\"\"\""
   ]
  }
 ],
 "metadata": {
  "kernelspec": {
   "display_name": "Python 2",
   "language": "python",
   "name": "python2"
  },
  "language_info": {
   "codemirror_mode": {
    "name": "ipython",
    "version": 2
   },
   "file_extension": ".py",
   "mimetype": "text/x-python",
   "name": "python",
   "nbconvert_exporter": "python",
   "pygments_lexer": "ipython2",
   "version": "2.7.12"
  }
 },
 "nbformat": 4,
 "nbformat_minor": 2
}
